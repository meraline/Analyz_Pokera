{
 "cells": [
  {
   "cell_type": "markdown",
   "metadata": {
    "id": "cCLyx1NLRfLa"
   },
   "source": [
    "## Цель иследования\n",
    " - выявить частоту (периоды) повторяемости наблюдаемой характеристики 'rang_namber'\n",
    " - создать модель для ML позволяющую предиктить периоды на новых данных \n",
    " - предположить факторы влияющие на чатсоту повторяемости\n",
    " - https://github.com/julianandrews/flopferret/blob/master/flopferret/board_texture.py"
   ]
  },
  {
   "cell_type": "code",
   "execution_count": 1,
   "metadata": {
    "ExecuteTime": {
     "end_time": "2022-01-13T22:42:04.665671Z",
     "start_time": "2022-01-13T22:41:57.698198Z"
    },
    "code_folding": [
     5,
     21
    ],
    "colab": {
     "base_uri": "https://localhost:8080/",
     "height": 206
    },
    "id": "RehS5KQCEhv4",
    "outputId": "595dd702-fa39-4d44-c72a-b5ab1b747c27",
    "tags": []
   },
   "outputs": [],
   "source": [
    "import re\n",
    "import pandas as pd\n",
    "from datetime import datetime\n",
    "import eval7, pprint\n",
    "from poker.room.pokerstars import PokerStarsHandHistory\n",
    "from poker.hand import Hand, Combo\n",
    "import numpy as np\n",
    "from phevaluator import evaluate_cards\n",
    "import matplotlib.pyplot as plt\n",
    "plt.style.use('dark_background')"
   ]
  },
  {
   "cell_type": "code",
   "execution_count": 2,
   "metadata": {
    "ExecuteTime": {
     "end_time": "2022-01-13T22:42:04.665671Z",
     "start_time": "2022-01-13T22:41:57.698198Z"
    },
    "code_folding": [
     5,
     21
    ],
    "colab": {
     "base_uri": "https://localhost:8080/",
     "height": 206
    },
    "id": "RehS5KQCEhv4",
    "outputId": "595dd702-fa39-4d44-c72a-b5ab1b747c27",
    "tags": []
   },
   "outputs": [
    {
     "data": {
      "text/html": [
       "<div>\n",
       "<style scoped>\n",
       "    .dataframe tbody tr th:only-of-type {\n",
       "        vertical-align: middle;\n",
       "    }\n",
       "\n",
       "    .dataframe tbody tr th {\n",
       "        vertical-align: top;\n",
       "    }\n",
       "\n",
       "    .dataframe thead th {\n",
       "        text-align: right;\n",
       "    }\n",
       "</style>\n",
       "<table border=\"1\" class=\"dataframe\">\n",
       "  <thead>\n",
       "    <tr style=\"text-align: right;\">\n",
       "      <th></th>\n",
       "      <th>TypeOfRoom</th>\n",
       "      <th>HandId</th>\n",
       "      <th>Tournament</th>\n",
       "      <th>Level</th>\n",
       "      <th>Date</th>\n",
       "      <th>Hour</th>\n",
       "      <th>TimeZoneAbb</th>\n",
       "      <th>Table</th>\n",
       "      <th>NoOfPlayers</th>\n",
       "      <th>bain</th>\n",
       "      <th>HandHiro</th>\n",
       "      <th>Board</th>\n",
       "    </tr>\n",
       "  </thead>\n",
       "  <tbody>\n",
       "    <tr>\n",
       "      <th>0</th>\n",
       "      <td>PokerStars</td>\n",
       "      <td>226484810600</td>\n",
       "      <td>3187437334</td>\n",
       "      <td>IV (40/80)</td>\n",
       "      <td>2021/05/05</td>\n",
       "      <td>19:56:10</td>\n",
       "      <td>MSK</td>\n",
       "      <td>6-max</td>\n",
       "      <td>2</td>\n",
       "      <td>$13.79+$1.21</td>\n",
       "      <td>Jh Td</td>\n",
       "      <td>8h 8c 7c 3h 6d</td>\n",
       "    </tr>\n",
       "    <tr>\n",
       "      <th>1</th>\n",
       "      <td>PokerStars</td>\n",
       "      <td>226484828418</td>\n",
       "      <td>3187437334</td>\n",
       "      <td>V (60/120)</td>\n",
       "      <td>2021/05/05</td>\n",
       "      <td>19:56:57</td>\n",
       "      <td>MSK</td>\n",
       "      <td>6-max</td>\n",
       "      <td>2</td>\n",
       "      <td>$13.79+$1.21</td>\n",
       "      <td>Ts 3s</td>\n",
       "      <td>2s 6s As Jc Th</td>\n",
       "    </tr>\n",
       "    <tr>\n",
       "      <th>2</th>\n",
       "      <td>PokerStars</td>\n",
       "      <td>226484843891</td>\n",
       "      <td>3187437334</td>\n",
       "      <td>V (60/120)</td>\n",
       "      <td>2021/05/05</td>\n",
       "      <td>19:57:39</td>\n",
       "      <td>MSK</td>\n",
       "      <td>6-max</td>\n",
       "      <td>2</td>\n",
       "      <td>$13.79+$1.21</td>\n",
       "      <td>4s 5c</td>\n",
       "      <td>Ks Qh 7h Tc 4c</td>\n",
       "    </tr>\n",
       "    <tr>\n",
       "      <th>3</th>\n",
       "      <td>PokerStars</td>\n",
       "      <td>226484859594</td>\n",
       "      <td>3187437334</td>\n",
       "      <td>V (60/120)</td>\n",
       "      <td>2021/05/05</td>\n",
       "      <td>19:58:21</td>\n",
       "      <td>MSK</td>\n",
       "      <td>6-max</td>\n",
       "      <td>2</td>\n",
       "      <td>$13.79+$1.21</td>\n",
       "      <td>9c Th</td>\n",
       "      <td>7s 4d Qd</td>\n",
       "    </tr>\n",
       "    <tr>\n",
       "      <th>4</th>\n",
       "      <td>PokerStars</td>\n",
       "      <td>226484865470</td>\n",
       "      <td>3187437334</td>\n",
       "      <td>V (60/120)</td>\n",
       "      <td>2021/05/05</td>\n",
       "      <td>19:58:37</td>\n",
       "      <td>MSK</td>\n",
       "      <td>6-max</td>\n",
       "      <td>2</td>\n",
       "      <td>$13.79+$1.21</td>\n",
       "      <td>7h 9d</td>\n",
       "      <td>2h Qd 5d Ts 3s</td>\n",
       "    </tr>\n",
       "  </tbody>\n",
       "</table>\n",
       "</div>"
      ],
      "text/plain": [
       "   TypeOfRoom        HandId  Tournament       Level        Date      Hour  \\\n",
       "0  PokerStars  226484810600  3187437334  IV (40/80)  2021/05/05  19:56:10   \n",
       "1  PokerStars  226484828418  3187437334  V (60/120)  2021/05/05  19:56:57   \n",
       "2  PokerStars  226484843891  3187437334  V (60/120)  2021/05/05  19:57:39   \n",
       "3  PokerStars  226484859594  3187437334  V (60/120)  2021/05/05  19:58:21   \n",
       "4  PokerStars  226484865470  3187437334  V (60/120)  2021/05/05  19:58:37   \n",
       "\n",
       "  TimeZoneAbb  Table  NoOfPlayers          bain HandHiro           Board  \n",
       "0         MSK  6-max            2  $13.79+$1.21    Jh Td  8h 8c 7c 3h 6d  \n",
       "1         MSK  6-max            2  $13.79+$1.21    Ts 3s  2s 6s As Jc Th  \n",
       "2         MSK  6-max            2  $13.79+$1.21    4s 5c  Ks Qh 7h Tc 4c  \n",
       "3         MSK  6-max            2  $13.79+$1.21    9c Th        7s 4d Qd  \n",
       "4         MSK  6-max            2  $13.79+$1.21    7h 9d  2h Qd 5d Ts 3s  "
      ]
     },
     "execution_count": 2,
     "metadata": {},
     "output_type": "execute_result"
    }
   ],
   "source": [
    "# Создали словарь\n",
    "data_pd = {'TypeOfRoom': [], 'HandId': [], 'Tournament': [], 'Level': [], 'Date': [], 'Hour': [],\n",
    "           'TimeZoneAbb': [], 'Table': [], 'NoOfPlayers': [], 'bain': [], 'HandHiro': [], 'Board': []}\n",
    "\n",
    "# Открываем файл\n",
    "with open('dim1000.txt', 'r') as f: #Poker_\\SNG dimetruk 1-54133.txt\n",
    "    data = f.read()\n",
    "    \n",
    "# Ищем нужные данные\n",
    "result = re.findall('(\\w+) Hand #(\\d*): Tournament #(\\d*),(.*) Level (.*) - (\\d{4}/\\d+/\\d+) (\\d+\\D\\d+\\D\\d+) (\\w*)', data)\n",
    "Tables = re.findall('Table \\'.*\\' (.*) Seat .*\\n', data)\n",
    "bains = re.findall('(\\D\\d+\\.\\d+\\+\\D\\d+\\.\\d+)', data)\n",
    "HandHiros = re.findall(\"Dealt to dimetruk \\D(.. ..)\\D\", data)\n",
    "Boards = re.findall(\"Board \\[(.*)\\]\", data)\n",
    "\n",
    "\n",
    "# Считаем сколко фишек\n",
    "s = re.findall('Seat (\\d).*chips', data)\n",
    "s = [int(x) for x in s]\n",
    "seats = []\n",
    "length = 1\n",
    "for i in range(len(s)-1):\n",
    "    if s[i+1] < s[i]:\n",
    "        seats.append(length)\n",
    "        length = 1\n",
    "    else:\n",
    "        length += 1\n",
    "seats.append(length)\n",
    "\n",
    "\n",
    "# ЗАполнЯем словарь данными\n",
    "for r, table, bain, seat, handHiro, board in zip(result, Tables, bains, seats, HandHiros, Boards):\n",
    "    data_pd['TypeOfRoom'].append(r[0])\n",
    "    data_pd['HandId'].append(r[1])\n",
    "    data_pd['Tournament'].append(r[2])\n",
    "    # data_pd['info'].append(r[3])\n",
    "    data_pd['Level'].append(r[4])\n",
    "    data_pd['Date'].append(r[5])\n",
    "    data_pd['Hour'].append(r[6])\n",
    "    data_pd['TimeZoneAbb'].append(r[7])\n",
    "    data_pd['Table'].append(table) #table\n",
    "    data_pd['NoOfPlayers'].append(seat)\n",
    "    data_pd['bain'].append(bain)\n",
    "    data_pd['HandHiro'].append(handHiro)\n",
    "    data_pd['Board'].append(board)\n",
    "\n",
    "# Создаём ДатаФрейм\n",
    "d_f = pd.DataFrame(data_pd)\n",
    "d_f.head()"
   ]
  },
  {
   "cell_type": "markdown",
   "metadata": {
    "id": "q97wcPd37OcA"
   },
   "source": [
    "## Преобразуем строковые данные"
   ]
  },
  {
   "cell_type": "code",
   "execution_count": 3,
   "metadata": {},
   "outputs": [],
   "source": [
    "date = data_pd['Date']\n",
    "time = data_pd['Hour']\n",
    "\n",
    "d_f[\"Date\"] = pd.to_datetime(data_pd['Date'])\n",
    "d_f[\"Time\"] = pd.to_timedelta(data_pd['Hour'])\n",
    "\n",
    "d_f[\"DateTime\"] = d_f[\"Date\"] + d_f[\"Time\"]\n",
    "d_f[\"DateTime\"]\n",
    "\n",
    "d_f.Tournament = d_f.Tournament.astype('int64')\n",
    "d_f = d_f.astype({'HandId': np.int64, 'Tournament': np.int64})"
   ]
  },
  {
   "cell_type": "markdown",
   "metadata": {},
   "source": [
    "## Фильтруем данные"
   ]
  },
  {
   "cell_type": "code",
   "execution_count": 4,
   "metadata": {},
   "outputs": [
    {
     "data": {
      "text/plain": [
       "DateTime\n",
       "2021-05-05     28\n",
       "2021-05-06    183\n",
       "2021-05-07     88\n",
       "2021-05-08    106\n",
       "2021-05-09    168\n",
       "2021-05-12     31\n",
       "2021-05-13      2\n",
       "2021-05-24     12\n",
       "2021-05-25     23\n",
       "2021-05-28     63\n",
       "2021-05-29     36\n",
       "2021-05-30     31\n",
       "2021-06-02      9\n",
       "2021-07-09     92\n",
       "2021-07-10     32\n",
       "2021-07-12     30\n",
       "2021-07-13      5\n",
       "2021-07-18     40\n",
       "2021-08-05     21\n",
       "Freq: D, Name: DateTime, dtype: int64"
      ]
     },
     "execution_count": 4,
     "metadata": {},
     "output_type": "execute_result"
    }
   ],
   "source": [
    "# дневной период  https://askdev.ru/q/kak-gruppirovat-i-podschityvat-stroki-po-mesyacam-i-godam-s-pomoschyu-pand-511317/\n",
    "df_day = d_f['DateTime'].groupby(d_f.DateTime.dt.to_period(\"D\")).agg('count')\n",
    "df_day"
   ]
  },
  {
   "cell_type": "code",
   "execution_count": 5,
   "metadata": {},
   "outputs": [
    {
     "data": {
      "text/html": [
       "<div>\n",
       "<style scoped>\n",
       "    .dataframe tbody tr th:only-of-type {\n",
       "        vertical-align: middle;\n",
       "    }\n",
       "\n",
       "    .dataframe tbody tr th {\n",
       "        vertical-align: top;\n",
       "    }\n",
       "\n",
       "    .dataframe thead th {\n",
       "        text-align: right;\n",
       "    }\n",
       "</style>\n",
       "<table border=\"1\" class=\"dataframe\">\n",
       "  <thead>\n",
       "    <tr style=\"text-align: right;\">\n",
       "      <th></th>\n",
       "      <th>Tournament</th>\n",
       "      <th>HandId</th>\n",
       "      <th>Date</th>\n",
       "      <th>HandHiro</th>\n",
       "      <th>Board</th>\n",
       "    </tr>\n",
       "  </thead>\n",
       "  <tbody>\n",
       "    <tr>\n",
       "      <th>0</th>\n",
       "      <td>3187437334</td>\n",
       "      <td>226484810600</td>\n",
       "      <td>2021-05-05</td>\n",
       "      <td>Jh Td</td>\n",
       "      <td>8h 8c 7c 3h 6d</td>\n",
       "    </tr>\n",
       "    <tr>\n",
       "      <th>1</th>\n",
       "      <td>3187437334</td>\n",
       "      <td>226484828418</td>\n",
       "      <td>2021-05-05</td>\n",
       "      <td>Ts 3s</td>\n",
       "      <td>2s 6s As Jc Th</td>\n",
       "    </tr>\n",
       "    <tr>\n",
       "      <th>2</th>\n",
       "      <td>3187437334</td>\n",
       "      <td>226484843891</td>\n",
       "      <td>2021-05-05</td>\n",
       "      <td>4s 5c</td>\n",
       "      <td>Ks Qh 7h Tc 4c</td>\n",
       "    </tr>\n",
       "    <tr>\n",
       "      <th>3</th>\n",
       "      <td>3187437334</td>\n",
       "      <td>226484859594</td>\n",
       "      <td>2021-05-05</td>\n",
       "      <td>9c Th</td>\n",
       "      <td>7s 4d Qd</td>\n",
       "    </tr>\n",
       "    <tr>\n",
       "      <th>4</th>\n",
       "      <td>3187437334</td>\n",
       "      <td>226484865470</td>\n",
       "      <td>2021-05-05</td>\n",
       "      <td>7h 9d</td>\n",
       "      <td>2h Qd 5d Ts 3s</td>\n",
       "    </tr>\n",
       "  </tbody>\n",
       "</table>\n",
       "</div>"
      ],
      "text/plain": [
       "   Tournament        HandId       Date HandHiro           Board\n",
       "0  3187437334  226484810600 2021-05-05    Jh Td  8h 8c 7c 3h 6d\n",
       "1  3187437334  226484828418 2021-05-05    Ts 3s  2s 6s As Jc Th\n",
       "2  3187437334  226484843891 2021-05-05    4s 5c  Ks Qh 7h Tc 4c\n",
       "3  3187437334  226484859594 2021-05-05    9c Th        7s 4d Qd\n",
       "4  3187437334  226484865470 2021-05-05    7h 9d  2h Qd 5d Ts 3s"
      ]
     },
     "execution_count": 5,
     "metadata": {},
     "output_type": "execute_result"
    }
   ],
   "source": [
    "df = d_f[['Tournament', 'HandId','Date', 'HandHiro', 'Board']]\n",
    "df.head()"
   ]
  },
  {
   "cell_type": "code",
   "execution_count": 6,
   "metadata": {},
   "outputs": [],
   "source": [
    "#  Используйте group by и lambda для имитации фильтра для value_counts()  \n",
    "# https://softhints.com/pandas-how-to-filter-results-of-value_counts/\n",
    "# df = data_filter.groupby('Tournament').filter(lambda x: len(x) > 100) #(data_filter['Tournament'].value_counts().mean())*2)\n"
   ]
  },
  {
   "cell_type": "code",
   "execution_count": 7,
   "metadata": {},
   "outputs": [
    {
     "data": {
      "text/plain": [
       "3188224941    76\n",
       "3227159788    65\n",
       "3190325009    54\n",
       "3188077995    48\n",
       "3188088059    45\n",
       "Name: Tournament, dtype: int64"
      ]
     },
     "execution_count": 7,
     "metadata": {},
     "output_type": "execute_result"
    }
   ],
   "source": [
    "df.Tournament.value_counts().head()"
   ]
  },
  {
   "cell_type": "code",
   "execution_count": 8,
   "metadata": {},
   "outputs": [],
   "source": [
    "# Prepare Data\n",
    "# df_plot = df.groupby('Tournament').size()\n",
    "\n",
    "# # Make the plot with pandas\n",
    "# df_plot.plot(kind='pie', subplots=True,autopct=\"%.2f\", figsize=(8, 8))\n",
    "# plt.title(\"Колличество комбинаций/день\")\n",
    "# plt.ylabel(\"\")\n",
    "# plt.show()"
   ]
  },
  {
   "cell_type": "code",
   "execution_count": 9,
   "metadata": {},
   "outputs": [
    {
     "name": "stderr",
     "output_type": "stream",
     "text": [
      "C:\\Users\\artio\\AppData\\Local\\Temp\\ipykernel_22612\\946703193.py:3: SettingWithCopyWarning: \n",
      "A value is trying to be set on a copy of a slice from a DataFrame.\n",
      "Try using .loc[row_indexer,col_indexer] = value instead\n",
      "\n",
      "See the caveats in the documentation: https://pandas.pydata.org/pandas-docs/stable/user_guide/indexing.html#returning-a-view-versus-a-copy\n",
      "  df.loc[:,['hand']] = df['HandHiro'] + \" \" + df['Board']\n",
      "C:\\Users\\artio\\AppData\\Local\\Temp\\ipykernel_22612\\946703193.py:13: SettingWithCopyWarning: \n",
      "A value is trying to be set on a copy of a slice from a DataFrame.\n",
      "Try using .loc[row_indexer,col_indexer] = value instead\n",
      "\n",
      "See the caveats in the documentation: https://pandas.pydata.org/pandas-docs/stable/user_guide/indexing.html#returning-a-view-versus-a-copy\n",
      "  df['rang'] = eval7.evaluate(hand_ev)\n",
      "C:\\Users\\artio\\AppData\\Local\\Temp\\ipykernel_22612\\946703193.py:14: SettingWithCopyWarning: \n",
      "A value is trying to be set on a copy of a slice from a DataFrame.\n",
      "Try using .loc[row_indexer,col_indexer] = value instead\n",
      "\n",
      "See the caveats in the documentation: https://pandas.pydata.org/pandas-docs/stable/user_guide/indexing.html#returning-a-view-versus-a-copy\n",
      "  df['eval7s'] =  eval7.handtype(rang)\n"
     ]
    }
   ],
   "source": [
    "# объеденяем руку и борд, выводим название комбинации\n",
    "\n",
    "df.loc[:,['hand']] = df['HandHiro'] + \" \" + df['Board']\n",
    "# hand = df['hand'].values[7].split()\n",
    "# print(hand)\n",
    "\n",
    "hand_ev = [eval7.Card(s) for s in (df['hand'].values[7].split())]\n",
    "rang = eval7.evaluate(hand_ev)   # ранг комбинации\n",
    "# print(rang)\n",
    "\n",
    "eval7s = eval7.handtype(rang)  #  название комбинации\n",
    "\n",
    "df['rang'] = eval7.evaluate(hand_ev)\n",
    "df['eval7s'] =  eval7.handtype(rang)"
   ]
  },
  {
   "cell_type": "code",
   "execution_count": 10,
   "metadata": {
    "tags": []
   },
   "outputs": [
    {
     "data": {
      "text/html": [
       "<div>\n",
       "<style scoped>\n",
       "    .dataframe tbody tr th:only-of-type {\n",
       "        vertical-align: middle;\n",
       "    }\n",
       "\n",
       "    .dataframe tbody tr th {\n",
       "        vertical-align: top;\n",
       "    }\n",
       "\n",
       "    .dataframe thead th {\n",
       "        text-align: right;\n",
       "    }\n",
       "</style>\n",
       "<table border=\"1\" class=\"dataframe\">\n",
       "  <thead>\n",
       "    <tr style=\"text-align: right;\">\n",
       "      <th></th>\n",
       "      <th>HandId</th>\n",
       "      <th>Date</th>\n",
       "      <th>hand</th>\n",
       "      <th>rang</th>\n",
       "      <th>eval7s</th>\n",
       "    </tr>\n",
       "  </thead>\n",
       "  <tbody>\n",
       "    <tr>\n",
       "      <th>0</th>\n",
       "      <td>226484810600</td>\n",
       "      <td>2021-05-05</td>\n",
       "      <td>Jh Td 8h 8c 7c 3h 6d</td>\n",
       "      <td>17392128</td>\n",
       "      <td>Pair</td>\n",
       "    </tr>\n",
       "    <tr>\n",
       "      <th>1</th>\n",
       "      <td>226484828418</td>\n",
       "      <td>2021-05-05</td>\n",
       "      <td>Ts 3s 2s 6s As Jc Th</td>\n",
       "      <td>17392128</td>\n",
       "      <td>Pair</td>\n",
       "    </tr>\n",
       "    <tr>\n",
       "      <th>2</th>\n",
       "      <td>226484843891</td>\n",
       "      <td>2021-05-05</td>\n",
       "      <td>4s 5c Ks Qh 7h Tc 4c</td>\n",
       "      <td>17392128</td>\n",
       "      <td>Pair</td>\n",
       "    </tr>\n",
       "    <tr>\n",
       "      <th>3</th>\n",
       "      <td>226484859594</td>\n",
       "      <td>2021-05-05</td>\n",
       "      <td>9c Th 7s 4d Qd</td>\n",
       "      <td>17392128</td>\n",
       "      <td>Pair</td>\n",
       "    </tr>\n",
       "    <tr>\n",
       "      <th>4</th>\n",
       "      <td>226484865470</td>\n",
       "      <td>2021-05-05</td>\n",
       "      <td>7h 9d 2h Qd 5d Ts 3s</td>\n",
       "      <td>17392128</td>\n",
       "      <td>Pair</td>\n",
       "    </tr>\n",
       "  </tbody>\n",
       "</table>\n",
       "</div>"
      ],
      "text/plain": [
       "         HandId       Date                  hand      rang eval7s\n",
       "0  226484810600 2021-05-05  Jh Td 8h 8c 7c 3h 6d  17392128   Pair\n",
       "1  226484828418 2021-05-05  Ts 3s 2s 6s As Jc Th  17392128   Pair\n",
       "2  226484843891 2021-05-05  4s 5c Ks Qh 7h Tc 4c  17392128   Pair\n",
       "3  226484859594 2021-05-05        9c Th 7s 4d Qd  17392128   Pair\n",
       "4  226484865470 2021-05-05  7h 9d 2h Qd 5d Ts 3s  17392128   Pair"
      ]
     },
     "execution_count": 10,
     "metadata": {},
     "output_type": "execute_result"
    }
   ],
   "source": [
    "df[['HandId', 'Date','hand', 'rang', 'eval7s']].head()  # применим фильтер по столбцам"
   ]
  },
  {
   "cell_type": "code",
   "execution_count": 11,
   "metadata": {},
   "outputs": [],
   "source": [
    "# def new_type(row):\n",
    "#     if row.traffic_source.lower() in ('yandex', 'google'):\n",
    "#         return 'organic'\n",
    "#     elif row.traffic_source.lower() in ('paid', 'email'):\n",
    "#         if row.region.lower() == 'russia':\n",
    "#             return 'ad'\n",
    "#         else:\n",
    "#             return 'other'"
   ]
  },
  {
   "cell_type": "code",
   "execution_count": 12,
   "metadata": {},
   "outputs": [],
   "source": [
    "# log['source_type'] = log.apply(new_type, axis = 1)\n",
    "# log.head(12)"
   ]
  },
  {
   "cell_type": "code",
   "execution_count": 13,
   "metadata": {},
   "outputs": [],
   "source": [
    "# log.loc[log.traffic_source.isin(['yandex', 'google']), 'traffic_type'] = 'organic' "
   ]
  },
  {
   "cell_type": "code",
   "execution_count": 14,
   "metadata": {
    "tags": []
   },
   "outputs": [
    {
     "name": "stderr",
     "output_type": "stream",
     "text": [
      "C:\\Users\\artio\\AppData\\Local\\Temp\\ipykernel_22612\\4235121756.py:1: SettingWithCopyWarning: \n",
      "A value is trying to be set on a copy of a slice from a DataFrame.\n",
      "Try using .loc[row_indexer,col_indexer] = value instead\n",
      "\n",
      "See the caveats in the documentation: https://pandas.pydata.org/pandas-docs/stable/user_guide/indexing.html#returning-a-view-versus-a-copy\n",
      "  df['hand_rang'] = df['HandHiro'] + \" \" + df['Board']\n"
     ]
    },
    {
     "data": {
      "text/plain": [
       "0    Jh Td 8h 8c 7c 3h 6d\n",
       "1    Ts 3s 2s 6s As Jc Th\n",
       "2    4s 5c Ks Qh 7h Tc 4c\n",
       "3          9c Th 7s 4d Qd\n",
       "4    7h 9d 2h Qd 5d Ts 3s\n",
       "Name: hand_rang, dtype: object"
      ]
     },
     "execution_count": 14,
     "metadata": {},
     "output_type": "execute_result"
    }
   ],
   "source": [
    "df['hand_rang'] = df['HandHiro'] + \" \" + df['Board']\n",
    "df['hand_rang'].head()"
   ]
  },
  {
   "cell_type": "code",
   "execution_count": 15,
   "metadata": {
    "tags": []
   },
   "outputs": [
    {
     "name": "stdout",
     "output_type": "stream",
     "text": [
      "<class 'pandas.core.series.Series'> <class 'list'>\n"
     ]
    },
    {
     "data": {
      "text/plain": [
       "['Jh', 'Td', '8h', '8c', '7c', '3h', '6d']"
      ]
     },
     "execution_count": 15,
     "metadata": {},
     "output_type": "execute_result"
    }
   ],
   "source": [
    "print(type(df['hand_rang']), type(df['hand_rang'].values[7].split()))\n",
    "df['hand_rang'].values[0].split()"
   ]
  },
  {
   "cell_type": "code",
   "execution_count": 16,
   "metadata": {
    "tags": []
   },
   "outputs": [
    {
     "data": {
      "text/plain": [
       "0      [Jh, Td, 8h, 8c, 7c, 3h, 6d]\n",
       "1      [Ts, 3s, 2s, 6s, As, Jc, Th]\n",
       "2      [4s, 5c, Ks, Qh, 7h, Tc, 4c]\n",
       "3              [9c, Th, 7s, 4d, Qd]\n",
       "4      [7h, 9d, 2h, Qd, 5d, Ts, 3s]\n",
       "                   ...             \n",
       "995        [5s, 6s, 3d, 7d, 2s, 2h]\n",
       "996    [8d, 9c, 5s, Th, 4c, 7s, Js]\n",
       "997            [Td, 6h, 9c, Kc, Jc]\n",
       "998    [Ts, Kh, 4c, 9h, 7c, 5d, 8s]\n",
       "999    [Tc, Th, Qd, 2d, Ah, 6d, 3d]\n",
       "Name: hand_rang, Length: 1000, dtype: object"
      ]
     },
     "execution_count": 16,
     "metadata": {},
     "output_type": "execute_result"
    }
   ],
   "source": [
    "# df['hand_rang'].to_list()\n",
    "# df['hand_rang'].tolist()\n",
    "# np.array(df['hand_rang'].tolist())\n",
    "# Ls = list(df['hand_rang'])\n",
    "ls = df['hand_rang'].str.split()\n",
    "ls"
   ]
  },
  {
   "cell_type": "code",
   "execution_count": 17,
   "metadata": {
    "tags": []
   },
   "outputs": [
    {
     "data": {
      "text/plain": [
       "17209424"
      ]
     },
     "execution_count": 17,
     "metadata": {},
     "output_type": "execute_result"
    }
   ],
   "source": [
    "# напишем функцию получения ранг комбинации\n",
    "\n",
    "def evaluate_(hand):\n",
    "    \"\"\"\n",
    "    На вход получает карты, на выход \n",
    "    число ранг по eval7\n",
    "    \"\"\"\n",
    "    hand_ev = [eval7.Card(s) for s in (hand)]\n",
    "    return eval7.evaluate(hand_ev)\n",
    "\n",
    "a = ('Jh', 'Td', '8h', '8c', '7c', '3h', '6d')\n",
    "evaluate_(a)"
   ]
  },
  {
   "cell_type": "code",
   "execution_count": 18,
   "metadata": {},
   "outputs": [
    {
     "data": {
      "text/plain": [
       "'Pair'"
      ]
     },
     "execution_count": 18,
     "metadata": {},
     "output_type": "execute_result"
    }
   ],
   "source": [
    "# напишем функцию получения названия ранга\n",
    "\n",
    "def handtype_(rang):\n",
    "    \"\"\"\n",
    "    На вход получает ранг, на выход \n",
    "    название \n",
    "    \"\"\"\n",
    "    return eval7.handtype(rang)\n",
    "\n",
    "handtype_(17209424)"
   ]
  },
  {
   "cell_type": "code",
   "execution_count": 85,
   "metadata": {
    "tags": []
   },
   "outputs": [
    {
     "name": "stderr",
     "output_type": "stream",
     "text": [
      "C:\\Users\\artio\\AppData\\Local\\Temp\\ipykernel_32736\\2031913485.py:3: SettingWithCopyWarning: \n",
      "A value is trying to be set on a copy of a slice from a DataFrame.\n",
      "Try using .loc[row_indexer,col_indexer] = value instead\n",
      "\n",
      "See the caveats in the documentation: https://pandas.pydata.org/pandas-docs/stable/user_guide/indexing.html#returning-a-view-versus-a-copy\n",
      "  df['rang_namber'] = df['hand_rang'].str.split().apply(evaluate_)\n",
      "C:\\Users\\artio\\AppData\\Local\\Temp\\ipykernel_32736\\2031913485.py:4: SettingWithCopyWarning: \n",
      "A value is trying to be set on a copy of a slice from a DataFrame.\n",
      "Try using .loc[row_indexer,col_indexer] = value instead\n",
      "\n",
      "See the caveats in the documentation: https://pandas.pydata.org/pandas-docs/stable/user_guide/indexing.html#returning-a-view-versus-a-copy\n",
      "  df['handtypes'] = df['rang_namber'].apply(handtype_)\n"
     ]
    },
    {
     "data": {
      "text/html": [
       "<div>\n",
       "<style scoped>\n",
       "    .dataframe tbody tr th:only-of-type {\n",
       "        vertical-align: middle;\n",
       "    }\n",
       "\n",
       "    .dataframe tbody tr th {\n",
       "        vertical-align: top;\n",
       "    }\n",
       "\n",
       "    .dataframe thead th {\n",
       "        text-align: right;\n",
       "    }\n",
       "</style>\n",
       "<table border=\"1\" class=\"dataframe\">\n",
       "  <thead>\n",
       "    <tr style=\"text-align: right;\">\n",
       "      <th></th>\n",
       "      <th>Date</th>\n",
       "      <th>rang_namber</th>\n",
       "      <th>handtypes</th>\n",
       "      <th>HandId</th>\n",
       "    </tr>\n",
       "  </thead>\n",
       "  <tbody>\n",
       "    <tr>\n",
       "      <th>0</th>\n",
       "      <td>2021-05-05</td>\n",
       "      <td>17209424</td>\n",
       "      <td>Pair</td>\n",
       "      <td>226484810600</td>\n",
       "    </tr>\n",
       "    <tr>\n",
       "      <th>1</th>\n",
       "      <td>2021-05-05</td>\n",
       "      <td>84706320</td>\n",
       "      <td>Flush</td>\n",
       "      <td>226484828418</td>\n",
       "    </tr>\n",
       "    <tr>\n",
       "      <th>2</th>\n",
       "      <td>2021-05-05</td>\n",
       "      <td>16956032</td>\n",
       "      <td>Pair</td>\n",
       "      <td>226484843891</td>\n",
       "    </tr>\n",
       "    <tr>\n",
       "      <th>3</th>\n",
       "      <td>2021-05-05</td>\n",
       "      <td>690002</td>\n",
       "      <td>High Card</td>\n",
       "      <td>226484859594</td>\n",
       "    </tr>\n",
       "    <tr>\n",
       "      <th>4</th>\n",
       "      <td>2021-05-05</td>\n",
       "      <td>690003</td>\n",
       "      <td>High Card</td>\n",
       "      <td>226484865470</td>\n",
       "    </tr>\n",
       "    <tr>\n",
       "      <th>...</th>\n",
       "      <td>...</td>\n",
       "      <td>...</td>\n",
       "      <td>...</td>\n",
       "      <td>...</td>\n",
       "    </tr>\n",
       "    <tr>\n",
       "      <th>995</th>\n",
       "      <td>2021-08-05</td>\n",
       "      <td>16798768</td>\n",
       "      <td>Pair</td>\n",
       "      <td>228816365202</td>\n",
       "    </tr>\n",
       "    <tr>\n",
       "      <th>996</th>\n",
       "      <td>2021-08-05</td>\n",
       "      <td>67698688</td>\n",
       "      <td>Straight</td>\n",
       "      <td>228816445233</td>\n",
       "    </tr>\n",
       "    <tr>\n",
       "      <th>997</th>\n",
       "      <td>2021-08-05</td>\n",
       "      <td>759924</td>\n",
       "      <td>High Card</td>\n",
       "      <td>228816502665</td>\n",
       "    </tr>\n",
       "    <tr>\n",
       "      <th>998</th>\n",
       "      <td>2021-08-05</td>\n",
       "      <td>755557</td>\n",
       "      <td>High Card</td>\n",
       "      <td>228816568248</td>\n",
       "    </tr>\n",
       "    <tr>\n",
       "      <th>999</th>\n",
       "      <td>2021-08-05</td>\n",
       "      <td>17353280</td>\n",
       "      <td>Pair</td>\n",
       "      <td>228816594420</td>\n",
       "    </tr>\n",
       "  </tbody>\n",
       "</table>\n",
       "<p>1000 rows × 4 columns</p>\n",
       "</div>"
      ],
      "text/plain": [
       "          Date  rang_namber  handtypes        HandId\n",
       "0   2021-05-05     17209424       Pair  226484810600\n",
       "1   2021-05-05     84706320      Flush  226484828418\n",
       "2   2021-05-05     16956032       Pair  226484843891\n",
       "3   2021-05-05       690002  High Card  226484859594\n",
       "4   2021-05-05       690003  High Card  226484865470\n",
       "..         ...          ...        ...           ...\n",
       "995 2021-08-05     16798768       Pair  228816365202\n",
       "996 2021-08-05     67698688   Straight  228816445233\n",
       "997 2021-08-05       759924  High Card  228816502665\n",
       "998 2021-08-05       755557  High Card  228816568248\n",
       "999 2021-08-05     17353280       Pair  228816594420\n",
       "\n",
       "[1000 rows x 4 columns]"
      ]
     },
     "execution_count": 85,
     "metadata": {},
     "output_type": "execute_result"
    }
   ],
   "source": [
    "# Применим функцию к столбцу hand  и запишем в новый столбец rang_namber\n",
    "\n",
    "df['rang_namber'] = df['hand_rang'].str.split().apply(evaluate_)\n",
    "df['handtypes'] = df['rang_namber'].apply(handtype_)\n",
    "df[['Date','rang_namber', 'handtypes','HandId']]\n",
    "# df['filter'] = df.loc[df.handtypes.str.contains('Two Pair', 'Trips', 'Straight', 'Full House', 'Quads', 'Straight Flush'), 'rang_namber']"
   ]
  },
  {
   "cell_type": "code",
   "execution_count": 86,
   "metadata": {
    "tags": []
   },
   "outputs": [
    {
     "data": {
      "text/plain": [
       "Date     handtypes \n",
       "2021-05  Flush          16\n",
       "         Full House     21\n",
       "         High Card     232\n",
       "         Pair          328\n",
       "         Straight       24\n",
       "         Trips          23\n",
       "         Two Pair      127\n",
       "2021-06  Flush           1\n",
       "         High Card       3\n",
       "         Pair            5\n",
       "2021-07  Flush           1\n",
       "         Full House      4\n",
       "         High Card      64\n",
       "         Pair           90\n",
       "         Quads           1\n",
       "         Straight        6\n",
       "         Trips           6\n",
       "         Two Pair       27\n",
       "2021-08  Full House      1\n",
       "         High Card       6\n",
       "         Pair           10\n",
       "         Straight        1\n",
       "         Trips           1\n",
       "         Two Pair        2\n",
       "Name: rang_namber, dtype: int64"
      ]
     },
     "execution_count": 86,
     "metadata": {},
     "output_type": "execute_result"
    }
   ],
   "source": [
    "df_raw = df.groupby([df.Date.dt.to_period(\"M\"),\"handtypes\"])['rang_namber'].count()\n",
    "df_raw"
   ]
  },
  {
   "cell_type": "code",
   "execution_count": 87,
   "metadata": {},
   "outputs": [
    {
     "data": {
      "image/png": "[encoded data removed]",
      "text/plain": [
       "<Figure size 800x800 with 1 Axes>"
      ]
     },
     "metadata": {},
     "output_type": "display_data"
    }
   ],
   "source": [
    "# Prepare Data\n",
    "df_plot = df.groupby('handtypes').size()\n",
    "\n",
    "# Make the plot with pandas\n",
    "df_plot.plot(kind='area', subplots=True, figsize=(8, 8))\n",
    "plt.title(\"Колличество комбинаций\")\n",
    "plt.ylabel(\"\")\n",
    "plt.show()"
   ]
  },
  {
   "cell_type": "code",
   "execution_count": null,
   "metadata": {},
   "outputs": [],
   "source": []
  },
  {
   "cell_type": "code",
   "execution_count": 88,
   "metadata": {
    "tags": []
   },
   "outputs": [],
   "source": [
    "# df['DateTime'] = df['DateTime'][(df['DateTime'] > '2018-10-01 20:00:00') & (df['DateTime'] < '2018-10-02 00:00:00')]\n",
    "# df['DateTime']\n"
   ]
  },
  {
   "cell_type": "code",
   "execution_count": 90,
   "metadata": {
    "tags": []
   },
   "outputs": [
    {
     "data": {
      "text/html": [
       "<div>\n",
       "<style scoped>\n",
       "    .dataframe tbody tr th:only-of-type {\n",
       "        vertical-align: middle;\n",
       "    }\n",
       "\n",
       "    .dataframe tbody tr th {\n",
       "        vertical-align: top;\n",
       "    }\n",
       "\n",
       "    .dataframe thead th {\n",
       "        text-align: right;\n",
       "    }\n",
       "</style>\n",
       "<table border=\"1\" class=\"dataframe\">\n",
       "  <thead>\n",
       "    <tr style=\"text-align: right;\">\n",
       "      <th></th>\n",
       "      <th>Date</th>\n",
       "      <th>filter</th>\n",
       "      <th>handtypes</th>\n",
       "      <th>HandHiro</th>\n",
       "      <th>Board</th>\n",
       "    </tr>\n",
       "  </thead>\n",
       "  <tbody>\n",
       "    <tr>\n",
       "      <th>1</th>\n",
       "      <td>2021-05-05</td>\n",
       "      <td>84706320</td>\n",
       "      <td>Flush</td>\n",
       "      <td>Ts 3s</td>\n",
       "      <td>2s 6s As Jc Th</td>\n",
       "    </tr>\n",
       "    <tr>\n",
       "      <th>8</th>\n",
       "      <td>2021-05-05</td>\n",
       "      <td>50968576</td>\n",
       "      <td>Trips</td>\n",
       "      <td>8d Jh</td>\n",
       "      <td>Kc 7h Js Td Jc</td>\n",
       "    </tr>\n",
       "    <tr>\n",
       "      <th>16</th>\n",
       "      <td>2021-05-05</td>\n",
       "      <td>84715347</td>\n",
       "      <td>Flush</td>\n",
       "      <td>Kh 7c</td>\n",
       "      <td>9d 5d Ad Qd 7d</td>\n",
       "    </tr>\n",
       "    <tr>\n",
       "      <th>27</th>\n",
       "      <td>2021-05-05</td>\n",
       "      <td>84715824</td>\n",
       "      <td>Flush</td>\n",
       "      <td>Ad 2d</td>\n",
       "      <td>9h 5d Qh Jd Qd</td>\n",
       "    </tr>\n",
       "    <tr>\n",
       "      <th>29</th>\n",
       "      <td>2021-05-06</td>\n",
       "      <td>67895296</td>\n",
       "      <td>Straight</td>\n",
       "      <td>Qd Ah</td>\n",
       "      <td>Ts Kh Jc 8c 7d</td>\n",
       "    </tr>\n",
       "  </tbody>\n",
       "</table>\n",
       "</div>"
      ],
      "text/plain": [
       "         Date    filter handtypes HandHiro           Board\n",
       "1  2021-05-05  84706320     Flush    Ts 3s  2s 6s As Jc Th\n",
       "8  2021-05-05  50968576     Trips    8d Jh  Kc 7h Js Td Jc\n",
       "16 2021-05-05  84715347     Flush    Kh 7c  9d 5d Ad Qd 7d\n",
       "27 2021-05-05  84715824     Flush    Ad 2d  9h 5d Qh Jd Qd\n",
       "29 2021-05-06  67895296  Straight    Qd Ah  Ts Kh Jc 8c 7d"
      ]
     },
     "execution_count": 90,
     "metadata": {},
     "output_type": "execute_result"
    }
   ],
   "source": [
    "# отфильтруем комбинации \"старшая карта\" и \"пара\"\n",
    "df['filter'] = df.loc[:,['rang_namber']][df.loc[:,['rang_namber']] > 50000000] #[((df['rang_namber'] > 50000000) & (df['rang_namber'] < 60000000))]\n",
    "df = df.dropna()\n",
    "df[['Date','filter','handtypes','HandHiro','Board']].head()\n",
    "# df['filter_Two Pair'] = df['handtypes'][df['handtypes'] == 'Two Pair']\n",
    "# df['filter_Two Pair']"
   ]
  },
  {
   "cell_type": "code",
   "execution_count": 65,
   "metadata": {
    "collapsed": true,
    "jupyter": {
     "outputs_hidden": true
    },
    "tags": []
   },
   "outputs": [
    {
     "ename": "KeyError",
     "evalue": "\"['DateTime'] not in index\"",
     "output_type": "error",
     "traceback": [
      "\u001b[1;31m---------------------------------------------------------------------------\u001b[0m",
      "\u001b[1;31mKeyError\u001b[0m                                  Traceback (most recent call last)",
      "Input \u001b[1;32mIn [65]\u001b[0m, in \u001b[0;36m<cell line: 1>\u001b[1;34m()\u001b[0m\n\u001b[1;32m----> 1\u001b[0m data \u001b[38;5;241m=\u001b[39m \u001b[43mdf\u001b[49m\u001b[43m[\u001b[49m\u001b[43m[\u001b[49m\u001b[38;5;124;43m'\u001b[39;49m\u001b[38;5;124;43mDateTime\u001b[39;49m\u001b[38;5;124;43m'\u001b[39;49m\u001b[43m,\u001b[49m\u001b[43m \u001b[49m\u001b[38;5;124;43m'\u001b[39;49m\u001b[38;5;124;43mfilter\u001b[39;49m\u001b[38;5;124;43m'\u001b[39;49m\u001b[43m]\u001b[49m\u001b[43m]\u001b[49m\n\u001b[0;32m      2\u001b[0m data\u001b[38;5;241m.\u001b[39mhead()\n",
      "File \u001b[1;32m~\\anaconda3\\lib\\site-packages\\pandas\\core\\frame.py:3511\u001b[0m, in \u001b[0;36mDataFrame.__getitem__\u001b[1;34m(self, key)\u001b[0m\n\u001b[0;32m   3509\u001b[0m     \u001b[38;5;28;01mif\u001b[39;00m is_iterator(key):\n\u001b[0;32m   3510\u001b[0m         key \u001b[38;5;241m=\u001b[39m \u001b[38;5;28mlist\u001b[39m(key)\n\u001b[1;32m-> 3511\u001b[0m     indexer \u001b[38;5;241m=\u001b[39m \u001b[38;5;28;43mself\u001b[39;49m\u001b[38;5;241;43m.\u001b[39;49m\u001b[43mcolumns\u001b[49m\u001b[38;5;241;43m.\u001b[39;49m\u001b[43m_get_indexer_strict\u001b[49m\u001b[43m(\u001b[49m\u001b[43mkey\u001b[49m\u001b[43m,\u001b[49m\u001b[43m \u001b[49m\u001b[38;5;124;43m\"\u001b[39;49m\u001b[38;5;124;43mcolumns\u001b[39;49m\u001b[38;5;124;43m\"\u001b[39;49m\u001b[43m)\u001b[49m[\u001b[38;5;241m1\u001b[39m]\n\u001b[0;32m   3513\u001b[0m \u001b[38;5;66;03m# take() does not accept boolean indexers\u001b[39;00m\n\u001b[0;32m   3514\u001b[0m \u001b[38;5;28;01mif\u001b[39;00m \u001b[38;5;28mgetattr\u001b[39m(indexer, \u001b[38;5;124m\"\u001b[39m\u001b[38;5;124mdtype\u001b[39m\u001b[38;5;124m\"\u001b[39m, \u001b[38;5;28;01mNone\u001b[39;00m) \u001b[38;5;241m==\u001b[39m \u001b[38;5;28mbool\u001b[39m:\n",
      "File \u001b[1;32m~\\anaconda3\\lib\\site-packages\\pandas\\core\\indexes\\base.py:5796\u001b[0m, in \u001b[0;36mIndex._get_indexer_strict\u001b[1;34m(self, key, axis_name)\u001b[0m\n\u001b[0;32m   5793\u001b[0m \u001b[38;5;28;01melse\u001b[39;00m:\n\u001b[0;32m   5794\u001b[0m     keyarr, indexer, new_indexer \u001b[38;5;241m=\u001b[39m \u001b[38;5;28mself\u001b[39m\u001b[38;5;241m.\u001b[39m_reindex_non_unique(keyarr)\n\u001b[1;32m-> 5796\u001b[0m \u001b[38;5;28;43mself\u001b[39;49m\u001b[38;5;241;43m.\u001b[39;49m\u001b[43m_raise_if_missing\u001b[49m\u001b[43m(\u001b[49m\u001b[43mkeyarr\u001b[49m\u001b[43m,\u001b[49m\u001b[43m \u001b[49m\u001b[43mindexer\u001b[49m\u001b[43m,\u001b[49m\u001b[43m \u001b[49m\u001b[43maxis_name\u001b[49m\u001b[43m)\u001b[49m\n\u001b[0;32m   5798\u001b[0m keyarr \u001b[38;5;241m=\u001b[39m \u001b[38;5;28mself\u001b[39m\u001b[38;5;241m.\u001b[39mtake(indexer)\n\u001b[0;32m   5799\u001b[0m \u001b[38;5;28;01mif\u001b[39;00m \u001b[38;5;28misinstance\u001b[39m(key, Index):\n\u001b[0;32m   5800\u001b[0m     \u001b[38;5;66;03m# GH 42790 - Preserve name from an Index\u001b[39;00m\n",
      "File \u001b[1;32m~\\anaconda3\\lib\\site-packages\\pandas\\core\\indexes\\base.py:5859\u001b[0m, in \u001b[0;36mIndex._raise_if_missing\u001b[1;34m(self, key, indexer, axis_name)\u001b[0m\n\u001b[0;32m   5856\u001b[0m     \u001b[38;5;28;01mraise\u001b[39;00m \u001b[38;5;167;01mKeyError\u001b[39;00m(\u001b[38;5;124mf\u001b[39m\u001b[38;5;124m\"\u001b[39m\u001b[38;5;124mNone of [\u001b[39m\u001b[38;5;132;01m{\u001b[39;00mkey\u001b[38;5;132;01m}\u001b[39;00m\u001b[38;5;124m] are in the [\u001b[39m\u001b[38;5;132;01m{\u001b[39;00maxis_name\u001b[38;5;132;01m}\u001b[39;00m\u001b[38;5;124m]\u001b[39m\u001b[38;5;124m\"\u001b[39m)\n\u001b[0;32m   5858\u001b[0m not_found \u001b[38;5;241m=\u001b[39m \u001b[38;5;28mlist\u001b[39m(ensure_index(key)[missing_mask\u001b[38;5;241m.\u001b[39mnonzero()[\u001b[38;5;241m0\u001b[39m]]\u001b[38;5;241m.\u001b[39munique())\n\u001b[1;32m-> 5859\u001b[0m \u001b[38;5;28;01mraise\u001b[39;00m \u001b[38;5;167;01mKeyError\u001b[39;00m(\u001b[38;5;124mf\u001b[39m\u001b[38;5;124m\"\u001b[39m\u001b[38;5;132;01m{\u001b[39;00mnot_found\u001b[38;5;132;01m}\u001b[39;00m\u001b[38;5;124m not in index\u001b[39m\u001b[38;5;124m\"\u001b[39m)\n",
      "\u001b[1;31mKeyError\u001b[0m: \"['DateTime'] not in index\""
     ]
    }
   ],
   "source": [
    "data = df[['DateTime', 'filter']]\n",
    "data.head()"
   ]
  },
  {
   "cell_type": "code",
   "execution_count": 76,
   "metadata": {},
   "outputs": [
    {
     "data": {
      "text/plain": [
       "DateTime    0\n",
       "filter      0\n",
       "dtype: int64"
      ]
     },
     "execution_count": 76,
     "metadata": {},
     "output_type": "execute_result"
    }
   ],
   "source": [
    "data.isnull().sum()"
   ]
  },
  {
   "cell_type": "code",
   "execution_count": 77,
   "metadata": {
    "tags": []
   },
   "outputs": [],
   "source": [
    "# преобразуем время во временной ряд\n"
   ]
  },
  {
   "cell_type": "code",
   "execution_count": 78,
   "metadata": {
    "tags": []
   },
   "outputs": [
    {
     "data": {
      "text/plain": [
       "DateTime\n",
       "2018-08-07 22:22:20      0\n",
       "2018-08-07 22:30:28      1\n",
       "2018-08-07 22:31:51      2\n",
       "2018-08-07 22:50:10      3\n",
       "2018-08-07 23:09:42      4\n",
       "                      ... \n",
       "2018-10-31 14:43:01    577\n",
       "2018-10-31 14:50:16    578\n",
       "2018-10-31 15:00:30    579\n",
       "2018-10-31 15:04:40    580\n",
       "2018-10-31 15:06:12    581\n",
       "Length: 582, dtype: int64"
      ]
     },
     "execution_count": 78,
     "metadata": {},
     "output_type": "execute_result"
    }
   ],
   "source": [
    "\n",
    "\n",
    "idx = df['DateTime']\n",
    " # datetime.timedelta(seconds=24*60*60).total_seconds()\n",
    "\n",
    "# second = df['DateTime'].dt.total_seconds()\n",
    "# second\n",
    "\n",
    "# idx = pd.date_range(df['DateTime'], periods=5, freq=\"H\")\n",
    "# idx\n",
    "tim = pd.Series(range(len(idx)), index=idx)\n",
    "\n",
    "# ts.resample(\"2H\").mean()\n",
    "tim "
   ]
  },
  {
   "cell_type": "code",
   "execution_count": 79,
   "metadata": {},
   "outputs": [],
   "source": [
    "# # # idx = pd.date_range('2019-01-01', periods=48, freq='H')\n",
    "# # x = pd.Series(range(len(idx)), index=idx)\n",
    "# y = tim\n",
    "# # add 'hour' and 'day' columns in the dataframe\n",
    "# d = {'x': x, 'y': y, 'hour': idx.hour, 'day': idx.day}\n",
    "# df = pd.DataFrame(data=d)\n",
    "# # use 'hour' as x axis to plot, and 'day' as marker color\n",
    "# df.plot.scatter(x='hour', y='y', c='day', colormap='rainbow')\n",
    "# plt.show()"
   ]
  },
  {
   "cell_type": "code",
   "execution_count": 80,
   "metadata": {},
   "outputs": [
    {
     "data": {
      "text/plain": [
       "DateTime    datetime64[ns]\n",
       "filter             float64\n",
       "dtype: object"
      ]
     },
     "execution_count": 80,
     "metadata": {},
     "output_type": "execute_result"
    }
   ],
   "source": [
    "data.dtypes"
   ]
  },
  {
   "cell_type": "code",
   "execution_count": 81,
   "metadata": {},
   "outputs": [
    {
     "data": {
      "text/html": [
       "<div>\n",
       "<style scoped>\n",
       "    .dataframe tbody tr th:only-of-type {\n",
       "        vertical-align: middle;\n",
       "    }\n",
       "\n",
       "    .dataframe tbody tr th {\n",
       "        vertical-align: top;\n",
       "    }\n",
       "\n",
       "    .dataframe thead th {\n",
       "        text-align: right;\n",
       "    }\n",
       "</style>\n",
       "<table border=\"1\" class=\"dataframe\">\n",
       "  <thead>\n",
       "    <tr style=\"text-align: right;\">\n",
       "      <th></th>\n",
       "      <th>filter</th>\n",
       "    </tr>\n",
       "    <tr>\n",
       "      <th>DateTime</th>\n",
       "      <th></th>\n",
       "    </tr>\n",
       "  </thead>\n",
       "  <tbody>\n",
       "    <tr>\n",
       "      <th>2018-08-07 22:22:20</th>\n",
       "      <td>50701824.0</td>\n",
       "    </tr>\n",
       "    <tr>\n",
       "      <th>2018-08-07 22:30:28</th>\n",
       "      <td>101462016.0</td>\n",
       "    </tr>\n",
       "    <tr>\n",
       "      <th>2018-08-07 22:31:51</th>\n",
       "      <td>67895296.0</td>\n",
       "    </tr>\n",
       "    <tr>\n",
       "      <th>2018-08-07 22:50:10</th>\n",
       "      <td>101130240.0</td>\n",
       "    </tr>\n",
       "    <tr>\n",
       "      <th>2018-08-07 23:09:42</th>\n",
       "      <td>50492672.0</td>\n",
       "    </tr>\n",
       "    <tr>\n",
       "      <th>2018-08-07 23:13:22</th>\n",
       "      <td>67502080.0</td>\n",
       "    </tr>\n",
       "    <tr>\n",
       "      <th>2018-08-07 23:15:44</th>\n",
       "      <td>50973184.0</td>\n",
       "    </tr>\n",
       "    <tr>\n",
       "      <th>2018-08-07 23:19:35</th>\n",
       "      <td>101122048.0</td>\n",
       "    </tr>\n",
       "    <tr>\n",
       "      <th>2018-08-07 23:19:54</th>\n",
       "      <td>67567616.0</td>\n",
       "    </tr>\n",
       "    <tr>\n",
       "      <th>2018-08-07 23:22:59</th>\n",
       "      <td>50775296.0</td>\n",
       "    </tr>\n",
       "    <tr>\n",
       "      <th>2018-08-07 23:30:24</th>\n",
       "      <td>67633152.0</td>\n",
       "    </tr>\n",
       "    <tr>\n",
       "      <th>2018-08-07 23:30:53</th>\n",
       "      <td>67436544.0</td>\n",
       "    </tr>\n",
       "    <tr>\n",
       "      <th>2018-08-07 23:31:27</th>\n",
       "      <td>50640384.0</td>\n",
       "    </tr>\n",
       "    <tr>\n",
       "      <th>2018-08-07 23:32:00</th>\n",
       "      <td>84650066.0</td>\n",
       "    </tr>\n",
       "    <tr>\n",
       "      <th>2018-08-07 23:33:57</th>\n",
       "      <td>101142528.0</td>\n",
       "    </tr>\n",
       "    <tr>\n",
       "      <th>2018-08-07 23:39:13</th>\n",
       "      <td>67764224.0</td>\n",
       "    </tr>\n",
       "    <tr>\n",
       "      <th>2018-08-07 23:40:10</th>\n",
       "      <td>100679680.0</td>\n",
       "    </tr>\n",
       "    <tr>\n",
       "      <th>2018-08-10 12:49:48</th>\n",
       "      <td>101449728.0</td>\n",
       "    </tr>\n",
       "    <tr>\n",
       "      <th>2018-08-10 12:52:05</th>\n",
       "      <td>50898688.0</td>\n",
       "    </tr>\n",
       "    <tr>\n",
       "      <th>2018-08-10 12:56:40</th>\n",
       "      <td>50885120.0</td>\n",
       "    </tr>\n",
       "  </tbody>\n",
       "</table>\n",
       "</div>"
      ],
      "text/plain": [
       "                          filter\n",
       "DateTime                        \n",
       "2018-08-07 22:22:20   50701824.0\n",
       "2018-08-07 22:30:28  101462016.0\n",
       "2018-08-07 22:31:51   67895296.0\n",
       "2018-08-07 22:50:10  101130240.0\n",
       "2018-08-07 23:09:42   50492672.0\n",
       "2018-08-07 23:13:22   67502080.0\n",
       "2018-08-07 23:15:44   50973184.0\n",
       "2018-08-07 23:19:35  101122048.0\n",
       "2018-08-07 23:19:54   67567616.0\n",
       "2018-08-07 23:22:59   50775296.0\n",
       "2018-08-07 23:30:24   67633152.0\n",
       "2018-08-07 23:30:53   67436544.0\n",
       "2018-08-07 23:31:27   50640384.0\n",
       "2018-08-07 23:32:00   84650066.0\n",
       "2018-08-07 23:33:57  101142528.0\n",
       "2018-08-07 23:39:13   67764224.0\n",
       "2018-08-07 23:40:10  100679680.0\n",
       "2018-08-10 12:49:48  101449728.0\n",
       "2018-08-10 12:52:05   50898688.0\n",
       "2018-08-10 12:56:40   50885120.0"
      ]
     },
     "execution_count": 81,
     "metadata": {},
     "output_type": "execute_result"
    }
   ],
   "source": [
    "# установить datetime Объект в качестве индекса кадра данных\n",
    "data = data.set_index('DateTime')\n",
    "data.head(20)"
   ]
  },
  {
   "cell_type": "code",
   "execution_count": 82,
   "metadata": {},
   "outputs": [
    {
     "data": {
      "text/plain": [
       "<AxesSubplot:xlabel='DateTime'>"
      ]
     },
     "execution_count": 82,
     "metadata": {},
     "output_type": "execute_result"
    },
    {
     "data": {
      "image/png": "[encoded data removed]",
      "text/plain": [
       "<Figure size 432x288 with 1 Axes>"
      ]
     },
     "metadata": {},
     "output_type": "display_data"
    }
   ],
   "source": [
    "\n",
    "# data.plot(grid=True)\n",
    "\n",
    "data['filter'].plot(kind='bar')\n",
    "\n",
    "# import matplotlib.pyplot as plt\n",
    "# from matplotlib.dates import DateFormatter\n",
    "# # Группировка за месяц\n",
    "# df_month = data.resample(\"M\").mean()\n",
    "\n",
    "# fig, ax = plt.subplots(figsize=(10, 6))\n",
    "# ax.xaxis.set_major_formatter(DateFormatter('%Y-%m'))\n",
    "# ax.bar(\n",
    "#     df_month['2018':].index, \n",
    "#     df_month.loc['2016':, \"filter\"], \n",
    "#     width=25, align='center')"
   ]
  },
  {
   "cell_type": "code",
   "execution_count": 85,
   "metadata": {},
   "outputs": [
    {
     "ename": "OverflowError",
     "evalue": "int too big to convert",
     "output_type": "error",
     "traceback": [
      "\u001b[1;31m---------------------------------------------------------------------------\u001b[0m",
      "\u001b[1;31mOverflowError\u001b[0m                             Traceback (most recent call last)",
      "\u001b[1;32m~\\anaconda3\\lib\\site-packages\\IPython\\core\\formatters.py\u001b[0m in \u001b[0;36m__call__\u001b[1;34m(self, obj)\u001b[0m\n\u001b[0;32m    339\u001b[0m                 \u001b[1;32mpass\u001b[0m\u001b[1;33m\u001b[0m\u001b[1;33m\u001b[0m\u001b[0m\n\u001b[0;32m    340\u001b[0m             \u001b[1;32melse\u001b[0m\u001b[1;33m:\u001b[0m\u001b[1;33m\u001b[0m\u001b[1;33m\u001b[0m\u001b[0m\n\u001b[1;32m--> 341\u001b[1;33m                 \u001b[1;32mreturn\u001b[0m \u001b[0mprinter\u001b[0m\u001b[1;33m(\u001b[0m\u001b[0mobj\u001b[0m\u001b[1;33m)\u001b[0m\u001b[1;33m\u001b[0m\u001b[1;33m\u001b[0m\u001b[0m\n\u001b[0m\u001b[0;32m    342\u001b[0m             \u001b[1;31m# Finally look for special method names\u001b[0m\u001b[1;33m\u001b[0m\u001b[1;33m\u001b[0m\u001b[0m\n\u001b[0;32m    343\u001b[0m             \u001b[0mmethod\u001b[0m \u001b[1;33m=\u001b[0m \u001b[0mget_real_method\u001b[0m\u001b[1;33m(\u001b[0m\u001b[0mobj\u001b[0m\u001b[1;33m,\u001b[0m \u001b[0mself\u001b[0m\u001b[1;33m.\u001b[0m\u001b[0mprint_method\u001b[0m\u001b[1;33m)\u001b[0m\u001b[1;33m\u001b[0m\u001b[1;33m\u001b[0m\u001b[0m\n",
      "\u001b[1;32m~\\anaconda3\\lib\\site-packages\\IPython\\core\\pylabtools.py\u001b[0m in \u001b[0;36mprint_figure\u001b[1;34m(fig, fmt, bbox_inches, base64, **kwargs)\u001b[0m\n\u001b[0;32m    149\u001b[0m         \u001b[0mFigureCanvasBase\u001b[0m\u001b[1;33m(\u001b[0m\u001b[0mfig\u001b[0m\u001b[1;33m)\u001b[0m\u001b[1;33m\u001b[0m\u001b[1;33m\u001b[0m\u001b[0m\n\u001b[0;32m    150\u001b[0m \u001b[1;33m\u001b[0m\u001b[0m\n\u001b[1;32m--> 151\u001b[1;33m     \u001b[0mfig\u001b[0m\u001b[1;33m.\u001b[0m\u001b[0mcanvas\u001b[0m\u001b[1;33m.\u001b[0m\u001b[0mprint_figure\u001b[0m\u001b[1;33m(\u001b[0m\u001b[0mbytes_io\u001b[0m\u001b[1;33m,\u001b[0m \u001b[1;33m**\u001b[0m\u001b[0mkw\u001b[0m\u001b[1;33m)\u001b[0m\u001b[1;33m\u001b[0m\u001b[1;33m\u001b[0m\u001b[0m\n\u001b[0m\u001b[0;32m    152\u001b[0m     \u001b[0mdata\u001b[0m \u001b[1;33m=\u001b[0m \u001b[0mbytes_io\u001b[0m\u001b[1;33m.\u001b[0m\u001b[0mgetvalue\u001b[0m\u001b[1;33m(\u001b[0m\u001b[1;33m)\u001b[0m\u001b[1;33m\u001b[0m\u001b[1;33m\u001b[0m\u001b[0m\n\u001b[0;32m    153\u001b[0m     \u001b[1;32mif\u001b[0m \u001b[0mfmt\u001b[0m \u001b[1;33m==\u001b[0m \u001b[1;34m'svg'\u001b[0m\u001b[1;33m:\u001b[0m\u001b[1;33m\u001b[0m\u001b[1;33m\u001b[0m\u001b[0m\n",
      "\u001b[1;32m~\\anaconda3\\lib\\site-packages\\matplotlib\\backend_bases.py\u001b[0m in \u001b[0;36mprint_figure\u001b[1;34m(self, filename, dpi, facecolor, edgecolor, orientation, format, bbox_inches, pad_inches, bbox_extra_artists, backend, **kwargs)\u001b[0m\n\u001b[0;32m   2228\u001b[0m                        else suppress())\n\u001b[0;32m   2229\u001b[0m                 \u001b[1;32mwith\u001b[0m \u001b[0mctx\u001b[0m\u001b[1;33m:\u001b[0m\u001b[1;33m\u001b[0m\u001b[1;33m\u001b[0m\u001b[0m\n\u001b[1;32m-> 2230\u001b[1;33m                     \u001b[0mself\u001b[0m\u001b[1;33m.\u001b[0m\u001b[0mfigure\u001b[0m\u001b[1;33m.\u001b[0m\u001b[0mdraw\u001b[0m\u001b[1;33m(\u001b[0m\u001b[0mrenderer\u001b[0m\u001b[1;33m)\u001b[0m\u001b[1;33m\u001b[0m\u001b[1;33m\u001b[0m\u001b[0m\n\u001b[0m\u001b[0;32m   2231\u001b[0m \u001b[1;33m\u001b[0m\u001b[0m\n\u001b[0;32m   2232\u001b[0m             \u001b[1;32mif\u001b[0m \u001b[0mbbox_inches\u001b[0m\u001b[1;33m:\u001b[0m\u001b[1;33m\u001b[0m\u001b[1;33m\u001b[0m\u001b[0m\n",
      "\u001b[1;32m~\\anaconda3\\lib\\site-packages\\matplotlib\\artist.py\u001b[0m in \u001b[0;36mdraw_wrapper\u001b[1;34m(artist, renderer, *args, **kwargs)\u001b[0m\n\u001b[0;32m     72\u001b[0m     \u001b[1;33m@\u001b[0m\u001b[0mwraps\u001b[0m\u001b[1;33m(\u001b[0m\u001b[0mdraw\u001b[0m\u001b[1;33m)\u001b[0m\u001b[1;33m\u001b[0m\u001b[1;33m\u001b[0m\u001b[0m\n\u001b[0;32m     73\u001b[0m     \u001b[1;32mdef\u001b[0m \u001b[0mdraw_wrapper\u001b[0m\u001b[1;33m(\u001b[0m\u001b[0martist\u001b[0m\u001b[1;33m,\u001b[0m \u001b[0mrenderer\u001b[0m\u001b[1;33m,\u001b[0m \u001b[1;33m*\u001b[0m\u001b[0margs\u001b[0m\u001b[1;33m,\u001b[0m \u001b[1;33m**\u001b[0m\u001b[0mkwargs\u001b[0m\u001b[1;33m)\u001b[0m\u001b[1;33m:\u001b[0m\u001b[1;33m\u001b[0m\u001b[1;33m\u001b[0m\u001b[0m\n\u001b[1;32m---> 74\u001b[1;33m         \u001b[0mresult\u001b[0m \u001b[1;33m=\u001b[0m \u001b[0mdraw\u001b[0m\u001b[1;33m(\u001b[0m\u001b[0martist\u001b[0m\u001b[1;33m,\u001b[0m \u001b[0mrenderer\u001b[0m\u001b[1;33m,\u001b[0m \u001b[1;33m*\u001b[0m\u001b[0margs\u001b[0m\u001b[1;33m,\u001b[0m \u001b[1;33m**\u001b[0m\u001b[0mkwargs\u001b[0m\u001b[1;33m)\u001b[0m\u001b[1;33m\u001b[0m\u001b[1;33m\u001b[0m\u001b[0m\n\u001b[0m\u001b[0;32m     75\u001b[0m         \u001b[1;32mif\u001b[0m \u001b[0mrenderer\u001b[0m\u001b[1;33m.\u001b[0m\u001b[0m_rasterizing\u001b[0m\u001b[1;33m:\u001b[0m\u001b[1;33m\u001b[0m\u001b[1;33m\u001b[0m\u001b[0m\n\u001b[0;32m     76\u001b[0m             \u001b[0mrenderer\u001b[0m\u001b[1;33m.\u001b[0m\u001b[0mstop_rasterizing\u001b[0m\u001b[1;33m(\u001b[0m\u001b[1;33m)\u001b[0m\u001b[1;33m\u001b[0m\u001b[1;33m\u001b[0m\u001b[0m\n",
      "\u001b[1;32m~\\anaconda3\\lib\\site-packages\\matplotlib\\artist.py\u001b[0m in \u001b[0;36mdraw_wrapper\u001b[1;34m(artist, renderer, *args, **kwargs)\u001b[0m\n\u001b[0;32m     49\u001b[0m                 \u001b[0mrenderer\u001b[0m\u001b[1;33m.\u001b[0m\u001b[0mstart_filter\u001b[0m\u001b[1;33m(\u001b[0m\u001b[1;33m)\u001b[0m\u001b[1;33m\u001b[0m\u001b[1;33m\u001b[0m\u001b[0m\n\u001b[0;32m     50\u001b[0m \u001b[1;33m\u001b[0m\u001b[0m\n\u001b[1;32m---> 51\u001b[1;33m             \u001b[1;32mreturn\u001b[0m \u001b[0mdraw\u001b[0m\u001b[1;33m(\u001b[0m\u001b[0martist\u001b[0m\u001b[1;33m,\u001b[0m \u001b[0mrenderer\u001b[0m\u001b[1;33m,\u001b[0m \u001b[1;33m*\u001b[0m\u001b[0margs\u001b[0m\u001b[1;33m,\u001b[0m \u001b[1;33m**\u001b[0m\u001b[0mkwargs\u001b[0m\u001b[1;33m)\u001b[0m\u001b[1;33m\u001b[0m\u001b[1;33m\u001b[0m\u001b[0m\n\u001b[0m\u001b[0;32m     52\u001b[0m         \u001b[1;32mfinally\u001b[0m\u001b[1;33m:\u001b[0m\u001b[1;33m\u001b[0m\u001b[1;33m\u001b[0m\u001b[0m\n\u001b[0;32m     53\u001b[0m             \u001b[1;32mif\u001b[0m \u001b[0martist\u001b[0m\u001b[1;33m.\u001b[0m\u001b[0mget_agg_filter\u001b[0m\u001b[1;33m(\u001b[0m\u001b[1;33m)\u001b[0m \u001b[1;32mis\u001b[0m \u001b[1;32mnot\u001b[0m \u001b[1;32mNone\u001b[0m\u001b[1;33m:\u001b[0m\u001b[1;33m\u001b[0m\u001b[1;33m\u001b[0m\u001b[0m\n",
      "\u001b[1;32m~\\anaconda3\\lib\\site-packages\\matplotlib\\figure.py\u001b[0m in \u001b[0;36mdraw\u001b[1;34m(self, renderer)\u001b[0m\n\u001b[0;32m   2788\u001b[0m \u001b[1;33m\u001b[0m\u001b[0m\n\u001b[0;32m   2789\u001b[0m             \u001b[0mself\u001b[0m\u001b[1;33m.\u001b[0m\u001b[0mpatch\u001b[0m\u001b[1;33m.\u001b[0m\u001b[0mdraw\u001b[0m\u001b[1;33m(\u001b[0m\u001b[0mrenderer\u001b[0m\u001b[1;33m)\u001b[0m\u001b[1;33m\u001b[0m\u001b[1;33m\u001b[0m\u001b[0m\n\u001b[1;32m-> 2790\u001b[1;33m             mimage._draw_list_compositing_images(\n\u001b[0m\u001b[0;32m   2791\u001b[0m                 renderer, self, artists, self.suppressComposite)\n\u001b[0;32m   2792\u001b[0m \u001b[1;33m\u001b[0m\u001b[0m\n",
      "\u001b[1;32m~\\anaconda3\\lib\\site-packages\\matplotlib\\image.py\u001b[0m in \u001b[0;36m_draw_list_compositing_images\u001b[1;34m(renderer, parent, artists, suppress_composite)\u001b[0m\n\u001b[0;32m    130\u001b[0m     \u001b[1;32mif\u001b[0m \u001b[0mnot_composite\u001b[0m \u001b[1;32mor\u001b[0m \u001b[1;32mnot\u001b[0m \u001b[0mhas_images\u001b[0m\u001b[1;33m:\u001b[0m\u001b[1;33m\u001b[0m\u001b[1;33m\u001b[0m\u001b[0m\n\u001b[0;32m    131\u001b[0m         \u001b[1;32mfor\u001b[0m \u001b[0ma\u001b[0m \u001b[1;32min\u001b[0m \u001b[0martists\u001b[0m\u001b[1;33m:\u001b[0m\u001b[1;33m\u001b[0m\u001b[1;33m\u001b[0m\u001b[0m\n\u001b[1;32m--> 132\u001b[1;33m             \u001b[0ma\u001b[0m\u001b[1;33m.\u001b[0m\u001b[0mdraw\u001b[0m\u001b[1;33m(\u001b[0m\u001b[0mrenderer\u001b[0m\u001b[1;33m)\u001b[0m\u001b[1;33m\u001b[0m\u001b[1;33m\u001b[0m\u001b[0m\n\u001b[0m\u001b[0;32m    133\u001b[0m     \u001b[1;32melse\u001b[0m\u001b[1;33m:\u001b[0m\u001b[1;33m\u001b[0m\u001b[1;33m\u001b[0m\u001b[0m\n\u001b[0;32m    134\u001b[0m         \u001b[1;31m# Composite any adjacent images together\u001b[0m\u001b[1;33m\u001b[0m\u001b[1;33m\u001b[0m\u001b[0m\n",
      "\u001b[1;32m~\\anaconda3\\lib\\site-packages\\matplotlib\\artist.py\u001b[0m in \u001b[0;36mdraw_wrapper\u001b[1;34m(artist, renderer, *args, **kwargs)\u001b[0m\n\u001b[0;32m     49\u001b[0m                 \u001b[0mrenderer\u001b[0m\u001b[1;33m.\u001b[0m\u001b[0mstart_filter\u001b[0m\u001b[1;33m(\u001b[0m\u001b[1;33m)\u001b[0m\u001b[1;33m\u001b[0m\u001b[1;33m\u001b[0m\u001b[0m\n\u001b[0;32m     50\u001b[0m \u001b[1;33m\u001b[0m\u001b[0m\n\u001b[1;32m---> 51\u001b[1;33m             \u001b[1;32mreturn\u001b[0m \u001b[0mdraw\u001b[0m\u001b[1;33m(\u001b[0m\u001b[0martist\u001b[0m\u001b[1;33m,\u001b[0m \u001b[0mrenderer\u001b[0m\u001b[1;33m,\u001b[0m \u001b[1;33m*\u001b[0m\u001b[0margs\u001b[0m\u001b[1;33m,\u001b[0m \u001b[1;33m**\u001b[0m\u001b[0mkwargs\u001b[0m\u001b[1;33m)\u001b[0m\u001b[1;33m\u001b[0m\u001b[1;33m\u001b[0m\u001b[0m\n\u001b[0m\u001b[0;32m     52\u001b[0m         \u001b[1;32mfinally\u001b[0m\u001b[1;33m:\u001b[0m\u001b[1;33m\u001b[0m\u001b[1;33m\u001b[0m\u001b[0m\n\u001b[0;32m     53\u001b[0m             \u001b[1;32mif\u001b[0m \u001b[0martist\u001b[0m\u001b[1;33m.\u001b[0m\u001b[0mget_agg_filter\u001b[0m\u001b[1;33m(\u001b[0m\u001b[1;33m)\u001b[0m \u001b[1;32mis\u001b[0m \u001b[1;32mnot\u001b[0m \u001b[1;32mNone\u001b[0m\u001b[1;33m:\u001b[0m\u001b[1;33m\u001b[0m\u001b[1;33m\u001b[0m\u001b[0m\n",
      "\u001b[1;32m~\\anaconda3\\lib\\site-packages\\matplotlib\\_api\\deprecation.py\u001b[0m in \u001b[0;36mwrapper\u001b[1;34m(*inner_args, **inner_kwargs)\u001b[0m\n\u001b[0;32m    429\u001b[0m                          \u001b[1;32melse\u001b[0m \u001b[0mdeprecation_addendum\u001b[0m\u001b[1;33m,\u001b[0m\u001b[1;33m\u001b[0m\u001b[1;33m\u001b[0m\u001b[0m\n\u001b[0;32m    430\u001b[0m                 **kwargs)\n\u001b[1;32m--> 431\u001b[1;33m         \u001b[1;32mreturn\u001b[0m \u001b[0mfunc\u001b[0m\u001b[1;33m(\u001b[0m\u001b[1;33m*\u001b[0m\u001b[0minner_args\u001b[0m\u001b[1;33m,\u001b[0m \u001b[1;33m**\u001b[0m\u001b[0minner_kwargs\u001b[0m\u001b[1;33m)\u001b[0m\u001b[1;33m\u001b[0m\u001b[1;33m\u001b[0m\u001b[0m\n\u001b[0m\u001b[0;32m    432\u001b[0m \u001b[1;33m\u001b[0m\u001b[0m\n\u001b[0;32m    433\u001b[0m     \u001b[1;32mreturn\u001b[0m \u001b[0mwrapper\u001b[0m\u001b[1;33m\u001b[0m\u001b[1;33m\u001b[0m\u001b[0m\n",
      "\u001b[1;32m~\\anaconda3\\lib\\site-packages\\matplotlib\\axes\\_base.py\u001b[0m in \u001b[0;36mdraw\u001b[1;34m(self, renderer, inframe)\u001b[0m\n\u001b[0;32m   2919\u001b[0m             \u001b[0mrenderer\u001b[0m\u001b[1;33m.\u001b[0m\u001b[0mstop_rasterizing\u001b[0m\u001b[1;33m(\u001b[0m\u001b[1;33m)\u001b[0m\u001b[1;33m\u001b[0m\u001b[1;33m\u001b[0m\u001b[0m\n\u001b[0;32m   2920\u001b[0m \u001b[1;33m\u001b[0m\u001b[0m\n\u001b[1;32m-> 2921\u001b[1;33m         \u001b[0mmimage\u001b[0m\u001b[1;33m.\u001b[0m\u001b[0m_draw_list_compositing_images\u001b[0m\u001b[1;33m(\u001b[0m\u001b[0mrenderer\u001b[0m\u001b[1;33m,\u001b[0m \u001b[0mself\u001b[0m\u001b[1;33m,\u001b[0m \u001b[0martists\u001b[0m\u001b[1;33m)\u001b[0m\u001b[1;33m\u001b[0m\u001b[1;33m\u001b[0m\u001b[0m\n\u001b[0m\u001b[0;32m   2922\u001b[0m \u001b[1;33m\u001b[0m\u001b[0m\n\u001b[0;32m   2923\u001b[0m         \u001b[0mrenderer\u001b[0m\u001b[1;33m.\u001b[0m\u001b[0mclose_group\u001b[0m\u001b[1;33m(\u001b[0m\u001b[1;34m'axes'\u001b[0m\u001b[1;33m)\u001b[0m\u001b[1;33m\u001b[0m\u001b[1;33m\u001b[0m\u001b[0m\n",
      "\u001b[1;32m~\\anaconda3\\lib\\site-packages\\matplotlib\\image.py\u001b[0m in \u001b[0;36m_draw_list_compositing_images\u001b[1;34m(renderer, parent, artists, suppress_composite)\u001b[0m\n\u001b[0;32m    130\u001b[0m     \u001b[1;32mif\u001b[0m \u001b[0mnot_composite\u001b[0m \u001b[1;32mor\u001b[0m \u001b[1;32mnot\u001b[0m \u001b[0mhas_images\u001b[0m\u001b[1;33m:\u001b[0m\u001b[1;33m\u001b[0m\u001b[1;33m\u001b[0m\u001b[0m\n\u001b[0;32m    131\u001b[0m         \u001b[1;32mfor\u001b[0m \u001b[0ma\u001b[0m \u001b[1;32min\u001b[0m \u001b[0martists\u001b[0m\u001b[1;33m:\u001b[0m\u001b[1;33m\u001b[0m\u001b[1;33m\u001b[0m\u001b[0m\n\u001b[1;32m--> 132\u001b[1;33m             \u001b[0ma\u001b[0m\u001b[1;33m.\u001b[0m\u001b[0mdraw\u001b[0m\u001b[1;33m(\u001b[0m\u001b[0mrenderer\u001b[0m\u001b[1;33m)\u001b[0m\u001b[1;33m\u001b[0m\u001b[1;33m\u001b[0m\u001b[0m\n\u001b[0m\u001b[0;32m    133\u001b[0m     \u001b[1;32melse\u001b[0m\u001b[1;33m:\u001b[0m\u001b[1;33m\u001b[0m\u001b[1;33m\u001b[0m\u001b[0m\n\u001b[0;32m    134\u001b[0m         \u001b[1;31m# Composite any adjacent images together\u001b[0m\u001b[1;33m\u001b[0m\u001b[1;33m\u001b[0m\u001b[0m\n",
      "\u001b[1;32m~\\anaconda3\\lib\\site-packages\\matplotlib\\artist.py\u001b[0m in \u001b[0;36mdraw_wrapper\u001b[1;34m(artist, renderer, *args, **kwargs)\u001b[0m\n\u001b[0;32m     49\u001b[0m                 \u001b[0mrenderer\u001b[0m\u001b[1;33m.\u001b[0m\u001b[0mstart_filter\u001b[0m\u001b[1;33m(\u001b[0m\u001b[1;33m)\u001b[0m\u001b[1;33m\u001b[0m\u001b[1;33m\u001b[0m\u001b[0m\n\u001b[0;32m     50\u001b[0m \u001b[1;33m\u001b[0m\u001b[0m\n\u001b[1;32m---> 51\u001b[1;33m             \u001b[1;32mreturn\u001b[0m \u001b[0mdraw\u001b[0m\u001b[1;33m(\u001b[0m\u001b[0martist\u001b[0m\u001b[1;33m,\u001b[0m \u001b[0mrenderer\u001b[0m\u001b[1;33m,\u001b[0m \u001b[1;33m*\u001b[0m\u001b[0margs\u001b[0m\u001b[1;33m,\u001b[0m \u001b[1;33m**\u001b[0m\u001b[0mkwargs\u001b[0m\u001b[1;33m)\u001b[0m\u001b[1;33m\u001b[0m\u001b[1;33m\u001b[0m\u001b[0m\n\u001b[0m\u001b[0;32m     52\u001b[0m         \u001b[1;32mfinally\u001b[0m\u001b[1;33m:\u001b[0m\u001b[1;33m\u001b[0m\u001b[1;33m\u001b[0m\u001b[0m\n\u001b[0;32m     53\u001b[0m             \u001b[1;32mif\u001b[0m \u001b[0martist\u001b[0m\u001b[1;33m.\u001b[0m\u001b[0mget_agg_filter\u001b[0m\u001b[1;33m(\u001b[0m\u001b[1;33m)\u001b[0m \u001b[1;32mis\u001b[0m \u001b[1;32mnot\u001b[0m \u001b[1;32mNone\u001b[0m\u001b[1;33m:\u001b[0m\u001b[1;33m\u001b[0m\u001b[1;33m\u001b[0m\u001b[0m\n",
      "\u001b[1;32m~\\anaconda3\\lib\\site-packages\\matplotlib\\axis.py\u001b[0m in \u001b[0;36mdraw\u001b[1;34m(self, renderer, *args, **kwargs)\u001b[0m\n\u001b[0;32m   1139\u001b[0m         \u001b[0mrenderer\u001b[0m\u001b[1;33m.\u001b[0m\u001b[0mopen_group\u001b[0m\u001b[1;33m(\u001b[0m\u001b[0m__name__\u001b[0m\u001b[1;33m,\u001b[0m \u001b[0mgid\u001b[0m\u001b[1;33m=\u001b[0m\u001b[0mself\u001b[0m\u001b[1;33m.\u001b[0m\u001b[0mget_gid\u001b[0m\u001b[1;33m(\u001b[0m\u001b[1;33m)\u001b[0m\u001b[1;33m)\u001b[0m\u001b[1;33m\u001b[0m\u001b[1;33m\u001b[0m\u001b[0m\n\u001b[0;32m   1140\u001b[0m \u001b[1;33m\u001b[0m\u001b[0m\n\u001b[1;32m-> 1141\u001b[1;33m         \u001b[0mticks_to_draw\u001b[0m \u001b[1;33m=\u001b[0m \u001b[0mself\u001b[0m\u001b[1;33m.\u001b[0m\u001b[0m_update_ticks\u001b[0m\u001b[1;33m(\u001b[0m\u001b[1;33m)\u001b[0m\u001b[1;33m\u001b[0m\u001b[1;33m\u001b[0m\u001b[0m\n\u001b[0m\u001b[0;32m   1142\u001b[0m         ticklabelBoxes, ticklabelBoxes2 = self._get_tick_bboxes(ticks_to_draw,\n\u001b[0;32m   1143\u001b[0m                                                                 renderer)\n",
      "\u001b[1;32m~\\anaconda3\\lib\\site-packages\\matplotlib\\axis.py\u001b[0m in \u001b[0;36m_update_ticks\u001b[1;34m(self)\u001b[0m\n\u001b[0;32m   1026\u001b[0m         \u001b[0mthe\u001b[0m \u001b[0maxes\u001b[0m\u001b[1;33m.\u001b[0m  \u001b[0mReturn\u001b[0m \u001b[0mthe\u001b[0m \u001b[0mlist\u001b[0m \u001b[0mof\u001b[0m \u001b[0mticks\u001b[0m \u001b[0mthat\u001b[0m \u001b[0mwill\u001b[0m \u001b[0mbe\u001b[0m \u001b[0mdrawn\u001b[0m\u001b[1;33m.\u001b[0m\u001b[1;33m\u001b[0m\u001b[1;33m\u001b[0m\u001b[0m\n\u001b[0;32m   1027\u001b[0m         \"\"\"\n\u001b[1;32m-> 1028\u001b[1;33m         \u001b[0mmajor_locs\u001b[0m \u001b[1;33m=\u001b[0m \u001b[0mself\u001b[0m\u001b[1;33m.\u001b[0m\u001b[0mget_majorticklocs\u001b[0m\u001b[1;33m(\u001b[0m\u001b[1;33m)\u001b[0m\u001b[1;33m\u001b[0m\u001b[1;33m\u001b[0m\u001b[0m\n\u001b[0m\u001b[0;32m   1029\u001b[0m         \u001b[0mmajor_labels\u001b[0m \u001b[1;33m=\u001b[0m \u001b[0mself\u001b[0m\u001b[1;33m.\u001b[0m\u001b[0mmajor\u001b[0m\u001b[1;33m.\u001b[0m\u001b[0mformatter\u001b[0m\u001b[1;33m.\u001b[0m\u001b[0mformat_ticks\u001b[0m\u001b[1;33m(\u001b[0m\u001b[0mmajor_locs\u001b[0m\u001b[1;33m)\u001b[0m\u001b[1;33m\u001b[0m\u001b[1;33m\u001b[0m\u001b[0m\n\u001b[0;32m   1030\u001b[0m         \u001b[0mmajor_ticks\u001b[0m \u001b[1;33m=\u001b[0m \u001b[0mself\u001b[0m\u001b[1;33m.\u001b[0m\u001b[0mget_major_ticks\u001b[0m\u001b[1;33m(\u001b[0m\u001b[0mlen\u001b[0m\u001b[1;33m(\u001b[0m\u001b[0mmajor_locs\u001b[0m\u001b[1;33m)\u001b[0m\u001b[1;33m)\u001b[0m\u001b[1;33m\u001b[0m\u001b[1;33m\u001b[0m\u001b[0m\n",
      "\u001b[1;32m~\\anaconda3\\lib\\site-packages\\matplotlib\\axis.py\u001b[0m in \u001b[0;36mget_majorticklocs\u001b[1;34m(self)\u001b[0m\n\u001b[0;32m   1258\u001b[0m     \u001b[1;32mdef\u001b[0m \u001b[0mget_majorticklocs\u001b[0m\u001b[1;33m(\u001b[0m\u001b[0mself\u001b[0m\u001b[1;33m)\u001b[0m\u001b[1;33m:\u001b[0m\u001b[1;33m\u001b[0m\u001b[1;33m\u001b[0m\u001b[0m\n\u001b[0;32m   1259\u001b[0m         \u001b[1;34m\"\"\"Return this Axis' major tick locations in data coordinates.\"\"\"\u001b[0m\u001b[1;33m\u001b[0m\u001b[1;33m\u001b[0m\u001b[0m\n\u001b[1;32m-> 1260\u001b[1;33m         \u001b[1;32mreturn\u001b[0m \u001b[0mself\u001b[0m\u001b[1;33m.\u001b[0m\u001b[0mmajor\u001b[0m\u001b[1;33m.\u001b[0m\u001b[0mlocator\u001b[0m\u001b[1;33m(\u001b[0m\u001b[1;33m)\u001b[0m\u001b[1;33m\u001b[0m\u001b[1;33m\u001b[0m\u001b[0m\n\u001b[0m\u001b[0;32m   1261\u001b[0m \u001b[1;33m\u001b[0m\u001b[0m\n\u001b[0;32m   1262\u001b[0m     \u001b[1;32mdef\u001b[0m \u001b[0mget_minorticklocs\u001b[0m\u001b[1;33m(\u001b[0m\u001b[0mself\u001b[0m\u001b[1;33m)\u001b[0m\u001b[1;33m:\u001b[0m\u001b[1;33m\u001b[0m\u001b[1;33m\u001b[0m\u001b[0m\n",
      "\u001b[1;32m~\\anaconda3\\lib\\site-packages\\matplotlib\\dates.py\u001b[0m in \u001b[0;36m__call__\u001b[1;34m(self)\u001b[0m\n\u001b[0;32m   1339\u001b[0m     \u001b[1;32mdef\u001b[0m \u001b[0m__call__\u001b[0m\u001b[1;33m(\u001b[0m\u001b[0mself\u001b[0m\u001b[1;33m)\u001b[0m\u001b[1;33m:\u001b[0m\u001b[1;33m\u001b[0m\u001b[1;33m\u001b[0m\u001b[0m\n\u001b[0;32m   1340\u001b[0m         \u001b[1;31m# docstring inherited\u001b[0m\u001b[1;33m\u001b[0m\u001b[1;33m\u001b[0m\u001b[0m\n\u001b[1;32m-> 1341\u001b[1;33m         \u001b[0mdmin\u001b[0m\u001b[1;33m,\u001b[0m \u001b[0mdmax\u001b[0m \u001b[1;33m=\u001b[0m \u001b[0mself\u001b[0m\u001b[1;33m.\u001b[0m\u001b[0mviewlim_to_dt\u001b[0m\u001b[1;33m(\u001b[0m\u001b[1;33m)\u001b[0m\u001b[1;33m\u001b[0m\u001b[1;33m\u001b[0m\u001b[0m\n\u001b[0m\u001b[0;32m   1342\u001b[0m         \u001b[0mlocator\u001b[0m \u001b[1;33m=\u001b[0m \u001b[0mself\u001b[0m\u001b[1;33m.\u001b[0m\u001b[0mget_locator\u001b[0m\u001b[1;33m(\u001b[0m\u001b[0mdmin\u001b[0m\u001b[1;33m,\u001b[0m \u001b[0mdmax\u001b[0m\u001b[1;33m)\u001b[0m\u001b[1;33m\u001b[0m\u001b[1;33m\u001b[0m\u001b[0m\n\u001b[0;32m   1343\u001b[0m         \u001b[1;32mreturn\u001b[0m \u001b[0mlocator\u001b[0m\u001b[1;33m(\u001b[0m\u001b[1;33m)\u001b[0m\u001b[1;33m\u001b[0m\u001b[1;33m\u001b[0m\u001b[0m\n",
      "\u001b[1;32m~\\anaconda3\\lib\\site-packages\\matplotlib\\dates.py\u001b[0m in \u001b[0;36mviewlim_to_dt\u001b[1;34m(self)\u001b[0m\n\u001b[0;32m   1130\u001b[0m         \u001b[1;32mif\u001b[0m \u001b[0mvmin\u001b[0m \u001b[1;33m>\u001b[0m \u001b[0mvmax\u001b[0m\u001b[1;33m:\u001b[0m\u001b[1;33m\u001b[0m\u001b[1;33m\u001b[0m\u001b[0m\n\u001b[0;32m   1131\u001b[0m             \u001b[0mvmin\u001b[0m\u001b[1;33m,\u001b[0m \u001b[0mvmax\u001b[0m \u001b[1;33m=\u001b[0m \u001b[0mvmax\u001b[0m\u001b[1;33m,\u001b[0m \u001b[0mvmin\u001b[0m\u001b[1;33m\u001b[0m\u001b[1;33m\u001b[0m\u001b[0m\n\u001b[1;32m-> 1132\u001b[1;33m         \u001b[1;32mreturn\u001b[0m \u001b[0mnum2date\u001b[0m\u001b[1;33m(\u001b[0m\u001b[0mvmin\u001b[0m\u001b[1;33m,\u001b[0m \u001b[0mself\u001b[0m\u001b[1;33m.\u001b[0m\u001b[0mtz\u001b[0m\u001b[1;33m)\u001b[0m\u001b[1;33m,\u001b[0m \u001b[0mnum2date\u001b[0m\u001b[1;33m(\u001b[0m\u001b[0mvmax\u001b[0m\u001b[1;33m,\u001b[0m \u001b[0mself\u001b[0m\u001b[1;33m.\u001b[0m\u001b[0mtz\u001b[0m\u001b[1;33m)\u001b[0m\u001b[1;33m\u001b[0m\u001b[1;33m\u001b[0m\u001b[0m\n\u001b[0m\u001b[0;32m   1133\u001b[0m \u001b[1;33m\u001b[0m\u001b[0m\n\u001b[0;32m   1134\u001b[0m     \u001b[1;32mdef\u001b[0m \u001b[0m_get_unit\u001b[0m\u001b[1;33m(\u001b[0m\u001b[0mself\u001b[0m\u001b[1;33m)\u001b[0m\u001b[1;33m:\u001b[0m\u001b[1;33m\u001b[0m\u001b[1;33m\u001b[0m\u001b[0m\n",
      "\u001b[1;32m~\\anaconda3\\lib\\site-packages\\matplotlib\\dates.py\u001b[0m in \u001b[0;36mnum2date\u001b[1;34m(x, tz)\u001b[0m\n\u001b[0;32m    506\u001b[0m     \u001b[1;32mif\u001b[0m \u001b[0mtz\u001b[0m \u001b[1;32mis\u001b[0m \u001b[1;32mNone\u001b[0m\u001b[1;33m:\u001b[0m\u001b[1;33m\u001b[0m\u001b[1;33m\u001b[0m\u001b[0m\n\u001b[0;32m    507\u001b[0m         \u001b[0mtz\u001b[0m \u001b[1;33m=\u001b[0m \u001b[0m_get_rc_timezone\u001b[0m\u001b[1;33m(\u001b[0m\u001b[1;33m)\u001b[0m\u001b[1;33m\u001b[0m\u001b[1;33m\u001b[0m\u001b[0m\n\u001b[1;32m--> 508\u001b[1;33m     \u001b[1;32mreturn\u001b[0m \u001b[0m_from_ordinalf_np_vectorized\u001b[0m\u001b[1;33m(\u001b[0m\u001b[0mx\u001b[0m\u001b[1;33m,\u001b[0m \u001b[0mtz\u001b[0m\u001b[1;33m)\u001b[0m\u001b[1;33m.\u001b[0m\u001b[0mtolist\u001b[0m\u001b[1;33m(\u001b[0m\u001b[1;33m)\u001b[0m\u001b[1;33m\u001b[0m\u001b[1;33m\u001b[0m\u001b[0m\n\u001b[0m\u001b[0;32m    509\u001b[0m \u001b[1;33m\u001b[0m\u001b[0m\n\u001b[0;32m    510\u001b[0m \u001b[1;33m\u001b[0m\u001b[0m\n",
      "\u001b[1;32m~\\anaconda3\\lib\\site-packages\\numpy\\lib\\function_base.py\u001b[0m in \u001b[0;36m__call__\u001b[1;34m(self, *args, **kwargs)\u001b[0m\n\u001b[0;32m   2161\u001b[0m             \u001b[0mvargs\u001b[0m\u001b[1;33m.\u001b[0m\u001b[0mextend\u001b[0m\u001b[1;33m(\u001b[0m\u001b[1;33m[\u001b[0m\u001b[0mkwargs\u001b[0m\u001b[1;33m[\u001b[0m\u001b[0m_n\u001b[0m\u001b[1;33m]\u001b[0m \u001b[1;32mfor\u001b[0m \u001b[0m_n\u001b[0m \u001b[1;32min\u001b[0m \u001b[0mnames\u001b[0m\u001b[1;33m]\u001b[0m\u001b[1;33m)\u001b[0m\u001b[1;33m\u001b[0m\u001b[1;33m\u001b[0m\u001b[0m\n\u001b[0;32m   2162\u001b[0m \u001b[1;33m\u001b[0m\u001b[0m\n\u001b[1;32m-> 2163\u001b[1;33m         \u001b[1;32mreturn\u001b[0m \u001b[0mself\u001b[0m\u001b[1;33m.\u001b[0m\u001b[0m_vectorize_call\u001b[0m\u001b[1;33m(\u001b[0m\u001b[0mfunc\u001b[0m\u001b[1;33m=\u001b[0m\u001b[0mfunc\u001b[0m\u001b[1;33m,\u001b[0m \u001b[0margs\u001b[0m\u001b[1;33m=\u001b[0m\u001b[0mvargs\u001b[0m\u001b[1;33m)\u001b[0m\u001b[1;33m\u001b[0m\u001b[1;33m\u001b[0m\u001b[0m\n\u001b[0m\u001b[0;32m   2164\u001b[0m \u001b[1;33m\u001b[0m\u001b[0m\n\u001b[0;32m   2165\u001b[0m     \u001b[1;32mdef\u001b[0m \u001b[0m_get_ufunc_and_otypes\u001b[0m\u001b[1;33m(\u001b[0m\u001b[0mself\u001b[0m\u001b[1;33m,\u001b[0m \u001b[0mfunc\u001b[0m\u001b[1;33m,\u001b[0m \u001b[0margs\u001b[0m\u001b[1;33m)\u001b[0m\u001b[1;33m:\u001b[0m\u001b[1;33m\u001b[0m\u001b[1;33m\u001b[0m\u001b[0m\n",
      "\u001b[1;32m~\\anaconda3\\lib\\site-packages\\numpy\\lib\\function_base.py\u001b[0m in \u001b[0;36m_vectorize_call\u001b[1;34m(self, func, args)\u001b[0m\n\u001b[0;32m   2244\u001b[0m             \u001b[0minputs\u001b[0m \u001b[1;33m=\u001b[0m \u001b[1;33m[\u001b[0m\u001b[0masanyarray\u001b[0m\u001b[1;33m(\u001b[0m\u001b[0ma\u001b[0m\u001b[1;33m,\u001b[0m \u001b[0mdtype\u001b[0m\u001b[1;33m=\u001b[0m\u001b[0mobject\u001b[0m\u001b[1;33m)\u001b[0m \u001b[1;32mfor\u001b[0m \u001b[0ma\u001b[0m \u001b[1;32min\u001b[0m \u001b[0margs\u001b[0m\u001b[1;33m]\u001b[0m\u001b[1;33m\u001b[0m\u001b[1;33m\u001b[0m\u001b[0m\n\u001b[0;32m   2245\u001b[0m \u001b[1;33m\u001b[0m\u001b[0m\n\u001b[1;32m-> 2246\u001b[1;33m             \u001b[0moutputs\u001b[0m \u001b[1;33m=\u001b[0m \u001b[0mufunc\u001b[0m\u001b[1;33m(\u001b[0m\u001b[1;33m*\u001b[0m\u001b[0minputs\u001b[0m\u001b[1;33m)\u001b[0m\u001b[1;33m\u001b[0m\u001b[1;33m\u001b[0m\u001b[0m\n\u001b[0m\u001b[0;32m   2247\u001b[0m \u001b[1;33m\u001b[0m\u001b[0m\n\u001b[0;32m   2248\u001b[0m             \u001b[1;32mif\u001b[0m \u001b[0mufunc\u001b[0m\u001b[1;33m.\u001b[0m\u001b[0mnout\u001b[0m \u001b[1;33m==\u001b[0m \u001b[1;36m1\u001b[0m\u001b[1;33m:\u001b[0m\u001b[1;33m\u001b[0m\u001b[1;33m\u001b[0m\u001b[0m\n",
      "\u001b[1;32m~\\anaconda3\\lib\\site-packages\\matplotlib\\dates.py\u001b[0m in \u001b[0;36m_from_ordinalf\u001b[1;34m(x, tz)\u001b[0m\n\u001b[0;32m    326\u001b[0m \u001b[1;33m\u001b[0m\u001b[0m\n\u001b[0;32m    327\u001b[0m     dt = (np.datetime64(get_epoch()) +\n\u001b[1;32m--> 328\u001b[1;33m           np.timedelta64(int(np.round(x * MUSECONDS_PER_DAY)), 'us'))\n\u001b[0m\u001b[0;32m    329\u001b[0m     \u001b[1;32mif\u001b[0m \u001b[0mdt\u001b[0m \u001b[1;33m<\u001b[0m \u001b[0mnp\u001b[0m\u001b[1;33m.\u001b[0m\u001b[0mdatetime64\u001b[0m\u001b[1;33m(\u001b[0m\u001b[1;34m'0001-01-01'\u001b[0m\u001b[1;33m)\u001b[0m \u001b[1;32mor\u001b[0m \u001b[0mdt\u001b[0m \u001b[1;33m>=\u001b[0m \u001b[0mnp\u001b[0m\u001b[1;33m.\u001b[0m\u001b[0mdatetime64\u001b[0m\u001b[1;33m(\u001b[0m\u001b[1;34m'10000-01-01'\u001b[0m\u001b[1;33m)\u001b[0m\u001b[1;33m:\u001b[0m\u001b[1;33m\u001b[0m\u001b[1;33m\u001b[0m\u001b[0m\n\u001b[0;32m    330\u001b[0m         raise ValueError(f'Date ordinal {x} converts to {dt} (using '\n",
      "\u001b[1;31mOverflowError\u001b[0m: int too big to convert"
     ]
    },
    {
     "data": {
      "text/plain": [
       "<Figure size 432x288 with 1 Axes>"
      ]
     },
     "metadata": {},
     "output_type": "display_data"
    }
   ],
   "source": [
    "from pandas import Series\n",
    "from matplotlib import pyplot\n",
    "series = df\n",
    "series.plot(style='k.')\n",
    "pyplot.show()\n"
   ]
  },
  {
   "cell_type": "code",
   "execution_count": null,
   "metadata": {},
   "outputs": [],
   "source": []
  }
 ],
 "metadata": {
  "colab": {
   "authorship_tag": "ABX9TyOmEyugzg/HrqC08SxzhKU3",
   "include_colab_link": true,
   "name": "analiz_poker.ipynb",
   "provenance": []
  },
  "kernelspec": {
   "display_name": "Python 3 (ipykernel)",
   "language": "python",
   "name": "python3"
  },
  "language_info": {
   "codemirror_mode": {
    "name": "ipython",
    "version": 3
   },
   "file_extension": ".py",
   "mimetype": "text/x-python",
   "name": "python",
   "nbconvert_exporter": "python",
   "pygments_lexer": "ipython3",
   "version": "3.9.7"
  },
  "nbTranslate": {
   "displayLangs": [
    "*"
   ],
   "hotkey": "alt-t",
   "langInMainMenu": true,
   "sourceLang": "en",
   "targetLang": "fr",
   "useGoogleTranslate": true
  },
  "toc": {
   "base_numbering": 1,
   "nav_menu": {},
   "number_sections": true,
   "sideBar": true,
   "skip_h1_title": false,
   "title_cell": "Table of Contents",
   "title_sidebar": "Contents",
   "toc_cell": false,
   "toc_position": {},
   "toc_section_display": true,
   "toc_window_display": false
  },
  "varInspector": {
   "cols": {
    "lenName": 16,
    "lenType": 16,
    "lenVar": 40
   },
   "kernels_config": {
    "python": {
     "delete_cmd_postfix": "",
     "delete_cmd_prefix": "del ",
     "library": "var_list.py",
     "varRefreshCmd": "print(var_dic_list())"
    },
    "r": {
     "delete_cmd_postfix": ") ",
     "delete_cmd_prefix": "rm(",
     "library": "var_list.r",
     "varRefreshCmd": "cat(var_dic_list()) "
    }
   },
   "types_to_exclude": [
    "module",
    "function",
    "builtin_function_or_method",
    "instance",
    "_Feature"
   ],
   "window_display": false
  },
  "widgets": {
   "application/vnd.jupyter.widget-state+json": {
    "state": {},
    "version_major": 2,
    "version_minor": 0
   }
  }
 },
 "nbformat": 4,
 "nbformat_minor": 4
}
