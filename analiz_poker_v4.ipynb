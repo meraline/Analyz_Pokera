{
 "cells": [
  {
   "cell_type": "markdown",
   "metadata": {
    "id": "cCLyx1NLRfLa"
   },
   "source": [
    "## Извлечение данных"
   ]
  },
  {
   "cell_type": "code",
   "execution_count": 115,
   "metadata": {
    "ExecuteTime": {
     "end_time": "2022-01-13T22:42:04.665671Z",
     "start_time": "2022-01-13T22:41:57.698198Z"
    },
    "code_folding": [
     5,
     21
    ],
    "colab": {
     "base_uri": "https://localhost:8080/",
     "height": 206
    },
    "id": "RehS5KQCEhv4",
    "outputId": "595dd702-fa39-4d44-c72a-b5ab1b747c27",
    "tags": []
   },
   "outputs": [],
   "source": [
    "import re\n",
    "import pandas as pd\n",
    "from datetime import datetime\n",
    "import eval7, pprint\n",
    "from poker.room.pokerstars import PokerStarsHandHistory\n",
    "from poker.hand import Hand, Combo\n",
    "import numpy as np\n",
    "from phevaluator import evaluate_cards"
   ]
  },
  {
   "cell_type": "code",
   "execution_count": 275,
   "metadata": {
    "ExecuteTime": {
     "end_time": "2022-01-13T22:42:04.665671Z",
     "start_time": "2022-01-13T22:41:57.698198Z"
    },
    "code_folding": [
     5,
     21
    ],
    "colab": {
     "base_uri": "https://localhost:8080/",
     "height": 206
    },
    "id": "RehS5KQCEhv4",
    "outputId": "595dd702-fa39-4d44-c72a-b5ab1b747c27",
    "tags": []
   },
   "outputs": [
    {
     "data": {
      "text/html": [
       "<div>\n",
       "<style scoped>\n",
       "    .dataframe tbody tr th:only-of-type {\n",
       "        vertical-align: middle;\n",
       "    }\n",
       "\n",
       "    .dataframe tbody tr th {\n",
       "        vertical-align: top;\n",
       "    }\n",
       "\n",
       "    .dataframe thead th {\n",
       "        text-align: right;\n",
       "    }\n",
       "</style>\n",
       "<table border=\"1\" class=\"dataframe\">\n",
       "  <thead>\n",
       "    <tr style=\"text-align: right;\">\n",
       "      <th></th>\n",
       "      <th>TypeOfRoom</th>\n",
       "      <th>HandId</th>\n",
       "      <th>Tournament</th>\n",
       "      <th>Level</th>\n",
       "      <th>Date</th>\n",
       "      <th>Hour</th>\n",
       "      <th>TimeZoneAbb</th>\n",
       "      <th>Table</th>\n",
       "      <th>NoOfPlayers</th>\n",
       "      <th>bain</th>\n",
       "      <th>HandHiro</th>\n",
       "      <th>Board</th>\n",
       "    </tr>\n",
       "  </thead>\n",
       "  <tbody>\n",
       "    <tr>\n",
       "      <th>0</th>\n",
       "      <td>PokerStars</td>\n",
       "      <td>226484810600</td>\n",
       "      <td>3187437334</td>\n",
       "      <td>IV (40/80)</td>\n",
       "      <td>2021/05/05</td>\n",
       "      <td>19:56:10</td>\n",
       "      <td>MSK</td>\n",
       "      <td>6-max</td>\n",
       "      <td>2</td>\n",
       "      <td>$13.79+$1.21</td>\n",
       "      <td>Jh Td</td>\n",
       "      <td>8h 8c 7c 3h 6d</td>\n",
       "    </tr>\n",
       "    <tr>\n",
       "      <th>1</th>\n",
       "      <td>PokerStars</td>\n",
       "      <td>226484828418</td>\n",
       "      <td>3187437334</td>\n",
       "      <td>V (60/120)</td>\n",
       "      <td>2021/05/05</td>\n",
       "      <td>19:56:57</td>\n",
       "      <td>MSK</td>\n",
       "      <td>6-max</td>\n",
       "      <td>2</td>\n",
       "      <td>$13.79+$1.21</td>\n",
       "      <td>Ts 3s</td>\n",
       "      <td>2s 6s As Jc Th</td>\n",
       "    </tr>\n",
       "    <tr>\n",
       "      <th>2</th>\n",
       "      <td>PokerStars</td>\n",
       "      <td>226484843891</td>\n",
       "      <td>3187437334</td>\n",
       "      <td>V (60/120)</td>\n",
       "      <td>2021/05/05</td>\n",
       "      <td>19:57:39</td>\n",
       "      <td>MSK</td>\n",
       "      <td>6-max</td>\n",
       "      <td>2</td>\n",
       "      <td>$13.79+$1.21</td>\n",
       "      <td>4s 5c</td>\n",
       "      <td>Ks Qh 7h Tc 4c</td>\n",
       "    </tr>\n",
       "    <tr>\n",
       "      <th>3</th>\n",
       "      <td>PokerStars</td>\n",
       "      <td>226484859594</td>\n",
       "      <td>3187437334</td>\n",
       "      <td>V (60/120)</td>\n",
       "      <td>2021/05/05</td>\n",
       "      <td>19:58:21</td>\n",
       "      <td>MSK</td>\n",
       "      <td>6-max</td>\n",
       "      <td>2</td>\n",
       "      <td>$13.79+$1.21</td>\n",
       "      <td>9c Th</td>\n",
       "      <td>7s 4d Qd</td>\n",
       "    </tr>\n",
       "    <tr>\n",
       "      <th>4</th>\n",
       "      <td>PokerStars</td>\n",
       "      <td>226484865470</td>\n",
       "      <td>3187437334</td>\n",
       "      <td>V (60/120)</td>\n",
       "      <td>2021/05/05</td>\n",
       "      <td>19:58:37</td>\n",
       "      <td>MSK</td>\n",
       "      <td>6-max</td>\n",
       "      <td>2</td>\n",
       "      <td>$13.79+$1.21</td>\n",
       "      <td>7h 9d</td>\n",
       "      <td>2h Qd 5d Ts 3s</td>\n",
       "    </tr>\n",
       "  </tbody>\n",
       "</table>\n",
       "</div>"
      ],
      "text/plain": [
       "   TypeOfRoom        HandId  Tournament       Level        Date      Hour  \\\n",
       "0  PokerStars  226484810600  3187437334  IV (40/80)  2021/05/05  19:56:10   \n",
       "1  PokerStars  226484828418  3187437334  V (60/120)  2021/05/05  19:56:57   \n",
       "2  PokerStars  226484843891  3187437334  V (60/120)  2021/05/05  19:57:39   \n",
       "3  PokerStars  226484859594  3187437334  V (60/120)  2021/05/05  19:58:21   \n",
       "4  PokerStars  226484865470  3187437334  V (60/120)  2021/05/05  19:58:37   \n",
       "\n",
       "  TimeZoneAbb  Table  NoOfPlayers          bain HandHiro           Board  \n",
       "0         MSK  6-max            2  $13.79+$1.21    Jh Td  8h 8c 7c 3h 6d  \n",
       "1         MSK  6-max            2  $13.79+$1.21    Ts 3s  2s 6s As Jc Th  \n",
       "2         MSK  6-max            2  $13.79+$1.21    4s 5c  Ks Qh 7h Tc 4c  \n",
       "3         MSK  6-max            2  $13.79+$1.21    9c Th        7s 4d Qd  \n",
       "4         MSK  6-max            2  $13.79+$1.21    7h 9d  2h Qd 5d Ts 3s  "
      ]
     },
     "execution_count": 275,
     "metadata": {},
     "output_type": "execute_result"
    }
   ],
   "source": [
    "# Создали словарь\n",
    "data_pd = {'TypeOfRoom': [], 'HandId': [], 'Tournament': [], 'Level': [], 'Date': [], 'Hour': [],\n",
    "           'TimeZoneAbb': [], 'Table': [], 'NoOfPlayers': [], 'bain': [], 'HandHiro': [], 'Board': []}\n",
    "\n",
    "# Открываем файл\n",
    "with open('dim1000.txt', 'r') as f:\n",
    "    data = f.read()\n",
    "    \n",
    "# Ищем нужные данные\n",
    "result = re.findall('(\\w+) Hand #(\\d*): Tournament #(\\d*),(.*) Level (.*) - (\\d{4}/\\d+/\\d+) (\\d+\\D\\d+\\D\\d+) (\\w*)', data)\n",
    "Tables = re.findall('Table \\'.*\\' (.*) Seat .*\\n', data)\n",
    "bains = re.findall('(\\D\\d+\\.\\d+\\+\\D\\d+\\.\\d+)', data)\n",
    "HandHiros = re.findall(\"Dealt to dimetruk \\D(.. ..)\\D\", data)\n",
    "Boards = re.findall(\"Board \\[(.*)\\]\", data)\n",
    "\n",
    "\n",
    "# Считаем сколко фишек\n",
    "s = re.findall('Seat (\\d).*chips', data)\n",
    "s = [int(x) for x in s]\n",
    "seats = []\n",
    "length = 1\n",
    "for i in range(len(s)-1):\n",
    "    if s[i+1] < s[i]:\n",
    "        seats.append(length)\n",
    "        length = 1\n",
    "    else:\n",
    "        length += 1\n",
    "seats.append(length)\n",
    "\n",
    "\n",
    "# ЗАполнЯем словарь данными\n",
    "for r, table, bain, seat, handHiro, board in zip(result, Tables, bains, seats, HandHiros, Boards):\n",
    "    data_pd['TypeOfRoom'].append(r[0])\n",
    "    data_pd['HandId'].append(r[1])\n",
    "    data_pd['Tournament'].append(r[2])\n",
    "    # data_pd['info'].append(r[3])\n",
    "    data_pd['Level'].append(r[4])\n",
    "    data_pd['Date'].append(r[5])\n",
    "    data_pd['Hour'].append(r[6])\n",
    "    data_pd['TimeZoneAbb'].append(r[7])\n",
    "    data_pd['Table'].append(table) #table\n",
    "    data_pd['NoOfPlayers'].append(seat)\n",
    "    data_pd['bain'].append(bain)\n",
    "    data_pd['HandHiro'].append(handHiro)\n",
    "    data_pd['Board'].append(board)\n",
    "\n",
    "# Создаём ДатаФрейм\n",
    "df = pd.DataFrame(data_pd)\n",
    "df.head()"
   ]
  },
  {
   "cell_type": "markdown",
   "metadata": {
    "id": "q97wcPd37OcA"
   },
   "source": [
    "## Преобразуем строковые данные"
   ]
  },
  {
   "cell_type": "code",
   "execution_count": 277,
   "metadata": {},
   "outputs": [],
   "source": [
    "date = data_pd['Date']\n",
    "time = data_pd['Hour']\n",
    "\n",
    "df[\"Date\"] = pd.to_datetime(data_pd['Date'])\n",
    "df[\"Time\"] = pd.to_timedelta(data_pd['Hour'])\n",
    "\n",
    "df[\"DateTime\"] = df[\"Date\"] + df[\"Time\"]\n",
    "df[\"DateTime\"]\n",
    "\n",
    "df.Tournament = df.Tournament.astype('int64')\n",
    "df = df.astype({'HandId': np.int64, 'Tournament': np.int64})"
   ]
  },
  {
   "cell_type": "code",
   "execution_count": 290,
   "metadata": {},
   "outputs": [],
   "source": [
    "# объеденяем руку и борд, выводим название комбинации\n",
    "\n",
    "df['hand'] = df['HandHiro'] + \" \" + df['Board']\n",
    "# hand = df['hand'].values[7].split()\n",
    "# print(hand)\n",
    "\n",
    "hand_ev = [eval7.Card(s) for s in (df['hand'].values[7].split())]\n",
    "rang = eval7.evaluate(hand_ev)   # ранг комбинации\n",
    "# print(rang)\n",
    "\n",
    "eval7s = eval7.handtype(rang)  #  название комбинации\n",
    "\n",
    "df['rang'] = eval7.evaluate(hand_ev)\n",
    "df['eval7s'] =  eval7.handtype(rang)"
   ]
  },
  {
   "cell_type": "code",
   "execution_count": 292,
   "metadata": {
    "tags": []
   },
   "outputs": [
    {
     "data": {
      "text/html": [
       "<div>\n",
       "<style scoped>\n",
       "    .dataframe tbody tr th:only-of-type {\n",
       "        vertical-align: middle;\n",
       "    }\n",
       "\n",
       "    .dataframe tbody tr th {\n",
       "        vertical-align: top;\n",
       "    }\n",
       "\n",
       "    .dataframe thead th {\n",
       "        text-align: right;\n",
       "    }\n",
       "</style>\n",
       "<table border=\"1\" class=\"dataframe\">\n",
       "  <thead>\n",
       "    <tr style=\"text-align: right;\">\n",
       "      <th></th>\n",
       "      <th>HandHiro</th>\n",
       "      <th>Board</th>\n",
       "      <th>DateTime</th>\n",
       "      <th>rang</th>\n",
       "      <th>eval7s</th>\n",
       "    </tr>\n",
       "  </thead>\n",
       "  <tbody>\n",
       "    <tr>\n",
       "      <th>0</th>\n",
       "      <td>Jh Td</td>\n",
       "      <td>8h 8c 7c 3h 6d</td>\n",
       "      <td>2021-05-05 19:56:10</td>\n",
       "      <td>17392128</td>\n",
       "      <td>Pair</td>\n",
       "    </tr>\n",
       "    <tr>\n",
       "      <th>1</th>\n",
       "      <td>Ts 3s</td>\n",
       "      <td>2s 6s As Jc Th</td>\n",
       "      <td>2021-05-05 19:56:57</td>\n",
       "      <td>17392128</td>\n",
       "      <td>Pair</td>\n",
       "    </tr>\n",
       "    <tr>\n",
       "      <th>2</th>\n",
       "      <td>4s 5c</td>\n",
       "      <td>Ks Qh 7h Tc 4c</td>\n",
       "      <td>2021-05-05 19:57:39</td>\n",
       "      <td>17392128</td>\n",
       "      <td>Pair</td>\n",
       "    </tr>\n",
       "    <tr>\n",
       "      <th>3</th>\n",
       "      <td>9c Th</td>\n",
       "      <td>7s 4d Qd</td>\n",
       "      <td>2021-05-05 19:58:21</td>\n",
       "      <td>17392128</td>\n",
       "      <td>Pair</td>\n",
       "    </tr>\n",
       "    <tr>\n",
       "      <th>4</th>\n",
       "      <td>7h 9d</td>\n",
       "      <td>2h Qd 5d Ts 3s</td>\n",
       "      <td>2021-05-05 19:58:37</td>\n",
       "      <td>17392128</td>\n",
       "      <td>Pair</td>\n",
       "    </tr>\n",
       "  </tbody>\n",
       "</table>\n",
       "</div>"
      ],
      "text/plain": [
       "  HandHiro           Board            DateTime      rang eval7s\n",
       "0    Jh Td  8h 8c 7c 3h 6d 2021-05-05 19:56:10  17392128   Pair\n",
       "1    Ts 3s  2s 6s As Jc Th 2021-05-05 19:56:57  17392128   Pair\n",
       "2    4s 5c  Ks Qh 7h Tc 4c 2021-05-05 19:57:39  17392128   Pair\n",
       "3    9c Th        7s 4d Qd 2021-05-05 19:58:21  17392128   Pair\n",
       "4    7h 9d  2h Qd 5d Ts 3s 2021-05-05 19:58:37  17392128   Pair"
      ]
     },
     "execution_count": 292,
     "metadata": {},
     "output_type": "execute_result"
    }
   ],
   "source": [
    "df[['HandHiro', 'Board','DateTime', 'rang', 'eval7s']].head()  # применим фильтер по столбцам"
   ]
  },
  {
   "cell_type": "markdown",
   "metadata": {
    "tags": []
   },
   "source": [
    "### df['col_3'] = df.apply(lambda x: f(x.col_1, x.col_2), axis=1)\n",
    "https://stackoverflow.com/questions/13331698/how-to-apply-a-function-to-two-columns-of-pandas-dataframe"
   ]
  }
 ],
 "metadata": {
  "colab": {
   "authorship_tag": "ABX9TyOmEyugzg/HrqC08SxzhKU3",
   "include_colab_link": true,
   "name": "analiz_poker.ipynb",
   "provenance": []
  },
  "kernelspec": {
   "display_name": "Python 3 (ipykernel)",
   "language": "python",
   "name": "python3"
  },
  "language_info": {
   "codemirror_mode": {
    "name": "ipython",
    "version": 3
   },
   "file_extension": ".py",
   "mimetype": "text/x-python",
   "name": "python",
   "nbconvert_exporter": "python",
   "pygments_lexer": "ipython3",
   "version": "3.9.7"
  },
  "nbTranslate": {
   "displayLangs": [
    "*"
   ],
   "hotkey": "alt-t",
   "langInMainMenu": true,
   "sourceLang": "en",
   "targetLang": "fr",
   "useGoogleTranslate": true
  },
  "toc": {
   "base_numbering": 1,
   "nav_menu": {},
   "number_sections": true,
   "sideBar": true,
   "skip_h1_title": false,
   "title_cell": "Table of Contents",
   "title_sidebar": "Contents",
   "toc_cell": false,
   "toc_position": {},
   "toc_section_display": true,
   "toc_window_display": false
  },
  "varInspector": {
   "cols": {
    "lenName": 16,
    "lenType": 16,
    "lenVar": 40
   },
   "kernels_config": {
    "python": {
     "delete_cmd_postfix": "",
     "delete_cmd_prefix": "del ",
     "library": "var_list.py",
     "varRefreshCmd": "print(var_dic_list())"
    },
    "r": {
     "delete_cmd_postfix": ") ",
     "delete_cmd_prefix": "rm(",
     "library": "var_list.r",
     "varRefreshCmd": "cat(var_dic_list()) "
    }
   },
   "types_to_exclude": [
    "module",
    "function",
    "builtin_function_or_method",
    "instance",
    "_Feature"
   ],
   "window_display": false
  },
  "widgets": {
   "application/vnd.jupyter.widget-state+json": {
    "state": {},
    "version_major": 2,
    "version_minor": 0
   }
  }
 },
 "nbformat": 4,
 "nbformat_minor": 4
}
