{
 "cells": [
  {
   "cell_type": "markdown",
   "metadata": {
    "id": "cCLyx1NLRfLa"
   },
   "source": [
    "## Извлечение данных"
   ]
  },
  {
   "cell_type": "code",
   "execution_count": 2,
   "metadata": {
    "ExecuteTime": {
     "end_time": "2022-01-13T22:42:04.665671Z",
     "start_time": "2022-01-13T22:41:57.698198Z"
    },
    "code_folding": [
     5,
     21
    ],
    "colab": {
     "base_uri": "https://localhost:8080/",
     "height": 206
    },
    "id": "RehS5KQCEhv4",
    "outputId": "595dd702-fa39-4d44-c72a-b5ab1b747c27",
    "tags": []
   },
   "outputs": [],
   "source": [
    "import re\n",
    "import pandas as pd\n",
    "from datetime import datetime\n",
    "import eval7, pprint\n",
    "from poker.room.pokerstars import PokerStarsHandHistory\n",
    "from poker.hand import Hand, Combo\n",
    "import numpy as np\n",
    "from phevaluator import evaluate_cards"
   ]
  },
  {
   "cell_type": "code",
   "execution_count": 121,
   "metadata": {
    "ExecuteTime": {
     "end_time": "2022-01-13T22:42:04.665671Z",
     "start_time": "2022-01-13T22:41:57.698198Z"
    },
    "code_folding": [
     5,
     21
    ],
    "colab": {
     "base_uri": "https://localhost:8080/",
     "height": 206
    },
    "id": "RehS5KQCEhv4",
    "outputId": "595dd702-fa39-4d44-c72a-b5ab1b747c27",
    "tags": []
   },
   "outputs": [
    {
     "data": {
      "text/html": [
       "<div>\n",
       "<style scoped>\n",
       "    .dataframe tbody tr th:only-of-type {\n",
       "        vertical-align: middle;\n",
       "    }\n",
       "\n",
       "    .dataframe tbody tr th {\n",
       "        vertical-align: top;\n",
       "    }\n",
       "\n",
       "    .dataframe thead th {\n",
       "        text-align: right;\n",
       "    }\n",
       "</style>\n",
       "<table border=\"1\" class=\"dataframe\">\n",
       "  <thead>\n",
       "    <tr style=\"text-align: right;\">\n",
       "      <th></th>\n",
       "      <th>TypeOfRoom</th>\n",
       "      <th>HandId</th>\n",
       "      <th>Tournament</th>\n",
       "      <th>Level</th>\n",
       "      <th>Date</th>\n",
       "      <th>Hour</th>\n",
       "      <th>TimeZoneAbb</th>\n",
       "      <th>Table</th>\n",
       "      <th>NoOfPlayers</th>\n",
       "      <th>bain</th>\n",
       "      <th>HandHiro</th>\n",
       "      <th>Board</th>\n",
       "    </tr>\n",
       "  </thead>\n",
       "  <tbody>\n",
       "    <tr>\n",
       "      <th>0</th>\n",
       "      <td>PokerStars</td>\n",
       "      <td>189303406555</td>\n",
       "      <td>2369603774</td>\n",
       "      <td>IV (40/80)</td>\n",
       "      <td>2018/07/30</td>\n",
       "      <td>0:01:30</td>\n",
       "      <td>MSK</td>\n",
       "      <td>9-max</td>\n",
       "      <td>6</td>\n",
       "      <td>$13.70+$1.30</td>\n",
       "      <td>Qh 6h</td>\n",
       "      <td>8h 7d 2h 8c 4s</td>\n",
       "    </tr>\n",
       "    <tr>\n",
       "      <th>1</th>\n",
       "      <td>PokerStars</td>\n",
       "      <td>189303615886</td>\n",
       "      <td>2369603774</td>\n",
       "      <td>V (60/120)</td>\n",
       "      <td>2018/07/30</td>\n",
       "      <td>0:05:40</td>\n",
       "      <td>MSK</td>\n",
       "      <td>9-max</td>\n",
       "      <td>6</td>\n",
       "      <td>$13.70+$1.30</td>\n",
       "      <td>Qc Td</td>\n",
       "      <td>Qh 5h Js Kd</td>\n",
       "    </tr>\n",
       "    <tr>\n",
       "      <th>2</th>\n",
       "      <td>PokerStars</td>\n",
       "      <td>189303670340</td>\n",
       "      <td>2369603774</td>\n",
       "      <td>V (60/120)</td>\n",
       "      <td>2018/07/30</td>\n",
       "      <td>0:06:42</td>\n",
       "      <td>MSK</td>\n",
       "      <td>9-max</td>\n",
       "      <td>6</td>\n",
       "      <td>$13.70+$1.30</td>\n",
       "      <td>Ac 7d</td>\n",
       "      <td>2d Ad Ah Js 6s</td>\n",
       "    </tr>\n",
       "    <tr>\n",
       "      <th>3</th>\n",
       "      <td>PokerStars</td>\n",
       "      <td>189303726585</td>\n",
       "      <td>2369603774</td>\n",
       "      <td>V (60/120)</td>\n",
       "      <td>2018/07/30</td>\n",
       "      <td>0:07:47</td>\n",
       "      <td>MSK</td>\n",
       "      <td>9-max</td>\n",
       "      <td>6</td>\n",
       "      <td>$13.70+$1.30</td>\n",
       "      <td>Tc Qc</td>\n",
       "      <td>Td 5h 2c 5d Kd</td>\n",
       "    </tr>\n",
       "    <tr>\n",
       "      <th>4</th>\n",
       "      <td>PokerStars</td>\n",
       "      <td>189303781865</td>\n",
       "      <td>2369603774</td>\n",
       "      <td>V (60/120)</td>\n",
       "      <td>2018/07/30</td>\n",
       "      <td>0:08:51</td>\n",
       "      <td>MSK</td>\n",
       "      <td>9-max</td>\n",
       "      <td>6</td>\n",
       "      <td>$13.70+$1.30</td>\n",
       "      <td>Qs 5d</td>\n",
       "      <td>9s 7h Jh 8h 9d</td>\n",
       "    </tr>\n",
       "  </tbody>\n",
       "</table>\n",
       "</div>"
      ],
      "text/plain": [
       "   TypeOfRoom        HandId  Tournament       Level        Date     Hour  \\\n",
       "0  PokerStars  189303406555  2369603774  IV (40/80)  2018/07/30  0:01:30   \n",
       "1  PokerStars  189303615886  2369603774  V (60/120)  2018/07/30  0:05:40   \n",
       "2  PokerStars  189303670340  2369603774  V (60/120)  2018/07/30  0:06:42   \n",
       "3  PokerStars  189303726585  2369603774  V (60/120)  2018/07/30  0:07:47   \n",
       "4  PokerStars  189303781865  2369603774  V (60/120)  2018/07/30  0:08:51   \n",
       "\n",
       "  TimeZoneAbb  Table  NoOfPlayers          bain HandHiro           Board  \n",
       "0         MSK  9-max            6  $13.70+$1.30    Qh 6h  8h 7d 2h 8c 4s  \n",
       "1         MSK  9-max            6  $13.70+$1.30    Qc Td     Qh 5h Js Kd  \n",
       "2         MSK  9-max            6  $13.70+$1.30    Ac 7d  2d Ad Ah Js 6s  \n",
       "3         MSK  9-max            6  $13.70+$1.30    Tc Qc  Td 5h 2c 5d Kd  \n",
       "4         MSK  9-max            6  $13.70+$1.30    Qs 5d  9s 7h Jh 8h 9d  "
      ]
     },
     "execution_count": 121,
     "metadata": {},
     "output_type": "execute_result"
    }
   ],
   "source": [
    "# Создали словарь\n",
    "data_pd = {'TypeOfRoom': [], 'HandId': [], 'Tournament': [], 'Level': [], 'Date': [], 'Hour': [],\n",
    "           'TimeZoneAbb': [], 'Table': [], 'NoOfPlayers': [], 'bain': [], 'HandHiro': [], 'Board': []}\n",
    "\n",
    "# Открываем файл\n",
    "with open('Poker_\\SNG dimetruk 1-54133.txt', 'r') as f:\n",
    "    data = f.read()\n",
    "    \n",
    "# Ищем нужные данные\n",
    "result = re.findall('(\\w+) Hand #(\\d*): Tournament #(\\d*),(.*) Level (.*) - (\\d{4}/\\d+/\\d+) (\\d+\\D\\d+\\D\\d+) (\\w*)', data)\n",
    "Tables = re.findall('Table \\'.*\\' (.*) Seat .*\\n', data)\n",
    "bains = re.findall('(\\D\\d+\\.\\d+\\+\\D\\d+\\.\\d+)', data)\n",
    "HandHiros = re.findall(\"Dealt to dimetruk \\D(.. ..)\\D\", data)\n",
    "Boards = re.findall(\"Board \\[(.*)\\]\", data)\n",
    "\n",
    "\n",
    "# Считаем сколко фишек\n",
    "s = re.findall('Seat (\\d).*chips', data)\n",
    "s = [int(x) for x in s]\n",
    "seats = []\n",
    "length = 1\n",
    "for i in range(len(s)-1):\n",
    "    if s[i+1] < s[i]:\n",
    "        seats.append(length)\n",
    "        length = 1\n",
    "    else:\n",
    "        length += 1\n",
    "seats.append(length)\n",
    "\n",
    "\n",
    "# ЗАполнЯем словарь данными\n",
    "for r, table, bain, seat, handHiro, board in zip(result, Tables, bains, seats, HandHiros, Boards):\n",
    "    data_pd['TypeOfRoom'].append(r[0])\n",
    "    data_pd['HandId'].append(r[1])\n",
    "    data_pd['Tournament'].append(r[2])\n",
    "    # data_pd['info'].append(r[3])\n",
    "    data_pd['Level'].append(r[4])\n",
    "    data_pd['Date'].append(r[5])\n",
    "    data_pd['Hour'].append(r[6])\n",
    "    data_pd['TimeZoneAbb'].append(r[7])\n",
    "    data_pd['Table'].append(table) #table\n",
    "    data_pd['NoOfPlayers'].append(seat)\n",
    "    data_pd['bain'].append(bain)\n",
    "    data_pd['HandHiro'].append(handHiro)\n",
    "    data_pd['Board'].append(board)\n",
    "\n",
    "# Создаём ДатаФрейм\n",
    "df = pd.DataFrame(data_pd)\n",
    "df.head()"
   ]
  },
  {
   "cell_type": "markdown",
   "metadata": {
    "id": "q97wcPd37OcA"
   },
   "source": [
    "## Преобразуем строковые данные"
   ]
  },
  {
   "cell_type": "code",
   "execution_count": 122,
   "metadata": {},
   "outputs": [],
   "source": [
    "date = data_pd['Date']\n",
    "time = data_pd['Hour']\n",
    "\n",
    "df[\"Date\"] = pd.to_datetime(data_pd['Date'])\n",
    "df[\"Time\"] = pd.to_timedelta(data_pd['Hour'])\n",
    "\n",
    "df[\"DateTime\"] = df[\"Date\"] + df[\"Time\"]\n",
    "df[\"DateTime\"]\n",
    "\n",
    "df.Tournament = df.Tournament.astype('int64')\n",
    "df = df.astype({'HandId': np.int64, 'Tournament': np.int64})"
   ]
  },
  {
   "cell_type": "code",
   "execution_count": 123,
   "metadata": {},
   "outputs": [],
   "source": [
    "# объеденяем руку и борд, выводим название комбинации\n",
    "\n",
    "df['hand'] = df['HandHiro'] + \" \" + df['Board']\n",
    "# hand = df['hand'].values[7].split()\n",
    "# print(hand)\n",
    "\n",
    "hand_ev = [eval7.Card(s) for s in (df['hand'].values[7].split())]\n",
    "rang = eval7.evaluate(hand_ev)   # ранг комбинации\n",
    "# print(rang)\n",
    "\n",
    "eval7s = eval7.handtype(rang)  #  название комбинации\n",
    "\n",
    "df['rang'] = eval7.evaluate(hand_ev)\n",
    "df['eval7s'] =  eval7.handtype(rang)"
   ]
  },
  {
   "cell_type": "code",
   "execution_count": 124,
   "metadata": {
    "tags": []
   },
   "outputs": [
    {
     "data": {
      "text/html": [
       "<div>\n",
       "<style scoped>\n",
       "    .dataframe tbody tr th:only-of-type {\n",
       "        vertical-align: middle;\n",
       "    }\n",
       "\n",
       "    .dataframe tbody tr th {\n",
       "        vertical-align: top;\n",
       "    }\n",
       "\n",
       "    .dataframe thead th {\n",
       "        text-align: right;\n",
       "    }\n",
       "</style>\n",
       "<table border=\"1\" class=\"dataframe\">\n",
       "  <thead>\n",
       "    <tr style=\"text-align: right;\">\n",
       "      <th></th>\n",
       "      <th>DateTime</th>\n",
       "      <th>hand</th>\n",
       "      <th>rang</th>\n",
       "      <th>eval7s</th>\n",
       "    </tr>\n",
       "  </thead>\n",
       "  <tbody>\n",
       "    <tr>\n",
       "      <th>0</th>\n",
       "      <td>2018-07-30 00:01:30</td>\n",
       "      <td>Qh 6h 8h 7d 2h 8c 4s</td>\n",
       "      <td>17484656</td>\n",
       "      <td>Pair</td>\n",
       "    </tr>\n",
       "    <tr>\n",
       "      <th>1</th>\n",
       "      <td>2018-07-30 00:05:40</td>\n",
       "      <td>Qc Td Qh 5h Js Kd</td>\n",
       "      <td>17484656</td>\n",
       "      <td>Pair</td>\n",
       "    </tr>\n",
       "    <tr>\n",
       "      <th>2</th>\n",
       "      <td>2018-07-30 00:06:42</td>\n",
       "      <td>Ac 7d 2d Ad Ah Js 6s</td>\n",
       "      <td>17484656</td>\n",
       "      <td>Pair</td>\n",
       "    </tr>\n",
       "    <tr>\n",
       "      <th>3</th>\n",
       "      <td>2018-07-30 00:07:47</td>\n",
       "      <td>Tc Qc Td 5h 2c 5d Kd</td>\n",
       "      <td>17484656</td>\n",
       "      <td>Pair</td>\n",
       "    </tr>\n",
       "    <tr>\n",
       "      <th>4</th>\n",
       "      <td>2018-07-30 00:08:51</td>\n",
       "      <td>Qs 5d 9s 7h Jh 8h 9d</td>\n",
       "      <td>17484656</td>\n",
       "      <td>Pair</td>\n",
       "    </tr>\n",
       "  </tbody>\n",
       "</table>\n",
       "</div>"
      ],
      "text/plain": [
       "             DateTime                  hand      rang eval7s\n",
       "0 2018-07-30 00:01:30  Qh 6h 8h 7d 2h 8c 4s  17484656   Pair\n",
       "1 2018-07-30 00:05:40     Qc Td Qh 5h Js Kd  17484656   Pair\n",
       "2 2018-07-30 00:06:42  Ac 7d 2d Ad Ah Js 6s  17484656   Pair\n",
       "3 2018-07-30 00:07:47  Tc Qc Td 5h 2c 5d Kd  17484656   Pair\n",
       "4 2018-07-30 00:08:51  Qs 5d 9s 7h Jh 8h 9d  17484656   Pair"
      ]
     },
     "execution_count": 124,
     "metadata": {},
     "output_type": "execute_result"
    }
   ],
   "source": [
    "df[['DateTime','hand', 'rang', 'eval7s']].head()  # применим фильтер по столбцам"
   ]
  },
  {
   "cell_type": "code",
   "execution_count": 125,
   "metadata": {},
   "outputs": [],
   "source": [
    "# def new_type(row):\n",
    "#     if row.traffic_source.lower() in ('yandex', 'google'):\n",
    "#         return 'organic'\n",
    "#     elif row.traffic_source.lower() in ('paid', 'email'):\n",
    "#         if row.region.lower() == 'russia':\n",
    "#             return 'ad'\n",
    "#         else:\n",
    "#             return 'other'"
   ]
  },
  {
   "cell_type": "code",
   "execution_count": 126,
   "metadata": {},
   "outputs": [],
   "source": [
    "# log['source_type'] = log.apply(new_type, axis = 1)\n",
    "# log.head(12)"
   ]
  },
  {
   "cell_type": "code",
   "execution_count": 127,
   "metadata": {},
   "outputs": [],
   "source": [
    "# log.loc[log.traffic_source.isin(['yandex', 'google']), 'traffic_type'] = 'organic' "
   ]
  },
  {
   "cell_type": "code",
   "execution_count": 128,
   "metadata": {
    "tags": []
   },
   "outputs": [
    {
     "name": "stdout",
     "output_type": "stream",
     "text": [
      "<class 'pandas.core.series.Series'> <class 'list'>\n"
     ]
    },
    {
     "data": {
      "text/plain": [
       "['Qh', '6h', '8h', '7d', '2h', '8c', '4s']"
      ]
     },
     "execution_count": 128,
     "metadata": {},
     "output_type": "execute_result"
    }
   ],
   "source": [
    "df['hand_rang'] = df['HandHiro'] + \" \" + df['Board']\n",
    "df['hand_rang']\n",
    "\n",
    "print(type(df['hand_rang']), type(df['hand_rang'].values[7].split()))\n",
    "df['hand_rang'].values[0].split()"
   ]
  },
  {
   "cell_type": "code",
   "execution_count": 129,
   "metadata": {
    "tags": []
   },
   "outputs": [
    {
     "data": {
      "text/plain": [
       "0        [Qh, 6h, 8h, 7d, 2h, 8c, 4s]\n",
       "1            [Qc, Td, Qh, 5h, Js, Kd]\n",
       "2        [Ac, 7d, 2d, Ad, Ah, Js, 6s]\n",
       "3        [Tc, Qc, Td, 5h, 2c, 5d, Kd]\n",
       "4        [Qs, 5d, 9s, 7h, Jh, 8h, 9d]\n",
       "                     ...             \n",
       "54128    [3c, 7s, 5s, 7d, 5h, Ts, Qd]\n",
       "54129    [Qc, Kc, 2d, 7c, 7s, 8h, 4h]\n",
       "54130            [9s, 9c, 2c, 4c, 7d]\n",
       "54131    [4s, 4d, 2h, 5c, Qh, 6c, Jd]\n",
       "54132    [Qc, Ac, 4c, 9c, Tc, Kd, Qs]\n",
       "Name: hand_rang, Length: 54133, dtype: object"
      ]
     },
     "execution_count": 129,
     "metadata": {},
     "output_type": "execute_result"
    }
   ],
   "source": [
    "# df['hand_rang'].to_list()\n",
    "# df['hand_rang'].tolist()\n",
    "# np.array(df['hand_rang'].tolist())\n",
    "# Ls = list(df['hand_rang'])\n",
    "ls = df['hand_rang'].str.split()\n",
    "ls"
   ]
  },
  {
   "cell_type": "code",
   "execution_count": 130,
   "metadata": {
    "tags": []
   },
   "outputs": [
    {
     "data": {
      "text/plain": [
       "17209424"
      ]
     },
     "execution_count": 130,
     "metadata": {},
     "output_type": "execute_result"
    }
   ],
   "source": [
    "# напишем функцию получения ранг комбинации\n",
    "\n",
    "def evaluate_(hand):\n",
    "    \"\"\"\n",
    "    На вход получает карты, на выход \n",
    "    число ранг по eval7\n",
    "    \"\"\"\n",
    "    hand_ev = [eval7.Card(s) for s in (hand)]\n",
    "    return eval7.evaluate(hand_ev)\n",
    "\n",
    "a = ('Jh', 'Td', '8h', '8c', '7c', '3h', '6d')\n",
    "evaluate_(a)"
   ]
  },
  {
   "cell_type": "code",
   "execution_count": 131,
   "metadata": {},
   "outputs": [
    {
     "data": {
      "text/plain": [
       "'Pair'"
      ]
     },
     "execution_count": 131,
     "metadata": {},
     "output_type": "execute_result"
    }
   ],
   "source": [
    "# напишем функцию получения названия ранга\n",
    "\n",
    "def handtype_(rang):\n",
    "    \"\"\"\n",
    "    На вход получает ранг, на выход \n",
    "    название \n",
    "    \"\"\"\n",
    "    return eval7.handtype(rang)\n",
    "\n",
    "handtype_(17209424)"
   ]
  },
  {
   "cell_type": "code",
   "execution_count": 132,
   "metadata": {
    "tags": []
   },
   "outputs": [
    {
     "data": {
      "text/html": [
       "<div>\n",
       "<style scoped>\n",
       "    .dataframe tbody tr th:only-of-type {\n",
       "        vertical-align: middle;\n",
       "    }\n",
       "\n",
       "    .dataframe tbody tr th {\n",
       "        vertical-align: top;\n",
       "    }\n",
       "\n",
       "    .dataframe thead th {\n",
       "        text-align: right;\n",
       "    }\n",
       "</style>\n",
       "<table border=\"1\" class=\"dataframe\">\n",
       "  <thead>\n",
       "    <tr style=\"text-align: right;\">\n",
       "      <th></th>\n",
       "      <th>rang_namber</th>\n",
       "      <th>handtypes</th>\n",
       "    </tr>\n",
       "  </thead>\n",
       "  <tbody>\n",
       "    <tr>\n",
       "      <th>0</th>\n",
       "      <td>17212736</td>\n",
       "      <td>Pair</td>\n",
       "    </tr>\n",
       "    <tr>\n",
       "      <th>1</th>\n",
       "      <td>17480064</td>\n",
       "      <td>Pair</td>\n",
       "    </tr>\n",
       "    <tr>\n",
       "      <th>2</th>\n",
       "      <td>51156224</td>\n",
       "      <td>Trips</td>\n",
       "    </tr>\n",
       "    <tr>\n",
       "      <th>3</th>\n",
       "      <td>34093824</td>\n",
       "      <td>Two Pair</td>\n",
       "    </tr>\n",
       "    <tr>\n",
       "      <th>4</th>\n",
       "      <td>17279328</td>\n",
       "      <td>Pair</td>\n",
       "    </tr>\n",
       "    <tr>\n",
       "      <th>...</th>\n",
       "      <td>...</td>\n",
       "      <td>...</td>\n",
       "    </tr>\n",
       "    <tr>\n",
       "      <th>54128</th>\n",
       "      <td>33896960</td>\n",
       "      <td>Two Pair</td>\n",
       "    </tr>\n",
       "    <tr>\n",
       "      <th>54129</th>\n",
       "      <td>17152608</td>\n",
       "      <td>Pair</td>\n",
       "    </tr>\n",
       "    <tr>\n",
       "      <th>54130</th>\n",
       "      <td>17256960</td>\n",
       "      <td>Pair</td>\n",
       "    </tr>\n",
       "    <tr>\n",
       "      <th>54131</th>\n",
       "      <td>16951616</td>\n",
       "      <td>Pair</td>\n",
       "    </tr>\n",
       "    <tr>\n",
       "      <th>54132</th>\n",
       "      <td>84715634</td>\n",
       "      <td>Flush</td>\n",
       "    </tr>\n",
       "  </tbody>\n",
       "</table>\n",
       "<p>54133 rows × 2 columns</p>\n",
       "</div>"
      ],
      "text/plain": [
       "       rang_namber handtypes\n",
       "0         17212736      Pair\n",
       "1         17480064      Pair\n",
       "2         51156224     Trips\n",
       "3         34093824  Two Pair\n",
       "4         17279328      Pair\n",
       "...            ...       ...\n",
       "54128     33896960  Two Pair\n",
       "54129     17152608      Pair\n",
       "54130     17256960      Pair\n",
       "54131     16951616      Pair\n",
       "54132     84715634     Flush\n",
       "\n",
       "[54133 rows x 2 columns]"
      ]
     },
     "execution_count": 132,
     "metadata": {},
     "output_type": "execute_result"
    }
   ],
   "source": [
    "# Применим функцию к столбцу hand  и запишем в новый столбец rang_namber\n",
    "\n",
    "df['rang_namber'] = df['hand_rang'].str.split().apply(evaluate_)\n",
    "df['handtypes'] = df['rang_namber'].apply(handtype_)\n",
    "df[['rang_namber', 'handtypes']]"
   ]
  },
  {
   "cell_type": "code",
   "execution_count": 133,
   "metadata": {},
   "outputs": [
    {
     "data": {
      "text/html": [
       "<div>\n",
       "<style scoped>\n",
       "    .dataframe tbody tr th:only-of-type {\n",
       "        vertical-align: middle;\n",
       "    }\n",
       "\n",
       "    .dataframe tbody tr th {\n",
       "        vertical-align: top;\n",
       "    }\n",
       "\n",
       "    .dataframe thead th {\n",
       "        text-align: right;\n",
       "    }\n",
       "</style>\n",
       "<table border=\"1\" class=\"dataframe\">\n",
       "  <thead>\n",
       "    <tr style=\"text-align: right;\">\n",
       "      <th></th>\n",
       "      <th>DateTime</th>\n",
       "      <th>rang_namber</th>\n",
       "    </tr>\n",
       "  </thead>\n",
       "  <tbody>\n",
       "    <tr>\n",
       "      <th>0</th>\n",
       "      <td>2018-07-30 00:01:30</td>\n",
       "      <td>17212736</td>\n",
       "    </tr>\n",
       "    <tr>\n",
       "      <th>1</th>\n",
       "      <td>2018-07-30 00:05:40</td>\n",
       "      <td>17480064</td>\n",
       "    </tr>\n",
       "    <tr>\n",
       "      <th>2</th>\n",
       "      <td>2018-07-30 00:06:42</td>\n",
       "      <td>51156224</td>\n",
       "    </tr>\n",
       "    <tr>\n",
       "      <th>3</th>\n",
       "      <td>2018-07-30 00:07:47</td>\n",
       "      <td>34093824</td>\n",
       "    </tr>\n",
       "    <tr>\n",
       "      <th>4</th>\n",
       "      <td>2018-07-30 00:08:51</td>\n",
       "      <td>17279328</td>\n",
       "    </tr>\n",
       "  </tbody>\n",
       "</table>\n",
       "</div>"
      ],
      "text/plain": [
       "             DateTime  rang_namber\n",
       "0 2018-07-30 00:01:30     17212736\n",
       "1 2018-07-30 00:05:40     17480064\n",
       "2 2018-07-30 00:06:42     51156224\n",
       "3 2018-07-30 00:07:47     34093824\n",
       "4 2018-07-30 00:08:51     17279328"
      ]
     },
     "execution_count": 133,
     "metadata": {},
     "output_type": "execute_result"
    }
   ],
   "source": [
    "data = df[['DateTime', 'rang_namber']]\n",
    "data.head()"
   ]
  },
  {
   "cell_type": "code",
   "execution_count": 134,
   "metadata": {},
   "outputs": [
    {
     "data": {
      "text/plain": [
       "DateTime       0\n",
       "rang_namber    0\n",
       "dtype: int64"
      ]
     },
     "execution_count": 134,
     "metadata": {},
     "output_type": "execute_result"
    }
   ],
   "source": [
    "data.isnull().sum()"
   ]
  },
  {
   "cell_type": "code",
   "execution_count": 135,
   "metadata": {},
   "outputs": [
    {
     "data": {
      "text/plain": [
       "DateTime       datetime64[ns]\n",
       "rang_namber             int64\n",
       "dtype: object"
      ]
     },
     "execution_count": 135,
     "metadata": {},
     "output_type": "execute_result"
    }
   ],
   "source": [
    "data.dtypes"
   ]
  },
  {
   "cell_type": "code",
   "execution_count": 136,
   "metadata": {},
   "outputs": [
    {
     "data": {
      "text/html": [
       "<div>\n",
       "<style scoped>\n",
       "    .dataframe tbody tr th:only-of-type {\n",
       "        vertical-align: middle;\n",
       "    }\n",
       "\n",
       "    .dataframe tbody tr th {\n",
       "        vertical-align: top;\n",
       "    }\n",
       "\n",
       "    .dataframe thead th {\n",
       "        text-align: right;\n",
       "    }\n",
       "</style>\n",
       "<table border=\"1\" class=\"dataframe\">\n",
       "  <thead>\n",
       "    <tr style=\"text-align: right;\">\n",
       "      <th></th>\n",
       "      <th>rang_namber</th>\n",
       "    </tr>\n",
       "    <tr>\n",
       "      <th>DateTime</th>\n",
       "      <th></th>\n",
       "    </tr>\n",
       "  </thead>\n",
       "  <tbody>\n",
       "    <tr>\n",
       "      <th>2018-07-30 00:01:30</th>\n",
       "      <td>17212736</td>\n",
       "    </tr>\n",
       "    <tr>\n",
       "      <th>2018-07-30 00:05:40</th>\n",
       "      <td>17480064</td>\n",
       "    </tr>\n",
       "    <tr>\n",
       "      <th>2018-07-30 00:06:42</th>\n",
       "      <td>51156224</td>\n",
       "    </tr>\n",
       "    <tr>\n",
       "      <th>2018-07-30 00:07:47</th>\n",
       "      <td>34093824</td>\n",
       "    </tr>\n",
       "    <tr>\n",
       "      <th>2018-07-30 00:08:51</th>\n",
       "      <td>17279328</td>\n",
       "    </tr>\n",
       "  </tbody>\n",
       "</table>\n",
       "</div>"
      ],
      "text/plain": [
       "                     rang_namber\n",
       "DateTime                        \n",
       "2018-07-30 00:01:30     17212736\n",
       "2018-07-30 00:05:40     17480064\n",
       "2018-07-30 00:06:42     51156224\n",
       "2018-07-30 00:07:47     34093824\n",
       "2018-07-30 00:08:51     17279328"
      ]
     },
     "execution_count": 136,
     "metadata": {},
     "output_type": "execute_result"
    }
   ],
   "source": [
    "# установитьdatetimeОбъект в качестве индекса кадра данных\n",
    "data = data.set_index('DateTime')\n",
    "data.head()"
   ]
  },
  {
   "cell_type": "code",
   "execution_count": 137,
   "metadata": {},
   "outputs": [
    {
     "data": {
      "text/plain": [
       "<AxesSubplot:xlabel='DateTime'>"
      ]
     },
     "execution_count": 137,
     "metadata": {},
     "output_type": "execute_result"
    },
    {
     "data": {
      "image/png": "[encoded data removed]",
      "text/plain": [
       "<Figure size 432x288 with 1 Axes>"
      ]
     },
     "metadata": {
      "needs_background": "light"
     },
     "output_type": "display_data"
    }
   ],
   "source": [
    "data.plot(grid=True)"
   ]
  },
  {
   "cell_type": "code",
   "execution_count": null,
   "metadata": {},
   "outputs": [],
   "source": []
  }
 ],
 "metadata": {
  "colab": {
   "authorship_tag": "ABX9TyOmEyugzg/HrqC08SxzhKU3",
   "include_colab_link": true,
   "name": "analiz_poker.ipynb",
   "provenance": []
  },
  "kernelspec": {
   "display_name": "Python 3 (ipykernel)",
   "language": "python",
   "name": "python3"
  },
  "language_info": {
   "codemirror_mode": {
    "name": "ipython",
    "version": 3
   },
   "file_extension": ".py",
   "mimetype": "text/x-python",
   "name": "python",
   "nbconvert_exporter": "python",
   "pygments_lexer": "ipython3",
   "version": "3.9.7"
  },
  "nbTranslate": {
   "displayLangs": [
    "*"
   ],
   "hotkey": "alt-t",
   "langInMainMenu": true,
   "sourceLang": "en",
   "targetLang": "fr",
   "useGoogleTranslate": true
  },
  "toc": {
   "base_numbering": 1,
   "nav_menu": {},
   "number_sections": true,
   "sideBar": true,
   "skip_h1_title": false,
   "title_cell": "Table of Contents",
   "title_sidebar": "Contents",
   "toc_cell": false,
   "toc_position": {},
   "toc_section_display": true,
   "toc_window_display": false
  },
  "varInspector": {
   "cols": {
    "lenName": 16,
    "lenType": 16,
    "lenVar": 40
   },
   "kernels_config": {
    "python": {
     "delete_cmd_postfix": "",
     "delete_cmd_prefix": "del ",
     "library": "var_list.py",
     "varRefreshCmd": "print(var_dic_list())"
    },
    "r": {
     "delete_cmd_postfix": ") ",
     "delete_cmd_prefix": "rm(",
     "library": "var_list.r",
     "varRefreshCmd": "cat(var_dic_list()) "
    }
   },
   "types_to_exclude": [
    "module",
    "function",
    "builtin_function_or_method",
    "instance",
    "_Feature"
   ],
   "window_display": false
  },
  "widgets": {
   "application/vnd.jupyter.widget-state+json": {
    "state": {},
    "version_major": 2,
    "version_minor": 0
   }
  }
 },
 "nbformat": 4,
 "nbformat_minor": 4
}
