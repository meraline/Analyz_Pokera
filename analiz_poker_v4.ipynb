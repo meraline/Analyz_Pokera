{
 "cells": [
  {
   "cell_type": "markdown",
   "metadata": {
    "id": "cCLyx1NLRfLa"
   },
   "source": [
    "## Цель иследования\n",
    " - выявить частоту (периоды) повторяемости наблюдаемой характеристики 'rang_namber'\n",
    " - создать модель для ML позволяющую предиктить периоды на новых данных \n",
    " - предположить факторы влияющие на чатсоту повторяемости\n",
    " - https://github.com/julianandrews/flopferret/blob/master/flopferret/board_texture.py"
   ]
  },
  {
   "cell_type": "code",
   "execution_count": 146,
   "metadata": {
    "ExecuteTime": {
     "end_time": "2022-01-13T22:42:04.665671Z",
     "start_time": "2022-01-13T22:41:57.698198Z"
    },
    "code_folding": [
     5,
     21
    ],
    "colab": {
     "base_uri": "https://localhost:8080/",
     "height": 206
    },
    "id": "RehS5KQCEhv4",
    "outputId": "595dd702-fa39-4d44-c72a-b5ab1b747c27",
    "tags": []
   },
   "outputs": [],
   "source": [
    "import re\n",
    "import pandas as pd\n",
    "from datetime import datetime\n",
    "import eval7, pprint\n",
    "from poker.room.pokerstars import PokerStarsHandHistory\n",
    "from poker.hand import Hand, Combo\n",
    "import numpy as np\n",
    "from phevaluator import evaluate_cards\n",
    "import matplotlib.pyplot as plt\n",
    "plt.style.use('dark_background')"
   ]
  },
  {
   "cell_type": "code",
   "execution_count": 147,
   "metadata": {
    "ExecuteTime": {
     "end_time": "2022-01-13T22:42:04.665671Z",
     "start_time": "2022-01-13T22:41:57.698198Z"
    },
    "code_folding": [
     5,
     21
    ],
    "colab": {
     "base_uri": "https://localhost:8080/",
     "height": 206
    },
    "id": "RehS5KQCEhv4",
    "outputId": "595dd702-fa39-4d44-c72a-b5ab1b747c27",
    "tags": []
   },
   "outputs": [
    {
     "data": {
      "text/html": [
       "<div>\n",
       "<style scoped>\n",
       "    .dataframe tbody tr th:only-of-type {\n",
       "        vertical-align: middle;\n",
       "    }\n",
       "\n",
       "    .dataframe tbody tr th {\n",
       "        vertical-align: top;\n",
       "    }\n",
       "\n",
       "    .dataframe thead th {\n",
       "        text-align: right;\n",
       "    }\n",
       "</style>\n",
       "<table border=\"1\" class=\"dataframe\">\n",
       "  <thead>\n",
       "    <tr style=\"text-align: right;\">\n",
       "      <th></th>\n",
       "      <th>TypeOfRoom</th>\n",
       "      <th>HandId</th>\n",
       "      <th>Tournament</th>\n",
       "      <th>Level</th>\n",
       "      <th>Date</th>\n",
       "      <th>Hour</th>\n",
       "      <th>TimeZoneAbb</th>\n",
       "      <th>Table</th>\n",
       "      <th>NoOfPlayers</th>\n",
       "      <th>bain</th>\n",
       "      <th>HandHiro</th>\n",
       "      <th>Board</th>\n",
       "    </tr>\n",
       "  </thead>\n",
       "  <tbody>\n",
       "    <tr>\n",
       "      <th>0</th>\n",
       "      <td>PokerStars</td>\n",
       "      <td>189303406555</td>\n",
       "      <td>2369603774</td>\n",
       "      <td>IV (40/80)</td>\n",
       "      <td>2018/07/30</td>\n",
       "      <td>0:01:30</td>\n",
       "      <td>MSK</td>\n",
       "      <td>9-max</td>\n",
       "      <td>6</td>\n",
       "      <td>$13.70+$1.30</td>\n",
       "      <td>Qh 6h</td>\n",
       "      <td>8h 7d 2h 8c 4s</td>\n",
       "    </tr>\n",
       "    <tr>\n",
       "      <th>1</th>\n",
       "      <td>PokerStars</td>\n",
       "      <td>189303615886</td>\n",
       "      <td>2369603774</td>\n",
       "      <td>V (60/120)</td>\n",
       "      <td>2018/07/30</td>\n",
       "      <td>0:05:40</td>\n",
       "      <td>MSK</td>\n",
       "      <td>9-max</td>\n",
       "      <td>6</td>\n",
       "      <td>$13.70+$1.30</td>\n",
       "      <td>Qc Td</td>\n",
       "      <td>Qh 5h Js Kd</td>\n",
       "    </tr>\n",
       "    <tr>\n",
       "      <th>2</th>\n",
       "      <td>PokerStars</td>\n",
       "      <td>189303670340</td>\n",
       "      <td>2369603774</td>\n",
       "      <td>V (60/120)</td>\n",
       "      <td>2018/07/30</td>\n",
       "      <td>0:06:42</td>\n",
       "      <td>MSK</td>\n",
       "      <td>9-max</td>\n",
       "      <td>6</td>\n",
       "      <td>$13.70+$1.30</td>\n",
       "      <td>Ac 7d</td>\n",
       "      <td>2d Ad Ah Js 6s</td>\n",
       "    </tr>\n",
       "    <tr>\n",
       "      <th>3</th>\n",
       "      <td>PokerStars</td>\n",
       "      <td>189303726585</td>\n",
       "      <td>2369603774</td>\n",
       "      <td>V (60/120)</td>\n",
       "      <td>2018/07/30</td>\n",
       "      <td>0:07:47</td>\n",
       "      <td>MSK</td>\n",
       "      <td>9-max</td>\n",
       "      <td>6</td>\n",
       "      <td>$13.70+$1.30</td>\n",
       "      <td>Tc Qc</td>\n",
       "      <td>Td 5h 2c 5d Kd</td>\n",
       "    </tr>\n",
       "    <tr>\n",
       "      <th>4</th>\n",
       "      <td>PokerStars</td>\n",
       "      <td>189303781865</td>\n",
       "      <td>2369603774</td>\n",
       "      <td>V (60/120)</td>\n",
       "      <td>2018/07/30</td>\n",
       "      <td>0:08:51</td>\n",
       "      <td>MSK</td>\n",
       "      <td>9-max</td>\n",
       "      <td>6</td>\n",
       "      <td>$13.70+$1.30</td>\n",
       "      <td>Qs 5d</td>\n",
       "      <td>9s 7h Jh 8h 9d</td>\n",
       "    </tr>\n",
       "  </tbody>\n",
       "</table>\n",
       "</div>"
      ],
      "text/plain": [
       "   TypeOfRoom        HandId  Tournament       Level        Date     Hour  \\\n",
       "0  PokerStars  189303406555  2369603774  IV (40/80)  2018/07/30  0:01:30   \n",
       "1  PokerStars  189303615886  2369603774  V (60/120)  2018/07/30  0:05:40   \n",
       "2  PokerStars  189303670340  2369603774  V (60/120)  2018/07/30  0:06:42   \n",
       "3  PokerStars  189303726585  2369603774  V (60/120)  2018/07/30  0:07:47   \n",
       "4  PokerStars  189303781865  2369603774  V (60/120)  2018/07/30  0:08:51   \n",
       "\n",
       "  TimeZoneAbb  Table  NoOfPlayers          bain HandHiro           Board  \n",
       "0         MSK  9-max            6  $13.70+$1.30    Qh 6h  8h 7d 2h 8c 4s  \n",
       "1         MSK  9-max            6  $13.70+$1.30    Qc Td     Qh 5h Js Kd  \n",
       "2         MSK  9-max            6  $13.70+$1.30    Ac 7d  2d Ad Ah Js 6s  \n",
       "3         MSK  9-max            6  $13.70+$1.30    Tc Qc  Td 5h 2c 5d Kd  \n",
       "4         MSK  9-max            6  $13.70+$1.30    Qs 5d  9s 7h Jh 8h 9d  "
      ]
     },
     "execution_count": 147,
     "metadata": {},
     "output_type": "execute_result"
    }
   ],
   "source": [
    "# Создали словарь\n",
    "data_pd = {'TypeOfRoom': [], 'HandId': [], 'Tournament': [], 'Level': [], 'Date': [], 'Hour': [],\n",
    "           'TimeZoneAbb': [], 'Table': [], 'NoOfPlayers': [], 'bain': [], 'HandHiro': [], 'Board': []}\n",
    "\n",
    "# Открываем файл\n",
    "with open('Poker_\\SNG dimetruk 1-54133.txt', 'r') as f: #Poker_\\SNG dimetruk 1-54133.txt\n",
    "    data = f.read()\n",
    "    \n",
    "# Ищем нужные данные\n",
    "result = re.findall('(\\w+) Hand #(\\d*): Tournament #(\\d*),(.*) Level (.*) - (\\d{4}/\\d+/\\d+) (\\d+\\D\\d+\\D\\d+) (\\w*)', data)\n",
    "Tables = re.findall('Table \\'.*\\' (.*) Seat .*\\n', data)\n",
    "bains = re.findall('(\\D\\d+\\.\\d+\\+\\D\\d+\\.\\d+)', data)\n",
    "HandHiros = re.findall(\"Dealt to dimetruk \\D(.. ..)\\D\", data)\n",
    "Boards = re.findall(\"Board \\[(.*)\\]\", data)\n",
    "\n",
    "\n",
    "# Считаем сколко фишек\n",
    "s = re.findall('Seat (\\d).*chips', data)\n",
    "s = [int(x) for x in s]\n",
    "seats = []\n",
    "length = 1\n",
    "for i in range(len(s)-1):\n",
    "    if s[i+1] < s[i]:\n",
    "        seats.append(length)\n",
    "        length = 1\n",
    "    else:\n",
    "        length += 1\n",
    "seats.append(length)\n",
    "\n",
    "\n",
    "# ЗАполнЯем словарь данными\n",
    "for r, table, bain, seat, handHiro, board in zip(result, Tables, bains, seats, HandHiros, Boards):\n",
    "    data_pd['TypeOfRoom'].append(r[0])\n",
    "    data_pd['HandId'].append(r[1])\n",
    "    data_pd['Tournament'].append(r[2])\n",
    "    # data_pd['info'].append(r[3])\n",
    "    data_pd['Level'].append(r[4])\n",
    "    data_pd['Date'].append(r[5])\n",
    "    data_pd['Hour'].append(r[6])\n",
    "    data_pd['TimeZoneAbb'].append(r[7])\n",
    "    data_pd['Table'].append(table) #table\n",
    "    data_pd['NoOfPlayers'].append(seat)\n",
    "    data_pd['bain'].append(bain)\n",
    "    data_pd['HandHiro'].append(handHiro)\n",
    "    data_pd['Board'].append(board)\n",
    "\n",
    "# Создаём ДатаФрейм\n",
    "d_f = pd.DataFrame(data_pd)\n",
    "d_f.head()"
   ]
  },
  {
   "cell_type": "markdown",
   "metadata": {
    "id": "q97wcPd37OcA"
   },
   "source": [
    "## Преобразуем строковые данные"
   ]
  },
  {
   "cell_type": "code",
   "execution_count": 148,
   "metadata": {},
   "outputs": [],
   "source": [
    "date = data_pd['Date']\n",
    "time = data_pd['Hour']\n",
    "\n",
    "d_f[\"Date\"] = pd.to_datetime(data_pd['Date'])\n",
    "d_f[\"Time\"] = pd.to_timedelta(data_pd['Hour'])\n",
    "\n",
    "d_f[\"DateTime\"] = d_f[\"Date\"] + d_f[\"Time\"]\n",
    "d_f[\"DateTime\"]\n",
    "\n",
    "d_f.Tournament = d_f.Tournament.astype('int64')\n",
    "d_f = d_f.astype({'HandId': np.int64, 'Tournament': np.int64})"
   ]
  },
  {
   "cell_type": "markdown",
   "metadata": {},
   "source": [
    "## Фильтруем данные"
   ]
  },
  {
   "cell_type": "code",
   "execution_count": 149,
   "metadata": {},
   "outputs": [
    {
     "data": {
      "text/plain": [
       "DateTime\n",
       "2018-07-30     253\n",
       "2018-08-07     588\n",
       "2018-08-09     119\n",
       "2018-08-10     259\n",
       "2018-08-11     217\n",
       "              ... \n",
       "2018-10-27     815\n",
       "2018-10-28     661\n",
       "2018-10-29     786\n",
       "2018-10-30    1117\n",
       "2018-10-31     829\n",
       "Freq: D, Name: DateTime, Length: 77, dtype: int64"
      ]
     },
     "execution_count": 149,
     "metadata": {},
     "output_type": "execute_result"
    }
   ],
   "source": [
    "# дневной период  https://askdev.ru/q/kak-gruppirovat-i-podschityvat-stroki-po-mesyacam-i-godam-s-pomoschyu-pand-511317/\n",
    "df_day = d_f['DateTime'].groupby(d_f.DateTime.dt.to_period(\"D\")).agg('count')\n",
    "df_day"
   ]
  },
  {
   "cell_type": "code",
   "execution_count": 155,
   "metadata": {},
   "outputs": [
    {
     "data": {
      "text/html": [
       "<div>\n",
       "<style scoped>\n",
       "    .dataframe tbody tr th:only-of-type {\n",
       "        vertical-align: middle;\n",
       "    }\n",
       "\n",
       "    .dataframe tbody tr th {\n",
       "        vertical-align: top;\n",
       "    }\n",
       "\n",
       "    .dataframe thead th {\n",
       "        text-align: right;\n",
       "    }\n",
       "</style>\n",
       "<table border=\"1\" class=\"dataframe\">\n",
       "  <thead>\n",
       "    <tr style=\"text-align: right;\">\n",
       "      <th></th>\n",
       "      <th>Tournament</th>\n",
       "      <th>HandId</th>\n",
       "      <th>Date</th>\n",
       "      <th>HandHiro</th>\n",
       "      <th>Board</th>\n",
       "    </tr>\n",
       "  </thead>\n",
       "  <tbody>\n",
       "    <tr>\n",
       "      <th>0</th>\n",
       "      <td>2369603774</td>\n",
       "      <td>189303406555</td>\n",
       "      <td>2018-07-30</td>\n",
       "      <td>Qh 6h</td>\n",
       "      <td>8h 7d 2h 8c 4s</td>\n",
       "    </tr>\n",
       "    <tr>\n",
       "      <th>1</th>\n",
       "      <td>2369603774</td>\n",
       "      <td>189303615886</td>\n",
       "      <td>2018-07-30</td>\n",
       "      <td>Qc Td</td>\n",
       "      <td>Qh 5h Js Kd</td>\n",
       "    </tr>\n",
       "    <tr>\n",
       "      <th>2</th>\n",
       "      <td>2369603774</td>\n",
       "      <td>189303670340</td>\n",
       "      <td>2018-07-30</td>\n",
       "      <td>Ac 7d</td>\n",
       "      <td>2d Ad Ah Js 6s</td>\n",
       "    </tr>\n",
       "    <tr>\n",
       "      <th>3</th>\n",
       "      <td>2369603774</td>\n",
       "      <td>189303726585</td>\n",
       "      <td>2018-07-30</td>\n",
       "      <td>Tc Qc</td>\n",
       "      <td>Td 5h 2c 5d Kd</td>\n",
       "    </tr>\n",
       "    <tr>\n",
       "      <th>4</th>\n",
       "      <td>2369603774</td>\n",
       "      <td>189303781865</td>\n",
       "      <td>2018-07-30</td>\n",
       "      <td>Qs 5d</td>\n",
       "      <td>9s 7h Jh 8h 9d</td>\n",
       "    </tr>\n",
       "  </tbody>\n",
       "</table>\n",
       "</div>"
      ],
      "text/plain": [
       "   Tournament        HandId       Date HandHiro           Board\n",
       "0  2369603774  189303406555 2018-07-30    Qh 6h  8h 7d 2h 8c 4s\n",
       "1  2369603774  189303615886 2018-07-30    Qc Td     Qh 5h Js Kd\n",
       "2  2369603774  189303670340 2018-07-30    Ac 7d  2d Ad Ah Js 6s\n",
       "3  2369603774  189303726585 2018-07-30    Tc Qc  Td 5h 2c 5d Kd\n",
       "4  2369603774  189303781865 2018-07-30    Qs 5d  9s 7h Jh 8h 9d"
      ]
     },
     "execution_count": 155,
     "metadata": {},
     "output_type": "execute_result"
    }
   ],
   "source": [
    "df = d_f[['Tournament', 'HandId','Date', 'HandHiro', 'Board']]\n",
    "df.head()"
   ]
  },
  {
   "cell_type": "code",
   "execution_count": 156,
   "metadata": {},
   "outputs": [],
   "source": [
    "#  Используйте group by и lambda для имитации фильтра для value_counts()  \n",
    "# https://softhints.com/pandas-how-to-filter-results-of-value_counts/\n",
    "# df = data_filter.groupby('Tournament').filter(lambda x: len(x) > 100) #(data_filter['Tournament'].value_counts().mean())*2)\n"
   ]
  },
  {
   "cell_type": "code",
   "execution_count": 157,
   "metadata": {},
   "outputs": [],
   "source": [
    "# df.Tournament.value_counts().head()"
   ]
  },
  {
   "cell_type": "code",
   "execution_count": 158,
   "metadata": {},
   "outputs": [],
   "source": [
    "# Prepare Data\n",
    "# df_plot = df.groupby('Tournament').size()\n",
    "\n",
    "# # Make the plot with pandas\n",
    "# df_plot.plot(kind='pie', subplots=True,autopct=\"%.2f\", figsize=(8, 8))\n",
    "# plt.title(\"Колличество комбинаций/день\")\n",
    "# plt.ylabel(\"\")\n",
    "# plt.show()"
   ]
  },
  {
   "cell_type": "code",
   "execution_count": 159,
   "metadata": {},
   "outputs": [
    {
     "name": "stderr",
     "output_type": "stream",
     "text": [
      "C:\\Users\\artio\\AppData\\Local\\Temp/ipykernel_14072/1152626676.py:3: SettingWithCopyWarning: \n",
      "A value is trying to be set on a copy of a slice from a DataFrame.\n",
      "Try using .loc[row_indexer,col_indexer] = value instead\n",
      "\n",
      "See the caveats in the documentation: https://pandas.pydata.org/pandas-docs/stable/user_guide/indexing.html#returning-a-view-versus-a-copy\n",
      "  df['hand'] = df['HandHiro'] + \" \" + df['Board']\n",
      "C:\\Users\\artio\\AppData\\Local\\Temp/ipykernel_14072/1152626676.py:13: SettingWithCopyWarning: \n",
      "A value is trying to be set on a copy of a slice from a DataFrame.\n",
      "Try using .loc[row_indexer,col_indexer] = value instead\n",
      "\n",
      "See the caveats in the documentation: https://pandas.pydata.org/pandas-docs/stable/user_guide/indexing.html#returning-a-view-versus-a-copy\n",
      "  df['rang'] = eval7.evaluate(hand_ev)\n",
      "C:\\Users\\artio\\AppData\\Local\\Temp/ipykernel_14072/1152626676.py:14: SettingWithCopyWarning: \n",
      "A value is trying to be set on a copy of a slice from a DataFrame.\n",
      "Try using .loc[row_indexer,col_indexer] = value instead\n",
      "\n",
      "See the caveats in the documentation: https://pandas.pydata.org/pandas-docs/stable/user_guide/indexing.html#returning-a-view-versus-a-copy\n",
      "  df['eval7s'] =  eval7.handtype(rang)\n"
     ]
    }
   ],
   "source": [
    "# объеденяем руку и борд, выводим название комбинации\n",
    "\n",
    "df['hand'] = df['HandHiro'] + \" \" + df['Board']\n",
    "# hand = df['hand'].values[7].split()\n",
    "# print(hand)\n",
    "\n",
    "hand_ev = [eval7.Card(s) for s in (df['hand'].values[7].split())]\n",
    "rang = eval7.evaluate(hand_ev)   # ранг комбинации\n",
    "# print(rang)\n",
    "\n",
    "eval7s = eval7.handtype(rang)  #  название комбинации\n",
    "\n",
    "df['rang'] = eval7.evaluate(hand_ev)\n",
    "df['eval7s'] =  eval7.handtype(rang)"
   ]
  },
  {
   "cell_type": "code",
   "execution_count": 136,
   "metadata": {
    "tags": []
   },
   "outputs": [
    {
     "data": {
      "text/html": [
       "<div>\n",
       "<style scoped>\n",
       "    .dataframe tbody tr th:only-of-type {\n",
       "        vertical-align: middle;\n",
       "    }\n",
       "\n",
       "    .dataframe tbody tr th {\n",
       "        vertical-align: top;\n",
       "    }\n",
       "\n",
       "    .dataframe thead th {\n",
       "        text-align: right;\n",
       "    }\n",
       "</style>\n",
       "<table border=\"1\" class=\"dataframe\">\n",
       "  <thead>\n",
       "    <tr style=\"text-align: right;\">\n",
       "      <th></th>\n",
       "      <th>HandId</th>\n",
       "      <th>Date</th>\n",
       "      <th>hand</th>\n",
       "      <th>rang</th>\n",
       "      <th>eval7s</th>\n",
       "    </tr>\n",
       "  </thead>\n",
       "  <tbody>\n",
       "    <tr>\n",
       "      <th>0</th>\n",
       "      <td>189303406555</td>\n",
       "      <td>2018-07-30</td>\n",
       "      <td>Qh 6h 8h 7d 2h 8c 4s</td>\n",
       "      <td>17484656</td>\n",
       "      <td>Pair</td>\n",
       "    </tr>\n",
       "    <tr>\n",
       "      <th>1</th>\n",
       "      <td>189303615886</td>\n",
       "      <td>2018-07-30</td>\n",
       "      <td>Qc Td Qh 5h Js Kd</td>\n",
       "      <td>17484656</td>\n",
       "      <td>Pair</td>\n",
       "    </tr>\n",
       "    <tr>\n",
       "      <th>2</th>\n",
       "      <td>189303670340</td>\n",
       "      <td>2018-07-30</td>\n",
       "      <td>Ac 7d 2d Ad Ah Js 6s</td>\n",
       "      <td>17484656</td>\n",
       "      <td>Pair</td>\n",
       "    </tr>\n",
       "    <tr>\n",
       "      <th>3</th>\n",
       "      <td>189303726585</td>\n",
       "      <td>2018-07-30</td>\n",
       "      <td>Tc Qc Td 5h 2c 5d Kd</td>\n",
       "      <td>17484656</td>\n",
       "      <td>Pair</td>\n",
       "    </tr>\n",
       "    <tr>\n",
       "      <th>4</th>\n",
       "      <td>189303781865</td>\n",
       "      <td>2018-07-30</td>\n",
       "      <td>Qs 5d 9s 7h Jh 8h 9d</td>\n",
       "      <td>17484656</td>\n",
       "      <td>Pair</td>\n",
       "    </tr>\n",
       "  </tbody>\n",
       "</table>\n",
       "</div>"
      ],
      "text/plain": [
       "         HandId       Date                  hand      rang eval7s\n",
       "0  189303406555 2018-07-30  Qh 6h 8h 7d 2h 8c 4s  17484656   Pair\n",
       "1  189303615886 2018-07-30     Qc Td Qh 5h Js Kd  17484656   Pair\n",
       "2  189303670340 2018-07-30  Ac 7d 2d Ad Ah Js 6s  17484656   Pair\n",
       "3  189303726585 2018-07-30  Tc Qc Td 5h 2c 5d Kd  17484656   Pair\n",
       "4  189303781865 2018-07-30  Qs 5d 9s 7h Jh 8h 9d  17484656   Pair"
      ]
     },
     "execution_count": 136,
     "metadata": {},
     "output_type": "execute_result"
    }
   ],
   "source": [
    "df[['HandId', 'Date','hand', 'rang', 'eval7s']].head()  # применим фильтер по столбцам"
   ]
  },
  {
   "cell_type": "code",
   "execution_count": 137,
   "metadata": {},
   "outputs": [],
   "source": [
    "# def new_type(row):\n",
    "#     if row.traffic_source.lower() in ('yandex', 'google'):\n",
    "#         return 'organic'\n",
    "#     elif row.traffic_source.lower() in ('paid', 'email'):\n",
    "#         if row.region.lower() == 'russia':\n",
    "#             return 'ad'\n",
    "#         else:\n",
    "#             return 'other'"
   ]
  },
  {
   "cell_type": "code",
   "execution_count": 138,
   "metadata": {},
   "outputs": [],
   "source": [
    "# log['source_type'] = log.apply(new_type, axis = 1)\n",
    "# log.head(12)"
   ]
  },
  {
   "cell_type": "code",
   "execution_count": 139,
   "metadata": {},
   "outputs": [],
   "source": [
    "# log.loc[log.traffic_source.isin(['yandex', 'google']), 'traffic_type'] = 'organic' "
   ]
  },
  {
   "cell_type": "code",
   "execution_count": 140,
   "metadata": {
    "tags": []
   },
   "outputs": [
    {
     "name": "stdout",
     "output_type": "stream",
     "text": [
      "<class 'pandas.core.series.Series'> <class 'list'>\n"
     ]
    },
    {
     "name": "stderr",
     "output_type": "stream",
     "text": [
      "C:\\Users\\artio\\AppData\\Local\\Temp/ipykernel_14072/2709538268.py:1: SettingWithCopyWarning: \n",
      "A value is trying to be set on a copy of a slice from a DataFrame.\n",
      "Try using .loc[row_indexer,col_indexer] = value instead\n",
      "\n",
      "See the caveats in the documentation: https://pandas.pydata.org/pandas-docs/stable/user_guide/indexing.html#returning-a-view-versus-a-copy\n",
      "  df['hand_rang'] = df['HandHiro'] + \" \" + df['Board']\n"
     ]
    },
    {
     "data": {
      "text/plain": [
       "['Qh', '6h', '8h', '7d', '2h', '8c', '4s']"
      ]
     },
     "execution_count": 140,
     "metadata": {},
     "output_type": "execute_result"
    }
   ],
   "source": [
    "df['hand_rang'] = df['HandHiro'] + \" \" + df['Board']\n",
    "df['hand_rang']\n",
    "\n",
    "print(type(df['hand_rang']), type(df['hand_rang'].values[7].split()))\n",
    "df['hand_rang'].values[0].split()"
   ]
  },
  {
   "cell_type": "code",
   "execution_count": 141,
   "metadata": {
    "tags": []
   },
   "outputs": [
    {
     "data": {
      "text/plain": [
       "0        [Qh, 6h, 8h, 7d, 2h, 8c, 4s]\n",
       "1            [Qc, Td, Qh, 5h, Js, Kd]\n",
       "2        [Ac, 7d, 2d, Ad, Ah, Js, 6s]\n",
       "3        [Tc, Qc, Td, 5h, 2c, 5d, Kd]\n",
       "4        [Qs, 5d, 9s, 7h, Jh, 8h, 9d]\n",
       "                     ...             \n",
       "54128    [3c, 7s, 5s, 7d, 5h, Ts, Qd]\n",
       "54129    [Qc, Kc, 2d, 7c, 7s, 8h, 4h]\n",
       "54130            [9s, 9c, 2c, 4c, 7d]\n",
       "54131    [4s, 4d, 2h, 5c, Qh, 6c, Jd]\n",
       "54132    [Qc, Ac, 4c, 9c, Tc, Kd, Qs]\n",
       "Name: hand_rang, Length: 54133, dtype: object"
      ]
     },
     "execution_count": 141,
     "metadata": {},
     "output_type": "execute_result"
    }
   ],
   "source": [
    "# df['hand_rang'].to_list()\n",
    "# df['hand_rang'].tolist()\n",
    "# np.array(df['hand_rang'].tolist())\n",
    "# Ls = list(df['hand_rang'])\n",
    "ls = df['hand_rang'].str.split()\n",
    "ls"
   ]
  },
  {
   "cell_type": "code",
   "execution_count": 142,
   "metadata": {
    "tags": []
   },
   "outputs": [
    {
     "data": {
      "text/plain": [
       "17209424"
      ]
     },
     "execution_count": 142,
     "metadata": {},
     "output_type": "execute_result"
    }
   ],
   "source": [
    "# напишем функцию получения ранг комбинации\n",
    "\n",
    "def evaluate_(hand):\n",
    "    \"\"\"\n",
    "    На вход получает карты, на выход \n",
    "    число ранг по eval7\n",
    "    \"\"\"\n",
    "    hand_ev = [eval7.Card(s) for s in (hand)]\n",
    "    return eval7.evaluate(hand_ev)\n",
    "\n",
    "a = ('Jh', 'Td', '8h', '8c', '7c', '3h', '6d')\n",
    "evaluate_(a)"
   ]
  },
  {
   "cell_type": "code",
   "execution_count": 143,
   "metadata": {},
   "outputs": [
    {
     "data": {
      "text/plain": [
       "'Pair'"
      ]
     },
     "execution_count": 143,
     "metadata": {},
     "output_type": "execute_result"
    }
   ],
   "source": [
    "# напишем функцию получения названия ранга\n",
    "\n",
    "def handtype_(rang):\n",
    "    \"\"\"\n",
    "    На вход получает ранг, на выход \n",
    "    название \n",
    "    \"\"\"\n",
    "    return eval7.handtype(rang)\n",
    "\n",
    "handtype_(17209424)"
   ]
  },
  {
   "cell_type": "code",
   "execution_count": 144,
   "metadata": {
    "tags": []
   },
   "outputs": [
    {
     "name": "stderr",
     "output_type": "stream",
     "text": [
      "C:\\Users\\artio\\AppData\\Local\\Temp/ipykernel_14072/48327317.py:3: SettingWithCopyWarning: \n",
      "A value is trying to be set on a copy of a slice from a DataFrame.\n",
      "Try using .loc[row_indexer,col_indexer] = value instead\n",
      "\n",
      "See the caveats in the documentation: https://pandas.pydata.org/pandas-docs/stable/user_guide/indexing.html#returning-a-view-versus-a-copy\n",
      "  df['rang_namber'] = df['hand_rang'].str.split().apply(evaluate_)\n",
      "C:\\Users\\artio\\AppData\\Local\\Temp/ipykernel_14072/48327317.py:4: SettingWithCopyWarning: \n",
      "A value is trying to be set on a copy of a slice from a DataFrame.\n",
      "Try using .loc[row_indexer,col_indexer] = value instead\n",
      "\n",
      "See the caveats in the documentation: https://pandas.pydata.org/pandas-docs/stable/user_guide/indexing.html#returning-a-view-versus-a-copy\n",
      "  df['handtypes'] = df['rang_namber'].apply(handtype_)\n"
     ]
    },
    {
     "data": {
      "text/html": [
       "<div>\n",
       "<style scoped>\n",
       "    .dataframe tbody tr th:only-of-type {\n",
       "        vertical-align: middle;\n",
       "    }\n",
       "\n",
       "    .dataframe tbody tr th {\n",
       "        vertical-align: top;\n",
       "    }\n",
       "\n",
       "    .dataframe thead th {\n",
       "        text-align: right;\n",
       "    }\n",
       "</style>\n",
       "<table border=\"1\" class=\"dataframe\">\n",
       "  <thead>\n",
       "    <tr style=\"text-align: right;\">\n",
       "      <th></th>\n",
       "      <th>Date</th>\n",
       "      <th>rang_namber</th>\n",
       "      <th>handtypes</th>\n",
       "      <th>HandId</th>\n",
       "    </tr>\n",
       "  </thead>\n",
       "  <tbody>\n",
       "    <tr>\n",
       "      <th>0</th>\n",
       "      <td>2018-07-30</td>\n",
       "      <td>17212736</td>\n",
       "      <td>Pair</td>\n",
       "      <td>189303406555</td>\n",
       "    </tr>\n",
       "    <tr>\n",
       "      <th>1</th>\n",
       "      <td>2018-07-30</td>\n",
       "      <td>17480064</td>\n",
       "      <td>Pair</td>\n",
       "      <td>189303615886</td>\n",
       "    </tr>\n",
       "    <tr>\n",
       "      <th>2</th>\n",
       "      <td>2018-07-30</td>\n",
       "      <td>51156224</td>\n",
       "      <td>Trips</td>\n",
       "      <td>189303670340</td>\n",
       "    </tr>\n",
       "    <tr>\n",
       "      <th>3</th>\n",
       "      <td>2018-07-30</td>\n",
       "      <td>34093824</td>\n",
       "      <td>Two Pair</td>\n",
       "      <td>189303726585</td>\n",
       "    </tr>\n",
       "    <tr>\n",
       "      <th>4</th>\n",
       "      <td>2018-07-30</td>\n",
       "      <td>17279328</td>\n",
       "      <td>Pair</td>\n",
       "      <td>189303781865</td>\n",
       "    </tr>\n",
       "    <tr>\n",
       "      <th>...</th>\n",
       "      <td>...</td>\n",
       "      <td>...</td>\n",
       "      <td>...</td>\n",
       "      <td>...</td>\n",
       "    </tr>\n",
       "    <tr>\n",
       "      <th>54128</th>\n",
       "      <td>2018-10-31</td>\n",
       "      <td>33896960</td>\n",
       "      <td>Two Pair</td>\n",
       "      <td>192806358233</td>\n",
       "    </tr>\n",
       "    <tr>\n",
       "      <th>54129</th>\n",
       "      <td>2018-10-31</td>\n",
       "      <td>17152608</td>\n",
       "      <td>Pair</td>\n",
       "      <td>192806378110</td>\n",
       "    </tr>\n",
       "    <tr>\n",
       "      <th>54130</th>\n",
       "      <td>2018-10-31</td>\n",
       "      <td>17256960</td>\n",
       "      <td>Pair</td>\n",
       "      <td>192806387181</td>\n",
       "    </tr>\n",
       "    <tr>\n",
       "      <th>54131</th>\n",
       "      <td>2018-10-31</td>\n",
       "      <td>16951616</td>\n",
       "      <td>Pair</td>\n",
       "      <td>192806397211</td>\n",
       "    </tr>\n",
       "    <tr>\n",
       "      <th>54132</th>\n",
       "      <td>2018-10-31</td>\n",
       "      <td>84715634</td>\n",
       "      <td>Flush</td>\n",
       "      <td>192806411628</td>\n",
       "    </tr>\n",
       "  </tbody>\n",
       "</table>\n",
       "<p>54133 rows × 4 columns</p>\n",
       "</div>"
      ],
      "text/plain": [
       "            Date  rang_namber handtypes        HandId\n",
       "0     2018-07-30     17212736      Pair  189303406555\n",
       "1     2018-07-30     17480064      Pair  189303615886\n",
       "2     2018-07-30     51156224     Trips  189303670340\n",
       "3     2018-07-30     34093824  Two Pair  189303726585\n",
       "4     2018-07-30     17279328      Pair  189303781865\n",
       "...          ...          ...       ...           ...\n",
       "54128 2018-10-31     33896960  Two Pair  192806358233\n",
       "54129 2018-10-31     17152608      Pair  192806378110\n",
       "54130 2018-10-31     17256960      Pair  192806387181\n",
       "54131 2018-10-31     16951616      Pair  192806397211\n",
       "54132 2018-10-31     84715634     Flush  192806411628\n",
       "\n",
       "[54133 rows x 4 columns]"
      ]
     },
     "execution_count": 144,
     "metadata": {},
     "output_type": "execute_result"
    }
   ],
   "source": [
    "# Применим функцию к столбцу hand  и запишем в новый столбец rang_namber\n",
    "\n",
    "df['rang_namber'] = df['hand_rang'].str.split().apply(evaluate_)\n",
    "df['handtypes'] = df['rang_namber'].apply(handtype_)\n",
    "df[['Date','rang_namber', 'handtypes','HandId']]\n",
    "# df['filter'] = df.loc[df.handtypes.str.contains('Two Pair', 'Trips', 'Straight', 'Full House', 'Quads', 'Straight Flush'), 'rang_namber']"
   ]
  },
  {
   "cell_type": "code",
   "execution_count": 126,
   "metadata": {},
   "outputs": [
    {
     "data": {
      "text/plain": [
       "Date     handtypes \n",
       "2018-08  Flush           1\n",
       "         Full House      8\n",
       "         High Card      64\n",
       "         Pair           90\n",
       "         Straight       12\n",
       "         Trips          10\n",
       "         Two Pair       25\n",
       "2018-09  Flush           6\n",
       "         Full House      5\n",
       "         High Card     126\n",
       "         Pair          180\n",
       "         Straight       10\n",
       "         Trips          20\n",
       "         Two Pair       65\n",
       "2018-10  Flush          23\n",
       "         Full House     12\n",
       "         High Card     293\n",
       "         Pair          389\n",
       "         Quads           2\n",
       "         Straight       34\n",
       "         Trips          29\n",
       "         Two Pair      142\n",
       "Name: rang_namber, dtype: int64"
      ]
     },
     "execution_count": 126,
     "metadata": {},
     "output_type": "execute_result"
    }
   ],
   "source": [
    "df_raw = df.groupby([df.Date.dt.to_period(\"M\"),\"handtypes\"])['rang_namber'].count()\n",
    "df_raw"
   ]
  },
  {
   "cell_type": "code",
   "execution_count": 72,
   "metadata": {},
   "outputs": [
    {
     "data": {
      "image/png": "[encoded data removed]",
      "text/plain": [
       "<Figure size 576x576 with 1 Axes>"
      ]
     },
     "metadata": {},
     "output_type": "display_data"
    }
   ],
   "source": [
    "# Prepare Data\n",
    "df_plot = df.groupby('handtypes').size()\n",
    "\n",
    "# Make the plot with pandas\n",
    "df_plot.plot(kind='area', subplots=True, figsize=(8, 8))\n",
    "plt.title(\"Колличество комбинаций\")\n",
    "plt.ylabel(\"\")\n",
    "plt.show()"
   ]
  },
  {
   "cell_type": "code",
   "execution_count": null,
   "metadata": {},
   "outputs": [],
   "source": []
  },
  {
   "cell_type": "code",
   "execution_count": 73,
   "metadata": {
    "tags": []
   },
   "outputs": [
    {
     "data": {
      "text/plain": [
       "593     2018-08-07 22:22:20\n",
       "594     2018-08-07 22:23:52\n",
       "595     2018-08-07 22:25:31\n",
       "596     2018-08-07 22:26:42\n",
       "597     2018-08-07 22:27:56\n",
       "                ...        \n",
       "53755   2018-10-31 15:19:57\n",
       "53756   2018-10-31 15:20:12\n",
       "53757   2018-10-31 15:20:40\n",
       "53758   2018-10-31 15:21:31\n",
       "53759   2018-10-31 15:22:47\n",
       "Name: DateTime, Length: 5406, dtype: datetime64[ns]"
      ]
     },
     "execution_count": 73,
     "metadata": {},
     "output_type": "execute_result"
    }
   ],
   "source": [
    "#df['DateTime'] = df['DateTime'][(df['DateTime'] > '2018-10-01 20:00:00') & (df['DateTime'] < '2018-10-02 00:00:00')]\n",
    "df['DateTime']\n"
   ]
  },
  {
   "cell_type": "code",
   "execution_count": 74,
   "metadata": {
    "tags": []
   },
   "outputs": [
    {
     "data": {
      "text/html": [
       "<div>\n",
       "<style scoped>\n",
       "    .dataframe tbody tr th:only-of-type {\n",
       "        vertical-align: middle;\n",
       "    }\n",
       "\n",
       "    .dataframe tbody tr th {\n",
       "        vertical-align: top;\n",
       "    }\n",
       "\n",
       "    .dataframe thead th {\n",
       "        text-align: right;\n",
       "    }\n",
       "</style>\n",
       "<table border=\"1\" class=\"dataframe\">\n",
       "  <thead>\n",
       "    <tr style=\"text-align: right;\">\n",
       "      <th></th>\n",
       "      <th>filter</th>\n",
       "      <th>handtypes</th>\n",
       "      <th>HandHiro</th>\n",
       "      <th>Board</th>\n",
       "    </tr>\n",
       "  </thead>\n",
       "  <tbody>\n",
       "    <tr>\n",
       "      <th>593</th>\n",
       "      <td>50701824.0</td>\n",
       "      <td>Trips</td>\n",
       "      <td>4h 8c</td>\n",
       "      <td>7s 6h 7d 7h Qh</td>\n",
       "    </tr>\n",
       "    <tr>\n",
       "      <th>600</th>\n",
       "      <td>101462016.0</td>\n",
       "      <td>Full House</td>\n",
       "      <td>5c Ah</td>\n",
       "      <td>Qd 8h As Ad 5s</td>\n",
       "    </tr>\n",
       "    <tr>\n",
       "      <th>601</th>\n",
       "      <td>67895296.0</td>\n",
       "      <td>Straight</td>\n",
       "      <td>Th Jd</td>\n",
       "      <td>2d Ac Kd Qd 2h</td>\n",
       "    </tr>\n",
       "    <tr>\n",
       "      <th>619</th>\n",
       "      <td>101130240.0</td>\n",
       "      <td>Full House</td>\n",
       "      <td>9h 4c</td>\n",
       "      <td>4d 9c 9s 6c</td>\n",
       "    </tr>\n",
       "    <tr>\n",
       "      <th>633</th>\n",
       "      <td>50492672.0</td>\n",
       "      <td>Trips</td>\n",
       "      <td>4s 4d</td>\n",
       "      <td>7d 9c 2c 4c</td>\n",
       "    </tr>\n",
       "    <tr>\n",
       "      <th>639</th>\n",
       "      <td>67502080.0</td>\n",
       "      <td>Straight</td>\n",
       "      <td>8c 6d</td>\n",
       "      <td>4d 5d 7d 6h</td>\n",
       "    </tr>\n",
       "    <tr>\n",
       "      <th>642</th>\n",
       "      <td>50973184.0</td>\n",
       "      <td>Trips</td>\n",
       "      <td>2d Jh</td>\n",
       "      <td>As Jd Js Qd 7c</td>\n",
       "    </tr>\n",
       "    <tr>\n",
       "      <th>650</th>\n",
       "      <td>101122048.0</td>\n",
       "      <td>Full House</td>\n",
       "      <td>9h 2c</td>\n",
       "      <td>3d 8s 2h 9c 9d</td>\n",
       "    </tr>\n",
       "    <tr>\n",
       "      <th>651</th>\n",
       "      <td>67567616.0</td>\n",
       "      <td>Straight</td>\n",
       "      <td>7d 5s</td>\n",
       "      <td>8c 5d 6h 9c 3d</td>\n",
       "    </tr>\n",
       "    <tr>\n",
       "      <th>657</th>\n",
       "      <td>50775296.0</td>\n",
       "      <td>Trips</td>\n",
       "      <td>6d Ad</td>\n",
       "      <td>7s 8d 8c 8s</td>\n",
       "    </tr>\n",
       "    <tr>\n",
       "      <th>673</th>\n",
       "      <td>67633152.0</td>\n",
       "      <td>Straight</td>\n",
       "      <td>Th 2h</td>\n",
       "      <td>8d 9c 7c Qc 6h</td>\n",
       "    </tr>\n",
       "    <tr>\n",
       "      <th>674</th>\n",
       "      <td>67436544.0</td>\n",
       "      <td>Straight</td>\n",
       "      <td>7h 5s</td>\n",
       "      <td>4s Qh 6h 3s Td</td>\n",
       "    </tr>\n",
       "    <tr>\n",
       "      <th>675</th>\n",
       "      <td>50640384.0</td>\n",
       "      <td>Trips</td>\n",
       "      <td>6s 6c</td>\n",
       "      <td>6h 8h Kc 5d 3d</td>\n",
       "    </tr>\n",
       "    <tr>\n",
       "      <th>676</th>\n",
       "      <td>84650066.0</td>\n",
       "      <td>Flush</td>\n",
       "      <td>Qc Td</td>\n",
       "      <td>6s 4d Qd 7d Kd</td>\n",
       "    </tr>\n",
       "    <tr>\n",
       "      <th>681</th>\n",
       "      <td>101142528.0</td>\n",
       "      <td>Full House</td>\n",
       "      <td>7d 7s</td>\n",
       "      <td>9c 9d 9s Qd Ts</td>\n",
       "    </tr>\n",
       "    <tr>\n",
       "      <th>692</th>\n",
       "      <td>67764224.0</td>\n",
       "      <td>Straight</td>\n",
       "      <td>4d Jh</td>\n",
       "      <td>Tc Qh 3c 9h 8d</td>\n",
       "    </tr>\n",
       "    <tr>\n",
       "      <th>694</th>\n",
       "      <td>100679680.0</td>\n",
       "      <td>Full House</td>\n",
       "      <td>2h 2c</td>\n",
       "      <td>6h Td 6c 2s Jh</td>\n",
       "    </tr>\n",
       "    <tr>\n",
       "      <th>1092</th>\n",
       "      <td>101449728.0</td>\n",
       "      <td>Full House</td>\n",
       "      <td>4s Ac</td>\n",
       "      <td>2s Qc Ah Ad 2h</td>\n",
       "    </tr>\n",
       "    <tr>\n",
       "      <th>1094</th>\n",
       "      <td>50898688.0</td>\n",
       "      <td>Trips</td>\n",
       "      <td>6d Td</td>\n",
       "      <td>9c Tc Ts 5h Qs</td>\n",
       "    </tr>\n",
       "    <tr>\n",
       "      <th>1098</th>\n",
       "      <td>50885120.0</td>\n",
       "      <td>Trips</td>\n",
       "      <td>Ts 4h</td>\n",
       "      <td>9c Tc Th</td>\n",
       "    </tr>\n",
       "    <tr>\n",
       "      <th>1101</th>\n",
       "      <td>51082752.0</td>\n",
       "      <td>Trips</td>\n",
       "      <td>Ks Kh</td>\n",
       "      <td>8c 2h 9s 4c Kc</td>\n",
       "    </tr>\n",
       "    <tr>\n",
       "      <th>1111</th>\n",
       "      <td>50776320.0</td>\n",
       "      <td>Trips</td>\n",
       "      <td>Ah 2c</td>\n",
       "      <td>8d 6s Jc 8c 8s</td>\n",
       "    </tr>\n",
       "    <tr>\n",
       "      <th>1120</th>\n",
       "      <td>50964480.0</td>\n",
       "      <td>Trips</td>\n",
       "      <td>2c Ts</td>\n",
       "      <td>Jc 6c Jd Qc Jh</td>\n",
       "    </tr>\n",
       "    <tr>\n",
       "      <th>1125</th>\n",
       "      <td>67698688.0</td>\n",
       "      <td>Straight</td>\n",
       "      <td>Jh 6h</td>\n",
       "      <td>9d 7d 8s 5c Ts</td>\n",
       "    </tr>\n",
       "    <tr>\n",
       "      <th>1126</th>\n",
       "      <td>101036032.0</td>\n",
       "      <td>Full House</td>\n",
       "      <td>7s Td</td>\n",
       "      <td>5c Kh 7h 7d Kd</td>\n",
       "    </tr>\n",
       "    <tr>\n",
       "      <th>1127</th>\n",
       "      <td>101060608.0</td>\n",
       "      <td>Full House</td>\n",
       "      <td>8h 8c</td>\n",
       "      <td>3c 8s 3s 5h</td>\n",
       "    </tr>\n",
       "    <tr>\n",
       "      <th>1147</th>\n",
       "      <td>84636961.0</td>\n",
       "      <td>Flush</td>\n",
       "      <td>7d 4d</td>\n",
       "      <td>3d 9d Kd</td>\n",
       "    </tr>\n",
       "    <tr>\n",
       "      <th>1156</th>\n",
       "      <td>67502080.0</td>\n",
       "      <td>Straight</td>\n",
       "      <td>8h Js</td>\n",
       "      <td>7c 5s 4d 7h 6c</td>\n",
       "    </tr>\n",
       "    <tr>\n",
       "      <th>3743</th>\n",
       "      <td>84711522.0</td>\n",
       "      <td>Flush</td>\n",
       "      <td>Td Jc</td>\n",
       "      <td>5h Ad 4d Jd 8d</td>\n",
       "    </tr>\n",
       "    <tr>\n",
       "      <th>3744</th>\n",
       "      <td>67371008.0</td>\n",
       "      <td>Straight</td>\n",
       "      <td>9c 2d</td>\n",
       "      <td>4c 3d 9s 6s 5c</td>\n",
       "    </tr>\n",
       "    <tr>\n",
       "      <th>3774</th>\n",
       "      <td>84702785.0</td>\n",
       "      <td>Flush</td>\n",
       "      <td>Kd Ah</td>\n",
       "      <td>8h 9c 6h 3h 9h</td>\n",
       "    </tr>\n",
       "    <tr>\n",
       "      <th>3786</th>\n",
       "      <td>84650068.0</td>\n",
       "      <td>Flush</td>\n",
       "      <td>Kc 7c</td>\n",
       "      <td>Qc 6c 5h Tc 8d</td>\n",
       "    </tr>\n",
       "    <tr>\n",
       "      <th>3789</th>\n",
       "      <td>84501809.0</td>\n",
       "      <td>Flush</td>\n",
       "      <td>6d 3h</td>\n",
       "      <td>5h 7h As Jh 8h</td>\n",
       "    </tr>\n",
       "    <tr>\n",
       "      <th>3825</th>\n",
       "      <td>84719969.0</td>\n",
       "      <td>Flush</td>\n",
       "      <td>Ac Kc</td>\n",
       "      <td>4s 8c 3c 2c Jc</td>\n",
       "    </tr>\n",
       "    <tr>\n",
       "      <th>3826</th>\n",
       "      <td>50570752.0</td>\n",
       "      <td>Trips</td>\n",
       "      <td>7h 5s</td>\n",
       "      <td>5c 5h 8s Qs 4c</td>\n",
       "    </tr>\n",
       "    <tr>\n",
       "      <th>4402</th>\n",
       "      <td>84719715.0</td>\n",
       "      <td>Flush</td>\n",
       "      <td>8d Td</td>\n",
       "      <td>Ad Kd Kc 5d 8c</td>\n",
       "    </tr>\n",
       "    <tr>\n",
       "      <th>4410</th>\n",
       "      <td>50907904.0</td>\n",
       "      <td>Trips</td>\n",
       "      <td>Kh Th</td>\n",
       "      <td>Ac 9h Ts Jd Tc</td>\n",
       "    </tr>\n",
       "    <tr>\n",
       "      <th>4415</th>\n",
       "      <td>50967552.0</td>\n",
       "      <td>Trips</td>\n",
       "      <td>Ks 6s</td>\n",
       "      <td>Jc Js Jd 4s</td>\n",
       "    </tr>\n",
       "    <tr>\n",
       "      <th>4426</th>\n",
       "      <td>51156736.0</td>\n",
       "      <td>Trips</td>\n",
       "      <td>Ad 6c</td>\n",
       "      <td>9h Js Ah 5d Ac</td>\n",
       "    </tr>\n",
       "    <tr>\n",
       "      <th>4451</th>\n",
       "      <td>50881536.0</td>\n",
       "      <td>Trips</td>\n",
       "      <td>Th 6d</td>\n",
       "      <td>Td 5h 4h 8h Ts</td>\n",
       "    </tr>\n",
       "    <tr>\n",
       "      <th>4457</th>\n",
       "      <td>51159040.0</td>\n",
       "      <td>Trips</td>\n",
       "      <td>As Ac</td>\n",
       "      <td>Ad 2c Qs</td>\n",
       "    </tr>\n",
       "    <tr>\n",
       "      <th>4462</th>\n",
       "      <td>50637056.0</td>\n",
       "      <td>Trips</td>\n",
       "      <td>6h 6c</td>\n",
       "      <td>9s 6s Tc Qd Js</td>\n",
       "    </tr>\n",
       "    <tr>\n",
       "      <th>4465</th>\n",
       "      <td>50644480.0</td>\n",
       "      <td>Trips</td>\n",
       "      <td>6h 6d</td>\n",
       "      <td>3h Ac 6c 8c</td>\n",
       "    </tr>\n",
       "    <tr>\n",
       "      <th>4478</th>\n",
       "      <td>67502080.0</td>\n",
       "      <td>Straight</td>\n",
       "      <td>6s As</td>\n",
       "      <td>Js 5d 7h 8d 4c</td>\n",
       "    </tr>\n",
       "    <tr>\n",
       "      <th>4597</th>\n",
       "      <td>51103488.0</td>\n",
       "      <td>Trips</td>\n",
       "      <td>Kh 9d</td>\n",
       "      <td>Kc Ks 5s Ah 6s</td>\n",
       "    </tr>\n",
       "    <tr>\n",
       "      <th>4608</th>\n",
       "      <td>67305472.0</td>\n",
       "      <td>Straight</td>\n",
       "      <td>5d Ac</td>\n",
       "      <td>4c 7h 2c 3c 7s</td>\n",
       "    </tr>\n",
       "    <tr>\n",
       "      <th>4612</th>\n",
       "      <td>51095808.0</td>\n",
       "      <td>Trips</td>\n",
       "      <td>Ts 3d</td>\n",
       "      <td>Ks Js Kd Qs Kh</td>\n",
       "    </tr>\n",
       "    <tr>\n",
       "      <th>4615</th>\n",
       "      <td>50836736.0</td>\n",
       "      <td>Trips</td>\n",
       "      <td>9d Ks</td>\n",
       "      <td>6s 9s 7h 4s 9h</td>\n",
       "    </tr>\n",
       "    <tr>\n",
       "      <th>4625</th>\n",
       "      <td>101470208.0</td>\n",
       "      <td>Full House</td>\n",
       "      <td>Ah 7h</td>\n",
       "      <td>Ac 5d 3c 7s Ad</td>\n",
       "    </tr>\n",
       "    <tr>\n",
       "      <th>4653</th>\n",
       "      <td>67502080.0</td>\n",
       "      <td>Straight</td>\n",
       "      <td>5c 4h</td>\n",
       "      <td>2s 8d 3h 7d 6c</td>\n",
       "    </tr>\n",
       "  </tbody>\n",
       "</table>\n",
       "</div>"
      ],
      "text/plain": [
       "           filter   handtypes HandHiro           Board\n",
       "593    50701824.0       Trips    4h 8c  7s 6h 7d 7h Qh\n",
       "600   101462016.0  Full House    5c Ah  Qd 8h As Ad 5s\n",
       "601    67895296.0    Straight    Th Jd  2d Ac Kd Qd 2h\n",
       "619   101130240.0  Full House    9h 4c     4d 9c 9s 6c\n",
       "633    50492672.0       Trips    4s 4d     7d 9c 2c 4c\n",
       "639    67502080.0    Straight    8c 6d     4d 5d 7d 6h\n",
       "642    50973184.0       Trips    2d Jh  As Jd Js Qd 7c\n",
       "650   101122048.0  Full House    9h 2c  3d 8s 2h 9c 9d\n",
       "651    67567616.0    Straight    7d 5s  8c 5d 6h 9c 3d\n",
       "657    50775296.0       Trips    6d Ad     7s 8d 8c 8s\n",
       "673    67633152.0    Straight    Th 2h  8d 9c 7c Qc 6h\n",
       "674    67436544.0    Straight    7h 5s  4s Qh 6h 3s Td\n",
       "675    50640384.0       Trips    6s 6c  6h 8h Kc 5d 3d\n",
       "676    84650066.0       Flush    Qc Td  6s 4d Qd 7d Kd\n",
       "681   101142528.0  Full House    7d 7s  9c 9d 9s Qd Ts\n",
       "692    67764224.0    Straight    4d Jh  Tc Qh 3c 9h 8d\n",
       "694   100679680.0  Full House    2h 2c  6h Td 6c 2s Jh\n",
       "1092  101449728.0  Full House    4s Ac  2s Qc Ah Ad 2h\n",
       "1094   50898688.0       Trips    6d Td  9c Tc Ts 5h Qs\n",
       "1098   50885120.0       Trips    Ts 4h        9c Tc Th\n",
       "1101   51082752.0       Trips    Ks Kh  8c 2h 9s 4c Kc\n",
       "1111   50776320.0       Trips    Ah 2c  8d 6s Jc 8c 8s\n",
       "1120   50964480.0       Trips    2c Ts  Jc 6c Jd Qc Jh\n",
       "1125   67698688.0    Straight    Jh 6h  9d 7d 8s 5c Ts\n",
       "1126  101036032.0  Full House    7s Td  5c Kh 7h 7d Kd\n",
       "1127  101060608.0  Full House    8h 8c     3c 8s 3s 5h\n",
       "1147   84636961.0       Flush    7d 4d        3d 9d Kd\n",
       "1156   67502080.0    Straight    8h Js  7c 5s 4d 7h 6c\n",
       "3743   84711522.0       Flush    Td Jc  5h Ad 4d Jd 8d\n",
       "3744   67371008.0    Straight    9c 2d  4c 3d 9s 6s 5c\n",
       "3774   84702785.0       Flush    Kd Ah  8h 9c 6h 3h 9h\n",
       "3786   84650068.0       Flush    Kc 7c  Qc 6c 5h Tc 8d\n",
       "3789   84501809.0       Flush    6d 3h  5h 7h As Jh 8h\n",
       "3825   84719969.0       Flush    Ac Kc  4s 8c 3c 2c Jc\n",
       "3826   50570752.0       Trips    7h 5s  5c 5h 8s Qs 4c\n",
       "4402   84719715.0       Flush    8d Td  Ad Kd Kc 5d 8c\n",
       "4410   50907904.0       Trips    Kh Th  Ac 9h Ts Jd Tc\n",
       "4415   50967552.0       Trips    Ks 6s     Jc Js Jd 4s\n",
       "4426   51156736.0       Trips    Ad 6c  9h Js Ah 5d Ac\n",
       "4451   50881536.0       Trips    Th 6d  Td 5h 4h 8h Ts\n",
       "4457   51159040.0       Trips    As Ac        Ad 2c Qs\n",
       "4462   50637056.0       Trips    6h 6c  9s 6s Tc Qd Js\n",
       "4465   50644480.0       Trips    6h 6d     3h Ac 6c 8c\n",
       "4478   67502080.0    Straight    6s As  Js 5d 7h 8d 4c\n",
       "4597   51103488.0       Trips    Kh 9d  Kc Ks 5s Ah 6s\n",
       "4608   67305472.0    Straight    5d Ac  4c 7h 2c 3c 7s\n",
       "4612   51095808.0       Trips    Ts 3d  Ks Js Kd Qs Kh\n",
       "4615   50836736.0       Trips    9d Ks  6s 9s 7h 4s 9h\n",
       "4625  101470208.0  Full House    Ah 7h  Ac 5d 3c 7s Ad\n",
       "4653   67502080.0    Straight    5c 4h  2s 8d 3h 7d 6c"
      ]
     },
     "execution_count": 74,
     "metadata": {},
     "output_type": "execute_result"
    }
   ],
   "source": [
    "# отфильтруем комбинации \"старшая карта\" и \"пара\"\n",
    "df['filter'] = df['rang_namber'][df['rang_namber'] > 50000000] #[((df['rang_namber'] > 50000000) & (df['rang_namber'] < 60000000))]\n",
    "df = df.dropna()\n",
    "df[['filter','handtypes','HandHiro','Board']].head(50)\n",
    "# df['filter_Two Pair'] = df['handtypes'][df['handtypes'] == 'Two Pair']\n",
    "# df['filter_Two Pair']"
   ]
  },
  {
   "cell_type": "code",
   "execution_count": 75,
   "metadata": {},
   "outputs": [
    {
     "data": {
      "text/html": [
       "<div>\n",
       "<style scoped>\n",
       "    .dataframe tbody tr th:only-of-type {\n",
       "        vertical-align: middle;\n",
       "    }\n",
       "\n",
       "    .dataframe tbody tr th {\n",
       "        vertical-align: top;\n",
       "    }\n",
       "\n",
       "    .dataframe thead th {\n",
       "        text-align: right;\n",
       "    }\n",
       "</style>\n",
       "<table border=\"1\" class=\"dataframe\">\n",
       "  <thead>\n",
       "    <tr style=\"text-align: right;\">\n",
       "      <th></th>\n",
       "      <th>DateTime</th>\n",
       "      <th>filter</th>\n",
       "    </tr>\n",
       "  </thead>\n",
       "  <tbody>\n",
       "    <tr>\n",
       "      <th>593</th>\n",
       "      <td>2018-08-07 22:22:20</td>\n",
       "      <td>50701824.0</td>\n",
       "    </tr>\n",
       "    <tr>\n",
       "      <th>600</th>\n",
       "      <td>2018-08-07 22:30:28</td>\n",
       "      <td>101462016.0</td>\n",
       "    </tr>\n",
       "    <tr>\n",
       "      <th>601</th>\n",
       "      <td>2018-08-07 22:31:51</td>\n",
       "      <td>67895296.0</td>\n",
       "    </tr>\n",
       "    <tr>\n",
       "      <th>619</th>\n",
       "      <td>2018-08-07 22:50:10</td>\n",
       "      <td>101130240.0</td>\n",
       "    </tr>\n",
       "    <tr>\n",
       "      <th>633</th>\n",
       "      <td>2018-08-07 23:09:42</td>\n",
       "      <td>50492672.0</td>\n",
       "    </tr>\n",
       "  </tbody>\n",
       "</table>\n",
       "</div>"
      ],
      "text/plain": [
       "               DateTime       filter\n",
       "593 2018-08-07 22:22:20   50701824.0\n",
       "600 2018-08-07 22:30:28  101462016.0\n",
       "601 2018-08-07 22:31:51   67895296.0\n",
       "619 2018-08-07 22:50:10  101130240.0\n",
       "633 2018-08-07 23:09:42   50492672.0"
      ]
     },
     "execution_count": 75,
     "metadata": {},
     "output_type": "execute_result"
    }
   ],
   "source": [
    "data = df[['DateTime', 'filter']]\n",
    "data.head()"
   ]
  },
  {
   "cell_type": "code",
   "execution_count": 76,
   "metadata": {},
   "outputs": [
    {
     "data": {
      "text/plain": [
       "DateTime    0\n",
       "filter      0\n",
       "dtype: int64"
      ]
     },
     "execution_count": 76,
     "metadata": {},
     "output_type": "execute_result"
    }
   ],
   "source": [
    "data.isnull().sum()"
   ]
  },
  {
   "cell_type": "code",
   "execution_count": 77,
   "metadata": {
    "tags": []
   },
   "outputs": [],
   "source": [
    "# преобразуем время во временной ряд\n"
   ]
  },
  {
   "cell_type": "code",
   "execution_count": 78,
   "metadata": {
    "tags": []
   },
   "outputs": [
    {
     "data": {
      "text/plain": [
       "DateTime\n",
       "2018-08-07 22:22:20      0\n",
       "2018-08-07 22:30:28      1\n",
       "2018-08-07 22:31:51      2\n",
       "2018-08-07 22:50:10      3\n",
       "2018-08-07 23:09:42      4\n",
       "                      ... \n",
       "2018-10-31 14:43:01    577\n",
       "2018-10-31 14:50:16    578\n",
       "2018-10-31 15:00:30    579\n",
       "2018-10-31 15:04:40    580\n",
       "2018-10-31 15:06:12    581\n",
       "Length: 582, dtype: int64"
      ]
     },
     "execution_count": 78,
     "metadata": {},
     "output_type": "execute_result"
    }
   ],
   "source": [
    "\n",
    "\n",
    "idx = df['DateTime']\n",
    " # datetime.timedelta(seconds=24*60*60).total_seconds()\n",
    "\n",
    "# second = df['DateTime'].dt.total_seconds()\n",
    "# second\n",
    "\n",
    "# idx = pd.date_range(df['DateTime'], periods=5, freq=\"H\")\n",
    "# idx\n",
    "tim = pd.Series(range(len(idx)), index=idx)\n",
    "\n",
    "# ts.resample(\"2H\").mean()\n",
    "tim "
   ]
  },
  {
   "cell_type": "code",
   "execution_count": 79,
   "metadata": {},
   "outputs": [],
   "source": [
    "# # # idx = pd.date_range('2019-01-01', periods=48, freq='H')\n",
    "# # x = pd.Series(range(len(idx)), index=idx)\n",
    "# y = tim\n",
    "# # add 'hour' and 'day' columns in the dataframe\n",
    "# d = {'x': x, 'y': y, 'hour': idx.hour, 'day': idx.day}\n",
    "# df = pd.DataFrame(data=d)\n",
    "# # use 'hour' as x axis to plot, and 'day' as marker color\n",
    "# df.plot.scatter(x='hour', y='y', c='day', colormap='rainbow')\n",
    "# plt.show()"
   ]
  },
  {
   "cell_type": "code",
   "execution_count": 80,
   "metadata": {},
   "outputs": [
    {
     "data": {
      "text/plain": [
       "DateTime    datetime64[ns]\n",
       "filter             float64\n",
       "dtype: object"
      ]
     },
     "execution_count": 80,
     "metadata": {},
     "output_type": "execute_result"
    }
   ],
   "source": [
    "data.dtypes"
   ]
  },
  {
   "cell_type": "code",
   "execution_count": 81,
   "metadata": {},
   "outputs": [
    {
     "data": {
      "text/html": [
       "<div>\n",
       "<style scoped>\n",
       "    .dataframe tbody tr th:only-of-type {\n",
       "        vertical-align: middle;\n",
       "    }\n",
       "\n",
       "    .dataframe tbody tr th {\n",
       "        vertical-align: top;\n",
       "    }\n",
       "\n",
       "    .dataframe thead th {\n",
       "        text-align: right;\n",
       "    }\n",
       "</style>\n",
       "<table border=\"1\" class=\"dataframe\">\n",
       "  <thead>\n",
       "    <tr style=\"text-align: right;\">\n",
       "      <th></th>\n",
       "      <th>filter</th>\n",
       "    </tr>\n",
       "    <tr>\n",
       "      <th>DateTime</th>\n",
       "      <th></th>\n",
       "    </tr>\n",
       "  </thead>\n",
       "  <tbody>\n",
       "    <tr>\n",
       "      <th>2018-08-07 22:22:20</th>\n",
       "      <td>50701824.0</td>\n",
       "    </tr>\n",
       "    <tr>\n",
       "      <th>2018-08-07 22:30:28</th>\n",
       "      <td>101462016.0</td>\n",
       "    </tr>\n",
       "    <tr>\n",
       "      <th>2018-08-07 22:31:51</th>\n",
       "      <td>67895296.0</td>\n",
       "    </tr>\n",
       "    <tr>\n",
       "      <th>2018-08-07 22:50:10</th>\n",
       "      <td>101130240.0</td>\n",
       "    </tr>\n",
       "    <tr>\n",
       "      <th>2018-08-07 23:09:42</th>\n",
       "      <td>50492672.0</td>\n",
       "    </tr>\n",
       "    <tr>\n",
       "      <th>2018-08-07 23:13:22</th>\n",
       "      <td>67502080.0</td>\n",
       "    </tr>\n",
       "    <tr>\n",
       "      <th>2018-08-07 23:15:44</th>\n",
       "      <td>50973184.0</td>\n",
       "    </tr>\n",
       "    <tr>\n",
       "      <th>2018-08-07 23:19:35</th>\n",
       "      <td>101122048.0</td>\n",
       "    </tr>\n",
       "    <tr>\n",
       "      <th>2018-08-07 23:19:54</th>\n",
       "      <td>67567616.0</td>\n",
       "    </tr>\n",
       "    <tr>\n",
       "      <th>2018-08-07 23:22:59</th>\n",
       "      <td>50775296.0</td>\n",
       "    </tr>\n",
       "    <tr>\n",
       "      <th>2018-08-07 23:30:24</th>\n",
       "      <td>67633152.0</td>\n",
       "    </tr>\n",
       "    <tr>\n",
       "      <th>2018-08-07 23:30:53</th>\n",
       "      <td>67436544.0</td>\n",
       "    </tr>\n",
       "    <tr>\n",
       "      <th>2018-08-07 23:31:27</th>\n",
       "      <td>50640384.0</td>\n",
       "    </tr>\n",
       "    <tr>\n",
       "      <th>2018-08-07 23:32:00</th>\n",
       "      <td>84650066.0</td>\n",
       "    </tr>\n",
       "    <tr>\n",
       "      <th>2018-08-07 23:33:57</th>\n",
       "      <td>101142528.0</td>\n",
       "    </tr>\n",
       "    <tr>\n",
       "      <th>2018-08-07 23:39:13</th>\n",
       "      <td>67764224.0</td>\n",
       "    </tr>\n",
       "    <tr>\n",
       "      <th>2018-08-07 23:40:10</th>\n",
       "      <td>100679680.0</td>\n",
       "    </tr>\n",
       "    <tr>\n",
       "      <th>2018-08-10 12:49:48</th>\n",
       "      <td>101449728.0</td>\n",
       "    </tr>\n",
       "    <tr>\n",
       "      <th>2018-08-10 12:52:05</th>\n",
       "      <td>50898688.0</td>\n",
       "    </tr>\n",
       "    <tr>\n",
       "      <th>2018-08-10 12:56:40</th>\n",
       "      <td>50885120.0</td>\n",
       "    </tr>\n",
       "  </tbody>\n",
       "</table>\n",
       "</div>"
      ],
      "text/plain": [
       "                          filter\n",
       "DateTime                        \n",
       "2018-08-07 22:22:20   50701824.0\n",
       "2018-08-07 22:30:28  101462016.0\n",
       "2018-08-07 22:31:51   67895296.0\n",
       "2018-08-07 22:50:10  101130240.0\n",
       "2018-08-07 23:09:42   50492672.0\n",
       "2018-08-07 23:13:22   67502080.0\n",
       "2018-08-07 23:15:44   50973184.0\n",
       "2018-08-07 23:19:35  101122048.0\n",
       "2018-08-07 23:19:54   67567616.0\n",
       "2018-08-07 23:22:59   50775296.0\n",
       "2018-08-07 23:30:24   67633152.0\n",
       "2018-08-07 23:30:53   67436544.0\n",
       "2018-08-07 23:31:27   50640384.0\n",
       "2018-08-07 23:32:00   84650066.0\n",
       "2018-08-07 23:33:57  101142528.0\n",
       "2018-08-07 23:39:13   67764224.0\n",
       "2018-08-07 23:40:10  100679680.0\n",
       "2018-08-10 12:49:48  101449728.0\n",
       "2018-08-10 12:52:05   50898688.0\n",
       "2018-08-10 12:56:40   50885120.0"
      ]
     },
     "execution_count": 81,
     "metadata": {},
     "output_type": "execute_result"
    }
   ],
   "source": [
    "# установить datetime Объект в качестве индекса кадра данных\n",
    "data = data.set_index('DateTime')\n",
    "data.head(20)"
   ]
  },
  {
   "cell_type": "code",
   "execution_count": 82,
   "metadata": {},
   "outputs": [
    {
     "data": {
      "text/plain": [
       "<AxesSubplot:xlabel='DateTime'>"
      ]
     },
     "execution_count": 82,
     "metadata": {},
     "output_type": "execute_result"
    },
    {
     "data": {
      "image/png": "[encoded data removed]",
      "text/plain": [
       "<Figure size 432x288 with 1 Axes>"
      ]
     },
     "metadata": {},
     "output_type": "display_data"
    }
   ],
   "source": [
    "\n",
    "# data.plot(grid=True)\n",
    "\n",
    "data['filter'].plot(kind='bar')\n",
    "\n",
    "# import matplotlib.pyplot as plt\n",
    "# from matplotlib.dates import DateFormatter\n",
    "# # Группировка за месяц\n",
    "# df_month = data.resample(\"M\").mean()\n",
    "\n",
    "# fig, ax = plt.subplots(figsize=(10, 6))\n",
    "# ax.xaxis.set_major_formatter(DateFormatter('%Y-%m'))\n",
    "# ax.bar(\n",
    "#     df_month['2018':].index, \n",
    "#     df_month.loc['2016':, \"filter\"], \n",
    "#     width=25, align='center')"
   ]
  },
  {
   "cell_type": "code",
   "execution_count": 85,
   "metadata": {},
   "outputs": [
    {
     "ename": "OverflowError",
     "evalue": "int too big to convert",
     "output_type": "error",
     "traceback": [
      "\u001b[1;31m---------------------------------------------------------------------------\u001b[0m",
      "\u001b[1;31mOverflowError\u001b[0m                             Traceback (most recent call last)",
      "\u001b[1;32m~\\anaconda3\\lib\\site-packages\\IPython\\core\\formatters.py\u001b[0m in \u001b[0;36m__call__\u001b[1;34m(self, obj)\u001b[0m\n\u001b[0;32m    339\u001b[0m                 \u001b[1;32mpass\u001b[0m\u001b[1;33m\u001b[0m\u001b[1;33m\u001b[0m\u001b[0m\n\u001b[0;32m    340\u001b[0m             \u001b[1;32melse\u001b[0m\u001b[1;33m:\u001b[0m\u001b[1;33m\u001b[0m\u001b[1;33m\u001b[0m\u001b[0m\n\u001b[1;32m--> 341\u001b[1;33m                 \u001b[1;32mreturn\u001b[0m \u001b[0mprinter\u001b[0m\u001b[1;33m(\u001b[0m\u001b[0mobj\u001b[0m\u001b[1;33m)\u001b[0m\u001b[1;33m\u001b[0m\u001b[1;33m\u001b[0m\u001b[0m\n\u001b[0m\u001b[0;32m    342\u001b[0m             \u001b[1;31m# Finally look for special method names\u001b[0m\u001b[1;33m\u001b[0m\u001b[1;33m\u001b[0m\u001b[0m\n\u001b[0;32m    343\u001b[0m             \u001b[0mmethod\u001b[0m \u001b[1;33m=\u001b[0m \u001b[0mget_real_method\u001b[0m\u001b[1;33m(\u001b[0m\u001b[0mobj\u001b[0m\u001b[1;33m,\u001b[0m \u001b[0mself\u001b[0m\u001b[1;33m.\u001b[0m\u001b[0mprint_method\u001b[0m\u001b[1;33m)\u001b[0m\u001b[1;33m\u001b[0m\u001b[1;33m\u001b[0m\u001b[0m\n",
      "\u001b[1;32m~\\anaconda3\\lib\\site-packages\\IPython\\core\\pylabtools.py\u001b[0m in \u001b[0;36mprint_figure\u001b[1;34m(fig, fmt, bbox_inches, base64, **kwargs)\u001b[0m\n\u001b[0;32m    149\u001b[0m         \u001b[0mFigureCanvasBase\u001b[0m\u001b[1;33m(\u001b[0m\u001b[0mfig\u001b[0m\u001b[1;33m)\u001b[0m\u001b[1;33m\u001b[0m\u001b[1;33m\u001b[0m\u001b[0m\n\u001b[0;32m    150\u001b[0m \u001b[1;33m\u001b[0m\u001b[0m\n\u001b[1;32m--> 151\u001b[1;33m     \u001b[0mfig\u001b[0m\u001b[1;33m.\u001b[0m\u001b[0mcanvas\u001b[0m\u001b[1;33m.\u001b[0m\u001b[0mprint_figure\u001b[0m\u001b[1;33m(\u001b[0m\u001b[0mbytes_io\u001b[0m\u001b[1;33m,\u001b[0m \u001b[1;33m**\u001b[0m\u001b[0mkw\u001b[0m\u001b[1;33m)\u001b[0m\u001b[1;33m\u001b[0m\u001b[1;33m\u001b[0m\u001b[0m\n\u001b[0m\u001b[0;32m    152\u001b[0m     \u001b[0mdata\u001b[0m \u001b[1;33m=\u001b[0m \u001b[0mbytes_io\u001b[0m\u001b[1;33m.\u001b[0m\u001b[0mgetvalue\u001b[0m\u001b[1;33m(\u001b[0m\u001b[1;33m)\u001b[0m\u001b[1;33m\u001b[0m\u001b[1;33m\u001b[0m\u001b[0m\n\u001b[0;32m    153\u001b[0m     \u001b[1;32mif\u001b[0m \u001b[0mfmt\u001b[0m \u001b[1;33m==\u001b[0m \u001b[1;34m'svg'\u001b[0m\u001b[1;33m:\u001b[0m\u001b[1;33m\u001b[0m\u001b[1;33m\u001b[0m\u001b[0m\n",
      "\u001b[1;32m~\\anaconda3\\lib\\site-packages\\matplotlib\\backend_bases.py\u001b[0m in \u001b[0;36mprint_figure\u001b[1;34m(self, filename, dpi, facecolor, edgecolor, orientation, format, bbox_inches, pad_inches, bbox_extra_artists, backend, **kwargs)\u001b[0m\n\u001b[0;32m   2228\u001b[0m                        else suppress())\n\u001b[0;32m   2229\u001b[0m                 \u001b[1;32mwith\u001b[0m \u001b[0mctx\u001b[0m\u001b[1;33m:\u001b[0m\u001b[1;33m\u001b[0m\u001b[1;33m\u001b[0m\u001b[0m\n\u001b[1;32m-> 2230\u001b[1;33m                     \u001b[0mself\u001b[0m\u001b[1;33m.\u001b[0m\u001b[0mfigure\u001b[0m\u001b[1;33m.\u001b[0m\u001b[0mdraw\u001b[0m\u001b[1;33m(\u001b[0m\u001b[0mrenderer\u001b[0m\u001b[1;33m)\u001b[0m\u001b[1;33m\u001b[0m\u001b[1;33m\u001b[0m\u001b[0m\n\u001b[0m\u001b[0;32m   2231\u001b[0m \u001b[1;33m\u001b[0m\u001b[0m\n\u001b[0;32m   2232\u001b[0m             \u001b[1;32mif\u001b[0m \u001b[0mbbox_inches\u001b[0m\u001b[1;33m:\u001b[0m\u001b[1;33m\u001b[0m\u001b[1;33m\u001b[0m\u001b[0m\n",
      "\u001b[1;32m~\\anaconda3\\lib\\site-packages\\matplotlib\\artist.py\u001b[0m in \u001b[0;36mdraw_wrapper\u001b[1;34m(artist, renderer, *args, **kwargs)\u001b[0m\n\u001b[0;32m     72\u001b[0m     \u001b[1;33m@\u001b[0m\u001b[0mwraps\u001b[0m\u001b[1;33m(\u001b[0m\u001b[0mdraw\u001b[0m\u001b[1;33m)\u001b[0m\u001b[1;33m\u001b[0m\u001b[1;33m\u001b[0m\u001b[0m\n\u001b[0;32m     73\u001b[0m     \u001b[1;32mdef\u001b[0m \u001b[0mdraw_wrapper\u001b[0m\u001b[1;33m(\u001b[0m\u001b[0martist\u001b[0m\u001b[1;33m,\u001b[0m \u001b[0mrenderer\u001b[0m\u001b[1;33m,\u001b[0m \u001b[1;33m*\u001b[0m\u001b[0margs\u001b[0m\u001b[1;33m,\u001b[0m \u001b[1;33m**\u001b[0m\u001b[0mkwargs\u001b[0m\u001b[1;33m)\u001b[0m\u001b[1;33m:\u001b[0m\u001b[1;33m\u001b[0m\u001b[1;33m\u001b[0m\u001b[0m\n\u001b[1;32m---> 74\u001b[1;33m         \u001b[0mresult\u001b[0m \u001b[1;33m=\u001b[0m \u001b[0mdraw\u001b[0m\u001b[1;33m(\u001b[0m\u001b[0martist\u001b[0m\u001b[1;33m,\u001b[0m \u001b[0mrenderer\u001b[0m\u001b[1;33m,\u001b[0m \u001b[1;33m*\u001b[0m\u001b[0margs\u001b[0m\u001b[1;33m,\u001b[0m \u001b[1;33m**\u001b[0m\u001b[0mkwargs\u001b[0m\u001b[1;33m)\u001b[0m\u001b[1;33m\u001b[0m\u001b[1;33m\u001b[0m\u001b[0m\n\u001b[0m\u001b[0;32m     75\u001b[0m         \u001b[1;32mif\u001b[0m \u001b[0mrenderer\u001b[0m\u001b[1;33m.\u001b[0m\u001b[0m_rasterizing\u001b[0m\u001b[1;33m:\u001b[0m\u001b[1;33m\u001b[0m\u001b[1;33m\u001b[0m\u001b[0m\n\u001b[0;32m     76\u001b[0m             \u001b[0mrenderer\u001b[0m\u001b[1;33m.\u001b[0m\u001b[0mstop_rasterizing\u001b[0m\u001b[1;33m(\u001b[0m\u001b[1;33m)\u001b[0m\u001b[1;33m\u001b[0m\u001b[1;33m\u001b[0m\u001b[0m\n",
      "\u001b[1;32m~\\anaconda3\\lib\\site-packages\\matplotlib\\artist.py\u001b[0m in \u001b[0;36mdraw_wrapper\u001b[1;34m(artist, renderer, *args, **kwargs)\u001b[0m\n\u001b[0;32m     49\u001b[0m                 \u001b[0mrenderer\u001b[0m\u001b[1;33m.\u001b[0m\u001b[0mstart_filter\u001b[0m\u001b[1;33m(\u001b[0m\u001b[1;33m)\u001b[0m\u001b[1;33m\u001b[0m\u001b[1;33m\u001b[0m\u001b[0m\n\u001b[0;32m     50\u001b[0m \u001b[1;33m\u001b[0m\u001b[0m\n\u001b[1;32m---> 51\u001b[1;33m             \u001b[1;32mreturn\u001b[0m \u001b[0mdraw\u001b[0m\u001b[1;33m(\u001b[0m\u001b[0martist\u001b[0m\u001b[1;33m,\u001b[0m \u001b[0mrenderer\u001b[0m\u001b[1;33m,\u001b[0m \u001b[1;33m*\u001b[0m\u001b[0margs\u001b[0m\u001b[1;33m,\u001b[0m \u001b[1;33m**\u001b[0m\u001b[0mkwargs\u001b[0m\u001b[1;33m)\u001b[0m\u001b[1;33m\u001b[0m\u001b[1;33m\u001b[0m\u001b[0m\n\u001b[0m\u001b[0;32m     52\u001b[0m         \u001b[1;32mfinally\u001b[0m\u001b[1;33m:\u001b[0m\u001b[1;33m\u001b[0m\u001b[1;33m\u001b[0m\u001b[0m\n\u001b[0;32m     53\u001b[0m             \u001b[1;32mif\u001b[0m \u001b[0martist\u001b[0m\u001b[1;33m.\u001b[0m\u001b[0mget_agg_filter\u001b[0m\u001b[1;33m(\u001b[0m\u001b[1;33m)\u001b[0m \u001b[1;32mis\u001b[0m \u001b[1;32mnot\u001b[0m \u001b[1;32mNone\u001b[0m\u001b[1;33m:\u001b[0m\u001b[1;33m\u001b[0m\u001b[1;33m\u001b[0m\u001b[0m\n",
      "\u001b[1;32m~\\anaconda3\\lib\\site-packages\\matplotlib\\figure.py\u001b[0m in \u001b[0;36mdraw\u001b[1;34m(self, renderer)\u001b[0m\n\u001b[0;32m   2788\u001b[0m \u001b[1;33m\u001b[0m\u001b[0m\n\u001b[0;32m   2789\u001b[0m             \u001b[0mself\u001b[0m\u001b[1;33m.\u001b[0m\u001b[0mpatch\u001b[0m\u001b[1;33m.\u001b[0m\u001b[0mdraw\u001b[0m\u001b[1;33m(\u001b[0m\u001b[0mrenderer\u001b[0m\u001b[1;33m)\u001b[0m\u001b[1;33m\u001b[0m\u001b[1;33m\u001b[0m\u001b[0m\n\u001b[1;32m-> 2790\u001b[1;33m             mimage._draw_list_compositing_images(\n\u001b[0m\u001b[0;32m   2791\u001b[0m                 renderer, self, artists, self.suppressComposite)\n\u001b[0;32m   2792\u001b[0m \u001b[1;33m\u001b[0m\u001b[0m\n",
      "\u001b[1;32m~\\anaconda3\\lib\\site-packages\\matplotlib\\image.py\u001b[0m in \u001b[0;36m_draw_list_compositing_images\u001b[1;34m(renderer, parent, artists, suppress_composite)\u001b[0m\n\u001b[0;32m    130\u001b[0m     \u001b[1;32mif\u001b[0m \u001b[0mnot_composite\u001b[0m \u001b[1;32mor\u001b[0m \u001b[1;32mnot\u001b[0m \u001b[0mhas_images\u001b[0m\u001b[1;33m:\u001b[0m\u001b[1;33m\u001b[0m\u001b[1;33m\u001b[0m\u001b[0m\n\u001b[0;32m    131\u001b[0m         \u001b[1;32mfor\u001b[0m \u001b[0ma\u001b[0m \u001b[1;32min\u001b[0m \u001b[0martists\u001b[0m\u001b[1;33m:\u001b[0m\u001b[1;33m\u001b[0m\u001b[1;33m\u001b[0m\u001b[0m\n\u001b[1;32m--> 132\u001b[1;33m             \u001b[0ma\u001b[0m\u001b[1;33m.\u001b[0m\u001b[0mdraw\u001b[0m\u001b[1;33m(\u001b[0m\u001b[0mrenderer\u001b[0m\u001b[1;33m)\u001b[0m\u001b[1;33m\u001b[0m\u001b[1;33m\u001b[0m\u001b[0m\n\u001b[0m\u001b[0;32m    133\u001b[0m     \u001b[1;32melse\u001b[0m\u001b[1;33m:\u001b[0m\u001b[1;33m\u001b[0m\u001b[1;33m\u001b[0m\u001b[0m\n\u001b[0;32m    134\u001b[0m         \u001b[1;31m# Composite any adjacent images together\u001b[0m\u001b[1;33m\u001b[0m\u001b[1;33m\u001b[0m\u001b[0m\n",
      "\u001b[1;32m~\\anaconda3\\lib\\site-packages\\matplotlib\\artist.py\u001b[0m in \u001b[0;36mdraw_wrapper\u001b[1;34m(artist, renderer, *args, **kwargs)\u001b[0m\n\u001b[0;32m     49\u001b[0m                 \u001b[0mrenderer\u001b[0m\u001b[1;33m.\u001b[0m\u001b[0mstart_filter\u001b[0m\u001b[1;33m(\u001b[0m\u001b[1;33m)\u001b[0m\u001b[1;33m\u001b[0m\u001b[1;33m\u001b[0m\u001b[0m\n\u001b[0;32m     50\u001b[0m \u001b[1;33m\u001b[0m\u001b[0m\n\u001b[1;32m---> 51\u001b[1;33m             \u001b[1;32mreturn\u001b[0m \u001b[0mdraw\u001b[0m\u001b[1;33m(\u001b[0m\u001b[0martist\u001b[0m\u001b[1;33m,\u001b[0m \u001b[0mrenderer\u001b[0m\u001b[1;33m,\u001b[0m \u001b[1;33m*\u001b[0m\u001b[0margs\u001b[0m\u001b[1;33m,\u001b[0m \u001b[1;33m**\u001b[0m\u001b[0mkwargs\u001b[0m\u001b[1;33m)\u001b[0m\u001b[1;33m\u001b[0m\u001b[1;33m\u001b[0m\u001b[0m\n\u001b[0m\u001b[0;32m     52\u001b[0m         \u001b[1;32mfinally\u001b[0m\u001b[1;33m:\u001b[0m\u001b[1;33m\u001b[0m\u001b[1;33m\u001b[0m\u001b[0m\n\u001b[0;32m     53\u001b[0m             \u001b[1;32mif\u001b[0m \u001b[0martist\u001b[0m\u001b[1;33m.\u001b[0m\u001b[0mget_agg_filter\u001b[0m\u001b[1;33m(\u001b[0m\u001b[1;33m)\u001b[0m \u001b[1;32mis\u001b[0m \u001b[1;32mnot\u001b[0m \u001b[1;32mNone\u001b[0m\u001b[1;33m:\u001b[0m\u001b[1;33m\u001b[0m\u001b[1;33m\u001b[0m\u001b[0m\n",
      "\u001b[1;32m~\\anaconda3\\lib\\site-packages\\matplotlib\\_api\\deprecation.py\u001b[0m in \u001b[0;36mwrapper\u001b[1;34m(*inner_args, **inner_kwargs)\u001b[0m\n\u001b[0;32m    429\u001b[0m                          \u001b[1;32melse\u001b[0m \u001b[0mdeprecation_addendum\u001b[0m\u001b[1;33m,\u001b[0m\u001b[1;33m\u001b[0m\u001b[1;33m\u001b[0m\u001b[0m\n\u001b[0;32m    430\u001b[0m                 **kwargs)\n\u001b[1;32m--> 431\u001b[1;33m         \u001b[1;32mreturn\u001b[0m \u001b[0mfunc\u001b[0m\u001b[1;33m(\u001b[0m\u001b[1;33m*\u001b[0m\u001b[0minner_args\u001b[0m\u001b[1;33m,\u001b[0m \u001b[1;33m**\u001b[0m\u001b[0minner_kwargs\u001b[0m\u001b[1;33m)\u001b[0m\u001b[1;33m\u001b[0m\u001b[1;33m\u001b[0m\u001b[0m\n\u001b[0m\u001b[0;32m    432\u001b[0m \u001b[1;33m\u001b[0m\u001b[0m\n\u001b[0;32m    433\u001b[0m     \u001b[1;32mreturn\u001b[0m \u001b[0mwrapper\u001b[0m\u001b[1;33m\u001b[0m\u001b[1;33m\u001b[0m\u001b[0m\n",
      "\u001b[1;32m~\\anaconda3\\lib\\site-packages\\matplotlib\\axes\\_base.py\u001b[0m in \u001b[0;36mdraw\u001b[1;34m(self, renderer, inframe)\u001b[0m\n\u001b[0;32m   2919\u001b[0m             \u001b[0mrenderer\u001b[0m\u001b[1;33m.\u001b[0m\u001b[0mstop_rasterizing\u001b[0m\u001b[1;33m(\u001b[0m\u001b[1;33m)\u001b[0m\u001b[1;33m\u001b[0m\u001b[1;33m\u001b[0m\u001b[0m\n\u001b[0;32m   2920\u001b[0m \u001b[1;33m\u001b[0m\u001b[0m\n\u001b[1;32m-> 2921\u001b[1;33m         \u001b[0mmimage\u001b[0m\u001b[1;33m.\u001b[0m\u001b[0m_draw_list_compositing_images\u001b[0m\u001b[1;33m(\u001b[0m\u001b[0mrenderer\u001b[0m\u001b[1;33m,\u001b[0m \u001b[0mself\u001b[0m\u001b[1;33m,\u001b[0m \u001b[0martists\u001b[0m\u001b[1;33m)\u001b[0m\u001b[1;33m\u001b[0m\u001b[1;33m\u001b[0m\u001b[0m\n\u001b[0m\u001b[0;32m   2922\u001b[0m \u001b[1;33m\u001b[0m\u001b[0m\n\u001b[0;32m   2923\u001b[0m         \u001b[0mrenderer\u001b[0m\u001b[1;33m.\u001b[0m\u001b[0mclose_group\u001b[0m\u001b[1;33m(\u001b[0m\u001b[1;34m'axes'\u001b[0m\u001b[1;33m)\u001b[0m\u001b[1;33m\u001b[0m\u001b[1;33m\u001b[0m\u001b[0m\n",
      "\u001b[1;32m~\\anaconda3\\lib\\site-packages\\matplotlib\\image.py\u001b[0m in \u001b[0;36m_draw_list_compositing_images\u001b[1;34m(renderer, parent, artists, suppress_composite)\u001b[0m\n\u001b[0;32m    130\u001b[0m     \u001b[1;32mif\u001b[0m \u001b[0mnot_composite\u001b[0m \u001b[1;32mor\u001b[0m \u001b[1;32mnot\u001b[0m \u001b[0mhas_images\u001b[0m\u001b[1;33m:\u001b[0m\u001b[1;33m\u001b[0m\u001b[1;33m\u001b[0m\u001b[0m\n\u001b[0;32m    131\u001b[0m         \u001b[1;32mfor\u001b[0m \u001b[0ma\u001b[0m \u001b[1;32min\u001b[0m \u001b[0martists\u001b[0m\u001b[1;33m:\u001b[0m\u001b[1;33m\u001b[0m\u001b[1;33m\u001b[0m\u001b[0m\n\u001b[1;32m--> 132\u001b[1;33m             \u001b[0ma\u001b[0m\u001b[1;33m.\u001b[0m\u001b[0mdraw\u001b[0m\u001b[1;33m(\u001b[0m\u001b[0mrenderer\u001b[0m\u001b[1;33m)\u001b[0m\u001b[1;33m\u001b[0m\u001b[1;33m\u001b[0m\u001b[0m\n\u001b[0m\u001b[0;32m    133\u001b[0m     \u001b[1;32melse\u001b[0m\u001b[1;33m:\u001b[0m\u001b[1;33m\u001b[0m\u001b[1;33m\u001b[0m\u001b[0m\n\u001b[0;32m    134\u001b[0m         \u001b[1;31m# Composite any adjacent images together\u001b[0m\u001b[1;33m\u001b[0m\u001b[1;33m\u001b[0m\u001b[0m\n",
      "\u001b[1;32m~\\anaconda3\\lib\\site-packages\\matplotlib\\artist.py\u001b[0m in \u001b[0;36mdraw_wrapper\u001b[1;34m(artist, renderer, *args, **kwargs)\u001b[0m\n\u001b[0;32m     49\u001b[0m                 \u001b[0mrenderer\u001b[0m\u001b[1;33m.\u001b[0m\u001b[0mstart_filter\u001b[0m\u001b[1;33m(\u001b[0m\u001b[1;33m)\u001b[0m\u001b[1;33m\u001b[0m\u001b[1;33m\u001b[0m\u001b[0m\n\u001b[0;32m     50\u001b[0m \u001b[1;33m\u001b[0m\u001b[0m\n\u001b[1;32m---> 51\u001b[1;33m             \u001b[1;32mreturn\u001b[0m \u001b[0mdraw\u001b[0m\u001b[1;33m(\u001b[0m\u001b[0martist\u001b[0m\u001b[1;33m,\u001b[0m \u001b[0mrenderer\u001b[0m\u001b[1;33m,\u001b[0m \u001b[1;33m*\u001b[0m\u001b[0margs\u001b[0m\u001b[1;33m,\u001b[0m \u001b[1;33m**\u001b[0m\u001b[0mkwargs\u001b[0m\u001b[1;33m)\u001b[0m\u001b[1;33m\u001b[0m\u001b[1;33m\u001b[0m\u001b[0m\n\u001b[0m\u001b[0;32m     52\u001b[0m         \u001b[1;32mfinally\u001b[0m\u001b[1;33m:\u001b[0m\u001b[1;33m\u001b[0m\u001b[1;33m\u001b[0m\u001b[0m\n\u001b[0;32m     53\u001b[0m             \u001b[1;32mif\u001b[0m \u001b[0martist\u001b[0m\u001b[1;33m.\u001b[0m\u001b[0mget_agg_filter\u001b[0m\u001b[1;33m(\u001b[0m\u001b[1;33m)\u001b[0m \u001b[1;32mis\u001b[0m \u001b[1;32mnot\u001b[0m \u001b[1;32mNone\u001b[0m\u001b[1;33m:\u001b[0m\u001b[1;33m\u001b[0m\u001b[1;33m\u001b[0m\u001b[0m\n",
      "\u001b[1;32m~\\anaconda3\\lib\\site-packages\\matplotlib\\axis.py\u001b[0m in \u001b[0;36mdraw\u001b[1;34m(self, renderer, *args, **kwargs)\u001b[0m\n\u001b[0;32m   1139\u001b[0m         \u001b[0mrenderer\u001b[0m\u001b[1;33m.\u001b[0m\u001b[0mopen_group\u001b[0m\u001b[1;33m(\u001b[0m\u001b[0m__name__\u001b[0m\u001b[1;33m,\u001b[0m \u001b[0mgid\u001b[0m\u001b[1;33m=\u001b[0m\u001b[0mself\u001b[0m\u001b[1;33m.\u001b[0m\u001b[0mget_gid\u001b[0m\u001b[1;33m(\u001b[0m\u001b[1;33m)\u001b[0m\u001b[1;33m)\u001b[0m\u001b[1;33m\u001b[0m\u001b[1;33m\u001b[0m\u001b[0m\n\u001b[0;32m   1140\u001b[0m \u001b[1;33m\u001b[0m\u001b[0m\n\u001b[1;32m-> 1141\u001b[1;33m         \u001b[0mticks_to_draw\u001b[0m \u001b[1;33m=\u001b[0m \u001b[0mself\u001b[0m\u001b[1;33m.\u001b[0m\u001b[0m_update_ticks\u001b[0m\u001b[1;33m(\u001b[0m\u001b[1;33m)\u001b[0m\u001b[1;33m\u001b[0m\u001b[1;33m\u001b[0m\u001b[0m\n\u001b[0m\u001b[0;32m   1142\u001b[0m         ticklabelBoxes, ticklabelBoxes2 = self._get_tick_bboxes(ticks_to_draw,\n\u001b[0;32m   1143\u001b[0m                                                                 renderer)\n",
      "\u001b[1;32m~\\anaconda3\\lib\\site-packages\\matplotlib\\axis.py\u001b[0m in \u001b[0;36m_update_ticks\u001b[1;34m(self)\u001b[0m\n\u001b[0;32m   1026\u001b[0m         \u001b[0mthe\u001b[0m \u001b[0maxes\u001b[0m\u001b[1;33m.\u001b[0m  \u001b[0mReturn\u001b[0m \u001b[0mthe\u001b[0m \u001b[0mlist\u001b[0m \u001b[0mof\u001b[0m \u001b[0mticks\u001b[0m \u001b[0mthat\u001b[0m \u001b[0mwill\u001b[0m \u001b[0mbe\u001b[0m \u001b[0mdrawn\u001b[0m\u001b[1;33m.\u001b[0m\u001b[1;33m\u001b[0m\u001b[1;33m\u001b[0m\u001b[0m\n\u001b[0;32m   1027\u001b[0m         \"\"\"\n\u001b[1;32m-> 1028\u001b[1;33m         \u001b[0mmajor_locs\u001b[0m \u001b[1;33m=\u001b[0m \u001b[0mself\u001b[0m\u001b[1;33m.\u001b[0m\u001b[0mget_majorticklocs\u001b[0m\u001b[1;33m(\u001b[0m\u001b[1;33m)\u001b[0m\u001b[1;33m\u001b[0m\u001b[1;33m\u001b[0m\u001b[0m\n\u001b[0m\u001b[0;32m   1029\u001b[0m         \u001b[0mmajor_labels\u001b[0m \u001b[1;33m=\u001b[0m \u001b[0mself\u001b[0m\u001b[1;33m.\u001b[0m\u001b[0mmajor\u001b[0m\u001b[1;33m.\u001b[0m\u001b[0mformatter\u001b[0m\u001b[1;33m.\u001b[0m\u001b[0mformat_ticks\u001b[0m\u001b[1;33m(\u001b[0m\u001b[0mmajor_locs\u001b[0m\u001b[1;33m)\u001b[0m\u001b[1;33m\u001b[0m\u001b[1;33m\u001b[0m\u001b[0m\n\u001b[0;32m   1030\u001b[0m         \u001b[0mmajor_ticks\u001b[0m \u001b[1;33m=\u001b[0m \u001b[0mself\u001b[0m\u001b[1;33m.\u001b[0m\u001b[0mget_major_ticks\u001b[0m\u001b[1;33m(\u001b[0m\u001b[0mlen\u001b[0m\u001b[1;33m(\u001b[0m\u001b[0mmajor_locs\u001b[0m\u001b[1;33m)\u001b[0m\u001b[1;33m)\u001b[0m\u001b[1;33m\u001b[0m\u001b[1;33m\u001b[0m\u001b[0m\n",
      "\u001b[1;32m~\\anaconda3\\lib\\site-packages\\matplotlib\\axis.py\u001b[0m in \u001b[0;36mget_majorticklocs\u001b[1;34m(self)\u001b[0m\n\u001b[0;32m   1258\u001b[0m     \u001b[1;32mdef\u001b[0m \u001b[0mget_majorticklocs\u001b[0m\u001b[1;33m(\u001b[0m\u001b[0mself\u001b[0m\u001b[1;33m)\u001b[0m\u001b[1;33m:\u001b[0m\u001b[1;33m\u001b[0m\u001b[1;33m\u001b[0m\u001b[0m\n\u001b[0;32m   1259\u001b[0m         \u001b[1;34m\"\"\"Return this Axis' major tick locations in data coordinates.\"\"\"\u001b[0m\u001b[1;33m\u001b[0m\u001b[1;33m\u001b[0m\u001b[0m\n\u001b[1;32m-> 1260\u001b[1;33m         \u001b[1;32mreturn\u001b[0m \u001b[0mself\u001b[0m\u001b[1;33m.\u001b[0m\u001b[0mmajor\u001b[0m\u001b[1;33m.\u001b[0m\u001b[0mlocator\u001b[0m\u001b[1;33m(\u001b[0m\u001b[1;33m)\u001b[0m\u001b[1;33m\u001b[0m\u001b[1;33m\u001b[0m\u001b[0m\n\u001b[0m\u001b[0;32m   1261\u001b[0m \u001b[1;33m\u001b[0m\u001b[0m\n\u001b[0;32m   1262\u001b[0m     \u001b[1;32mdef\u001b[0m \u001b[0mget_minorticklocs\u001b[0m\u001b[1;33m(\u001b[0m\u001b[0mself\u001b[0m\u001b[1;33m)\u001b[0m\u001b[1;33m:\u001b[0m\u001b[1;33m\u001b[0m\u001b[1;33m\u001b[0m\u001b[0m\n",
      "\u001b[1;32m~\\anaconda3\\lib\\site-packages\\matplotlib\\dates.py\u001b[0m in \u001b[0;36m__call__\u001b[1;34m(self)\u001b[0m\n\u001b[0;32m   1339\u001b[0m     \u001b[1;32mdef\u001b[0m \u001b[0m__call__\u001b[0m\u001b[1;33m(\u001b[0m\u001b[0mself\u001b[0m\u001b[1;33m)\u001b[0m\u001b[1;33m:\u001b[0m\u001b[1;33m\u001b[0m\u001b[1;33m\u001b[0m\u001b[0m\n\u001b[0;32m   1340\u001b[0m         \u001b[1;31m# docstring inherited\u001b[0m\u001b[1;33m\u001b[0m\u001b[1;33m\u001b[0m\u001b[0m\n\u001b[1;32m-> 1341\u001b[1;33m         \u001b[0mdmin\u001b[0m\u001b[1;33m,\u001b[0m \u001b[0mdmax\u001b[0m \u001b[1;33m=\u001b[0m \u001b[0mself\u001b[0m\u001b[1;33m.\u001b[0m\u001b[0mviewlim_to_dt\u001b[0m\u001b[1;33m(\u001b[0m\u001b[1;33m)\u001b[0m\u001b[1;33m\u001b[0m\u001b[1;33m\u001b[0m\u001b[0m\n\u001b[0m\u001b[0;32m   1342\u001b[0m         \u001b[0mlocator\u001b[0m \u001b[1;33m=\u001b[0m \u001b[0mself\u001b[0m\u001b[1;33m.\u001b[0m\u001b[0mget_locator\u001b[0m\u001b[1;33m(\u001b[0m\u001b[0mdmin\u001b[0m\u001b[1;33m,\u001b[0m \u001b[0mdmax\u001b[0m\u001b[1;33m)\u001b[0m\u001b[1;33m\u001b[0m\u001b[1;33m\u001b[0m\u001b[0m\n\u001b[0;32m   1343\u001b[0m         \u001b[1;32mreturn\u001b[0m \u001b[0mlocator\u001b[0m\u001b[1;33m(\u001b[0m\u001b[1;33m)\u001b[0m\u001b[1;33m\u001b[0m\u001b[1;33m\u001b[0m\u001b[0m\n",
      "\u001b[1;32m~\\anaconda3\\lib\\site-packages\\matplotlib\\dates.py\u001b[0m in \u001b[0;36mviewlim_to_dt\u001b[1;34m(self)\u001b[0m\n\u001b[0;32m   1130\u001b[0m         \u001b[1;32mif\u001b[0m \u001b[0mvmin\u001b[0m \u001b[1;33m>\u001b[0m \u001b[0mvmax\u001b[0m\u001b[1;33m:\u001b[0m\u001b[1;33m\u001b[0m\u001b[1;33m\u001b[0m\u001b[0m\n\u001b[0;32m   1131\u001b[0m             \u001b[0mvmin\u001b[0m\u001b[1;33m,\u001b[0m \u001b[0mvmax\u001b[0m \u001b[1;33m=\u001b[0m \u001b[0mvmax\u001b[0m\u001b[1;33m,\u001b[0m \u001b[0mvmin\u001b[0m\u001b[1;33m\u001b[0m\u001b[1;33m\u001b[0m\u001b[0m\n\u001b[1;32m-> 1132\u001b[1;33m         \u001b[1;32mreturn\u001b[0m \u001b[0mnum2date\u001b[0m\u001b[1;33m(\u001b[0m\u001b[0mvmin\u001b[0m\u001b[1;33m,\u001b[0m \u001b[0mself\u001b[0m\u001b[1;33m.\u001b[0m\u001b[0mtz\u001b[0m\u001b[1;33m)\u001b[0m\u001b[1;33m,\u001b[0m \u001b[0mnum2date\u001b[0m\u001b[1;33m(\u001b[0m\u001b[0mvmax\u001b[0m\u001b[1;33m,\u001b[0m \u001b[0mself\u001b[0m\u001b[1;33m.\u001b[0m\u001b[0mtz\u001b[0m\u001b[1;33m)\u001b[0m\u001b[1;33m\u001b[0m\u001b[1;33m\u001b[0m\u001b[0m\n\u001b[0m\u001b[0;32m   1133\u001b[0m \u001b[1;33m\u001b[0m\u001b[0m\n\u001b[0;32m   1134\u001b[0m     \u001b[1;32mdef\u001b[0m \u001b[0m_get_unit\u001b[0m\u001b[1;33m(\u001b[0m\u001b[0mself\u001b[0m\u001b[1;33m)\u001b[0m\u001b[1;33m:\u001b[0m\u001b[1;33m\u001b[0m\u001b[1;33m\u001b[0m\u001b[0m\n",
      "\u001b[1;32m~\\anaconda3\\lib\\site-packages\\matplotlib\\dates.py\u001b[0m in \u001b[0;36mnum2date\u001b[1;34m(x, tz)\u001b[0m\n\u001b[0;32m    506\u001b[0m     \u001b[1;32mif\u001b[0m \u001b[0mtz\u001b[0m \u001b[1;32mis\u001b[0m \u001b[1;32mNone\u001b[0m\u001b[1;33m:\u001b[0m\u001b[1;33m\u001b[0m\u001b[1;33m\u001b[0m\u001b[0m\n\u001b[0;32m    507\u001b[0m         \u001b[0mtz\u001b[0m \u001b[1;33m=\u001b[0m \u001b[0m_get_rc_timezone\u001b[0m\u001b[1;33m(\u001b[0m\u001b[1;33m)\u001b[0m\u001b[1;33m\u001b[0m\u001b[1;33m\u001b[0m\u001b[0m\n\u001b[1;32m--> 508\u001b[1;33m     \u001b[1;32mreturn\u001b[0m \u001b[0m_from_ordinalf_np_vectorized\u001b[0m\u001b[1;33m(\u001b[0m\u001b[0mx\u001b[0m\u001b[1;33m,\u001b[0m \u001b[0mtz\u001b[0m\u001b[1;33m)\u001b[0m\u001b[1;33m.\u001b[0m\u001b[0mtolist\u001b[0m\u001b[1;33m(\u001b[0m\u001b[1;33m)\u001b[0m\u001b[1;33m\u001b[0m\u001b[1;33m\u001b[0m\u001b[0m\n\u001b[0m\u001b[0;32m    509\u001b[0m \u001b[1;33m\u001b[0m\u001b[0m\n\u001b[0;32m    510\u001b[0m \u001b[1;33m\u001b[0m\u001b[0m\n",
      "\u001b[1;32m~\\anaconda3\\lib\\site-packages\\numpy\\lib\\function_base.py\u001b[0m in \u001b[0;36m__call__\u001b[1;34m(self, *args, **kwargs)\u001b[0m\n\u001b[0;32m   2161\u001b[0m             \u001b[0mvargs\u001b[0m\u001b[1;33m.\u001b[0m\u001b[0mextend\u001b[0m\u001b[1;33m(\u001b[0m\u001b[1;33m[\u001b[0m\u001b[0mkwargs\u001b[0m\u001b[1;33m[\u001b[0m\u001b[0m_n\u001b[0m\u001b[1;33m]\u001b[0m \u001b[1;32mfor\u001b[0m \u001b[0m_n\u001b[0m \u001b[1;32min\u001b[0m \u001b[0mnames\u001b[0m\u001b[1;33m]\u001b[0m\u001b[1;33m)\u001b[0m\u001b[1;33m\u001b[0m\u001b[1;33m\u001b[0m\u001b[0m\n\u001b[0;32m   2162\u001b[0m \u001b[1;33m\u001b[0m\u001b[0m\n\u001b[1;32m-> 2163\u001b[1;33m         \u001b[1;32mreturn\u001b[0m \u001b[0mself\u001b[0m\u001b[1;33m.\u001b[0m\u001b[0m_vectorize_call\u001b[0m\u001b[1;33m(\u001b[0m\u001b[0mfunc\u001b[0m\u001b[1;33m=\u001b[0m\u001b[0mfunc\u001b[0m\u001b[1;33m,\u001b[0m \u001b[0margs\u001b[0m\u001b[1;33m=\u001b[0m\u001b[0mvargs\u001b[0m\u001b[1;33m)\u001b[0m\u001b[1;33m\u001b[0m\u001b[1;33m\u001b[0m\u001b[0m\n\u001b[0m\u001b[0;32m   2164\u001b[0m \u001b[1;33m\u001b[0m\u001b[0m\n\u001b[0;32m   2165\u001b[0m     \u001b[1;32mdef\u001b[0m \u001b[0m_get_ufunc_and_otypes\u001b[0m\u001b[1;33m(\u001b[0m\u001b[0mself\u001b[0m\u001b[1;33m,\u001b[0m \u001b[0mfunc\u001b[0m\u001b[1;33m,\u001b[0m \u001b[0margs\u001b[0m\u001b[1;33m)\u001b[0m\u001b[1;33m:\u001b[0m\u001b[1;33m\u001b[0m\u001b[1;33m\u001b[0m\u001b[0m\n",
      "\u001b[1;32m~\\anaconda3\\lib\\site-packages\\numpy\\lib\\function_base.py\u001b[0m in \u001b[0;36m_vectorize_call\u001b[1;34m(self, func, args)\u001b[0m\n\u001b[0;32m   2244\u001b[0m             \u001b[0minputs\u001b[0m \u001b[1;33m=\u001b[0m \u001b[1;33m[\u001b[0m\u001b[0masanyarray\u001b[0m\u001b[1;33m(\u001b[0m\u001b[0ma\u001b[0m\u001b[1;33m,\u001b[0m \u001b[0mdtype\u001b[0m\u001b[1;33m=\u001b[0m\u001b[0mobject\u001b[0m\u001b[1;33m)\u001b[0m \u001b[1;32mfor\u001b[0m \u001b[0ma\u001b[0m \u001b[1;32min\u001b[0m \u001b[0margs\u001b[0m\u001b[1;33m]\u001b[0m\u001b[1;33m\u001b[0m\u001b[1;33m\u001b[0m\u001b[0m\n\u001b[0;32m   2245\u001b[0m \u001b[1;33m\u001b[0m\u001b[0m\n\u001b[1;32m-> 2246\u001b[1;33m             \u001b[0moutputs\u001b[0m \u001b[1;33m=\u001b[0m \u001b[0mufunc\u001b[0m\u001b[1;33m(\u001b[0m\u001b[1;33m*\u001b[0m\u001b[0minputs\u001b[0m\u001b[1;33m)\u001b[0m\u001b[1;33m\u001b[0m\u001b[1;33m\u001b[0m\u001b[0m\n\u001b[0m\u001b[0;32m   2247\u001b[0m \u001b[1;33m\u001b[0m\u001b[0m\n\u001b[0;32m   2248\u001b[0m             \u001b[1;32mif\u001b[0m \u001b[0mufunc\u001b[0m\u001b[1;33m.\u001b[0m\u001b[0mnout\u001b[0m \u001b[1;33m==\u001b[0m \u001b[1;36m1\u001b[0m\u001b[1;33m:\u001b[0m\u001b[1;33m\u001b[0m\u001b[1;33m\u001b[0m\u001b[0m\n",
      "\u001b[1;32m~\\anaconda3\\lib\\site-packages\\matplotlib\\dates.py\u001b[0m in \u001b[0;36m_from_ordinalf\u001b[1;34m(x, tz)\u001b[0m\n\u001b[0;32m    326\u001b[0m \u001b[1;33m\u001b[0m\u001b[0m\n\u001b[0;32m    327\u001b[0m     dt = (np.datetime64(get_epoch()) +\n\u001b[1;32m--> 328\u001b[1;33m           np.timedelta64(int(np.round(x * MUSECONDS_PER_DAY)), 'us'))\n\u001b[0m\u001b[0;32m    329\u001b[0m     \u001b[1;32mif\u001b[0m \u001b[0mdt\u001b[0m \u001b[1;33m<\u001b[0m \u001b[0mnp\u001b[0m\u001b[1;33m.\u001b[0m\u001b[0mdatetime64\u001b[0m\u001b[1;33m(\u001b[0m\u001b[1;34m'0001-01-01'\u001b[0m\u001b[1;33m)\u001b[0m \u001b[1;32mor\u001b[0m \u001b[0mdt\u001b[0m \u001b[1;33m>=\u001b[0m \u001b[0mnp\u001b[0m\u001b[1;33m.\u001b[0m\u001b[0mdatetime64\u001b[0m\u001b[1;33m(\u001b[0m\u001b[1;34m'10000-01-01'\u001b[0m\u001b[1;33m)\u001b[0m\u001b[1;33m:\u001b[0m\u001b[1;33m\u001b[0m\u001b[1;33m\u001b[0m\u001b[0m\n\u001b[0;32m    330\u001b[0m         raise ValueError(f'Date ordinal {x} converts to {dt} (using '\n",
      "\u001b[1;31mOverflowError\u001b[0m: int too big to convert"
     ]
    },
    {
     "data": {
      "text/plain": [
       "<Figure size 432x288 with 1 Axes>"
      ]
     },
     "metadata": {},
     "output_type": "display_data"
    }
   ],
   "source": [
    "from pandas import Series\n",
    "from matplotlib import pyplot\n",
    "series = df\n",
    "series.plot(style='k.')\n",
    "pyplot.show()\n"
   ]
  },
  {
   "cell_type": "code",
   "execution_count": null,
   "metadata": {},
   "outputs": [],
   "source": []
  }
 ],
 "metadata": {
  "colab": {
   "authorship_tag": "ABX9TyOmEyugzg/HrqC08SxzhKU3",
   "include_colab_link": true,
   "name": "analiz_poker.ipynb",
   "provenance": []
  },
  "kernelspec": {
   "display_name": "Python 3 (ipykernel)",
   "language": "python",
   "name": "python3"
  },
  "language_info": {
   "codemirror_mode": {
    "name": "ipython",
    "version": 3
   },
   "file_extension": ".py",
   "mimetype": "text/x-python",
   "name": "python",
   "nbconvert_exporter": "python",
   "pygments_lexer": "ipython3",
   "version": "3.9.7"
  },
  "nbTranslate": {
   "displayLangs": [
    "*"
   ],
   "hotkey": "alt-t",
   "langInMainMenu": true,
   "sourceLang": "en",
   "targetLang": "fr",
   "useGoogleTranslate": true
  },
  "toc": {
   "base_numbering": 1,
   "nav_menu": {},
   "number_sections": true,
   "sideBar": true,
   "skip_h1_title": false,
   "title_cell": "Table of Contents",
   "title_sidebar": "Contents",
   "toc_cell": false,
   "toc_position": {},
   "toc_section_display": true,
   "toc_window_display": false
  },
  "varInspector": {
   "cols": {
    "lenName": 16,
    "lenType": 16,
    "lenVar": 40
   },
   "kernels_config": {
    "python": {
     "delete_cmd_postfix": "",
     "delete_cmd_prefix": "del ",
     "library": "var_list.py",
     "varRefreshCmd": "print(var_dic_list())"
    },
    "r": {
     "delete_cmd_postfix": ") ",
     "delete_cmd_prefix": "rm(",
     "library": "var_list.r",
     "varRefreshCmd": "cat(var_dic_list()) "
    }
   },
   "types_to_exclude": [
    "module",
    "function",
    "builtin_function_or_method",
    "instance",
    "_Feature"
   ],
   "window_display": false
  },
  "widgets": {
   "application/vnd.jupyter.widget-state+json": {
    "state": {},
    "version_major": 2,
    "version_minor": 0
   }
  }
 },
 "nbformat": 4,
 "nbformat_minor": 4
}
