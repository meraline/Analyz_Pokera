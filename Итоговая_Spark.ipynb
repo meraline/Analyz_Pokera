{
  "nbformat": 4,
  "nbformat_minor": 0,
  "metadata": {
    "colab": {
      "provenance": [],
      "collapsed_sections": [],
      "include_colab_link": true
    },
    "kernelspec": {
      "name": "python3",
      "display_name": "Python 3"
    }
  },
  "cells": [
    {
      "cell_type": "markdown",
      "metadata": {
        "id": "view-in-github",
        "colab_type": "text"
      },
      "source": [
        "<a href=\"https://colab.research.google.com/github/meraline/Analyz_Pokera/blob/master/%D0%98%D1%82%D0%BE%D0%B3%D0%BE%D0%B2%D0%B0%D1%8F_Spark.ipynb\" target=\"_parent\"><img src=\"https://colab.research.google.com/assets/colab-badge.svg\" alt=\"Open In Colab\"/></a>"
      ]
    },
    {
      "cell_type": "markdown",
      "metadata": {
        "id": "HkjqeMDxpo-a"
      },
      "source": [
        "Установка Spark"
      ]
    },
    {
      "cell_type": "code",
      "metadata": {
        "colab": {
          "base_uri": "https://localhost:8080/"
        },
        "id": "etFJ7ZgKpl41",
        "outputId": "8c8b7fdf-4dc5-4b53-b027-2aaa5b8ec87b"
      },
      "source": [
        "!apt-get update"
      ],
      "execution_count": 3,
      "outputs": [
        {
          "output_type": "stream",
          "name": "stdout",
          "text": [
            "\r0% [Working]\r            \rGet:1 http://security.ubuntu.com/ubuntu bionic-security InRelease [88.7 kB]\n",
            "\r0% [Connecting to archive.ubuntu.com (91.189.91.39)] [1 InRelease 14.2 kB/88.7 \r                                                                               \rHit:2 http://ppa.launchpad.net/c2d4u.team/c2d4u4.0+/ubuntu bionic InRelease\n",
            "\r0% [Connecting to archive.ubuntu.com (91.189.91.39)] [1 InRelease 88.7 kB/88.7 \r                                                                               \rGet:3 https://cloud.r-project.org/bin/linux/ubuntu bionic-cran40/ InRelease [3,626 B]\n",
            "\r                                                                               \rHit:4 http://ppa.launchpad.net/cran/libgit2/ubuntu bionic InRelease\n",
            "Get:5 http://ppa.launchpad.net/deadsnakes/ppa/ubuntu bionic InRelease [15.9 kB]\n",
            "Hit:6 http://ppa.launchpad.net/graphics-drivers/ppa/ubuntu bionic InRelease\n",
            "Hit:7 http://archive.ubuntu.com/ubuntu bionic InRelease\n",
            "Get:8 http://archive.ubuntu.com/ubuntu bionic-updates InRelease [88.7 kB]\n",
            "Ign:9 https://developer.download.nvidia.com/compute/machine-learning/repos/ubuntu1804/x86_64  InRelease\n",
            "Hit:10 https://developer.download.nvidia.com/compute/cuda/repos/ubuntu1804/x86_64  InRelease\n",
            "Hit:11 https://developer.download.nvidia.com/compute/machine-learning/repos/ubuntu1804/x86_64  Release\n",
            "Get:12 http://archive.ubuntu.com/ubuntu bionic-backports InRelease [83.3 kB]\n",
            "Get:13 http://ppa.launchpad.net/deadsnakes/ppa/ubuntu bionic/main amd64 Packages [44.0 kB]\n",
            "Get:15 http://archive.ubuntu.com/ubuntu bionic-updates/main amd64 Packages [3,454 kB]\n",
            "Get:16 http://archive.ubuntu.com/ubuntu bionic-updates/restricted amd64 Packages [1,232 kB]\n",
            "Fetched 5,009 kB in 4s (1,370 kB/s)\n",
            "Reading package lists... Done\n"
          ]
        }
      ]
    },
    {
      "cell_type": "code",
      "metadata": {
        "id": "N0HaFRkEps1B"
      },
      "source": [
        "!apt-get install openjdk-8-jdk-headless -qq > /dev/null"
      ],
      "execution_count": 4,
      "outputs": []
    },
    {
      "cell_type": "code",
      "metadata": {
        "id": "Jy_sIJ6ypyIv"
      },
      "source": [
        "!wget -q https://downloads.apache.org/spark/spark-3.2.2/spark-3.2.2-bin-hadoop2.7.tgz"
      ],
      "execution_count": 5,
      "outputs": []
    },
    {
      "cell_type": "code",
      "metadata": {
        "id": "1Q5LMILepz_N"
      },
      "source": [
        "!tar -xvf spark-3.2.2-bin-hadoop2.7.tgz"
      ],
      "execution_count": null,
      "outputs": []
    },
    {
      "cell_type": "code",
      "metadata": {
        "id": "JiQOFODip19a"
      },
      "source": [
        "!pip install -q findspark"
      ],
      "execution_count": 7,
      "outputs": []
    },
    {
      "cell_type": "code",
      "metadata": {
        "id": "kJCFdpyJp4Oe"
      },
      "source": [
        "import os\n",
        "os.environ[\"JAVA_HOME\"] = \"/usr/lib/jvm/java-8-openjdk-amd64\"\n",
        "os.environ[\"SPARK_HOME\"] = \"/content/spark-3.2.2-bin-hadoop2.7\""
      ],
      "execution_count": 8,
      "outputs": []
    },
    {
      "cell_type": "code",
      "metadata": {
        "id": "2oHv_lv-p6Lb"
      },
      "source": [
        "import findspark\n",
        "findspark.init()\n",
        "from pyspark.sql import SparkSession\n",
        "\n",
        "spark = SparkSession.builder.master(\"local[*]\").getOrCreate()"
      ],
      "execution_count": 9,
      "outputs": []
    },
    {
      "cell_type": "code",
      "source": [
        "import findspark\n",
        "findspark.init()\n",
        "from pyspark.sql import SparkSession\n",
        "\n",
        "spark = SparkSession.builder.master(\"local[*]\").getOrCreate()\n",
        "sc = spark.sparkContext"
      ],
      "metadata": {
        "id": "iRGY9sdmFNp1"
      },
      "execution_count": 10,
      "outputs": []
    },
    {
      "cell_type": "markdown",
      "source": [
        "## Задание 8,9 \n",
        "Загрузить данные в spark, Средствами спарка вывести среднюю оценку для каждого фильма"
      ],
      "metadata": {
        "id": "kvenGUUdbSHD"
      }
    },
    {
      "cell_type": "code",
      "source": [
        "df = spark.read.csv('u.data.csv', inferSchema=True, header=False, sep='\\t')\n",
        "df.take(5)"
      ],
      "metadata": {
        "colab": {
          "base_uri": "https://localhost:8080/"
        },
        "id": "Xzp_lVptdx97",
        "outputId": "c00b36fa-01c8-42e7-9b12-43a6e95f8b7b"
      },
      "execution_count": 11,
      "outputs": [
        {
          "output_type": "execute_result",
          "data": {
            "text/plain": [
              "[Row(_c0=196, _c1=242, _c2=3, _c3=881250949),\n",
              " Row(_c0=186, _c1=302, _c2=3, _c3=891717742),\n",
              " Row(_c0=22, _c1=377, _c2=1, _c3=878887116),\n",
              " Row(_c0=244, _c1=51, _c2=2, _c3=880606923),\n",
              " Row(_c0=166, _c1=346, _c2=1, _c3=886397596)]"
            ]
          },
          "metadata": {},
          "execution_count": 11
        }
      ]
    },
    {
      "cell_type": "code",
      "source": [
        "df.take(5)"
      ],
      "metadata": {
        "colab": {
          "base_uri": "https://localhost:8080/"
        },
        "id": "Y0eUKKDGl48G",
        "outputId": "8cdbcdb4-6156-4f97-de60-48db9744d913"
      },
      "execution_count": 12,
      "outputs": [
        {
          "output_type": "execute_result",
          "data": {
            "text/plain": [
              "[Row(_c0=196, _c1=242, _c2=3, _c3=881250949),\n",
              " Row(_c0=186, _c1=302, _c2=3, _c3=891717742),\n",
              " Row(_c0=22, _c1=377, _c2=1, _c3=878887116),\n",
              " Row(_c0=244, _c1=51, _c2=2, _c3=880606923),\n",
              " Row(_c0=166, _c1=346, _c2=1, _c3=886397596)]"
            ]
          },
          "metadata": {},
          "execution_count": 12
        }
      ]
    },
    {
      "cell_type": "code",
      "source": [
        "df_data = df.withColumnRenamed('_c0','user id').withColumnRenamed('_c1','item id').withColumnRenamed('_c2','rating').withColumnRenamed('_c3','timestamp')\n",
        "df_data.take(5)"
      ],
      "metadata": {
        "colab": {
          "base_uri": "https://localhost:8080/"
        },
        "id": "FuqVYmNCptIT",
        "outputId": "9ab8ba9f-0274-48d0-b13a-1f0e43f485d9"
      },
      "execution_count": 13,
      "outputs": [
        {
          "output_type": "execute_result",
          "data": {
            "text/plain": [
              "[Row(user id=196, item id=242, rating=3, timestamp=881250949),\n",
              " Row(user id=186, item id=302, rating=3, timestamp=891717742),\n",
              " Row(user id=22, item id=377, rating=1, timestamp=878887116),\n",
              " Row(user id=244, item id=51, rating=2, timestamp=880606923),\n",
              " Row(user id=166, item id=346, rating=1, timestamp=886397596)]"
            ]
          },
          "metadata": {},
          "execution_count": 13
        }
      ]
    },
    {
      "cell_type": "code",
      "source": [
        "df_data.show(5)"
      ],
      "metadata": {
        "colab": {
          "base_uri": "https://localhost:8080/"
        },
        "id": "_W8SSRLKfY1C",
        "outputId": "6401a85f-8fe8-428a-e104-0f4b1b2d929b"
      },
      "execution_count": 14,
      "outputs": [
        {
          "output_type": "stream",
          "name": "stdout",
          "text": [
            "+-------+-------+------+---------+\n",
            "|user id|item id|rating|timestamp|\n",
            "+-------+-------+------+---------+\n",
            "|    196|    242|     3|881250949|\n",
            "|    186|    302|     3|891717742|\n",
            "|     22|    377|     1|878887116|\n",
            "|    244|     51|     2|880606923|\n",
            "|    166|    346|     1|886397596|\n",
            "+-------+-------+------+---------+\n",
            "only showing top 5 rows\n",
            "\n"
          ]
        }
      ]
    },
    {
      "cell_type": "code",
      "source": [
        "df_data_lim = df_data.select('item id', 'rating')\n",
        "df_data_lim.show(5)"
      ],
      "metadata": {
        "colab": {
          "base_uri": "https://localhost:8080/"
        },
        "id": "E7rPX4Ee3gjx",
        "outputId": "edc82a83-4d66-46c5-e3bd-7c6afa79ee71"
      },
      "execution_count": 15,
      "outputs": [
        {
          "output_type": "stream",
          "name": "stdout",
          "text": [
            "+-------+------+\n",
            "|item id|rating|\n",
            "+-------+------+\n",
            "|    242|     3|\n",
            "|    302|     3|\n",
            "|    377|     1|\n",
            "|     51|     2|\n",
            "|    346|     1|\n",
            "+-------+------+\n",
            "only showing top 5 rows\n",
            "\n"
          ]
        }
      ]
    },
    {
      "cell_type": "code",
      "source": [
        "df_data_lim_grp = df_data_lim.groupBy('item id').mean('rating')\n",
        "df_data_lim_grp.show(5)"
      ],
      "metadata": {
        "colab": {
          "base_uri": "https://localhost:8080/"
        },
        "id": "SN01Ps6GDFJ_",
        "outputId": "961987dc-fa5b-4dff-c593-769a19606ee6"
      },
      "execution_count": 16,
      "outputs": [
        {
          "output_type": "stream",
          "name": "stdout",
          "text": [
            "+-------+------------------+\n",
            "|item id|       avg(rating)|\n",
            "+-------+------------------+\n",
            "|    496| 4.121212121212121|\n",
            "|    471|3.6108597285067874|\n",
            "|    463| 3.859154929577465|\n",
            "|    148|          3.203125|\n",
            "|   1342|               2.5|\n",
            "+-------+------------------+\n",
            "only showing top 5 rows\n",
            "\n"
          ]
        }
      ]
    },
    {
      "cell_type": "markdown",
      "source": [
        "## Задание 10 \n",
        "Посчитайте средствами спарка среднюю оценку для каждого жанра"
      ],
      "metadata": {
        "id": "Glc_ZXUKD-se"
      }
    },
    {
      "cell_type": "code",
      "source": [
        "df_item = spark.read.csv('u.item.csv', inferSchema=True, header=False, sep='|')\n",
        "df_item.take(2)"
      ],
      "metadata": {
        "colab": {
          "base_uri": "https://localhost:8080/"
        },
        "id": "DeWeIdR4EJQz",
        "outputId": "5091bd29-81e5-4390-f7d2-8aea993b4e9e"
      },
      "execution_count": 17,
      "outputs": [
        {
          "output_type": "execute_result",
          "data": {
            "text/plain": [
              "[Row(_c0=1, _c1='Toy Story (1995)', _c2='01-Jan-1995', _c3=None, _c4='http://us.imdb.com/M/title-exact?Toy%20Story%20(1995)', _c5=0, _c6=0, _c7=0, _c8=1, _c9=1, _c10=1, _c11=0, _c12=0, _c13=0, _c14=0, _c15=0, _c16=0, _c17=0, _c18=0, _c19=0, _c20=0, _c21=0, _c22=0, _c23=0),\n",
              " Row(_c0=2, _c1='GoldenEye (1995)', _c2='01-Jan-1995', _c3=None, _c4='http://us.imdb.com/M/title-exact?GoldenEye%20(1995)', _c5=0, _c6=1, _c7=1, _c8=0, _c9=0, _c10=0, _c11=0, _c12=0, _c13=0, _c14=0, _c15=0, _c16=0, _c17=0, _c18=0, _c19=0, _c20=0, _c21=1, _c22=0, _c23=0)]"
            ]
          },
          "metadata": {},
          "execution_count": 17
        }
      ]
    },
    {
      "cell_type": "code",
      "source": [
        "from functools import reduce\n",
        "\n",
        "oldColumns = df_item.schema.names\n",
        "newColumns = ['item id','movie title','release date','video release date',\n",
        "                                      'IMDb URL', 'unknown', 'Action', 'Adventure', 'Animation',\n",
        "                                      'Children\"s', 'Comedy', 'Crime', 'Documentary', 'Drama', 'Fantasy',\n",
        "                                      'Film-Noir', 'Horror', 'Musical', 'Mystery', 'Romance', 'Sci-Fi',\n",
        "                                      'Thriller','War','Western']\n",
        "\n",
        "df_item_col_name = reduce(lambda df_item, idx: df_item.withColumnRenamed(oldColumns[idx], newColumns[idx]), range(len(oldColumns)), df_item)\n",
        "df_item_col_name.show(5)"
      ],
      "metadata": {
        "colab": {
          "base_uri": "https://localhost:8080/"
        },
        "id": "jlZbV9BsI234",
        "outputId": "732c2e05-90f9-47a6-be7d-020b1a3a0cbd"
      },
      "execution_count": 18,
      "outputs": [
        {
          "output_type": "stream",
          "name": "stdout",
          "text": [
            "+-------+-----------------+------------+------------------+--------------------+-------+------+---------+---------+----------+------+-----+-----------+-----+-------+---------+------+-------+-------+-------+------+--------+---+-------+\n",
            "|item id|      movie title|release date|video release date|            IMDb URL|unknown|Action|Adventure|Animation|Children\"s|Comedy|Crime|Documentary|Drama|Fantasy|Film-Noir|Horror|Musical|Mystery|Romance|Sci-Fi|Thriller|War|Western|\n",
            "+-------+-----------------+------------+------------------+--------------------+-------+------+---------+---------+----------+------+-----+-----------+-----+-------+---------+------+-------+-------+-------+------+--------+---+-------+\n",
            "|      1| Toy Story (1995)| 01-Jan-1995|              null|http://us.imdb.co...|      0|     0|        0|        1|         1|     1|    0|          0|    0|      0|        0|     0|      0|      0|      0|     0|       0|  0|      0|\n",
            "|      2| GoldenEye (1995)| 01-Jan-1995|              null|http://us.imdb.co...|      0|     1|        1|        0|         0|     0|    0|          0|    0|      0|        0|     0|      0|      0|      0|     0|       1|  0|      0|\n",
            "|      3|Four Rooms (1995)| 01-Jan-1995|              null|http://us.imdb.co...|      0|     0|        0|        0|         0|     0|    0|          0|    0|      0|        0|     0|      0|      0|      0|     0|       1|  0|      0|\n",
            "|      4|Get Shorty (1995)| 01-Jan-1995|              null|http://us.imdb.co...|      0|     1|        0|        0|         0|     1|    0|          0|    1|      0|        0|     0|      0|      0|      0|     0|       0|  0|      0|\n",
            "|      5|   Copycat (1995)| 01-Jan-1995|              null|http://us.imdb.co...|      0|     0|        0|        0|         0|     0|    1|          0|    1|      0|        0|     0|      0|      0|      0|     0|       1|  0|      0|\n",
            "+-------+-----------------+------------+------------------+--------------------+-------+------+---------+---------+----------+------+-----+-----------+-----+-------+---------+------+-------+-------+-------+------+--------+---+-------+\n",
            "only showing top 5 rows\n",
            "\n"
          ]
        }
      ]
    },
    {
      "cell_type": "code",
      "source": [
        "df_item_tab = df_item_col_name.join(df_data, 'item id', how='left')\n",
        "df_item_tab.show(5)"
      ],
      "metadata": {
        "colab": {
          "base_uri": "https://localhost:8080/"
        },
        "id": "ImSfb6HuXdnG",
        "outputId": "a1c8ee42-2260-4fe4-edef-6ab5d5fc3371"
      },
      "execution_count": 19,
      "outputs": [
        {
          "output_type": "stream",
          "name": "stdout",
          "text": [
            "+-------+----------------+------------+------------------+--------------------+-------+------+---------+---------+----------+------+-----+-----------+-----+-------+---------+------+-------+-------+-------+------+--------+---+-------+-------+------+---------+\n",
            "|item id|     movie title|release date|video release date|            IMDb URL|unknown|Action|Adventure|Animation|Children\"s|Comedy|Crime|Documentary|Drama|Fantasy|Film-Noir|Horror|Musical|Mystery|Romance|Sci-Fi|Thriller|War|Western|user id|rating|timestamp|\n",
            "+-------+----------------+------------+------------------+--------------------+-------+------+---------+---------+----------+------+-----+-----------+-----+-------+---------+------+-------+-------+-------+------+--------+---+-------+-------+------+---------+\n",
            "|      1|Toy Story (1995)| 01-Jan-1995|              null|http://us.imdb.co...|      0|     0|        0|        1|         1|     1|    0|          0|    0|      0|        0|     0|      0|      0|      0|     0|       0|  0|      0|    593|     3|875659150|\n",
            "|      1|Toy Story (1995)| 01-Jan-1995|              null|http://us.imdb.co...|      0|     0|        0|        1|         1|     1|    0|          0|    0|      0|        0|     0|      0|      0|      0|     0|       0|  0|      0|    800|     4|887646283|\n",
            "|      1|Toy Story (1995)| 01-Jan-1995|              null|http://us.imdb.co...|      0|     0|        0|        1|         1|     1|    0|          0|    0|      0|        0|     0|      0|      0|      0|     0|       0|  0|      0|    786|     4|882841828|\n",
            "|      1|Toy Story (1995)| 01-Jan-1995|              null|http://us.imdb.co...|      0|     0|        0|        1|         1|     1|    0|          0|    0|      0|        0|     0|      0|      0|      0|     0|       0|  0|      0|    747|     5|888639138|\n",
            "|      1|Toy Story (1995)| 01-Jan-1995|              null|http://us.imdb.co...|      0|     0|        0|        1|         1|     1|    0|          0|    0|      0|        0|     0|      0|      0|      0|     0|       0|  0|      0|    895|     4|879437950|\n",
            "+-------+----------------+------------+------------------+--------------------+-------+------+---------+---------+----------+------+-----+-----------+-----+-------+---------+------+-------+-------+-------+------+--------+---+-------+-------+------+---------+\n",
            "only showing top 5 rows\n",
            "\n"
          ]
        }
      ]
    },
    {
      "cell_type": "code",
      "source": [
        "from pyspark.sql.functions import col\n",
        "\n",
        "film_genre = ['Action', 'Adventure', 'Animation',\n",
        "            'Children\"s', 'Comedy', 'Crime', 'Documentary', 'Drama', 'Fantasy',\n",
        "             'Film-Noir', 'Horror', 'Musical', 'Mystery', 'Romance', 'Sci-Fi',\n",
        "                                                    'Thriller','War','Western']\n",
        "for x in film_genre:\n",
        "  df_maen = df_item_tab.groupby(x).mean('rating').where(col(x).like('1'))\n",
        "  df_maen.show()"
      ],
      "metadata": {
        "colab": {
          "base_uri": "https://localhost:8080/"
        },
        "id": "xzxkQ7jM1xPf",
        "outputId": "bc356d45-80f8-4767-bd00-b3e4343fe1a0"
      },
      "execution_count": 47,
      "outputs": [
        {
          "output_type": "stream",
          "name": "stdout",
          "text": [
            "+------+-----------------+\n",
            "|Action|      avg(rating)|\n",
            "+------+-----------------+\n",
            "|     1|3.480245417953027|\n",
            "+------+-----------------+\n",
            "\n",
            "+---------+-----------------+\n",
            "|Adventure|      avg(rating)|\n",
            "+---------+-----------------+\n",
            "|        1|3.503526503308369|\n",
            "+---------+-----------------+\n",
            "\n",
            "+---------+------------------+\n",
            "|Animation|       avg(rating)|\n",
            "+---------+------------------+\n",
            "|        1|3.5766990291262135|\n",
            "+---------+------------------+\n",
            "\n",
            "+----------+------------------+\n",
            "|Children\"s|       avg(rating)|\n",
            "+----------+------------------+\n",
            "|         1|3.3532442216652742|\n",
            "+----------+------------------+\n",
            "\n",
            "+------+------------------+\n",
            "|Comedy|       avg(rating)|\n",
            "+------+------------------+\n",
            "|     1|3.3940734781442745|\n",
            "+------+------------------+\n",
            "\n",
            "+-----+------------------+\n",
            "|Crime|       avg(rating)|\n",
            "+-----+------------------+\n",
            "|    1|3.6322780881440098|\n",
            "+-----+------------------+\n",
            "\n",
            "+-----------+------------------+\n",
            "|Documentary|       avg(rating)|\n",
            "+-----------+------------------+\n",
            "|          1|3.6728232189973613|\n",
            "+-----------+------------------+\n",
            "\n",
            "+-----+------------------+\n",
            "|Drama|       avg(rating)|\n",
            "+-----+------------------+\n",
            "|    1|3.6873793708484772|\n",
            "+-----+------------------+\n",
            "\n",
            "+-------+------------------+\n",
            "|Fantasy|       avg(rating)|\n",
            "+-------+------------------+\n",
            "|      1|3.2152366863905324|\n",
            "+-------+------------------+\n",
            "\n",
            "+---------+------------------+\n",
            "|Film-Noir|       avg(rating)|\n",
            "+---------+------------------+\n",
            "|        1|3.9215233698788228|\n",
            "+---------+------------------+\n",
            "\n",
            "+------+------------------+\n",
            "|Horror|       avg(rating)|\n",
            "+------+------------------+\n",
            "|     1|3.2903893172841827|\n",
            "+------+------------------+\n",
            "\n",
            "+-------+-----------------+\n",
            "|Musical|      avg(rating)|\n",
            "+-------+-----------------+\n",
            "|      1|3.521396851029471|\n",
            "+-------+-----------------+\n",
            "\n",
            "+-------+----------------+\n",
            "|Mystery|     avg(rating)|\n",
            "+-------+----------------+\n",
            "|      1|3.63813155386082|\n",
            "+-------+----------------+\n",
            "\n",
            "+-------+-----------------+\n",
            "|Romance|      avg(rating)|\n",
            "+-------+-----------------+\n",
            "|      1|3.621704948358255|\n",
            "+-------+-----------------+\n",
            "\n",
            "+------+------------------+\n",
            "|Sci-Fi|       avg(rating)|\n",
            "+------+------------------+\n",
            "|     1|3.5607227022780834|\n",
            "+------+------------------+\n",
            "\n",
            "+--------+------------------+\n",
            "|Thriller|       avg(rating)|\n",
            "+--------+------------------+\n",
            "|       1|3.5090069495245064|\n",
            "+--------+------------------+\n",
            "\n",
            "+---+-----------------+\n",
            "|War|      avg(rating)|\n",
            "+---+-----------------+\n",
            "|  1|3.815811874866993|\n",
            "+---+-----------------+\n",
            "\n",
            "+-------+------------------+\n",
            "|Western|       avg(rating)|\n",
            "+-------+------------------+\n",
            "|      1|3.6132686084142396|\n",
            "+-------+------------------+\n",
            "\n"
          ]
        }
      ]
    },
    {
      "cell_type": "markdown",
      "source": [
        "## Задание 11\n",
        "В спарке получить 2 датафрейма с 5-ю самыми популярными и самыми непопулярными фильмами (по количеству оценок, либо по самой оценке - на Ваш выбор)"
      ],
      "metadata": {
        "id": "jOFfGNPXB545"
      }
    },
    {
      "cell_type": "code",
      "source": [
        "df_test = df_item_tab.groupBy('movie title').pivot(\"unknown\").mean('rating')\n",
        "df_test.show()"
      ],
      "metadata": {
        "colab": {
          "base_uri": "https://localhost:8080/"
        },
        "id": "-rOppwNR6cZn",
        "outputId": "e778c863-bac8-4820-87ed-c698ed492fc1"
      },
      "execution_count": 95,
      "outputs": [
        {
          "output_type": "stream",
          "name": "stdout",
          "text": [
            "+--------------------+------------------+----+\n",
            "|         movie title|                 0|   1|\n",
            "+--------------------+------------------+----+\n",
            "|       Psycho (1960)| 4.100418410041841|null|\n",
            "|         Cosi (1996)|               4.0|null|\n",
            "|When We Were King...| 4.045454545454546|null|\n",
            "|Snow White and th...|3.7093023255813953|null|\n",
            "| If Lucy Fell (1996)|2.7586206896551726|null|\n",
            "|    Fair Game (1995)|2.1818181818181817|null|\n",
            "|Night of the Livi...|          3.421875|null|\n",
            "|Paris, France (1993)|2.3333333333333335|null|\n",
            "| Three Wishes (1995)|3.2222222222222223|null|\n",
            "|   Annie Hall (1977)| 3.911111111111111|null|\n",
            "|Heavenly Creature...|3.6714285714285713|null|\n",
            "|        Mondo (1996)|               3.0|null|\n",
            "|I'll Do Anything ...|               2.6|null|\n",
            "|Spanking the Monk...| 3.074074074074074|null|\n",
            "| Evil Dead II (1987)|3.5168539325842696|null|\n",
            "|A Chef in Love (1...|             4.125|null|\n",
            "|   Blue Chips (1994)|2.6666666666666665|null|\n",
            "|Colonel Chabert, ...|               3.5|null|\n",
            "|Reality Bites (1994)| 2.961038961038961|null|\n",
            "|    Threesome (1994)| 2.838709677419355|null|\n",
            "+--------------------+------------------+----+\n",
            "only showing top 20 rows\n",
            "\n"
          ]
        }
      ]
    },
    {
      "cell_type": "code",
      "source": [
        "top5_max = df_test.orderBy(\"0\", ascending=False).show(5)"
      ],
      "metadata": {
        "colab": {
          "base_uri": "https://localhost:8080/"
        },
        "id": "pfAgLYrFCLp3",
        "outputId": "18077153-9512-4a21-a2ea-82abd6b9e7ef"
      },
      "execution_count": 99,
      "outputs": [
        {
          "output_type": "stream",
          "name": "stdout",
          "text": [
            "+--------------------+---+----+\n",
            "|         movie title|  0|   1|\n",
            "+--------------------+---+----+\n",
            "|     Star Kid (1997)|5.0|null|\n",
            "|Aiqing wansui (1994)|5.0|null|\n",
            "|Great Day in Harl...|5.0|null|\n",
            "|Saint of Fort Was...|5.0|null|\n",
            "|Marlene Dietrich:...|5.0|null|\n",
            "+--------------------+---+----+\n",
            "only showing top 5 rows\n",
            "\n"
          ]
        }
      ]
    },
    {
      "cell_type": "code",
      "source": [
        "top5_min = df_test.orderBy(\"0\", ascending=True).show(7)"
      ],
      "metadata": {
        "colab": {
          "base_uri": "https://localhost:8080/"
        },
        "id": "fHlccuqN68bc",
        "outputId": "24f533d3-91a5-48a1-eb16-5a30a7f4a66b"
      },
      "execution_count": 135,
      "outputs": [
        {
          "output_type": "stream",
          "name": "stdout",
          "text": [
            "+--------------------+----+------------------+\n",
            "|         movie title|   0|                 1|\n",
            "+--------------------+----+------------------+\n",
            "|             unknown|null|3.4444444444444446|\n",
            "| Good Morning (1971)|null|               1.0|\n",
            "|Death in the Gard...| 1.0|              null|\n",
            "|        Daens (1992)| 1.0|              null|\n",
            "|Girl in the Cadil...| 1.0|              null|\n",
            "|Crude Oasis, The ...| 1.0|              null|\n",
            "|Tigrero: A Film T...| 1.0|              null|\n",
            "+--------------------+----+------------------+\n",
            "only showing top 7 rows\n",
            "\n"
          ]
        }
      ]
    }
  ]
}