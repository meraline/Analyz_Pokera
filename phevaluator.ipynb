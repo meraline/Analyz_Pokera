{
 "cells": [
  {
   "cell_type": "code",
   "execution_count": 2,
   "id": "8242e8df-71a2-4dbb-b6f6-28093f1dd6a5",
   "metadata": {},
   "outputs": [
    {
     "name": "stdout",
     "output_type": "stream",
     "text": [
      "Requirement already satisfied: phevaluator in c:\\users\\artio\\anaconda3\\lib\\site-packages (0.5.0.4)\n",
      "Requirement already satisfied: numpy in c:\\users\\artio\\anaconda3\\lib\\site-packages (from phevaluator) (1.20.3)\n"
     ]
    }
   ],
   "source": [
    "!pip install phevaluator"
   ]
  }
 ],
 "metadata": {
  "kernelspec": {
   "display_name": "Python 3 (ipykernel)",
   "language": "python",
   "name": "python3"
  },
  "language_info": {
   "codemirror_mode": {
    "name": "ipython",
    "version": 3
   },
   "file_extension": ".py",
   "mimetype": "text/x-python",
   "name": "python",
   "nbconvert_exporter": "python",
   "pygments_lexer": "ipython3",
   "version": "3.9.7"
  },
  "widgets": {
   "application/vnd.jupyter.widget-state+json": {
    "state": {},
    "version_major": 2,
    "version_minor": 0
   }
  }
 },
 "nbformat": 4,
 "nbformat_minor": 5
}
