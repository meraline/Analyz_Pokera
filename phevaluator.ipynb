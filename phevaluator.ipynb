{
 "cells": [
  {
   "cell_type": "code",
   "execution_count": 1,
   "id": "739b8ae4-b361-47f3-bb4f-23e98dce97b9",
   "metadata": {},
   "outputs": [
    {
     "name": "stdout",
     "output_type": "stream",
     "text": [
      "Requirement already satisfied: phevaluator in c:\\users\\artio\\anaconda3\\lib\\site-packages (0.5.0.4)\n",
      "Requirement already satisfied: numpy in c:\\users\\artio\\anaconda3\\lib\\site-packages (from phevaluator) (1.21.6)\n"
     ]
    }
   ],
   "source": [
    "!pip install phevaluator"
   ]
  },
  {
   "cell_type": "code",
   "execution_count": 8,
   "id": "22723a92-cc0c-4db5-8624-7683157a1496",
   "metadata": {},
   "outputs": [
    {
     "name": "stdout",
     "output_type": "stream",
     "text": [
      "The rank of the hand in player 1 is 1\n",
      "The rank of the hand in player 2 is 1\n"
     ]
    }
   ],
   "source": [
    "from phevaluator import evaluate_cards\n",
    "\n",
    "p1 = evaluate_cards(\"Ac\", \"Kc\", \"Qc\", \"Jc\", \"Tc\", \"Qc\", \"6c\")\n",
    "p2 = evaluate_cards(\"9c\", \"4c\", \"4s\", \"9d\", \"4h\", \"2c\", \"9h\")\n",
    "\n",
    "# Player 2 has a stronger hand\n",
    "print(f\"The rank of the hand in player 1 is {p1}\") # 292\n",
    "print(f\"The rank of the hand in player 2 is {p1}\") # 236"
   ]
  },
  {
   "cell_type": "code",
   "execution_count": null,
   "id": "14b589af-9c8c-4832-9025-427d0589d890",
   "metadata": {},
   "outputs": [],
   "source": []
  }
 ],
 "metadata": {
  "kernelspec": {
   "display_name": "Python 3 (ipykernel)",
   "language": "python",
   "name": "python3"
  },
  "language_info": {
   "codemirror_mode": {
    "name": "ipython",
    "version": 3
   },
   "file_extension": ".py",
   "mimetype": "text/x-python",
   "name": "python",
   "nbconvert_exporter": "python",
   "pygments_lexer": "ipython3",
   "version": "3.9.7"
  },
  "widgets": {
   "application/vnd.jupyter.widget-state+json": {
    "state": {},
    "version_major": 2,
    "version_minor": 0
   }
  }
 },
 "nbformat": 4,
 "nbformat_minor": 5
}
