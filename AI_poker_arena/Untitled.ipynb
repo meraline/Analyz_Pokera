{
 "cells": [
  {
   "cell_type": "code",
   "execution_count": 2,
   "id": "b71e9344-aba6-41a3-9dda-a792b1c24f1c",
   "metadata": {},
   "outputs": [
    {
     "name": "stdout",
     "output_type": "stream",
     "text": [
      "{'version': '0.1'}\n"
     ]
    }
   ],
   "source": [
    "import requests\n",
    "import json\n",
    "\n",
    "data = {\"login\":\"botanik\",\"password\":\"gfhjkm\",\"name\":\"Name\",\"country\":\"FR\",\"email\":\"drevoteh@gmail.com\",\"device_name\":\"OH_v4.37\",\"client_version\":\"Client version\"} #TODO: your data to be sent\n",
    "\n",
    "r = requests.get('https://api.ai-poker-arena.com', data=data)\n",
    "if r.status_code >= 200 and r.status_code < 400:\n",
    "    res = json.loads(r.text)\n",
    "    print(res) #TODO: use this response: {\"id\":8,\"token\":\"d40c3b44-a55b-1bf0-bfa4-e324a2ccf...\n",
    "else:\n",
    "    print(r.text) #TODO: handle this error"
   ]
  },
  {
   "cell_type": "code",
   "execution_count": null,
   "id": "30e46f87-4ee6-4a72-8cc1-3f0294202cb7",
   "metadata": {},
   "outputs": [],
   "source": []
  }
 ],
 "metadata": {
  "kernelspec": {
   "display_name": "Python 3 (ipykernel)",
   "language": "python",
   "name": "python3"
  },
  "language_info": {
   "codemirror_mode": {
    "name": "ipython",
    "version": 3
   },
   "file_extension": ".py",
   "mimetype": "text/x-python",
   "name": "python",
   "nbconvert_exporter": "python",
   "pygments_lexer": "ipython3",
   "version": "3.9.7"
  },
  "widgets": {
   "application/vnd.jupyter.widget-state+json": {
    "state": {},
    "version_major": 2,
    "version_minor": 0
   }
  }
 },
 "nbformat": 4,
 "nbformat_minor": 5
}
