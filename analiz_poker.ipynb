{
  "nbformat": 4,
  "nbformat_minor": 0,
  "metadata": {
    "colab": {
      "name": "analiz_poker.ipynb",
      "provenance": [],
      "authorship_tag": "ABX9TyOmEyugzg/HrqC08SxzhKU3",
      "include_colab_link": true
    },
    "kernelspec": {
      "name": "python3",
      "display_name": "Python 3"
    },
    "language_info": {
      "name": "python"
    }
  },
  "cells": [
    {
      "cell_type": "markdown",
      "metadata": {
        "id": "view-in-github",
        "colab_type": "text"
      },
      "source": [
        "<a href=\"https://colab.research.google.com/github/meraline/Analyz_Pokera/blob/master/analiz_poker.ipynb\" target=\"_parent\"><img src=\"https://colab.research.google.com/assets/colab-badge.svg\" alt=\"Open In Colab\"/></a>"
      ]
    },
    {
      "cell_type": "code",
      "source": [
        ""
      ],
      "metadata": {
        "id": "HzIRhPcagfZh"
      },
      "execution_count": null,
      "outputs": []
    },
    {
      "cell_type": "markdown",
      "source": [
        "## Извлечение данных"
      ],
      "metadata": {
        "id": "cCLyx1NLRfLa"
      }
    },
    {
      "cell_type": "code",
      "execution_count": null,
      "metadata": {
        "colab": {
          "base_uri": "https://localhost:8080/",
          "height": 206
        },
        "id": "RehS5KQCEhv4",
        "outputId": "595dd702-fa39-4d44-c72a-b5ab1b747c27"
      },
      "outputs": [
        {
          "output_type": "execute_result",
          "data": {
            "text/html": [
              "\n",
              "  <div id=\"df-06d3613d-e023-45fb-a4c4-50d61125b309\">\n",
              "    <div class=\"colab-df-container\">\n",
              "      <div>\n",
              "<style scoped>\n",
              "    .dataframe tbody tr th:only-of-type {\n",
              "        vertical-align: middle;\n",
              "    }\n",
              "\n",
              "    .dataframe tbody tr th {\n",
              "        vertical-align: top;\n",
              "    }\n",
              "\n",
              "    .dataframe thead th {\n",
              "        text-align: right;\n",
              "    }\n",
              "</style>\n",
              "<table border=\"1\" class=\"dataframe\">\n",
              "  <thead>\n",
              "    <tr style=\"text-align: right;\">\n",
              "      <th></th>\n",
              "      <th>TypeOfRoom</th>\n",
              "      <th>HandId</th>\n",
              "      <th>Tournament</th>\n",
              "      <th>info</th>\n",
              "      <th>Level</th>\n",
              "      <th>Date</th>\n",
              "      <th>Hour</th>\n",
              "      <th>TimeZoneAbb</th>\n",
              "      <th>Table</th>\n",
              "      <th>NoOfPlayers</th>\n",
              "      <th>bain</th>\n",
              "      <th>HandHiro</th>\n",
              "      <th>Flop</th>\n",
              "      <th>Turn</th>\n",
              "      <th>River</th>\n",
              "    </tr>\n",
              "  </thead>\n",
              "  <tbody>\n",
              "    <tr>\n",
              "      <th>0</th>\n",
              "      <td>PokerStars</td>\n",
              "      <td>228182836411</td>\n",
              "      <td>3227430197</td>\n",
              "      <td>$13.70+$1.30 USD Hold'em No Limit -</td>\n",
              "      <td>IX (200/400)</td>\n",
              "      <td>2021/07/10</td>\n",
              "      <td>8:46:28</td>\n",
              "      <td>MSK</td>\n",
              "      <td>9-max</td>\n",
              "      <td>3</td>\n",
              "      <td>$13.70+$1.30</td>\n",
              "      <td>7h 7s</td>\n",
              "      <td>5h 2h Kc</td>\n",
              "      <td>3h</td>\n",
              "      <td>5c</td>\n",
              "    </tr>\n",
              "    <tr>\n",
              "      <th>1</th>\n",
              "      <td>PokerStars</td>\n",
              "      <td>228182839161</td>\n",
              "      <td>3227430197</td>\n",
              "      <td>$13.70+$1.30 USD Hold'em No Limit -</td>\n",
              "      <td>IX (200/400)</td>\n",
              "      <td>2021/07/10</td>\n",
              "      <td>8:46:45</td>\n",
              "      <td>MSK</td>\n",
              "      <td>9-max</td>\n",
              "      <td>3</td>\n",
              "      <td>$13.70+$1.30</td>\n",
              "      <td>Ac 5h</td>\n",
              "      <td>Jd Qh Qc</td>\n",
              "      <td>6d</td>\n",
              "      <td>Kd</td>\n",
              "    </tr>\n",
              "    <tr>\n",
              "      <th>2</th>\n",
              "      <td>PokerStars</td>\n",
              "      <td>228182845929</td>\n",
              "      <td>3227430197</td>\n",
              "      <td>$13.70+$1.30 USD Hold'em No Limit -</td>\n",
              "      <td>IX (200/400)</td>\n",
              "      <td>2021/07/10</td>\n",
              "      <td>8:47:30</td>\n",
              "      <td>MSK</td>\n",
              "      <td>9-max</td>\n",
              "      <td>3</td>\n",
              "      <td>$13.70+$1.30</td>\n",
              "      <td>5c 5s</td>\n",
              "      <td>Td Kh Th</td>\n",
              "      <td>2c</td>\n",
              "      <td>Ad</td>\n",
              "    </tr>\n",
              "    <tr>\n",
              "      <th>3</th>\n",
              "      <td>PokerStars</td>\n",
              "      <td>228182848632</td>\n",
              "      <td>3227430197</td>\n",
              "      <td>$13.70+$1.30 USD Hold'em No Limit -</td>\n",
              "      <td>IX (200/400)</td>\n",
              "      <td>2021/07/10</td>\n",
              "      <td>8:47:48</td>\n",
              "      <td>MSK</td>\n",
              "      <td>9-max</td>\n",
              "      <td>3</td>\n",
              "      <td>$13.70+$1.30</td>\n",
              "      <td>4c 4s</td>\n",
              "      <td>3h 6d 7d</td>\n",
              "      <td>8d</td>\n",
              "      <td>6h</td>\n",
              "    </tr>\n",
              "    <tr>\n",
              "      <th>4</th>\n",
              "      <td>PokerStars</td>\n",
              "      <td>228242890835</td>\n",
              "      <td>3228689682</td>\n",
              "      <td>$27.40+$2.60 USD Hold'em No Limit -</td>\n",
              "      <td>I (10/20)</td>\n",
              "      <td>2021/07/12</td>\n",
              "      <td>21:25:36</td>\n",
              "      <td>MSK</td>\n",
              "      <td>9-max</td>\n",
              "      <td>9</td>\n",
              "      <td>$27.40+$2.60</td>\n",
              "      <td>9h 9s</td>\n",
              "      <td>As 4s Kc</td>\n",
              "      <td>9d</td>\n",
              "      <td>Jd</td>\n",
              "    </tr>\n",
              "  </tbody>\n",
              "</table>\n",
              "</div>\n",
              "      <button class=\"colab-df-convert\" onclick=\"convertToInteractive('df-06d3613d-e023-45fb-a4c4-50d61125b309')\"\n",
              "              title=\"Convert this dataframe to an interactive table.\"\n",
              "              style=\"display:none;\">\n",
              "        \n",
              "  <svg xmlns=\"http://www.w3.org/2000/svg\" height=\"24px\"viewBox=\"0 0 24 24\"\n",
              "       width=\"24px\">\n",
              "    <path d=\"M0 0h24v24H0V0z\" fill=\"none\"/>\n",
              "    <path d=\"M18.56 5.44l.94 2.06.94-2.06 2.06-.94-2.06-.94-.94-2.06-.94 2.06-2.06.94zm-11 1L8.5 8.5l.94-2.06 2.06-.94-2.06-.94L8.5 2.5l-.94 2.06-2.06.94zm10 10l.94 2.06.94-2.06 2.06-.94-2.06-.94-.94-2.06-.94 2.06-2.06.94z\"/><path d=\"M17.41 7.96l-1.37-1.37c-.4-.4-.92-.59-1.43-.59-.52 0-1.04.2-1.43.59L10.3 9.45l-7.72 7.72c-.78.78-.78 2.05 0 2.83L4 21.41c.39.39.9.59 1.41.59.51 0 1.02-.2 1.41-.59l7.78-7.78 2.81-2.81c.8-.78.8-2.07 0-2.86zM5.41 20L4 18.59l7.72-7.72 1.47 1.35L5.41 20z\"/>\n",
              "  </svg>\n",
              "      </button>\n",
              "      \n",
              "  <style>\n",
              "    .colab-df-container {\n",
              "      display:flex;\n",
              "      flex-wrap:wrap;\n",
              "      gap: 12px;\n",
              "    }\n",
              "\n",
              "    .colab-df-convert {\n",
              "      background-color: #E8F0FE;\n",
              "      border: none;\n",
              "      border-radius: 50%;\n",
              "      cursor: pointer;\n",
              "      display: none;\n",
              "      fill: #1967D2;\n",
              "      height: 32px;\n",
              "      padding: 0 0 0 0;\n",
              "      width: 32px;\n",
              "    }\n",
              "\n",
              "    .colab-df-convert:hover {\n",
              "      background-color: #E2EBFA;\n",
              "      box-shadow: 0px 1px 2px rgba(60, 64, 67, 0.3), 0px 1px 3px 1px rgba(60, 64, 67, 0.15);\n",
              "      fill: #174EA6;\n",
              "    }\n",
              "\n",
              "    [theme=dark] .colab-df-convert {\n",
              "      background-color: #3B4455;\n",
              "      fill: #D2E3FC;\n",
              "    }\n",
              "\n",
              "    [theme=dark] .colab-df-convert:hover {\n",
              "      background-color: #434B5C;\n",
              "      box-shadow: 0px 1px 3px 1px rgba(0, 0, 0, 0.15);\n",
              "      filter: drop-shadow(0px 1px 2px rgba(0, 0, 0, 0.3));\n",
              "      fill: #FFFFFF;\n",
              "    }\n",
              "  </style>\n",
              "\n",
              "      <script>\n",
              "        const buttonEl =\n",
              "          document.querySelector('#df-06d3613d-e023-45fb-a4c4-50d61125b309 button.colab-df-convert');\n",
              "        buttonEl.style.display =\n",
              "          google.colab.kernel.accessAllowed ? 'block' : 'none';\n",
              "\n",
              "        async function convertToInteractive(key) {\n",
              "          const element = document.querySelector('#df-06d3613d-e023-45fb-a4c4-50d61125b309');\n",
              "          const dataTable =\n",
              "            await google.colab.kernel.invokeFunction('convertToInteractive',\n",
              "                                                     [key], {});\n",
              "          if (!dataTable) return;\n",
              "\n",
              "          const docLinkHtml = 'Like what you see? Visit the ' +\n",
              "            '<a target=\"_blank\" href=https://colab.research.google.com/notebooks/data_table.ipynb>data table notebook</a>'\n",
              "            + ' to learn more about interactive tables.';\n",
              "          element.innerHTML = '';\n",
              "          dataTable['output_type'] = 'display_data';\n",
              "          await google.colab.output.renderOutput(dataTable, element);\n",
              "          const docLink = document.createElement('div');\n",
              "          docLink.innerHTML = docLinkHtml;\n",
              "          element.appendChild(docLink);\n",
              "        }\n",
              "      </script>\n",
              "    </div>\n",
              "  </div>\n",
              "  "
            ],
            "text/plain": [
              "   TypeOfRoom        HandId  Tournament  ...      Flop Turn River\n",
              "0  PokerStars  228182836411  3227430197  ...  5h 2h Kc   3h    5c\n",
              "1  PokerStars  228182839161  3227430197  ...  Jd Qh Qc   6d    Kd\n",
              "2  PokerStars  228182845929  3227430197  ...  Td Kh Th   2c    Ad\n",
              "3  PokerStars  228182848632  3227430197  ...  3h 6d 7d   8d    6h\n",
              "4  PokerStars  228242890835  3228689682  ...  As 4s Kc   9d    Jd\n",
              "\n",
              "[5 rows x 15 columns]"
            ]
          },
          "metadata": {},
          "execution_count": 2
        }
      ],
      "source": [
        "import re\n",
        "import pandas as pd\n",
        "\n",
        "data_pd = {'TypeOfRoom': [], 'HandId': [], 'Tournament': [], 'info': [], 'Level': [], 'Date': [], \n",
        "           'Hour': [], 'TimeZoneAbb': [], 'Table': [], 'NoOfPlayers': [], 'bain': [], 'HandHiro': [], 'Flop': [], 'Turn': [], 'River': []}\n",
        "with open('dim10.txt', 'r') as f:\n",
        "    data = f.read()\n",
        "result = re.findall('(\\w+) Hand #(\\d*): Tournament #(\\d*),(.*) Level (.*) - (\\d{4}/\\d+/\\d+) (\\d+\\D\\d+\\D\\d+) (\\w*)', data)    \n",
        "# result = re.findall('(\\w+) Game #(\\d*): Tournament #(\\d*),(.*) Level (.*) - (\\d{4}/\\d+/\\d+) (\\d+\\D\\d+\\D\\d+) (\\w*)', data)\n",
        "# result = re.findall('(\\w+) Hand #(\\d+): (.*) \\(.(\\d+\\.\\d+)\\/.(\\d+\\.\\d+).*(\\d\\d\\d\\d\\/\\d\\d\\/\\d\\d).*(\\d+:\\d+:\\d+) (\\w+)', data)\n",
        "Tables = re.findall('Table \\'.*\\' (.*) Seat .*\\n', data)\n",
        "bains = re.findall('(\\D\\d+\\.\\d+\\+\\D\\d+\\.\\d+)', data)\n",
        "HandHiros = re.findall(\"Dealt to dimetruk \\D(.. ..)\\D\", data)\n",
        "Flops = re.findall('[*]{3} FLOP [*]{3} \\D(.. .. ..)\\D', data)\n",
        "Turns = re.findall('[*]{3} TURN [*]{3} \\D.. .. ..\\D \\D(..)\\D', data)\n",
        "Rivers = re.findall('[*]{3} RIVER [*]{3} \\D.. .. .. ..\\D \\D(..)\\D', data)\n",
        "\n",
        "s = re.findall('Seat (\\d).*chips', data)\n",
        "s = [int(x) for x in s]\n",
        "seats = []\n",
        "length = 1\n",
        "for i in range(len(s)-1):\n",
        "    if s[i+1] < s[i]:\n",
        "        seats.append(length)\n",
        "        length = 1\n",
        "    else:\n",
        "        length += 1\n",
        "seats.append(length)\n",
        "\n",
        "\n",
        "for r, table, bain, seat, handHiro, flop, turn, river, in zip(result, Tables, bains, seats, HandHiros, Flops, Turns, Rivers):\n",
        "    data_pd['TypeOfRoom'].append(r[0])\n",
        "    data_pd['HandId'].append(r[1])\n",
        "    data_pd['Tournament'].append(r[2])\n",
        "    data_pd['info'].append(r[3])\n",
        "    data_pd['Level'].append(r[4])\n",
        "    data_pd['Date'].append(r[5])\n",
        "    data_pd['Hour'].append(r[6])\n",
        "    data_pd['TimeZoneAbb'].append(r[7])\n",
        "    data_pd['Table'].append(table)\n",
        "    data_pd['NoOfPlayers'].append(seat)\n",
        "    data_pd['bain'].append(bain)\n",
        "    data_pd['HandHiro'].append(handHiro)\n",
        "    data_pd['Flop'].append(flop)\n",
        "    data_pd['Turn'].append(turn)\n",
        "    data_pd['River'].append(river)\n",
        "\n",
        "df = pd.DataFrame(data_pd)\n",
        "\n",
        "df.head()"
      ]
    },
    {
      "cell_type": "code",
      "source": [
        "df.info()"
      ],
      "metadata": {
        "colab": {
          "base_uri": "https://localhost:8080/"
        },
        "id": "tQqdfHqw6zgO",
        "outputId": "94bfe8e6-f01a-4ed6-db56-0263e17c5c7f"
      },
      "execution_count": null,
      "outputs": [
        {
          "output_type": "stream",
          "name": "stdout",
          "text": [
            "<class 'pandas.core.frame.DataFrame'>\n",
            "RangeIndex: 5 entries, 0 to 4\n",
            "Data columns (total 15 columns):\n",
            " #   Column       Non-Null Count  Dtype \n",
            "---  ------       --------------  ----- \n",
            " 0   TypeOfRoom   5 non-null      object\n",
            " 1   HandId       5 non-null      object\n",
            " 2   Tournament   5 non-null      object\n",
            " 3   info         5 non-null      object\n",
            " 4   Level        5 non-null      object\n",
            " 5   Date         5 non-null      object\n",
            " 6   Hour         5 non-null      object\n",
            " 7   TimeZoneAbb  5 non-null      object\n",
            " 8   Table        5 non-null      object\n",
            " 9   NoOfPlayers  5 non-null      int64 \n",
            " 10  bain         5 non-null      object\n",
            " 11  HandHiro     5 non-null      object\n",
            " 12  Flop         5 non-null      object\n",
            " 13  Turn         5 non-null      object\n",
            " 14  River        5 non-null      object\n",
            "dtypes: int64(1), object(14)\n",
            "memory usage: 728.0+ bytes\n"
          ]
        }
      ]
    },
    {
      "cell_type": "markdown",
      "source": [
        "#Преобразуем строковые данные"
      ],
      "metadata": {
        "id": "q97wcPd37OcA"
      }
    },
    {
      "cell_type": "code",
      "source": [
        "before = type(df.Tournament[0])\n",
        "print(before) "
      ],
      "metadata": {
        "colab": {
          "base_uri": "https://localhost:8080/"
        },
        "id": "zEtzeQ9b7R2_",
        "outputId": "29819cd5-a948-4ccd-8278-857d02d1ffa8"
      },
      "execution_count": null,
      "outputs": [
        {
          "output_type": "stream",
          "name": "stdout",
          "text": [
            "<class 'str'>\n"
          ]
        }
      ]
    },
    {
      "cell_type": "code",
      "source": [
        "import numpy as np\n",
        "\n",
        "df.Tournament = df.Tournament.astype('int64')\n",
        "df = df.astype({'HandId': np.int64, 'Tournament': np.int64})\n",
        "df.info()"
      ],
      "metadata": {
        "colab": {
          "base_uri": "https://localhost:8080/"
        },
        "id": "in0N3vgBCC40",
        "outputId": "ea761df4-ae88-4c67-bea2-4d389068c984"
      },
      "execution_count": null,
      "outputs": [
        {
          "output_type": "stream",
          "name": "stdout",
          "text": [
            "<class 'pandas.core.frame.DataFrame'>\n",
            "RangeIndex: 5 entries, 0 to 4\n",
            "Data columns (total 15 columns):\n",
            " #   Column       Non-Null Count  Dtype \n",
            "---  ------       --------------  ----- \n",
            " 0   TypeOfRoom   5 non-null      object\n",
            " 1   HandId       5 non-null      int64 \n",
            " 2   Tournament   5 non-null      int64 \n",
            " 3   info         5 non-null      object\n",
            " 4   Level        5 non-null      object\n",
            " 5   Date         5 non-null      object\n",
            " 6   Hour         5 non-null      object\n",
            " 7   TimeZoneAbb  5 non-null      object\n",
            " 8   Table        5 non-null      object\n",
            " 9   NoOfPlayers  5 non-null      int64 \n",
            " 10  bain         5 non-null      object\n",
            " 11  HandHiro     5 non-null      object\n",
            " 12  Flop         5 non-null      object\n",
            " 13  Turn         5 non-null      object\n",
            " 14  River        5 non-null      object\n",
            "dtypes: int64(3), object(12)\n",
            "memory usage: 728.0+ bytes\n"
          ]
        }
      ]
    }
  ]
}