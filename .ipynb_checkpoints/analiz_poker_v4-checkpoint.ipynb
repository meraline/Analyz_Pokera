{
 "cells": [
  {
   "cell_type": "markdown",
   "metadata": {
    "id": "cCLyx1NLRfLa"
   },
   "source": [
    "## Извлечение данных"
   ]
  },
  {
   "cell_type": "code",
   "execution_count": 115,
   "metadata": {
    "ExecuteTime": {
     "end_time": "2022-01-13T22:42:04.665671Z",
     "start_time": "2022-01-13T22:41:57.698198Z"
    },
    "code_folding": [
     5,
     21
    ],
    "colab": {
     "base_uri": "https://localhost:8080/",
     "height": 206
    },
    "id": "RehS5KQCEhv4",
    "outputId": "595dd702-fa39-4d44-c72a-b5ab1b747c27",
    "tags": []
   },
   "outputs": [],
   "source": [
    "import re\n",
    "import pandas as pd\n",
    "from datetime import datetime\n",
    "import eval7, pprint\n",
    "from poker.room.pokerstars import PokerStarsHandHistory\n",
    "from poker.hand import Hand, Combo\n",
    "import numpy as np\n",
    "from phevaluator import evaluate_cards"
   ]
  },
  {
   "cell_type": "code",
   "execution_count": 135,
   "metadata": {
    "ExecuteTime": {
     "end_time": "2022-01-13T22:42:04.665671Z",
     "start_time": "2022-01-13T22:41:57.698198Z"
    },
    "code_folding": [
     5,
     21
    ],
    "colab": {
     "base_uri": "https://localhost:8080/",
     "height": 206
    },
    "id": "RehS5KQCEhv4",
    "outputId": "595dd702-fa39-4d44-c72a-b5ab1b747c27",
    "tags": []
   },
   "outputs": [
    {
     "data": {
      "text/html": [
       "<div>\n",
       "<style scoped>\n",
       "    .dataframe tbody tr th:only-of-type {\n",
       "        vertical-align: middle;\n",
       "    }\n",
       "\n",
       "    .dataframe tbody tr th {\n",
       "        vertical-align: top;\n",
       "    }\n",
       "\n",
       "    .dataframe thead th {\n",
       "        text-align: right;\n",
       "    }\n",
       "</style>\n",
       "<table border=\"1\" class=\"dataframe\">\n",
       "  <thead>\n",
       "    <tr style=\"text-align: right;\">\n",
       "      <th></th>\n",
       "      <th>TypeOfRoom</th>\n",
       "      <th>HandId</th>\n",
       "      <th>Tournament</th>\n",
       "      <th>info</th>\n",
       "      <th>Level</th>\n",
       "      <th>Date</th>\n",
       "      <th>Hour</th>\n",
       "      <th>TimeZoneAbb</th>\n",
       "      <th>Table</th>\n",
       "      <th>NoOfPlayers</th>\n",
       "      <th>bain</th>\n",
       "      <th>HandHiro</th>\n",
       "      <th>Board</th>\n",
       "    </tr>\n",
       "  </thead>\n",
       "  <tbody>\n",
       "    <tr>\n",
       "      <th>0</th>\n",
       "      <td>PokerStars</td>\n",
       "      <td>228182836411</td>\n",
       "      <td>3227430197</td>\n",
       "      <td>$13.70+$1.30 USD Hold'em No Limit -</td>\n",
       "      <td>IX (200/400)</td>\n",
       "      <td>2021/07/10</td>\n",
       "      <td>8:46:28</td>\n",
       "      <td>MSK</td>\n",
       "      <td>9-max</td>\n",
       "      <td>3</td>\n",
       "      <td>$13.70+$1.30</td>\n",
       "      <td>7h 7s</td>\n",
       "      <td>5h 2h Kc 3h 5c</td>\n",
       "    </tr>\n",
       "    <tr>\n",
       "      <th>1</th>\n",
       "      <td>PokerStars</td>\n",
       "      <td>228182839161</td>\n",
       "      <td>3227430197</td>\n",
       "      <td>$13.70+$1.30 USD Hold'em No Limit -</td>\n",
       "      <td>IX (200/400)</td>\n",
       "      <td>2021/07/10</td>\n",
       "      <td>8:46:45</td>\n",
       "      <td>MSK</td>\n",
       "      <td>9-max</td>\n",
       "      <td>3</td>\n",
       "      <td>$13.70+$1.30</td>\n",
       "      <td>Ac 5h</td>\n",
       "      <td>Jd Qh Qc 6d Kd</td>\n",
       "    </tr>\n",
       "    <tr>\n",
       "      <th>2</th>\n",
       "      <td>PokerStars</td>\n",
       "      <td>228182845929</td>\n",
       "      <td>3227430197</td>\n",
       "      <td>$13.70+$1.30 USD Hold'em No Limit -</td>\n",
       "      <td>IX (200/400)</td>\n",
       "      <td>2021/07/10</td>\n",
       "      <td>8:47:30</td>\n",
       "      <td>MSK</td>\n",
       "      <td>9-max</td>\n",
       "      <td>3</td>\n",
       "      <td>$13.70+$1.30</td>\n",
       "      <td>5c 5s</td>\n",
       "      <td>Td Kh Th 2c Ad</td>\n",
       "    </tr>\n",
       "    <tr>\n",
       "      <th>3</th>\n",
       "      <td>PokerStars</td>\n",
       "      <td>228182848632</td>\n",
       "      <td>3227430197</td>\n",
       "      <td>$13.70+$1.30 USD Hold'em No Limit -</td>\n",
       "      <td>IX (200/400)</td>\n",
       "      <td>2021/07/10</td>\n",
       "      <td>8:47:48</td>\n",
       "      <td>MSK</td>\n",
       "      <td>9-max</td>\n",
       "      <td>3</td>\n",
       "      <td>$13.70+$1.30</td>\n",
       "      <td>4c 4s</td>\n",
       "      <td>3h 6d 7d 8d 6h</td>\n",
       "    </tr>\n",
       "    <tr>\n",
       "      <th>4</th>\n",
       "      <td>PokerStars</td>\n",
       "      <td>228242890835</td>\n",
       "      <td>3228689682</td>\n",
       "      <td>$27.40+$2.60 USD Hold'em No Limit -</td>\n",
       "      <td>I (10/20)</td>\n",
       "      <td>2021/07/12</td>\n",
       "      <td>21:25:36</td>\n",
       "      <td>MSK</td>\n",
       "      <td>9-max</td>\n",
       "      <td>9</td>\n",
       "      <td>$27.40+$2.60</td>\n",
       "      <td>9h 9s</td>\n",
       "      <td>As 4s Kc</td>\n",
       "    </tr>\n",
       "  </tbody>\n",
       "</table>\n",
       "</div>"
      ],
      "text/plain": [
       "   TypeOfRoom        HandId  Tournament                                  info  \\\n",
       "0  PokerStars  228182836411  3227430197   $13.70+$1.30 USD Hold'em No Limit -   \n",
       "1  PokerStars  228182839161  3227430197   $13.70+$1.30 USD Hold'em No Limit -   \n",
       "2  PokerStars  228182845929  3227430197   $13.70+$1.30 USD Hold'em No Limit -   \n",
       "3  PokerStars  228182848632  3227430197   $13.70+$1.30 USD Hold'em No Limit -   \n",
       "4  PokerStars  228242890835  3228689682   $27.40+$2.60 USD Hold'em No Limit -   \n",
       "\n",
       "          Level        Date      Hour TimeZoneAbb  Table  NoOfPlayers  \\\n",
       "0  IX (200/400)  2021/07/10   8:46:28         MSK  9-max            3   \n",
       "1  IX (200/400)  2021/07/10   8:46:45         MSK  9-max            3   \n",
       "2  IX (200/400)  2021/07/10   8:47:30         MSK  9-max            3   \n",
       "3  IX (200/400)  2021/07/10   8:47:48         MSK  9-max            3   \n",
       "4     I (10/20)  2021/07/12  21:25:36         MSK  9-max            9   \n",
       "\n",
       "           bain HandHiro           Board  \n",
       "0  $13.70+$1.30    7h 7s  5h 2h Kc 3h 5c  \n",
       "1  $13.70+$1.30    Ac 5h  Jd Qh Qc 6d Kd  \n",
       "2  $13.70+$1.30    5c 5s  Td Kh Th 2c Ad  \n",
       "3  $13.70+$1.30    4c 4s  3h 6d 7d 8d 6h  \n",
       "4  $27.40+$2.60    9h 9s        As 4s Kc  "
      ]
     },
     "execution_count": 135,
     "metadata": {},
     "output_type": "execute_result"
    }
   ],
   "source": [
    "# Создали словарь\n",
    "data_pd = {'TypeOfRoom': [], 'HandId': [], 'Tournament': [], 'info': [], 'Level': [], 'Date': [], 'Hour': [],\n",
    "           'TimeZoneAbb': [], 'Table': [], 'NoOfPlayers': [], 'bain': [], 'HandHiro': [], 'Board': []}\n",
    "\n",
    "# Открываем файл\n",
    "with open('dim10.txt', 'r') as f:\n",
    "    data = f.read()\n",
    "    \n",
    "# Ищем нужные данные\n",
    "result = re.findall('(\\w+) Hand #(\\d*): Tournament #(\\d*),(.*) Level (.*) - (\\d{4}/\\d+/\\d+) (\\d+\\D\\d+\\D\\d+) (\\w*)', data)\n",
    "Tables = re.findall('Table \\'.*\\' (.*) Seat .*\\n', data)\n",
    "bains = re.findall('(\\D\\d+\\.\\d+\\+\\D\\d+\\.\\d+)', data)\n",
    "HandHiros = re.findall(\"Dealt to dimetruk \\D(.. ..)\\D\", data)\n",
    "Boards = re.findall(\"Board \\[(.*)\\]\", data)\n",
    "\n",
    "\n",
    "# Считаем сколко фишек\n",
    "s = re.findall('Seat (\\d).*chips', data)\n",
    "s = [int(x) for x in s]\n",
    "seats = []\n",
    "length = 1\n",
    "for i in range(len(s)-1):\n",
    "    if s[i+1] < s[i]:\n",
    "        seats.append(length)\n",
    "        length = 1\n",
    "    else:\n",
    "        length += 1\n",
    "seats.append(length)\n",
    "\n",
    "\n",
    "# ЗАполнЯем словарь данными\n",
    "for r, table, bain, seat, handHiro, board in zip(result, Tables, bains, seats, HandHiros, Boards):\n",
    "    data_pd['TypeOfRoom'].append(r[0])\n",
    "    data_pd['HandId'].append(r[1])\n",
    "    data_pd['Tournament'].append(r[2])\n",
    "    data_pd['info'].append(r[3])\n",
    "    data_pd['Level'].append(r[4])\n",
    "    data_pd['Date'].append(r[5])\n",
    "    data_pd['Hour'].append(r[6])\n",
    "    data_pd['TimeZoneAbb'].append(r[7])\n",
    "    data_pd['Table'].append(table) #table\n",
    "    data_pd['NoOfPlayers'].append(seat)\n",
    "    data_pd['bain'].append(bain)\n",
    "    data_pd['HandHiro'].append(handHiro)\n",
    "    data_pd['Board'].append(board)\n",
    "\n",
    "# Создаём ДатаФрейм\n",
    "df = pd.DataFrame(data_pd)\n",
    "df.head()"
   ]
  },
  {
   "cell_type": "markdown",
   "metadata": {
    "id": "q97wcPd37OcA"
   },
   "source": [
    "## Преобразуем строковые данные"
   ]
  },
  {
   "cell_type": "code",
   "execution_count": 43,
   "metadata": {},
   "outputs": [],
   "source": [
    "date = data_pd['Date']\n",
    "time = data_pd['Hour']"
   ]
  },
  {
   "cell_type": "code",
   "execution_count": 44,
   "metadata": {
    "tags": []
   },
   "outputs": [],
   "source": [
    "df[\"Date\"] = pd.to_datetime(data_pd['Date'])\n",
    "df[\"Time\"] = pd.to_timedelta(data_pd['Hour'])"
   ]
  },
  {
   "cell_type": "code",
   "execution_count": 45,
   "metadata": {},
   "outputs": [
    {
     "data": {
      "text/plain": [
       "0   2021-07-10 08:46:28\n",
       "Name: DateTime, dtype: datetime64[ns]"
      ]
     },
     "execution_count": 45,
     "metadata": {},
     "output_type": "execute_result"
    }
   ],
   "source": [
    "df[\"DateTime\"] = df[\"Date\"] + df[\"Time\"]\n",
    "df[\"DateTime\"]"
   ]
  },
  {
   "cell_type": "code",
   "execution_count": 46,
   "metadata": {
    "colab": {
     "base_uri": "https://localhost:8080/"
    },
    "id": "in0N3vgBCC40",
    "outputId": "ea761df4-ae88-4c67-bea2-4d389068c984"
   },
   "outputs": [],
   "source": [
    "df.Tournament = df.Tournament.astype('int64')\n",
    "df = df.astype({'HandId': np.int64, 'Tournament': np.int64})"
   ]
  },
  {
   "cell_type": "code",
   "execution_count": 47,
   "metadata": {
    "colab": {
     "base_uri": "https://localhost:8080/"
    },
    "id": "in0N3vgBCC40",
    "outputId": "ea761df4-ae88-4c67-bea2-4d389068c984",
    "tags": []
   },
   "outputs": [
    {
     "name": "stdout",
     "output_type": "stream",
     "text": [
      "<class 'pandas.core.frame.DataFrame'>\n",
      "RangeIndex: 1 entries, 0 to 0\n",
      "Data columns (total 15 columns):\n",
      " #   Column       Non-Null Count  Dtype          \n",
      "---  ------       --------------  -----          \n",
      " 0   TypeOfRoom   1 non-null      object         \n",
      " 1   HandId       1 non-null      int64          \n",
      " 2   Tournament   1 non-null      int64          \n",
      " 3   info         1 non-null      object         \n",
      " 4   Level        1 non-null      object         \n",
      " 5   Date         1 non-null      datetime64[ns] \n",
      " 6   Hour         1 non-null      object         \n",
      " 7   TimeZoneAbb  1 non-null      object         \n",
      " 8   Table        1 non-null      object         \n",
      " 9   NoOfPlayers  1 non-null      int64          \n",
      " 10  bain         1 non-null      object         \n",
      " 11  HandHiro     1 non-null      object         \n",
      " 12  Board        1 non-null      object         \n",
      " 13  Time         1 non-null      timedelta64[ns]\n",
      " 14  DateTime     1 non-null      datetime64[ns] \n",
      "dtypes: datetime64[ns](2), int64(3), object(9), timedelta64[ns](1)\n",
      "memory usage: 248.0+ bytes\n"
     ]
    }
   ],
   "source": [
    "df.info()"
   ]
  },
  {
   "cell_type": "code",
   "execution_count": 48,
   "metadata": {
    "tags": []
   },
   "outputs": [
    {
     "data": {
      "text/html": [
       "<div>\n",
       "<style scoped>\n",
       "    .dataframe tbody tr th:only-of-type {\n",
       "        vertical-align: middle;\n",
       "    }\n",
       "\n",
       "    .dataframe tbody tr th {\n",
       "        vertical-align: top;\n",
       "    }\n",
       "\n",
       "    .dataframe thead th {\n",
       "        text-align: right;\n",
       "    }\n",
       "</style>\n",
       "<table border=\"1\" class=\"dataframe\">\n",
       "  <thead>\n",
       "    <tr style=\"text-align: right;\">\n",
       "      <th></th>\n",
       "      <th>HandHiro</th>\n",
       "      <th>Board</th>\n",
       "      <th>Date</th>\n",
       "      <th>Hour</th>\n",
       "      <th>DateTime</th>\n",
       "    </tr>\n",
       "  </thead>\n",
       "  <tbody>\n",
       "    <tr>\n",
       "      <th>0</th>\n",
       "      <td>7h 7s</td>\n",
       "      <td>5h 2h Kc 3h 5c</td>\n",
       "      <td>2021-07-10</td>\n",
       "      <td>8:46:28</td>\n",
       "      <td>2021-07-10 08:46:28</td>\n",
       "    </tr>\n",
       "  </tbody>\n",
       "</table>\n",
       "</div>"
      ],
      "text/plain": [
       "  HandHiro           Board       Date     Hour            DateTime\n",
       "0    7h 7s  5h 2h Kc 3h 5c 2021-07-10  8:46:28 2021-07-10 08:46:28"
      ]
     },
     "execution_count": 48,
     "metadata": {},
     "output_type": "execute_result"
    }
   ],
   "source": [
    "df[['HandHiro', 'Board', 'Date', 'Hour','DateTime']].head()  # применим фильтер по столбцам"
   ]
  },
  {
   "cell_type": "code",
   "execution_count": 136,
   "metadata": {},
   "outputs": [
    {
     "data": {
      "text/html": [
       "<div>\n",
       "<style scoped>\n",
       "    .dataframe tbody tr th:only-of-type {\n",
       "        vertical-align: middle;\n",
       "    }\n",
       "\n",
       "    .dataframe tbody tr th {\n",
       "        vertical-align: top;\n",
       "    }\n",
       "\n",
       "    .dataframe thead th {\n",
       "        text-align: right;\n",
       "    }\n",
       "</style>\n",
       "<table border=\"1\" class=\"dataframe\">\n",
       "  <thead>\n",
       "    <tr style=\"text-align: right;\">\n",
       "      <th></th>\n",
       "      <th>HandHiro</th>\n",
       "      <th>Board</th>\n",
       "    </tr>\n",
       "  </thead>\n",
       "  <tbody>\n",
       "    <tr>\n",
       "      <th>0</th>\n",
       "      <td>7h 7s</td>\n",
       "      <td>5h 2h Kc 3h 5c</td>\n",
       "    </tr>\n",
       "    <tr>\n",
       "      <th>1</th>\n",
       "      <td>Ac 5h</td>\n",
       "      <td>Jd Qh Qc 6d Kd</td>\n",
       "    </tr>\n",
       "    <tr>\n",
       "      <th>2</th>\n",
       "      <td>5c 5s</td>\n",
       "      <td>Td Kh Th 2c Ad</td>\n",
       "    </tr>\n",
       "    <tr>\n",
       "      <th>3</th>\n",
       "      <td>4c 4s</td>\n",
       "      <td>3h 6d 7d 8d 6h</td>\n",
       "    </tr>\n",
       "    <tr>\n",
       "      <th>4</th>\n",
       "      <td>9h 9s</td>\n",
       "      <td>As 4s Kc</td>\n",
       "    </tr>\n",
       "    <tr>\n",
       "      <th>5</th>\n",
       "      <td>Td 8d</td>\n",
       "      <td>Jc 4s 6d</td>\n",
       "    </tr>\n",
       "    <tr>\n",
       "      <th>6</th>\n",
       "      <td>4c Ts</td>\n",
       "      <td>Ks 8s 9s 9d</td>\n",
       "    </tr>\n",
       "    <tr>\n",
       "      <th>7</th>\n",
       "      <td>Kc As</td>\n",
       "      <td>Td 6s 4c 8c Jd</td>\n",
       "    </tr>\n",
       "    <tr>\n",
       "      <th>8</th>\n",
       "      <td>Kc 2c</td>\n",
       "      <td>Qc Qh 2h</td>\n",
       "    </tr>\n",
       "    <tr>\n",
       "      <th>9</th>\n",
       "      <td>4c 4s</td>\n",
       "      <td>3c 8d 2s Ks</td>\n",
       "    </tr>\n",
       "  </tbody>\n",
       "</table>\n",
       "</div>"
      ],
      "text/plain": [
       "  HandHiro           Board\n",
       "0    7h 7s  5h 2h Kc 3h 5c\n",
       "1    Ac 5h  Jd Qh Qc 6d Kd\n",
       "2    5c 5s  Td Kh Th 2c Ad\n",
       "3    4c 4s  3h 6d 7d 8d 6h\n",
       "4    9h 9s        As 4s Kc\n",
       "5    Td 8d        Jc 4s 6d\n",
       "6    4c Ts     Ks 8s 9s 9d\n",
       "7    Kc As  Td 6s 4c 8c Jd\n",
       "8    Kc 2c        Qc Qh 2h\n",
       "9    4c 4s     3c 8d 2s Ks"
      ]
     },
     "execution_count": 136,
     "metadata": {},
     "output_type": "execute_result"
    }
   ],
   "source": [
    "hand = df[['HandHiro','Board']]\n",
    "hand"
   ]
  },
  {
   "cell_type": "code",
   "execution_count": 137,
   "metadata": {},
   "outputs": [
    {
     "data": {
      "text/plain": [
       "\u001b[1;31mSignature:\u001b[0m \u001b[0mevaluate_cards\u001b[0m\u001b[1;33m(\u001b[0m\u001b[1;33m*\u001b[0m\u001b[0mcards\u001b[0m\u001b[1;33m:\u001b[0m \u001b[0mIterable\u001b[0m\u001b[1;33m[\u001b[0m\u001b[0mUnion\u001b[0m\u001b[1;33m[\u001b[0m\u001b[0mint\u001b[0m\u001b[1;33m,\u001b[0m \u001b[0mstr\u001b[0m\u001b[1;33m,\u001b[0m \u001b[0mphevaluator\u001b[0m\u001b[1;33m.\u001b[0m\u001b[0mcard\u001b[0m\u001b[1;33m.\u001b[0m\u001b[0mCard\u001b[0m\u001b[1;33m]\u001b[0m\u001b[1;33m]\u001b[0m\u001b[1;33m)\u001b[0m \u001b[1;33m->\u001b[0m \u001b[0mint\u001b[0m\u001b[1;33m\u001b[0m\u001b[1;33m\u001b[0m\u001b[0m\n",
       "\u001b[1;31mDocstring:\u001b[0m <no docstring>\n",
       "\u001b[1;31mFile:\u001b[0m      c:\\users\\artio\\anaconda3\\lib\\site-packages\\phevaluator\\evaluator.py\n",
       "\u001b[1;31mType:\u001b[0m      function\n"
      ]
     },
     "metadata": {},
     "output_type": "display_data"
    }
   ],
   "source": [
    "?evaluate_cards"
   ]
  },
  {
   "cell_type": "code",
   "execution_count": 214,
   "metadata": {},
   "outputs": [
    {
     "data": {
      "text/plain": [
       "['5c', '5s', 'Td', 'Kh', 'Th', '2c', 'Ad']"
      ]
     },
     "execution_count": 214,
     "metadata": {},
     "output_type": "execute_result"
    }
   ],
   "source": [
    "df['hand'] = df['HandHiro'] + \" \" + df['Board']\n",
    "\n",
    "hand_ = df.iloc[2]['hand']\n",
    "hand_.split()"
   ]
  },
  {
   "cell_type": "code",
   "execution_count": 215,
   "metadata": {},
   "outputs": [
    {
     "data": {
      "text/plain": [
       "['Ac', '5h', 'Jd', 'Qh', 'Qc', '6d', 'Kd']"
      ]
     },
     "execution_count": 215,
     "metadata": {},
     "output_type": "execute_result"
    }
   ],
   "source": [
    "hand_1 = df['hand'].values[1]\n",
    "hand_2 = hand_1.split()\n",
    "hand_2"
   ]
  },
  {
   "cell_type": "code",
   "execution_count": 216,
   "metadata": {},
   "outputs": [
    {
     "data": {
      "text/plain": [
       "3766"
      ]
     },
     "execution_count": 216,
     "metadata": {},
     "output_type": "execute_result"
    }
   ],
   "source": [
    "evaluate_cards(*hand_2)"
   ]
  },
  {
   "cell_type": "code",
   "execution_count": 208,
   "metadata": {},
   "outputs": [],
   "source": [
    "hand = [eval7.Card(s) for s in (hand_2)]"
   ]
  },
  {
   "cell_type": "code",
   "execution_count": 209,
   "metadata": {},
   "outputs": [
    {
     "data": {
      "text/plain": [
       "17484688"
      ]
     },
     "execution_count": 209,
     "metadata": {},
     "output_type": "execute_result"
    }
   ],
   "source": [
    "rang = eval7.evaluate(hand)   # ранг комбинации\n",
    "rang"
   ]
  },
  {
   "cell_type": "code",
   "execution_count": 210,
   "metadata": {},
   "outputs": [
    {
     "data": {
      "text/plain": [
       "'Pair'"
      ]
     },
     "execution_count": 210,
     "metadata": {},
     "output_type": "execute_result"
    }
   ],
   "source": [
    "eval7.handtype(rang)"
   ]
  }
 ],
 "metadata": {
  "colab": {
   "authorship_tag": "ABX9TyOmEyugzg/HrqC08SxzhKU3",
   "include_colab_link": true,
   "name": "analiz_poker.ipynb",
   "provenance": []
  },
  "kernelspec": {
   "display_name": "Python 3 (ipykernel)",
   "language": "python",
   "name": "python3"
  },
  "language_info": {
   "codemirror_mode": {
    "name": "ipython",
    "version": 3
   },
   "file_extension": ".py",
   "mimetype": "text/x-python",
   "name": "python",
   "nbconvert_exporter": "python",
   "pygments_lexer": "ipython3",
   "version": "3.9.7"
  },
  "nbTranslate": {
   "displayLangs": [
    "*"
   ],
   "hotkey": "alt-t",
   "langInMainMenu": true,
   "sourceLang": "en",
   "targetLang": "fr",
   "useGoogleTranslate": true
  },
  "toc": {
   "base_numbering": 1,
   "nav_menu": {},
   "number_sections": true,
   "sideBar": true,
   "skip_h1_title": false,
   "title_cell": "Table of Contents",
   "title_sidebar": "Contents",
   "toc_cell": false,
   "toc_position": {},
   "toc_section_display": true,
   "toc_window_display": false
  },
  "varInspector": {
   "cols": {
    "lenName": 16,
    "lenType": 16,
    "lenVar": 40
   },
   "kernels_config": {
    "python": {
     "delete_cmd_postfix": "",
     "delete_cmd_prefix": "del ",
     "library": "var_list.py",
     "varRefreshCmd": "print(var_dic_list())"
    },
    "r": {
     "delete_cmd_postfix": ") ",
     "delete_cmd_prefix": "rm(",
     "library": "var_list.r",
     "varRefreshCmd": "cat(var_dic_list()) "
    }
   },
   "types_to_exclude": [
    "module",
    "function",
    "builtin_function_or_method",
    "instance",
    "_Feature"
   ],
   "window_display": false
  },
  "widgets": {
   "application/vnd.jupyter.widget-state+json": {
    "state": {},
    "version_major": 2,
    "version_minor": 0
   }
  }
 },
 "nbformat": 4,
 "nbformat_minor": 4
}
