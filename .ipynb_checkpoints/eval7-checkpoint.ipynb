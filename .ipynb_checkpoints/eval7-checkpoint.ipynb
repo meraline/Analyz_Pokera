{
 "cells": [
  {
   "cell_type": "code",
   "execution_count": 15,
   "id": "1fa39d12-7275-4906-ba07-4c2831879abe",
   "metadata": {},
   "outputs": [
    {
     "name": "stdout",
     "output_type": "stream",
     "text": [
      "Collecting eval7\n",
      "  Downloading eval7-0.1.9.tar.gz (158 kB)\n",
      "Requirement already satisfied: pyparsing in c:\\users\\artio\\anaconda3\\lib\\site-packages (from eval7) (3.0.4)\n",
      "Requirement already satisfied: future in c:\\users\\artio\\anaconda3\\lib\\site-packages (from eval7) (0.18.2)\n",
      "Building wheels for collected packages: eval7\n",
      "  Building wheel for eval7 (setup.py): started\n",
      "  Building wheel for eval7 (setup.py): finished with status 'done'\n",
      "  Created wheel for eval7: filename=eval7-0.1.9-cp39-cp39-win_amd64.whl size=97041 sha256=0b79d2c70190984e96e90c121a5d5dc3ee250bb9a4cafff71cc332969699a2f0\n",
      "  Stored in directory: c:\\users\\artio\\appdata\\local\\pip\\cache\\wheels\\9a\\9a\\b5\\af6bf72190553df99bc7605931d8fe36527be5b3eab4a66469\n",
      "Successfully built eval7\n",
      "Installing collected packages: eval7\n",
      "Successfully installed eval7-0.1.9\n"
     ]
    }
   ],
   "source": [
    "!pip install eval7"
   ]
  },
  {
   "cell_type": "code",
   "execution_count": 14,
   "id": "0a661389-3b3b-4179-9244-740ad6a08cba",
   "metadata": {},
   "outputs": [
    {
     "ename": "ImportError",
     "evalue": "cannot import name 'PokerEval' from 'pokereval' (C:\\Users\\artio\\anaconda3\\lib\\site-packages\\pokereval\\__init__.py)",
     "output_type": "error",
     "traceback": [
      "\u001b[1;31m---------------------------------------------------------------------------\u001b[0m",
      "\u001b[1;31mImportError\u001b[0m                               Traceback (most recent call last)",
      "\u001b[1;32m~\\AppData\\Local\\Temp/ipykernel_76812/2085400777.py\u001b[0m in \u001b[0;36m<module>\u001b[1;34m\u001b[0m\n\u001b[1;32m----> 1\u001b[1;33m \u001b[1;32mfrom\u001b[0m \u001b[0mpokereval\u001b[0m \u001b[1;32mimport\u001b[0m \u001b[0mPokerEval\u001b[0m\u001b[1;33m\u001b[0m\u001b[1;33m\u001b[0m\u001b[0m\n\u001b[0m",
      "\u001b[1;31mImportError\u001b[0m: cannot import name 'PokerEval' from 'pokereval' (C:\\Users\\artio\\anaconda3\\lib\\site-packages\\pokereval\\__init__.py)"
     ]
    }
   ],
   "source": [
    "from pokereval import PokerEval"
   ]
  }
 ],
 "metadata": {
  "kernelspec": {
   "display_name": "Python 3 (ipykernel)",
   "language": "python",
   "name": "python3"
  },
  "language_info": {
   "codemirror_mode": {
    "name": "ipython",
    "version": 3
   },
   "file_extension": ".py",
   "mimetype": "text/x-python",
   "name": "python",
   "nbconvert_exporter": "python",
   "pygments_lexer": "ipython3",
   "version": "3.9.7"
  },
  "widgets": {
   "application/vnd.jupyter.widget-state+json": {
    "state": {},
    "version_major": 2,
    "version_minor": 0
   }
  }
 },
 "nbformat": 4,
 "nbformat_minor": 5
}
