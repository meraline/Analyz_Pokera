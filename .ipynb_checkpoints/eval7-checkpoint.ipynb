{
 "cells": [
  {
   "cell_type": "code",
   "execution_count": 178,
   "id": "1fa39d12-7275-4906-ba07-4c2831879abe",
   "metadata": {},
   "outputs": [],
   "source": [
    "import eval7, pprint\n",
    "from poker.room.pokerstars import PokerStarsHandHistory\n",
    "from poker.hand import Hand, Combo"
   ]
  },
  {
   "cell_type": "code",
   "execution_count": 183,
   "id": "0d291ece-15d0-4ede-9995-7a12b87ad4fc",
   "metadata": {},
   "outputs": [
    {
     "data": {
      "text/plain": [
       "('7s', '7h')"
      ]
     },
     "execution_count": 183,
     "metadata": {},
     "output_type": "execute_result"
    }
   ],
   "source": [
    "hh = PokerStarsHandHistory.from_file('dim10.txt')\n",
    "hh.parse()\n",
    "\n",
    "hand_combo = hh.hero.combo\n",
    "hand_1 = hand_combo.first.rank.value[1]\n",
    "hand_value_1 = hand_combo.first.suit.value[1]\n",
    "hand_2 = str(hand_combo.first.rank.value[1])\n",
    "hand_value_2 = hand_combo.second.suit.value[1]\n",
    "hand_1 = str(hand_1)\n",
    "hand_hiro = hand_1 + hand_value_1, hand_2 + hand_value_2\n",
    "hand_hiro"
   ]
  },
  {
   "cell_type": "code",
   "execution_count": 147,
   "id": "cc7e3e63-48f3-48d9-b58b-c55e3ecb6912",
   "metadata": {},
   "outputs": [
    {
     "data": {
      "text/plain": [
       "poker.hand.Combo"
      ]
     },
     "execution_count": 147,
     "metadata": {},
     "output_type": "execute_result"
    }
   ],
   "source": []
  },
  {
   "cell_type": "code",
   "execution_count": 176,
   "id": "f5874cfe-6990-4551-ad89-779998fe8c75",
   "metadata": {},
   "outputs": [
    {
     "data": {
      "text/plain": [
       "(Card('5♥'), Card('2♥'), Card('K♣'), Card('K♠'))"
      ]
     },
     "execution_count": 176,
     "metadata": {},
     "output_type": "execute_result"
    }
   ],
   "source": [
    "board = hh.board\n",
    "board"
   ]
  },
  {
   "cell_type": "code",
   "execution_count": 116,
   "id": "a3c910cb-06b9-447e-af7a-6e6c8506e5b4",
   "metadata": {},
   "outputs": [
    {
     "data": {
      "text/plain": [
       "[(Card('7♠'), Card('7♥')), (Card('5♥'), Card('2♥'), Card('K♣'), Card('K♠'))]"
      ]
     },
     "execution_count": 116,
     "metadata": {},
     "output_type": "execute_result"
    }
   ],
   "source": [
    "hand = [hand_hiro, board]\n",
    "hand"
   ]
  },
  {
   "cell_type": "code",
   "execution_count": 20,
   "id": "101f982c-54ad-434d-86f2-eb57c1608462",
   "metadata": {},
   "outputs": [],
   "source": [
    "deck = eval7.Deck()    # 52 карты "
   ]
  },
  {
   "cell_type": "code",
   "execution_count": 33,
   "id": "da5870e8-8d06-4788-8db0-7530576f762c",
   "metadata": {},
   "outputs": [],
   "source": [
    "deck.shuffle()         # растасовали колоду Deck objects provide sample, shuffle, deal and peek methods."
   ]
  },
  {
   "cell_type": "code",
   "execution_count": 167,
   "id": "90972196-8189-4a22-b3fa-56f332071427",
   "metadata": {},
   "outputs": [],
   "source": [
    "hand = deck.deal(7)    # назначили переменной любых 7 карт"
   ]
  },
  {
   "cell_type": "code",
   "execution_count": 168,
   "id": "b1a0e6f7-00f2-42c9-8727-7bb456a146e7",
   "metadata": {},
   "outputs": [
    {
     "name": "stdout",
     "output_type": "stream",
     "text": [
      "[Card(\"Ad\"),\n",
      " Card(\"6c\"),\n",
      " Card(\"Td\"),\n",
      " Card(\"2d\"),\n",
      " Card(\"Jd\"),\n",
      " Card(\"7c\"),\n",
      " Card(\"9h\")]\n"
     ]
    }
   ],
   "source": [
    "pprint.pprint(hand)    # распечатали карты"
   ]
  },
  {
   "cell_type": "code",
   "execution_count": 118,
   "id": "781d44bb-0bb1-4065-b806-13b4567898f9",
   "metadata": {},
   "outputs": [
    {
     "ename": "AttributeError",
     "evalue": "'tuple' object has no attribute 'mask'",
     "output_type": "error",
     "traceback": [
      "\u001b[1;31m---------------------------------------------------------------------------\u001b[0m",
      "\u001b[1;31mAttributeError\u001b[0m                            Traceback (most recent call last)",
      "\u001b[1;31mAttributeError\u001b[0m: 'tuple' object has no attribute 'mask'"
     ]
    },
    {
     "name": "stderr",
     "output_type": "stream",
     "text": [
      "Exception ignored in: 'eval7.cards.cards_to_mask'\n",
      "Traceback (most recent call last):\n",
      "  File \"C:\\Users\\artio\\AppData\\Local\\Temp/ipykernel_76812/3324400653.py\", line 1, in <module>\n",
      "AttributeError: 'tuple' object has no attribute 'mask'\n"
     ]
    },
    {
     "data": {
      "text/plain": [
       "50331648"
      ]
     },
     "execution_count": 118,
     "metadata": {},
     "output_type": "execute_result"
    }
   ],
   "source": [
    "rang = eval7.evaluate(hand)   # ранг комбинации\n",
    "rang"
   ]
  },
  {
   "cell_type": "code",
   "execution_count": 61,
   "id": "a8f060a2-a21d-4138-8dfa-80abe1e61757",
   "metadata": {},
   "outputs": [
    {
     "data": {
      "text/plain": [
       "'Trips'"
      ]
     },
     "execution_count": 61,
     "metadata": {},
     "output_type": "execute_result"
    }
   ],
   "source": [
    "eval7.handtype(rang)       # название комбинации"
   ]
  },
  {
   "cell_type": "code",
   "execution_count": null,
   "id": "ff65af42-d515-4c25-939a-2ee255474455",
   "metadata": {},
   "outputs": [],
   "source": []
  }
 ],
 "metadata": {
  "kernelspec": {
   "display_name": "Python 3 (ipykernel)",
   "language": "python",
   "name": "python3"
  },
  "language_info": {
   "codemirror_mode": {
    "name": "ipython",
    "version": 3
   },
   "file_extension": ".py",
   "mimetype": "text/x-python",
   "name": "python",
   "nbconvert_exporter": "python",
   "pygments_lexer": "ipython3",
   "version": "3.9.7"
  },
  "widgets": {
   "application/vnd.jupyter.widget-state+json": {
    "state": {},
    "version_major": 2,
    "version_minor": 0
   }
  }
 },
 "nbformat": 4,
 "nbformat_minor": 5
}
