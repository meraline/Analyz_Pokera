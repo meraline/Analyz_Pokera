{
 "cells": [
  {
   "cell_type": "code",
   "execution_count": 4,
   "id": "951c77ea-8cba-4810-9bfb-09c5896abd30",
   "metadata": {},
   "outputs": [],
   "source": [
    "import re"
   ]
  },
  {
   "cell_type": "code",
   "execution_count": 11,
   "id": "c905986b-b437-4483-a7a7-94b394e4d866",
   "metadata": {},
   "outputs": [
    {
     "data": {
      "text/plain": [
       "'123'"
      ]
     },
     "execution_count": 11,
     "metadata": {},
     "output_type": "execute_result"
    }
   ],
   "source": [
    "Match = re.match('123','123')\n",
    "Match.group(0)"
   ]
  },
  {
   "cell_type": "code",
   "execution_count": 2,
   "id": "e0ebd878-4685-4beb-b6f9-f0a60cf178c2",
   "metadata": {},
   "outputs": [
    {
     "data": {
      "text/plain": [
       "<function re.search(pattern, string, flags=0)>"
      ]
     },
     "execution_count": 2,
     "metadata": {},
     "output_type": "execute_result"
    }
   ],
   "source": [
    "re.search"
   ]
  },
  {
   "cell_type": "code",
   "execution_count": 3,
   "id": "71c1cb6a-e701-4815-9c38-48adc3067808",
   "metadata": {},
   "outputs": [
    {
     "data": {
      "text/plain": [
       "<function re.fullmatch(pattern, string, flags=0)>"
      ]
     },
     "execution_count": 3,
     "metadata": {},
     "output_type": "execute_result"
    }
   ],
   "source": [
    "re.fullmatch"
   ]
  },
  {
   "cell_type": "code",
   "execution_count": 6,
   "id": "abb574b5-9fd2-4d4f-89ba-d6b9a5488cba",
   "metadata": {},
   "outputs": [
    {
     "data": {
      "text/plain": [
       "<function re.finditer(pattern, string, flags=0)>"
      ]
     },
     "execution_count": 6,
     "metadata": {},
     "output_type": "execute_result"
    }
   ],
   "source": [
    "re.finditer"
   ]
  },
  {
   "cell_type": "code",
   "execution_count": 16,
   "id": "570fe269-b1c2-48de-b8d8-dbc770c075fb",
   "metadata": {},
   "outputs": [
    {
     "ename": "IndexError",
     "evalue": "no such group",
     "output_type": "error",
     "traceback": [
      "\u001b[1;31m---------------------------------------------------------------------------\u001b[0m",
      "\u001b[1;31mIndexError\u001b[0m                                Traceback (most recent call last)",
      "Input \u001b[1;32mIn [16]\u001b[0m, in \u001b[0;36m<cell line: 3>\u001b[1;34m()\u001b[0m\n\u001b[0;32m      1\u001b[0m Match \u001b[38;5;241m=\u001b[39m re\u001b[38;5;241m.\u001b[39mmatch(\u001b[38;5;124m'\u001b[39m\u001b[38;5;124m(123)\u001b[39m\u001b[38;5;124m'\u001b[39m,\u001b[38;5;124m'\u001b[39m\u001b[38;5;124m123\u001b[39m\u001b[38;5;124m'\u001b[39m)\n\u001b[1;32m----> 3\u001b[0m \u001b[43mMatch\u001b[49m\u001b[38;5;241;43m.\u001b[39;49m\u001b[43mstart\u001b[49m\u001b[43m(\u001b[49m\u001b[43m[\u001b[49m\u001b[38;5;241;43m0\u001b[39;49m\u001b[43m]\u001b[49m\u001b[43m)\u001b[49m\n",
      "\u001b[1;31mIndexError\u001b[0m: no such group"
     ]
    }
   ],
   "source": [
    "Match = re.match('(123)','123')\n",
    "\n",
    "Match.start([0])\n",
    "#Match.end([1])"
   ]
  },
  {
   "cell_type": "code",
   "execution_count": null,
   "id": "6b88531a-201c-409d-8f46-e410db733516",
   "metadata": {},
   "outputs": [],
   "source": []
  }
 ],
 "metadata": {
  "kernelspec": {
   "display_name": "Python 3 (ipykernel)",
   "language": "python",
   "name": "python3"
  },
  "language_info": {
   "codemirror_mode": {
    "name": "ipython",
    "version": 3
   },
   "file_extension": ".py",
   "mimetype": "text/x-python",
   "name": "python",
   "nbconvert_exporter": "python",
   "pygments_lexer": "ipython3",
   "version": "3.9.7"
  },
  "widgets": {
   "application/vnd.jupyter.widget-state+json": {
    "state": {},
    "version_major": 2,
    "version_minor": 0
   }
  }
 },
 "nbformat": 4,
 "nbformat_minor": 5
}
