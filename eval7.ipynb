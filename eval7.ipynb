{
 "cells": [
  {
   "cell_type": "code",
   "execution_count": 17,
   "id": "1fa39d12-7275-4906-ba07-4c2831879abe",
   "metadata": {},
   "outputs": [],
   "source": [
    "import eval7, pprint"
   ]
  },
  {
   "cell_type": "code",
   "execution_count": 20,
   "id": "101f982c-54ad-434d-86f2-eb57c1608462",
   "metadata": {},
   "outputs": [],
   "source": [
    "deck = eval7.Deck()    # 52 карты "
   ]
  },
  {
   "cell_type": "code",
   "execution_count": 33,
   "id": "da5870e8-8d06-4788-8db0-7530576f762c",
   "metadata": {},
   "outputs": [],
   "source": [
    "deck.shuffle()         # растасовали колоду Deck objects provide sample, shuffle, deal and peek methods."
   ]
  },
  {
   "cell_type": "code",
   "execution_count": 34,
   "id": "90972196-8189-4a22-b3fa-56f332071427",
   "metadata": {},
   "outputs": [],
   "source": [
    "hand = deck.deal(7)    # назначили переменной любых 7 карт"
   ]
  },
  {
   "cell_type": "code",
   "execution_count": 49,
   "id": "b1a0e6f7-00f2-42c9-8727-7bb456a146e7",
   "metadata": {},
   "outputs": [
    {
     "name": "stdout",
     "output_type": "stream",
     "text": [
      "[Card(\"3s\"),\n",
      " Card(\"Jc\"),\n",
      " Card(\"2s\"),\n",
      " Card(\"Qc\"),\n",
      " Card(\"Qh\"),\n",
      " Card(\"8c\"),\n",
      " Card(\"Qd\")]\n"
     ]
    }
   ],
   "source": [
    "pprint.pprint(hand)    # распечатали карты"
   ]
  },
  {
   "cell_type": "code",
   "execution_count": 36,
   "id": "781d44bb-0bb1-4065-b806-13b4567898f9",
   "metadata": {},
   "outputs": [
    {
     "data": {
      "text/plain": [
       "51025408"
      ]
     },
     "execution_count": 36,
     "metadata": {},
     "output_type": "execute_result"
    }
   ],
   "source": [
    "rang = eval7.evaluate(hand)   # ранг комбинации\n",
    "rang"
   ]
  },
  {
   "cell_type": "code",
   "execution_count": 50,
   "id": "a8f060a2-a21d-4138-8dfa-80abe1e61757",
   "metadata": {},
   "outputs": [
    {
     "data": {
      "text/plain": [
       "'Trips'"
      ]
     },
     "execution_count": 50,
     "metadata": {},
     "output_type": "execute_result"
    }
   ],
   "source": [
    "eval7.handtype(rang)       # название комбинации"
   ]
  }
 ],
 "metadata": {
  "kernelspec": {
   "display_name": "Python 3 (ipykernel)",
   "language": "python",
   "name": "python3"
  },
  "language_info": {
   "codemirror_mode": {
    "name": "ipython",
    "version": 3
   },
   "file_extension": ".py",
   "mimetype": "text/x-python",
   "name": "python",
   "nbconvert_exporter": "python",
   "pygments_lexer": "ipython3",
   "version": "3.9.7"
  },
  "widgets": {
   "application/vnd.jupyter.widget-state+json": {
    "state": {},
    "version_major": 2,
    "version_minor": 0
   }
  }
 },
 "nbformat": 4,
 "nbformat_minor": 5
}
