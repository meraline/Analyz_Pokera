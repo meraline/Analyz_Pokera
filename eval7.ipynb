{
 "cells": [
  {
   "cell_type": "code",
   "execution_count": 2,
   "id": "1fa39d12-7275-4906-ba07-4c2831879abe",
   "metadata": {},
   "outputs": [],
   "source": [
    "import eval7, pprint\n",
    "from poker.room.pokerstars import PokerStarsHandHistory\n",
    "from poker.hand import Hand, Combo"
   ]
  },
  {
   "cell_type": "code",
   "execution_count": 3,
   "id": "0d291ece-15d0-4ede-9995-7a12b87ad4fc",
   "metadata": {},
   "outputs": [],
   "source": [
    "hh = PokerStarsHandHistory.from_file('dim10.txt')\n",
    "hh.parse()\n",
    "\n",
    "hand_hiro = hh.hero.combo\n",
    "\n",
    "hand_1 = hand_hiro.first.rank.value[1]\n",
    "hand_value_1 = hand_hiro.first.suit.value[1]\n",
    "hand_2 = str(hand_hiro.first.rank.value[1])\n",
    "hand_value_2 = hand_hiro.second.suit.value[1]\n",
    "hand_1 = str(hand_1)\n",
    "hand_ = hand_1 + hand_value_1, hand_2 + hand_value_2"
   ]
  },
  {
   "cell_type": "code",
   "execution_count": 4,
   "id": "f5874cfe-6990-4551-ad89-779998fe8c75",
   "metadata": {},
   "outputs": [
    {
     "data": {
      "text/plain": [
       "(Card('5♥'), Card('2♥'), Card('K♣'), Card('K♠'))"
      ]
     },
     "execution_count": 4,
     "metadata": {},
     "output_type": "execute_result"
    }
   ],
   "source": [
    "board = hh.board\n",
    "board"
   ]
  },
  {
   "cell_type": "code",
   "execution_count": 5,
   "id": "a3c910cb-06b9-447e-af7a-6e6c8506e5b4",
   "metadata": {},
   "outputs": [
    {
     "data": {
      "text/plain": [
       "[Combo('7♠7♥'), (Card('5♥'), Card('2♥'), Card('K♣'), Card('K♠'))]"
      ]
     },
     "execution_count": 5,
     "metadata": {},
     "output_type": "execute_result"
    }
   ],
   "source": [
    "hand_1 = [hand_hiro, board]\n",
    "hand_1"
   ]
  },
  {
   "cell_type": "code",
   "execution_count": 6,
   "id": "101f982c-54ad-434d-86f2-eb57c1608462",
   "metadata": {},
   "outputs": [],
   "source": [
    "deck = eval7.Deck()    # 52 карты "
   ]
  },
  {
   "cell_type": "code",
   "execution_count": 7,
   "id": "da5870e8-8d06-4788-8db0-7530576f762c",
   "metadata": {},
   "outputs": [],
   "source": [
    "deck.shuffle()         # растасовали колоду Deck objects provide sample, shuffle, deal and peek methods."
   ]
  },
  {
   "cell_type": "code",
   "execution_count": 8,
   "id": "90972196-8189-4a22-b3fa-56f332071427",
   "metadata": {},
   "outputs": [],
   "source": [
    "hand = deck.deal(7)    # назначили переменной любых 7 карт"
   ]
  },
  {
   "cell_type": "code",
   "execution_count": 9,
   "id": "b1a0e6f7-00f2-42c9-8727-7bb456a146e7",
   "metadata": {},
   "outputs": [
    {
     "name": "stdout",
     "output_type": "stream",
     "text": [
      "[Card(\"Kd\"),\n",
      " Card(\"4h\"),\n",
      " Card(\"3s\"),\n",
      " Card(\"9h\"),\n",
      " Card(\"8h\"),\n",
      " Card(\"Jh\"),\n",
      " Card(\"As\")]\n"
     ]
    }
   ],
   "source": [
    "pprint.pprint(hand)    # распечатали карты"
   ]
  },
  {
   "cell_type": "code",
   "execution_count": 10,
   "id": "781d44bb-0bb1-4065-b806-13b4567898f9",
   "metadata": {},
   "outputs": [
    {
     "data": {
      "text/plain": [
       "833910"
      ]
     },
     "execution_count": 10,
     "metadata": {},
     "output_type": "execute_result"
    }
   ],
   "source": [
    "rang = eval7.evaluate(hand)   # ранг комбинации\n",
    "rang"
   ]
  },
  {
   "cell_type": "code",
   "execution_count": 11,
   "id": "a8f060a2-a21d-4138-8dfa-80abe1e61757",
   "metadata": {},
   "outputs": [
    {
     "data": {
      "text/plain": [
       "'High Card'"
      ]
     },
     "execution_count": 11,
     "metadata": {},
     "output_type": "execute_result"
    }
   ],
   "source": [
    "eval7.handtype(rang)       # название комбинации"
   ]
  },
  {
   "cell_type": "code",
   "execution_count": 13,
   "id": "ff65af42-d515-4c25-939a-2ee255474455",
   "metadata": {
    "collapsed": true,
    "jupyter": {
     "outputs_hidden": true
    },
    "tags": []
   },
   "outputs": [
    {
     "name": "stdout",
     "output_type": "stream",
     "text": [
      "Help on module pprint:\n",
      "\n",
      "NAME\n",
      "    pprint - Support to pretty-print lists, tuples, & dictionaries recursively.\n",
      "\n",
      "MODULE REFERENCE\n",
      "    https://docs.python.org/3.9/library/pprint\n",
      "    \n",
      "    The following documentation is automatically generated from the Python\n",
      "    source files.  It may be incomplete, incorrect or include features that\n",
      "    are considered implementation detail and may vary between Python\n",
      "    implementations.  When in doubt, consult the module reference at the\n",
      "    location listed above.\n",
      "\n",
      "DESCRIPTION\n",
      "    Very simple, but useful, especially in debugging data structures.\n",
      "    \n",
      "    Classes\n",
      "    -------\n",
      "    \n",
      "    PrettyPrinter()\n",
      "        Handle pretty-printing operations onto a stream using a configured\n",
      "        set of formatting parameters.\n",
      "    \n",
      "    Functions\n",
      "    ---------\n",
      "    \n",
      "    pformat()\n",
      "        Format a Python object into a pretty-printed representation.\n",
      "    \n",
      "    pprint()\n",
      "        Pretty-print a Python object to a stream [default is sys.stdout].\n",
      "    \n",
      "    saferepr()\n",
      "        Generate a 'standard' repr()-like value, but protect against recursive\n",
      "        data structures.\n",
      "\n",
      "CLASSES\n",
      "    builtins.object\n",
      "        PrettyPrinter\n",
      "    \n",
      "    class PrettyPrinter(builtins.object)\n",
      "     |  PrettyPrinter(indent=1, width=80, depth=None, stream=None, *, compact=False, sort_dicts=True)\n",
      "     |  \n",
      "     |  Methods defined here:\n",
      "     |  \n",
      "     |  __init__(self, indent=1, width=80, depth=None, stream=None, *, compact=False, sort_dicts=True)\n",
      "     |      Handle pretty printing operations onto a stream using a set of\n",
      "     |      configured parameters.\n",
      "     |      \n",
      "     |      indent\n",
      "     |          Number of spaces to indent for each level of nesting.\n",
      "     |      \n",
      "     |      width\n",
      "     |          Attempted maximum number of columns in the output.\n",
      "     |      \n",
      "     |      depth\n",
      "     |          The maximum depth to print out nested structures.\n",
      "     |      \n",
      "     |      stream\n",
      "     |          The desired output stream.  If omitted (or false), the standard\n",
      "     |          output stream available at construction will be used.\n",
      "     |      \n",
      "     |      compact\n",
      "     |          If true, several items will be combined in one line.\n",
      "     |      \n",
      "     |      sort_dicts\n",
      "     |          If true, dict keys are sorted.\n",
      "     |  \n",
      "     |  format(self, object, context, maxlevels, level)\n",
      "     |      Format object for a specific context, returning a string\n",
      "     |      and flags indicating whether the representation is 'readable'\n",
      "     |      and whether the object represents a recursive construct.\n",
      "     |  \n",
      "     |  isreadable(self, object)\n",
      "     |  \n",
      "     |  isrecursive(self, object)\n",
      "     |  \n",
      "     |  pformat(self, object)\n",
      "     |  \n",
      "     |  pprint(self, object)\n",
      "     |  \n",
      "     |  ----------------------------------------------------------------------\n",
      "     |  Data descriptors defined here:\n",
      "     |  \n",
      "     |  __dict__\n",
      "     |      dictionary for instance variables (if defined)\n",
      "     |  \n",
      "     |  __weakref__\n",
      "     |      list of weak references to the object (if defined)\n",
      "\n",
      "FUNCTIONS\n",
      "    isreadable(object)\n",
      "        Determine if saferepr(object) is readable by eval().\n",
      "    \n",
      "    isrecursive(object)\n",
      "        Determine if object requires a recursive representation.\n",
      "    \n",
      "    pformat(object, indent=1, width=80, depth=None, *, compact=False, sort_dicts=True)\n",
      "        Format a Python object into a pretty-printed representation.\n",
      "    \n",
      "    pp(object, *args, sort_dicts=False, **kwargs)\n",
      "        Pretty-print a Python object\n",
      "    \n",
      "    pprint(object, stream=None, indent=1, width=80, depth=None, *, compact=False, sort_dicts=True)\n",
      "        Pretty-print a Python object to a stream [default is sys.stdout].\n",
      "    \n",
      "    saferepr(object)\n",
      "        Version of repr() which can handle recursive data structures.\n",
      "\n",
      "DATA\n",
      "    __all__ = ['pprint', 'pformat', 'isreadable', 'isrecursive', 'saferepr...\n",
      "\n",
      "FILE\n",
      "    c:\\users\\artio\\anaconda3\\lib\\pprint.py\n",
      "\n",
      "\n"
     ]
    }
   ],
   "source": [
    "help(pprint)"
   ]
  },
  {
   "cell_type": "code",
   "execution_count": null,
   "id": "da1b9061-1e55-4026-9540-4a289159de9f",
   "metadata": {},
   "outputs": [],
   "source": []
  }
 ],
 "metadata": {
  "kernelspec": {
   "display_name": "Python 3 (ipykernel)",
   "language": "python",
   "name": "python3"
  },
  "language_info": {
   "codemirror_mode": {
    "name": "ipython",
    "version": 3
   },
   "file_extension": ".py",
   "mimetype": "text/x-python",
   "name": "python",
   "nbconvert_exporter": "python",
   "pygments_lexer": "ipython3",
   "version": "3.9.7"
  },
  "widgets": {
   "application/vnd.jupyter.widget-state+json": {
    "state": {},
    "version_major": 2,
    "version_minor": 0
   }
  }
 },
 "nbformat": 4,
 "nbformat_minor": 5
}
