{
  "nbformat": 4,
  "nbformat_minor": 0,
  "metadata": {
    "colab": {
      "provenance": [],
      "include_colab_link": true
    },
    "kernelspec": {
      "display_name": "Python 3",
      "name": "python3"
    },
    "language_info": {
      "name": "python"
    }
  },
  "cells": [
    {
      "cell_type": "markdown",
      "metadata": {
        "id": "view-in-github",
        "colab_type": "text"
      },
      "source": [
        "<a href=\"https://colab.research.google.com/github/meraline/Analyz_Pokera/blob/master/%D0%9A%D0%BE%D0%BF%D0%B8%D1%8F_%D0%B1%D0%BB%D0%BE%D0%BA%D0%BD%D0%BE%D1%82%D0%B0_%22TexasSolver_Tech_Demo%22.ipynb\" target=\"_parent\"><img src=\"https://colab.research.google.com/assets/colab-badge.svg\" alt=\"Open In Colab\"/></a>"
      ]
    },
    {
      "cell_type": "markdown",
      "metadata": {
        "id": "k_9cTO38duIC"
      },
      "source": [
        "# **TexasSolver Colab Demo**\n",
        "\n",
        "To start first modify parameters in the form and press Ctrl+F9 or select `Runtime` -> `Run all`\n",
        "\n",
        "Please keep in mind that the speed here (google colab) is 30~60times slower than a modern personal PC, so it's just a toy demo showing that the how solver works. \n",
        "\n",
        "Under the default parameters, the solver would take ~3 minutes to run in colab environment. Feel free to modify those parameters, but remember the speed here is a lot slower than a pc.\n",
        "\n",
        "**It's highly not recommand to run any real calculation here(in the colab).**\n",
        "\n"
      ]
    },
    {
      "cell_type": "code",
      "metadata": {
        "id": "GzTHx0cNN3aM",
        "cellView": "form"
      },
      "source": [
        "#@title Install solver from github\n",
        "!wget -q https://github.com/bupticybee/TexasSolver/releases/download/v0.1.0/TexasSolver-v0.1-Linux.zip > log\n",
        "!unzip TexasSolver-v0.1-Linux.zip > log"
      ],
      "execution_count": null,
      "outputs": []
    },
    {
      "cell_type": "code",
      "metadata": {
        "cellView": "form",
        "id": "IoN1WdvElGMq"
      },
      "source": [
        "#@title Prepare functions needed by solver\n",
        "\n",
        "def make_round_str(round,player,bet,raise_str,donk,allin):\n",
        "  retstr = \"\"\n",
        "  if bet:\n",
        "    retstr += f\"set_bet_sizes {player},{round},bet,{bet}\\n\"\n",
        "  if raise_str:\n",
        "    retstr += f\"set_bet_sizes {player},{round},raise,{raise_str}\\n\"\n",
        "  if donk:\n",
        "    retstr += f\"set_bet_sizes {player},{round},donk,{donk}\\n\"\n",
        "  if allin:\n",
        "    retstr += f\"set_bet_sizes {player},{round},allin\\n\"\n",
        "  return retstr\n",
        "    "
      ],
      "execution_count": null,
      "outputs": []
    },
    {
      "cell_type": "code",
      "metadata": {
        "id": "hwb_r2VfZKDy",
        "cellView": "form"
      },
      "source": [
        "#@title Solver Global settings { run: \"auto\" }\n",
        "\n",
        "pot = 50 #@param\n",
        "effective_stack = 70 #@param\n",
        "\n",
        "ip_range = \"AA,KK,QQ,JJ,TT,99:0.75,88:0.75,77:0.5,66:0.25,55:0.25,AK,AQs,AQo:0.75,AJs,AJo:0.5,ATs:0.75,A6s:0.25,A5s:0.75,A4s:0.75,A3s:0.5,A2s:0.5,KQs,KQo:0.5,KJs,KTs:0.75,K5s:0.25,K4s:0.25,QJs:0.75,QTs:0.75,Q9s:0.5,JTs:0.75,J9s:0.75,J8s:0.75,T9s:0.75,T8s:0.75,T7s:0.75,98s:0.75,97s:0.75,96s:0.5,87s:0.75,86s:0.5,85s:0.5,76s:0.75,75s:0.5,65s:0.75,64s:0.5,54s:0.75,53s:0.5,43s:0.5\" #@param {type:\"string\"}\n",
        "oop_range = \"QQ:0.5,JJ:0.75,TT,99,88,77,66,55,44,33,22,AKo:0.25,AQs,AQo:0.75,AJs,AJo:0.75,ATs,ATo:0.75,A9s,A8s,A7s,A6s,A5s,A4s,A3s,A2s,KQ,KJ,KTs,KTo:0.5,K9s,K8s,K7s,K6s,K5s,K4s:0.5,K3s:0.5,K2s:0.5,QJ,QTs,Q9s,Q8s,Q7s,JTs,JTo:0.5,J9s,J8s,T9s,T8s,T7s,98s,97s,96s,87s,86s,76s,75s,65s,64s,54s,53s,43s\" #@param {type:\"string\"}\n",
        "board = \"Qs,Jh,2h\" #@param {type:\"string\"}\n",
        "\n",
        "allin_threshold =  0.80#@param\n",
        "thread_num =  2#@param\n",
        "accuracy_percent = 5.0 #@param\n",
        "max_iteration = 200 #@param {type:\"integer\"}\n",
        "print_interval = 10 #@param {type:\"integer\"}\n",
        "use_isomorphism = True #@param {type:\"boolean\"}\n",
        "\n",
        "dump_rounds = 1 #@param {type:\"integer\"}\n",
        "\n",
        "global_setting = f\"\"\"set_pot {pot}\n",
        "set_effective_stack {effective_stack}\n",
        "set_board {board}\n",
        "set_range_ip {ip_range}\n",
        "set_range_oop {oop_range}\n",
        "set_allin_threshold {allin_threshold}\n",
        "set_thread_num {thread_num}\n",
        "set_accuracy {accuracy_percent}\n",
        "set_max_iteration {max_iteration}\n",
        "set_print_interval {print_interval}\n",
        "set_use_isomorphism {int(print_interval)}\n",
        "set_dump_rounds {dump_rounds}\n",
        "\"\"\""
      ],
      "execution_count": null,
      "outputs": []
    },
    {
      "cell_type": "code",
      "metadata": {
        "cellView": "form",
        "id": "izUebVD6b0F0"
      },
      "source": [
        "#@title Flop setting { run: \"auto\" }\n",
        "flop_ip_bet_sizes = \"50,100\" #@param {type:\"string\"}\n",
        "flop_ip_raise_sizes = \"50\" #@param {type:\"string\"}\n",
        "flop_ip_allin = True #@param {type:\"boolean\"}\n",
        "\n",
        "flop_oop_bet_sizes = \"50\" #@param {type:\"string\"}\n",
        "flop_oop_raise_sizes = \"50\" #@param {type:\"string\"}\n",
        "flop_oop_allin = True #@param {type:\"boolean\"}\n",
        "\n",
        "flop_setting = make_round_str(\"flop\",\"ip\",flop_ip_bet_sizes,flop_ip_raise_sizes,None,flop_ip_allin)\n",
        "flop_setting += make_round_str(\"flop\",\"oop\",flop_oop_bet_sizes,flop_oop_raise_sizes,None,flop_oop_allin)"
      ],
      "execution_count": null,
      "outputs": []
    },
    {
      "cell_type": "code",
      "metadata": {
        "id": "ixXazSeLoG9P",
        "cellView": "form"
      },
      "source": [
        "#@title Turn setting { run: \"auto\" }\n",
        "turn_ip_bet_sizes = \"50\" #@param {type:\"string\"}\n",
        "turn_ip_raise_sizes = \"50\" #@param {type:\"string\"}\n",
        "turn_ip_allin = True #@param {type:\"boolean\"}\n",
        "\n",
        "turn_oop_bet_sizes = \"50\" #@param {type:\"string\"}\n",
        "turn_oop_raise_sizes = \"50\" #@param {type:\"string\"}\n",
        "turn_oop_donk_sizes = \"\" #@param {type:\"string\"}\n",
        "turn_oop_allin = True #@param {type:\"boolean\"}\n",
        "\n",
        "turn_setting = make_round_str(\"turn\",\"ip\",turn_ip_bet_sizes,turn_ip_raise_sizes,None,turn_ip_allin)\n",
        "turn_setting += make_round_str(\"turn\",\"oop\",turn_oop_bet_sizes,turn_oop_raise_sizes,turn_oop_donk_sizes,turn_oop_allin)"
      ],
      "execution_count": null,
      "outputs": []
    },
    {
      "cell_type": "code",
      "metadata": {
        "id": "U2AzvZPZo6s-",
        "cellView": "form"
      },
      "source": [
        "#@title River setting { run: \"auto\" }\n",
        "river_ip_bet_sizes = \"50\" #@param {type:\"string\"}\n",
        "river_ip_raise_sizes = \"50\" #@param {type:\"string\"}\n",
        "river_ip_allin = True #@param {type:\"boolean\"}\n",
        "\n",
        "river_oop_bet_sizes = \"50\" #@param {type:\"string\"}\n",
        "river_oop_raise_sizes = \"50\" #@param {type:\"string\"}\n",
        "river_oop_donk_sizes = \"\" #@param {type:\"string\"}\n",
        "river_oop_allin = True #@param {type:\"boolean\"}\n",
        "\n",
        "river_setting = make_round_str(\"river\",\"ip\",river_ip_bet_sizes,river_ip_raise_sizes,None,river_ip_allin)\n",
        "river_setting += make_round_str(\"river\",\"oop\",river_oop_bet_sizes,river_oop_raise_sizes,river_oop_donk_sizes,river_oop_allin)"
      ],
      "execution_count": null,
      "outputs": []
    },
    {
      "cell_type": "code",
      "metadata": {
        "id": "3PTMCAZ4iMyk",
        "cellView": "form"
      },
      "source": [
        "#@title <- Press here to start solving (Could be 30~60x *slower* than you PC)\n",
        "\n",
        "input_str = global_setting + flop_setting + turn_setting + river_setting + \"\"\"build_tree\n",
        "start_solve\n",
        "dump_result output_result.json\n",
        "\"\"\"\n",
        "with open(\"input.txt\",'w') as whdl:\n",
        "  whdl.write(input_str)\n",
        "\n",
        "print(\"preparing resources:\")\n",
        "\n",
        "!cd TexasSolver-Linux && cat ../input.txt | ./console_solver"
      ],
      "execution_count": null,
      "outputs": []
    },
    {
      "cell_type": "code",
      "metadata": {
        "id": "g1tmIHxBYliv",
        "cellView": "form"
      },
      "source": [
        "#@title Show Result Strategy Json\n",
        "# for both requests and normal dict\n",
        "from requests import get, models\n",
        "import json\n",
        "from IPython.display import HTML\n",
        "\n",
        "render_template = \"\"\"\n",
        "<script src=\"https://cdn.jsdelivr.net/npm/renderjson@1.4.0/renderjson.min.js\"></script>\n",
        "<script>\n",
        "renderjson.set_show_to_level(1)\n",
        "document.body.appendChild(renderjson(%s))\n",
        "new ResizeObserver(google.colab.output.resizeIframeToContent).observe(document.body)\n",
        "</script>\n",
        "\"\"\"\n",
        "models.Response._repr_html_ = lambda rsp: render_template % rsp.text\n",
        "\n",
        "def render(jsondict):\n",
        "  return HTML(render_template % jsondict)\n",
        "\n",
        "content = open(\"./TexasSolver-Linux/output_result.json\").read()\n",
        "render(content)"
      ],
      "execution_count": null,
      "outputs": []
    },
    {
      "cell_type": "code",
      "metadata": {
        "id": "FIGYMhbPrXFO"
      },
      "source": [],
      "execution_count": null,
      "outputs": []
    }
  ]
}