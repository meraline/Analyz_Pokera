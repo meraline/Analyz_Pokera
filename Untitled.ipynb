{
 "cells": [
  {
   "cell_type": "code",
   "execution_count": 71,
   "id": "0bb75027-8846-4f4f-af9c-e5a5cb629426",
   "metadata": {},
   "outputs": [
    {
     "data": {
      "text/html": [
       "<div>\n",
       "<style scoped>\n",
       "    .dataframe tbody tr th:only-of-type {\n",
       "        vertical-align: middle;\n",
       "    }\n",
       "\n",
       "    .dataframe tbody tr th {\n",
       "        vertical-align: top;\n",
       "    }\n",
       "\n",
       "    .dataframe thead th {\n",
       "        text-align: right;\n",
       "    }\n",
       "</style>\n",
       "<table border=\"1\" class=\"dataframe\">\n",
       "  <thead>\n",
       "    <tr style=\"text-align: right;\">\n",
       "      <th></th>\n",
       "      <th>Turn</th>\n",
       "      <th>River</th>\n",
       "    </tr>\n",
       "  </thead>\n",
       "  <tbody>\n",
       "    <tr>\n",
       "      <th>0</th>\n",
       "      <td>3h</td>\n",
       "      <td>5c</td>\n",
       "    </tr>\n",
       "    <tr>\n",
       "      <th>1</th>\n",
       "      <td>6d</td>\n",
       "      <td>Kd</td>\n",
       "    </tr>\n",
       "    <tr>\n",
       "      <th>2</th>\n",
       "      <td>2c</td>\n",
       "      <td>Ad</td>\n",
       "    </tr>\n",
       "    <tr>\n",
       "      <th>3</th>\n",
       "      <td>8d</td>\n",
       "      <td>6h</td>\n",
       "    </tr>\n",
       "    <tr>\n",
       "      <th>4</th>\n",
       "      <td>9d</td>\n",
       "      <td>Jd</td>\n",
       "    </tr>\n",
       "  </tbody>\n",
       "</table>\n",
       "</div>"
      ],
      "text/plain": [
       "  Turn River\n",
       "0   3h    5c\n",
       "1   6d    Kd\n",
       "2   2c    Ad\n",
       "3   8d    6h\n",
       "4   9d    Jd"
      ]
     },
     "execution_count": 71,
     "metadata": {},
     "output_type": "execute_result"
    }
   ],
   "source": [
    "import re\n",
    "import pandas as pd\n",
    "\n",
    "data_pd = {'Turn': [], 'River': []}\n",
    "\n",
    "# Открываем файл\n",
    "with open('dim10.txt', 'r') as f:\n",
    "    data = f.read()\n",
    "\n",
    "# Turns_ = re.search('[*]{3} TURN [*]{3} \\D.. .. ..\\D \\D(..)\\D', data)\n",
    "\n",
    "if Turns_ == re.search('[*]{3} TURN [*]{3} \\D.. .. ..\\D \\D(..)\\D', data):\n",
    "    Turns = None\n",
    "else:\n",
    "    Turns = re.findall('[*]{3} TURN [*]{3} \\D.. .. ..\\D \\D(..)\\D', data)\n",
    "\n",
    "    \n",
    "Rivers_ = re.search('[*]{3} RIVER [*]{3} \\D.. .. .. ..\\D \\D(..)\\D', data)\n",
    "\n",
    "if Rivers_ == None:\n",
    "    Rivers = None\n",
    "else:\n",
    "    Rivers = re.findall('[*]{3} RIVER [*]{3} \\D.. .. .. ..\\D \\D(..)\\D', data)    \n",
    "    \n",
    "    \n",
    "# ЗАполнЯем словарь данными\n",
    "for turn, river in zip(Turns, Rivers):\n",
    "    data_pd['Turn'].append(turn)\n",
    "    data_pd['River'].append(river)  \n",
    "    \n",
    "df = pd.DataFrame(data_pd)\n",
    "df.head()"
   ]
  },
  {
   "cell_type": "code",
   "execution_count": 67,
   "id": "7b952200-7fce-4e38-ab1a-72f2b31f5e85",
   "metadata": {},
   "outputs": [
    {
     "data": {
      "text/plain": [
       "list"
      ]
     },
     "execution_count": 67,
     "metadata": {},
     "output_type": "execute_result"
    }
   ],
   "source": [
    "Turns_ = re.search(\"[0-9a-fA-F]\", '1')\n",
    "\n",
    "if Turns_ == None:\n",
    "    Turns = None\n",
    "else:\n",
    "    Turns = re.findall(\"[0-9a-fA-F]\", '1')\n",
    "                       \n",
    "type(Turns)"
   ]
  }
 ],
 "metadata": {
  "kernelspec": {
   "display_name": "Python 3 (ipykernel)",
   "language": "python",
   "name": "python3"
  },
  "language_info": {
   "codemirror_mode": {
    "name": "ipython",
    "version": 3
   },
   "file_extension": ".py",
   "mimetype": "text/x-python",
   "name": "python",
   "nbconvert_exporter": "python",
   "pygments_lexer": "ipython3",
   "version": "3.9.7"
  },
  "widgets": {
   "application/vnd.jupyter.widget-state+json": {
    "state": {},
    "version_major": 2,
    "version_minor": 0
   }
  }
 },
 "nbformat": 4,
 "nbformat_minor": 5
}
