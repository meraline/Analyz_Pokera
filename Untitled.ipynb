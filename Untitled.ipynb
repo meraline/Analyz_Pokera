{
 "cells": [
  {
   "cell_type": "code",
   "execution_count": 42,
   "id": "0bb75027-8846-4f4f-af9c-e5a5cb629426",
   "metadata": {},
   "outputs": [
    {
     "data": {
      "text/plain": [
       "<re.Match object; span=(675, 703), match='*** TURN *** [5h 2h Kc] [3h]'>"
      ]
     },
     "execution_count": 42,
     "metadata": {},
     "output_type": "execute_result"
    }
   ],
   "source": [
    "import re\n",
    "\n",
    "\n",
    "# Открываем файл\n",
    "with open('dim10.txt', 'r') as f:\n",
    "    data = f.read()\n",
    "\n",
    "Turns = re.search('[*]{3} TURN [*]{3} \\D.. .. ..\\D \\D(..)\\D', data)\n",
    "\n",
    "\n",
    "if Turns != None:\n",
    "    # Turns = re.findall('[*]{3} TURN [*]{3} \\D.. .. ..\\D \\D(..)\\D', data)\n",
    "    # print(Turns, len(Turns))\n",
    "    Turns.group(1)\n",
    "else:\n",
    "    print('None')\n",
    "\n",
    "Turns"
   ]
  },
  {
   "cell_type": "code",
   "execution_count": 60,
   "id": "7b952200-7fce-4e38-ab1a-72f2b31f5e85",
   "metadata": {},
   "outputs": [
    {
     "name": "stdout",
     "output_type": "stream",
     "text": [
      "['1']\n"
     ]
    }
   ],
   "source": [
    "Turns_ = re.search(\"[0-9a-fA-F]\", '4')\n",
    "\n",
    "if Turns_ == None:\n",
    "    Turns = 'NaN'\n",
    "else:\n",
    "    Turns = re.findall(\"[0-9a-fA-F]\", '1')\n",
    "                       \n",
    "print(Turns)"
   ]
  }
 ],
 "metadata": {
  "kernelspec": {
   "display_name": "Python 3 (ipykernel)",
   "language": "python",
   "name": "python3"
  },
  "language_info": {
   "codemirror_mode": {
    "name": "ipython",
    "version": 3
   },
   "file_extension": ".py",
   "mimetype": "text/x-python",
   "name": "python",
   "nbconvert_exporter": "python",
   "pygments_lexer": "ipython3",
   "version": "3.9.7"
  },
  "widgets": {
   "application/vnd.jupyter.widget-state+json": {
    "state": {},
    "version_major": 2,
    "version_minor": 0
   }
  }
 },
 "nbformat": 4,
 "nbformat_minor": 5
}
