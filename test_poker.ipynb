{
 "cells": [
  {
   "cell_type": "code",
   "execution_count": 29,
   "id": "cc763af2-2138-48d8-99a8-d65658bf44f9",
   "metadata": {},
   "outputs": [],
   "source": [
    "from poker.room.pokerstars import PokerStarsHandHistory"
   ]
  },
  {
   "cell_type": "code",
   "execution_count": 101,
   "id": "a4b9d869-a214-4095-ad99-42ce95ba5386",
   "metadata": {
    "tags": []
   },
   "outputs": [],
   "source": [
    "hh = PokerStarsHandHistory.from_file('dim10.txt')\n",
    "hh.parse()\n",
    "\n",
    "hand = hh.hero.combo"
   ]
  },
  {
   "cell_type": "code",
   "execution_count": 102,
   "id": "7525df19-9a59-4630-8d17-5342d305c506",
   "metadata": {},
   "outputs": [],
   "source": [
    "board = hh.board"
   ]
  },
  {
   "cell_type": "code",
   "execution_count": 109,
   "id": "edb1d868-5ebf-4e21-b78c-d52fce08bc1c",
   "metadata": {},
   "outputs": [
    {
     "name": "stdout",
     "output_type": "stream",
     "text": [
      "Collecting deuces\n",
      "  Downloading deuces-0.2.tar.gz (7.6 kB)\n",
      "Building wheels for collected packages: deuces\n",
      "  Building wheel for deuces (setup.py): started\n",
      "  Building wheel for deuces (setup.py): finished with status 'done'\n",
      "  Created wheel for deuces: filename=deuces-0.2-py3-none-any.whl size=9195 sha256=7caec5143f96e464117f557327fd9f6ff98172b0b145c08c791789e001557e8f\n",
      "  Stored in directory: c:\\users\\artio\\appdata\\local\\pip\\cache\\wheels\\aa\\f4\\c8\\ff22560a26a861d259f684c6f2b2498c2255f582692a7871d0\n",
      "Successfully built deuces\n",
      "Installing collected packages: deuces\n",
      "Successfully installed deuces-0.2\n"
     ]
    }
   ],
   "source": [
    "! pip install deuces"
   ]
  },
  {
   "cell_type": "code",
   "execution_count": 76,
   "id": "d6a9fe6c-b3d9-49a6-b644-262eef014187",
   "metadata": {},
   "outputs": [],
   "source": [
    "from poker.hand import Hand, Combo"
   ]
  },
  {
   "cell_type": "code",
   "execution_count": 84,
   "id": "1573334a-321f-458b-be6b-9b479a151ec6",
   "metadata": {},
   "outputs": [],
   "source": [
    "from pokereval.card import Card\n",
    "from pokereval.hand_evaluator import HandEvaluator"
   ]
  },
  {
   "cell_type": "code",
   "execution_count": 93,
   "id": "992d1895-6ea0-44b3-bf15-ed226c0fa387",
   "metadata": {},
   "outputs": [],
   "source": [
    "hole = [Card(2, 1), Card(2, 2)]\n",
    "board = []\n",
    "score = HandEvaluator.evaluate_hand(hole, board)"
   ]
  },
  {
   "cell_type": "code",
   "execution_count": 99,
   "id": "26c2ef18-994a-4800-873a-3c360273ccb5",
   "metadata": {},
   "outputs": [],
   "source": [
    "from treys import Card\n",
    "from treys import Evaluator"
   ]
  },
  {
   "cell_type": "code",
   "execution_count": 106,
   "id": "e7f32099-bcb0-417a-83f7-0136564d1d6f",
   "metadata": {},
   "outputs": [],
   "source": [
    "board = []\n",
    "hand = []"
   ]
  },
  {
   "cell_type": "code",
   "execution_count": 108,
   "id": "3c8b05c6-6564-49e7-818b-524d6d32b3e7",
   "metadata": {},
   "outputs": [
    {
     "ename": "KeyError",
     "evalue": "0",
     "output_type": "error",
     "traceback": [
      "\u001b[1;31m---------------------------------------------------------------------------\u001b[0m",
      "\u001b[1;31mKeyError\u001b[0m                                  Traceback (most recent call last)",
      "\u001b[1;32m~\\AppData\\Local\\Temp/ipykernel_68832/945580486.py\u001b[0m in \u001b[0;36m<module>\u001b[1;34m\u001b[0m\n\u001b[0;32m      1\u001b[0m \u001b[0mevaluator\u001b[0m \u001b[1;33m=\u001b[0m \u001b[0mEvaluator\u001b[0m\u001b[1;33m(\u001b[0m\u001b[1;33m)\u001b[0m\u001b[1;33m\u001b[0m\u001b[1;33m\u001b[0m\u001b[0m\n\u001b[1;32m----> 2\u001b[1;33m \u001b[0mprint\u001b[0m\u001b[1;33m(\u001b[0m\u001b[0mevaluator\u001b[0m\u001b[1;33m.\u001b[0m\u001b[0mevaluate\u001b[0m\u001b[1;33m(\u001b[0m\u001b[0mboard\u001b[0m\u001b[1;33m,\u001b[0m \u001b[0mhand\u001b[0m\u001b[1;33m)\u001b[0m\u001b[1;33m)\u001b[0m\u001b[1;33m\u001b[0m\u001b[1;33m\u001b[0m\u001b[0m\n\u001b[0m",
      "\u001b[1;32m~\\anaconda3\\lib\\site-packages\\treys\\evaluator.py\u001b[0m in \u001b[0;36mevaluate\u001b[1;34m(self, cards, board)\u001b[0m\n\u001b[0;32m     33\u001b[0m         \"\"\"\n\u001b[0;32m     34\u001b[0m         \u001b[0mall_cards\u001b[0m \u001b[1;33m=\u001b[0m \u001b[0mcards\u001b[0m \u001b[1;33m+\u001b[0m \u001b[0mboard\u001b[0m\u001b[1;33m\u001b[0m\u001b[1;33m\u001b[0m\u001b[0m\n\u001b[1;32m---> 35\u001b[1;33m         \u001b[1;32mreturn\u001b[0m \u001b[0mself\u001b[0m\u001b[1;33m.\u001b[0m\u001b[0mhand_size_map\u001b[0m\u001b[1;33m[\u001b[0m\u001b[0mlen\u001b[0m\u001b[1;33m(\u001b[0m\u001b[0mall_cards\u001b[0m\u001b[1;33m)\u001b[0m\u001b[1;33m]\u001b[0m\u001b[1;33m(\u001b[0m\u001b[0mall_cards\u001b[0m\u001b[1;33m)\u001b[0m\u001b[1;33m\u001b[0m\u001b[1;33m\u001b[0m\u001b[0m\n\u001b[0m\u001b[0;32m     36\u001b[0m \u001b[1;33m\u001b[0m\u001b[0m\n\u001b[0;32m     37\u001b[0m     \u001b[1;32mdef\u001b[0m \u001b[0m_five\u001b[0m\u001b[1;33m(\u001b[0m\u001b[0mself\u001b[0m\u001b[1;33m,\u001b[0m \u001b[0mcards\u001b[0m\u001b[1;33m)\u001b[0m\u001b[1;33m:\u001b[0m\u001b[1;33m\u001b[0m\u001b[1;33m\u001b[0m\u001b[0m\n",
      "\u001b[1;31mKeyError\u001b[0m: 0"
     ]
    }
   ],
   "source": [
    "evaluator = Evaluator()\n",
    "print(evaluator.evaluate(board, hand))"
   ]
  }
 ],
 "metadata": {
  "kernelspec": {
   "display_name": "Python 3 (ipykernel)",
   "language": "python",
   "name": "python3"
  },
  "language_info": {
   "codemirror_mode": {
    "name": "ipython",
    "version": 3
   },
   "file_extension": ".py",
   "mimetype": "text/x-python",
   "name": "python",
   "nbconvert_exporter": "python",
   "pygments_lexer": "ipython3",
   "version": "3.9.7"
  },
  "widgets": {
   "application/vnd.jupyter.widget-state+json": {
    "state": {},
    "version_major": 2,
    "version_minor": 0
   }
  }
 },
 "nbformat": 4,
 "nbformat_minor": 5
}
