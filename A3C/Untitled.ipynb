{
 "cells": [
  {
   "cell_type": "code",
   "execution_count": 12,
   "id": "27c2101a-a81d-4738-929f-1f232a3fdb9e",
   "metadata": {
    "tags": []
   },
   "outputs": [
    {
     "name": "stdout",
     "output_type": "stream",
     "text": [
      "Collecting utils\n",
      "  Downloading utils-1.0.1-py2.py3-none-any.whl (21 kB)\n",
      "Installing collected packages: utils\n",
      "Successfully installed utils-1.0.1\n"
     ]
    }
   ],
   "source": [
    "!pip install utils"
   ]
  },
  {
   "cell_type": "code",
   "execution_count": 3,
   "id": "9ebdf195-03b6-462e-b2fb-c47162f6a4b4",
   "metadata": {},
   "outputs": [],
   "source": [
    "import gym\n",
    "import random"
   ]
  },
  {
   "cell_type": "code",
   "execution_count": 8,
   "id": "ffb08572-bb37-499b-8ab6-b532f2c018ca",
   "metadata": {},
   "outputs": [
    {
     "ename": "ValueError",
     "evalue": "too many values to unpack (expected 4)",
     "output_type": "error",
     "traceback": [
      "\u001b[1;31m---------------------------------------------------------------------------\u001b[0m",
      "\u001b[1;31mValueError\u001b[0m                                Traceback (most recent call last)",
      "Input \u001b[1;32mIn [8]\u001b[0m, in \u001b[0;36m<cell line: 28>\u001b[1;34m()\u001b[0m\n\u001b[0;32m     25\u001b[0m             \u001b[38;5;28;01mif\u001b[39;00m done:\n\u001b[0;32m     26\u001b[0m                 \u001b[38;5;28;01mbreak\u001b[39;00m\n\u001b[1;32m---> 28\u001b[0m \u001b[43mRandom_games\u001b[49m\u001b[43m(\u001b[49m\u001b[43m)\u001b[49m\n",
      "Input \u001b[1;32mIn [8]\u001b[0m, in \u001b[0;36mRandom_games\u001b[1;34m()\u001b[0m\n\u001b[0;32m     16\u001b[0m action \u001b[38;5;241m=\u001b[39m env\u001b[38;5;241m.\u001b[39maction_space\u001b[38;5;241m.\u001b[39msample()\n\u001b[0;32m     18\u001b[0m \u001b[38;5;66;03m# это выполняет среду с действием,\u001b[39;00m\n\u001b[0;32m     19\u001b[0m \u001b[38;5;66;03m# и возвращает наблюдение за средой,\u001b[39;00m\n\u001b[0;32m     20\u001b[0m \u001b[38;5;66;03m# вознаграждение, если env закончен, и другую информацию\u001b[39;00m\n\u001b[1;32m---> 21\u001b[0m next_state, reward, done, info \u001b[38;5;241m=\u001b[39m env\u001b[38;5;241m.\u001b[39mstep(action)\n\u001b[0;32m     23\u001b[0m \u001b[38;5;66;03m# давайте напечатаем все в одной строке:\u001b[39;00m\n\u001b[0;32m     24\u001b[0m \u001b[38;5;28mprint\u001b[39m(t, next_state, reward, done, info, action)\n",
      "\u001b[1;31mValueError\u001b[0m: too many values to unpack (expected 4)"
     ]
    }
   ],
   "source": [
    "env = gym.make(\"CartPole-v1\", render_mode=\"rgb_array\")\n",
    "\n",
    "def Random_games():\n",
    "    # Каждый из этих эпизодов - это своя собственная игра.\n",
    "    for episode in range(10):\n",
    "        env.reset()\n",
    "        # это каждый кадр, до 500...но с рэндомом мы так далеко не продвинемся.\n",
    "        for t in range(500):\n",
    "            # Это отобразит окружающую среду\n",
    "            # Показывайте только в том случае, если вы действительно хотите это увидеть.\n",
    "            # Для его отображения требуется гораздо больше времени.\n",
    "            env.render()\n",
    "            \n",
    "            # Это просто создаст пример действия в любой среде.\n",
    "            # В этой среде действие может быть 0 или 1, то есть левым или правым\n",
    "            action = env.action_space.sample()\n",
    "\n",
    "            # это выполняет среду с действием,\n",
    "            # и возвращает наблюдение за средой,\n",
    "            # вознаграждение, если env закончен, и другую информацию\n",
    "            next_state, reward, done, info = env.step(action)\n",
    "            \n",
    "            # давайте напечатаем все в одной строке:\n",
    "            print(t, next_state, reward, done, info, action)\n",
    "            if done:\n",
    "                break\n",
    "                \n",
    "Random_games()"
   ]
  },
  {
   "cell_type": "code",
   "execution_count": 13,
   "id": "588451ec-b2fe-4dc5-9d14-efe80e884c85",
   "metadata": {},
   "outputs": [
    {
     "ename": "ImportError",
     "evalue": "cannot import name 'v_wrap' from 'utils' (C:\\Users\\artio\\anaconda3\\lib\\site-packages\\utils\\__init__.py)",
     "output_type": "error",
     "traceback": [
      "\u001b[1;31m---------------------------------------------------------------------------\u001b[0m",
      "\u001b[1;31mImportError\u001b[0m                               Traceback (most recent call last)",
      "Input \u001b[1;32mIn [13]\u001b[0m, in \u001b[0;36m<cell line: 10>\u001b[1;34m()\u001b[0m\n\u001b[0;32m      8\u001b[0m \u001b[38;5;28;01mimport\u001b[39;00m \u001b[38;5;21;01mtorch\u001b[39;00m\n\u001b[0;32m      9\u001b[0m \u001b[38;5;28;01mimport\u001b[39;00m \u001b[38;5;21;01mtorch\u001b[39;00m\u001b[38;5;21;01m.\u001b[39;00m\u001b[38;5;21;01mnn\u001b[39;00m \u001b[38;5;28;01mas\u001b[39;00m \u001b[38;5;21;01mnn\u001b[39;00m\n\u001b[1;32m---> 10\u001b[0m \u001b[38;5;28;01mfrom\u001b[39;00m \u001b[38;5;21;01mutils\u001b[39;00m \u001b[38;5;28;01mimport\u001b[39;00m v_wrap, set_init, push_and_pull, record\n\u001b[0;32m     11\u001b[0m \u001b[38;5;28;01mimport\u001b[39;00m \u001b[38;5;21;01mtorch\u001b[39;00m\u001b[38;5;21;01m.\u001b[39;00m\u001b[38;5;21;01mnn\u001b[39;00m\u001b[38;5;21;01m.\u001b[39;00m\u001b[38;5;21;01mfunctional\u001b[39;00m \u001b[38;5;28;01mas\u001b[39;00m \u001b[38;5;21;01mF\u001b[39;00m\n\u001b[0;32m     12\u001b[0m \u001b[38;5;28;01mimport\u001b[39;00m \u001b[38;5;21;01mtorch\u001b[39;00m\u001b[38;5;21;01m.\u001b[39;00m\u001b[38;5;21;01mmultiprocessing\u001b[39;00m \u001b[38;5;28;01mas\u001b[39;00m \u001b[38;5;21;01mmp\u001b[39;00m\n",
      "\u001b[1;31mImportError\u001b[0m: cannot import name 'v_wrap' from 'utils' (C:\\Users\\artio\\anaconda3\\lib\\site-packages\\utils\\__init__.py)"
     ]
    }
   ],
   "source": [
    "\"\"\"\n",
    "Reinforcement Learning (A3C) using Pytroch + multiprocessing.\n",
    "The most simple implementation for continuous action.\n",
    "\n",
    "View more on my Chinese tutorial page [莫烦Python](https://morvanzhou.github.io/).\n",
    "\"\"\"\n",
    "\n",
    "import torch\n",
    "import torch.nn as nn\n",
    "from utils import v_wrap, set_init, push_and_pull, record\n",
    "import torch.nn.functional as F\n",
    "import torch.multiprocessing as mp\n",
    "from shared_adam import SharedAdam\n",
    "import gym\n",
    "import math, os\n",
    "os.environ[\"OMP_NUM_THREADS\"] = \"1\"\n",
    "\n",
    "UPDATE_GLOBAL_ITER = 5\n",
    "GAMMA = 0.9\n",
    "MAX_EP = 3000\n",
    "MAX_EP_STEP = 200\n",
    "\n",
    "env = gym.make('Pendulum-v0')\n",
    "N_S = env.observation_space.shape[0]\n",
    "N_A = env.action_space.shape[0]"
   ]
  },
  {
   "cell_type": "code",
   "execution_count": 14,
   "id": "fcc25d69-93fa-4f6b-a20b-42ce6b823cb5",
   "metadata": {},
   "outputs": [
    {
     "ename": "NameError",
     "evalue": "name 'mp' is not defined",
     "output_type": "error",
     "traceback": [
      "\u001b[1;31m---------------------------------------------------------------------------\u001b[0m",
      "\u001b[1;31mNameError\u001b[0m                                 Traceback (most recent call last)",
      "Input \u001b[1;32mIn [14]\u001b[0m, in \u001b[0;36m<cell line: 43>\u001b[1;34m()\u001b[0m\n\u001b[0;32m     39\u001b[0m         total_loss \u001b[38;5;241m=\u001b[39m (a_loss \u001b[38;5;241m+\u001b[39m c_loss)\u001b[38;5;241m.\u001b[39mmean()\n\u001b[0;32m     40\u001b[0m         \u001b[38;5;28;01mreturn\u001b[39;00m total_loss\n\u001b[1;32m---> 43\u001b[0m \u001b[38;5;28;01mclass\u001b[39;00m \u001b[38;5;21;01mWorker\u001b[39;00m(\u001b[43mmp\u001b[49m\u001b[38;5;241m.\u001b[39mProcess):\n\u001b[0;32m     44\u001b[0m     \u001b[38;5;28;01mdef\u001b[39;00m \u001b[38;5;21m__init__\u001b[39m(\u001b[38;5;28mself\u001b[39m, gnet, opt, global_ep, global_ep_r, res_queue, name):\n\u001b[0;32m     45\u001b[0m         \u001b[38;5;28msuper\u001b[39m(Worker, \u001b[38;5;28mself\u001b[39m)\u001b[38;5;241m.\u001b[39m\u001b[38;5;21m__init__\u001b[39m()\n",
      "\u001b[1;31mNameError\u001b[0m: name 'mp' is not defined"
     ]
    }
   ],
   "source": [
    "class Net(nn.Module):\n",
    "    def __init__(self, s_dim, a_dim):\n",
    "        super(Net, self).__init__()\n",
    "        self.s_dim = s_dim\n",
    "        self.a_dim = a_dim\n",
    "        self.a1 = nn.Linear(s_dim, 200)\n",
    "        self.mu = nn.Linear(200, a_dim)\n",
    "        self.sigma = nn.Linear(200, a_dim)\n",
    "        self.c1 = nn.Linear(s_dim, 100)\n",
    "        self.v = nn.Linear(100, 1)\n",
    "        set_init([self.a1, self.mu, self.sigma, self.c1, self.v])\n",
    "        self.distribution = torch.distributions.Normal\n",
    "\n",
    "    def forward(self, x):\n",
    "        a1 = F.relu6(self.a1(x))\n",
    "        mu = 2 * F.tanh(self.mu(a1))\n",
    "        sigma = F.softplus(self.sigma(a1)) + 0.001      # avoid 0\n",
    "        c1 = F.relu6(self.c1(x))\n",
    "        values = self.v(c1)\n",
    "        return mu, sigma, values\n",
    "\n",
    "    def choose_action(self, s):\n",
    "        self.training = False\n",
    "        mu, sigma, _ = self.forward(s)\n",
    "        m = self.distribution(mu.view(1, ).data, sigma.view(1, ).data)\n",
    "        return m.sample().numpy()\n",
    "\n",
    "    def loss_func(self, s, a, v_t):\n",
    "        self.train()\n",
    "        mu, sigma, values = self.forward(s)\n",
    "        td = v_t - values\n",
    "        c_loss = td.pow(2)\n",
    "\n",
    "        m = self.distribution(mu, sigma)\n",
    "        log_prob = m.log_prob(a)\n",
    "        entropy = 0.5 + 0.5 * math.log(2 * math.pi) + torch.log(m.scale)  # exploration\n",
    "        exp_v = log_prob * td.detach() + 0.005 * entropy\n",
    "        a_loss = -exp_v\n",
    "        total_loss = (a_loss + c_loss).mean()\n",
    "        return total_loss\n",
    "\n",
    "\n",
    "class Worker(mp.Process):\n",
    "    def __init__(self, gnet, opt, global_ep, global_ep_r, res_queue, name):\n",
    "        super(Worker, self).__init__()\n",
    "        self.name = 'w%i' % name\n",
    "        self.g_ep, self.g_ep_r, self.res_queue = global_ep, global_ep_r, res_queue\n",
    "        self.gnet, self.opt = gnet, opt\n",
    "        self.lnet = Net(N_S, N_A)           # local network\n",
    "        self.env = gym.make('Pendulum-v0').unwrapped\n",
    "\n",
    "    def run(self):\n",
    "        total_step = 1\n",
    "        while self.g_ep.value < MAX_EP:\n",
    "            s = self.env.reset()\n",
    "            buffer_s, buffer_a, buffer_r = [], [], []\n",
    "            ep_r = 0.\n",
    "            for t in range(MAX_EP_STEP):\n",
    "                if self.name == 'w0':\n",
    "                    self.env.render()\n",
    "                a = self.lnet.choose_action(v_wrap(s[None, :]))\n",
    "                s_, r, done, _ = self.env.step(a.clip(-2, 2))\n",
    "                if t == MAX_EP_STEP - 1:\n",
    "                    done = True\n",
    "                ep_r += r\n",
    "                buffer_a.append(a)\n",
    "                buffer_s.append(s)\n",
    "                buffer_r.append((r+8.1)/8.1)    # normalize\n",
    "\n",
    "                if total_step % UPDATE_GLOBAL_ITER == 0 or done:  # update global and assign to local net\n",
    "                    # sync\n",
    "                    push_and_pull(self.opt, self.lnet, self.gnet, done, s_, buffer_s, buffer_a, buffer_r, GAMMA)\n",
    "                    buffer_s, buffer_a, buffer_r = [], [], []\n",
    "\n",
    "                    if done:  # done and print information\n",
    "                        record(self.g_ep, self.g_ep_r, ep_r, self.res_queue, self.name)\n",
    "                        break\n",
    "                s = s_\n",
    "                total_step += 1\n",
    "\n",
    "        self.res_queue.put(None)\n",
    "\n",
    "\n",
    "if __name__ == \"__main__\":\n",
    "    gnet = Net(N_S, N_A)        # global network\n",
    "    gnet.share_memory()         # share the global parameters in multiprocessing\n",
    "    opt = SharedAdam(gnet.parameters(), lr=1e-4, betas=(0.95, 0.999))  # global optimizer\n",
    "    global_ep, global_ep_r, res_queue = mp.Value('i', 0), mp.Value('d', 0.), mp.Queue()\n",
    "\n",
    "    # parallel training\n",
    "    workers = [Worker(gnet, opt, global_ep, global_ep_r, res_queue, i) for i in range(mp.cpu_count())]\n",
    "    [w.start() for w in workers]\n",
    "    res = []                    # record episode reward to plot\n",
    "    while True:\n",
    "        r = res_queue.get()\n",
    "        if r is not None:\n",
    "            res.append(r)\n",
    "        else:\n",
    "            break\n",
    "    [w.join() for w in workers]\n",
    "\n",
    "    import matplotlib.pyplot as plt\n",
    "    plt.plot(res)\n",
    "    plt.ylabel('Moving average ep reward')\n",
    "    plt.xlabel('Step')\n",
    "    plt.show()"
   ]
  },
  {
   "cell_type": "code",
   "execution_count": null,
   "id": "502fa365-c6b6-40fc-8599-823994d14e0b",
   "metadata": {},
   "outputs": [],
   "source": []
  }
 ],
 "metadata": {
  "kernelspec": {
   "display_name": "Python 3 (ipykernel)",
   "language": "python",
   "name": "python3"
  },
  "language_info": {
   "codemirror_mode": {
    "name": "ipython",
    "version": 3
   },
   "file_extension": ".py",
   "mimetype": "text/x-python",
   "name": "python",
   "nbconvert_exporter": "python",
   "pygments_lexer": "ipython3",
   "version": "3.9.7"
  },
  "widgets": {
   "application/vnd.jupyter.widget-state+json": {
    "state": {},
    "version_major": 2,
    "version_minor": 0
   }
  }
 },
 "nbformat": 4,
 "nbformat_minor": 5
}
