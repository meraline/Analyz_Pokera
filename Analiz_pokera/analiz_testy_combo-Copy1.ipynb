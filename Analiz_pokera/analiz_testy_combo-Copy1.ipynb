{
 "cells": [
  {
   "cell_type": "markdown",
   "metadata": {
    "id": "cCLyx1NLRfLa"
   },
   "source": [
    "## Цель выявить закономерность между действиями и скрытыми картами оппонентов (комбинации)\n",
    " - \n",
    " - https://github.com/julianandrews/flopferret/blob/master/flopferret/board_texture.py"
   ]
  },
  {
   "cell_type": "code",
   "execution_count": 1,
   "metadata": {
    "ExecuteTime": {
     "end_time": "2022-01-13T22:42:04.665671Z",
     "start_time": "2022-01-13T22:41:57.698198Z"
    },
    "code_folding": [
     5,
     21
    ],
    "colab": {
     "base_uri": "https://localhost:8080/",
     "height": 206
    },
    "id": "RehS5KQCEhv4",
    "outputId": "595dd702-fa39-4d44-c72a-b5ab1b747c27",
    "tags": []
   },
   "outputs": [],
   "source": [
    "import re\n",
    "import pandas as pd\n",
    "from datetime import datetime\n",
    "import numpy as np\n",
    "\n",
    "import eval7, pprint\n",
    "from phevaluator import evaluate_cards\n",
    "from poker.room.pokerstars import PokerStarsHandHistory\n",
    "from poker.hand import Hand, Combo\n",
    "from poker.constants import Action, Position\n",
    "from poker import handhistory\n",
    "\n",
    "import matplotlib.pyplot as plt\n",
    "plt.style.use('dark_background') #стиль графиков\n",
    "\n",
    "import sentry_sdk"
   ]
  },
  {
   "cell_type": "code",
   "execution_count": 2,
   "metadata": {
    "ExecuteTime": {
     "end_time": "2022-01-13T22:42:04.665671Z",
     "start_time": "2022-01-13T22:41:57.698198Z"
    },
    "code_folding": [
     5,
     21
    ],
    "colab": {
     "base_uri": "https://localhost:8080/",
     "height": 206
    },
    "id": "RehS5KQCEhv4",
    "outputId": "595dd702-fa39-4d44-c72a-b5ab1b747c27",
    "tags": []
   },
   "outputs": [
    {
     "name": "stdout",
     "output_type": "stream",
     "text": [
      "14437\n",
      "5606\n",
      "CPU times: total: 7min 58s\n",
      "Wall time: 8min 47s\n"
     ]
    },
    {
     "data": {
      "text/html": [
       "<div>\n",
       "<style scoped>\n",
       "    .dataframe tbody tr th:only-of-type {\n",
       "        vertical-align: middle;\n",
       "    }\n",
       "\n",
       "    .dataframe tbody tr th {\n",
       "        vertical-align: top;\n",
       "    }\n",
       "\n",
       "    .dataframe thead th {\n",
       "        text-align: right;\n",
       "    }\n",
       "</style>\n",
       "<table border=\"1\" class=\"dataframe\">\n",
       "  <thead>\n",
       "    <tr style=\"text-align: right;\">\n",
       "      <th></th>\n",
       "      <th>TypeOfRoom</th>\n",
       "      <th>HandId</th>\n",
       "      <th>Tournament</th>\n",
       "      <th>Level</th>\n",
       "      <th>Date</th>\n",
       "      <th>Hour</th>\n",
       "      <th>TimeZone</th>\n",
       "      <th>Table</th>\n",
       "      <th>bain</th>\n",
       "      <th>Players</th>\n",
       "      <th>...</th>\n",
       "      <th>flop_calls</th>\n",
       "      <th>flop_allin</th>\n",
       "      <th>turn_bets</th>\n",
       "      <th>turn_raises</th>\n",
       "      <th>turn_calls</th>\n",
       "      <th>turn_allin</th>\n",
       "      <th>river_bets</th>\n",
       "      <th>river_raises</th>\n",
       "      <th>river_calls</th>\n",
       "      <th>river_allin</th>\n",
       "    </tr>\n",
       "  </thead>\n",
       "  <tbody>\n",
       "    <tr>\n",
       "      <th>0</th>\n",
       "      <td>PokerStars</td>\n",
       "      <td>219890250295</td>\n",
       "      <td>3038500993</td>\n",
       "      <td>150/300</td>\n",
       "      <td>2020/10/31</td>\n",
       "      <td>0:00:00</td>\n",
       "      <td>MSK</td>\n",
       "      <td>9</td>\n",
       "      <td>$13.70+$1.30</td>\n",
       "      <td>4</td>\n",
       "      <td>...</td>\n",
       "      <td>0</td>\n",
       "      <td>0</td>\n",
       "      <td>0</td>\n",
       "      <td>0</td>\n",
       "      <td>0</td>\n",
       "      <td>0</td>\n",
       "      <td>0</td>\n",
       "      <td>0</td>\n",
       "      <td>0</td>\n",
       "      <td>0</td>\n",
       "    </tr>\n",
       "    <tr>\n",
       "      <th>1</th>\n",
       "      <td>PokerStars</td>\n",
       "      <td>219890415599</td>\n",
       "      <td>3038500993</td>\n",
       "      <td>200/400</td>\n",
       "      <td>2020/10/31</td>\n",
       "      <td>0:04:11</td>\n",
       "      <td>MSK</td>\n",
       "      <td>9</td>\n",
       "      <td>$13.70+$1.30</td>\n",
       "      <td>3</td>\n",
       "      <td>...</td>\n",
       "      <td>0</td>\n",
       "      <td>0</td>\n",
       "      <td>0</td>\n",
       "      <td>0</td>\n",
       "      <td>0</td>\n",
       "      <td>0</td>\n",
       "      <td>0</td>\n",
       "      <td>0</td>\n",
       "      <td>0</td>\n",
       "      <td>0</td>\n",
       "    </tr>\n",
       "    <tr>\n",
       "      <th>2</th>\n",
       "      <td>PokerStars</td>\n",
       "      <td>219890439999</td>\n",
       "      <td>3038500993</td>\n",
       "      <td>200/400</td>\n",
       "      <td>2020/10/31</td>\n",
       "      <td>0:04:47</td>\n",
       "      <td>MSK</td>\n",
       "      <td>9</td>\n",
       "      <td>$13.70+$1.30</td>\n",
       "      <td>2</td>\n",
       "      <td>...</td>\n",
       "      <td>1</td>\n",
       "      <td>0</td>\n",
       "      <td>1</td>\n",
       "      <td>0</td>\n",
       "      <td>1</td>\n",
       "      <td>0</td>\n",
       "      <td>0</td>\n",
       "      <td>0</td>\n",
       "      <td>0</td>\n",
       "      <td>0</td>\n",
       "    </tr>\n",
       "    <tr>\n",
       "      <th>3</th>\n",
       "      <td>PokerStars</td>\n",
       "      <td>219890554035</td>\n",
       "      <td>3038500993</td>\n",
       "      <td>200/400</td>\n",
       "      <td>2020/10/31</td>\n",
       "      <td>0:07:35</td>\n",
       "      <td>MSK</td>\n",
       "      <td>9</td>\n",
       "      <td>$13.70+$1.30</td>\n",
       "      <td>2</td>\n",
       "      <td>...</td>\n",
       "      <td>0</td>\n",
       "      <td>0</td>\n",
       "      <td>0</td>\n",
       "      <td>0</td>\n",
       "      <td>0</td>\n",
       "      <td>0</td>\n",
       "      <td>0</td>\n",
       "      <td>0</td>\n",
       "      <td>0</td>\n",
       "      <td>0</td>\n",
       "    </tr>\n",
       "    <tr>\n",
       "      <th>4</th>\n",
       "      <td>PokerStars</td>\n",
       "      <td>219890623054</td>\n",
       "      <td>3038500993</td>\n",
       "      <td>200/400</td>\n",
       "      <td>2020/10/31</td>\n",
       "      <td>0:09:16</td>\n",
       "      <td>MSK</td>\n",
       "      <td>9</td>\n",
       "      <td>$13.70+$1.30</td>\n",
       "      <td>2</td>\n",
       "      <td>...</td>\n",
       "      <td>0</td>\n",
       "      <td>0</td>\n",
       "      <td>0</td>\n",
       "      <td>0</td>\n",
       "      <td>0</td>\n",
       "      <td>0</td>\n",
       "      <td>0</td>\n",
       "      <td>0</td>\n",
       "      <td>0</td>\n",
       "      <td>0</td>\n",
       "    </tr>\n",
       "  </tbody>\n",
       "</table>\n",
       "<p>5 rows × 27 columns</p>\n",
       "</div>"
      ],
      "text/plain": [
       "   TypeOfRoom        HandId  Tournament    Level        Date     Hour  \\\n",
       "0  PokerStars  219890250295  3038500993  150/300  2020/10/31  0:00:00   \n",
       "1  PokerStars  219890415599  3038500993  200/400  2020/10/31  0:04:11   \n",
       "2  PokerStars  219890439999  3038500993  200/400  2020/10/31  0:04:47   \n",
       "3  PokerStars  219890554035  3038500993  200/400  2020/10/31  0:07:35   \n",
       "4  PokerStars  219890623054  3038500993  200/400  2020/10/31  0:09:16   \n",
       "\n",
       "  TimeZone Table          bain  Players  ... flop_calls flop_allin  turn_bets  \\\n",
       "0      MSK     9  $13.70+$1.30        4  ...          0          0          0   \n",
       "1      MSK     9  $13.70+$1.30        3  ...          0          0          0   \n",
       "2      MSK     9  $13.70+$1.30        2  ...          1          0          1   \n",
       "3      MSK     9  $13.70+$1.30        2  ...          0          0          0   \n",
       "4      MSK     9  $13.70+$1.30        2  ...          0          0          0   \n",
       "\n",
       "   turn_raises  turn_calls  turn_allin  river_bets  river_raises  river_calls  \\\n",
       "0            0           0           0           0             0            0   \n",
       "1            0           0           0           0             0            0   \n",
       "2            0           1           0           0             0            0   \n",
       "3            0           0           0           0             0            0   \n",
       "4            0           0           0           0             0            0   \n",
       "\n",
       "   river_allin  \n",
       "0            0  \n",
       "1            0  \n",
       "2            0  \n",
       "3            0  \n",
       "4            0  \n",
       "\n",
       "[5 rows x 27 columns]"
      ]
     },
     "execution_count": 2,
     "metadata": {},
     "output_type": "execute_result"
    }
   ],
   "source": [
    "%%time\n",
    "\n",
    "# Создали словарь\n",
    "data_pd = {'TypeOfRoom': [], 'HandId': [], 'Tournament': [], 'Level': [], 'Date': [], 'Hour': [],'TimeZone': [], 'Table': [], 'bain': [], 'Players': [],  \n",
    "           'HandHiro': [], 'Board':[], 'preflop_raises':[], 'preflop_calls':[], 'preflop_allin':[], 'flop_bets':[], 'flop_raises':[], 'flop_calls':[], \n",
    "           'flop_allin':[], 'turn_bets':[], 'turn_raises':[], 'turn_calls':[], 'turn_allin':[], 'river_bets':[], 'river_raises':[], 'river_calls':[], 'river_allin':[]} #\n",
    "\n",
    "# Открываем файл\n",
    "with open('Poker_/14437.txt', 'r',  encoding=\"utf8\") as f: #  Poker_\\613k.txt\n",
    "    data_r = f.read()\n",
    "\n",
    "iterr = re.findall(\"\\n\\n\\n\", data_r).count('\\n\\n\\n') # задаём колличесвто итераций\n",
    "print(iterr)\n",
    "\n",
    "data = \"\"\n",
    "iter_SHOW = 0\n",
    "\n",
    "for i in range(iterr+1):\n",
    "    if data_r.split(\"\\n\\n\\n\")[i].count('SHOW DOWN'):\n",
    "        data = data + data_r.split(\"\\n\\n\\n\")[i] + \"\\n\\n\\n\"\n",
    "        iter_SHOW += 1\n",
    "    else:\n",
    "        continue\n",
    "print(iter_SHOW)  \n",
    "\n",
    "# данные\n",
    "result = re.findall('(\\w+) Hand #(\\d*): Tournament #(\\d*),(.*) Level .* \\((.*)\\) - (\\d{4}/\\d+/\\d+) (\\d+\\D\\d+\\D\\d+) (\\w*)', data)\n",
    "Tables = re.findall('Table \\'.*\\' (.*)-max Seat', data)\n",
    "bains = re.findall('(\\D\\d+\\.\\d+\\+\\D\\d+\\.\\d+)', data)\n",
    "HandHiros = re.findall(\"Dealt to .* \\D(.. ..)\\D\", data)\n",
    "Boards = re.findall(\"Board \\[(.*)\\]\", data)\n",
    "#preflop_raises_ = re.findall(\"raises\", data) # \"raises\"g\n",
    "\n",
    "def preflop_acti(self):\n",
    "    preflop_ = re.search(\"Dealt to .* \\[(.*)\\]\\\\n(.*)\\*{3} FLOP\", self, re.DOTALL)\n",
    "    # handhiro = preflop_.group(1)\n",
    "    action_preflop_raises= preflop_.group(2).count('raises')\n",
    "    action_preflop_calls = preflop_.group(2).count('calls')\n",
    "    action_preflop_allin = preflop_.group(2).count('all-in')\n",
    "    return action_preflop_raises,action_preflop_calls, action_preflop_allin\n",
    "\n",
    "def flop_acti(self):\n",
    "    flop_ = re.search(\"FLOP \\*{3} \\[(.*)\\]\\\\n(.*)\\*{3} TU\", self, re.DOTALL)\n",
    "    #hand_flop = flop_.group(1)\n",
    "    action_flop_bets = flop_.group(2).count('bets') \n",
    "    action_flop_raises= flop_.group(2).count('raises')\n",
    "    action_flop_allin = flop_.group(2).count('all-in') \n",
    "    action_flop_calls = flop_.group(2).count('calls')\n",
    "    return action_flop_bets, action_flop_raises, action_flop_calls, action_flop_allin\n",
    "\n",
    "def turn_acti(self):\n",
    "    turn_ = re.search(\"TURN \\*{3} \\[.*\\] \\[(.*)\\](.*)\\*{3} RI\", self, re.DOTALL)\n",
    "    #hand_turn = turn_.group(1)\n",
    "    action_turn_bets = turn_.group(2).count('bets')\n",
    "    action_turn_raises= turn_.group(2).count('raises')\n",
    "    action_turn_allin = turn_.group(2).count('all-in')\n",
    "    action_turn_calls = turn_.group(2).count('calls')\n",
    "    return action_turn_bets, action_turn_raises, action_turn_calls, action_turn_allin\n",
    "\n",
    "def river_acti(self):\n",
    "    river_ = re.search(\"RIVER \\*{3} \\[.*\\] \\[(.*)\\](.*)\\\\n\\*{3} SHOW\", self, re.DOTALL)\n",
    "    #hand_river = river_.group(1)\n",
    "    action_river_bets = river_.group(2).count('bets')\n",
    "    action_river_raises= river_.group(2).count('raises')\n",
    "    action_river_allin = river_.group(2).count('all-in')\n",
    "    action_river_calls = river_.group(2).count('calls')\n",
    "    return action_river_bets, action_river_raises, action_river_calls, action_river_allin\n",
    "\n",
    "preflop_raisess = []\n",
    "preflop_callss = [] \n",
    "preflop_allins = []\n",
    "flop_betss = []  \n",
    "flop_raisess = [] \n",
    "flop_callss = []\n",
    "flop_allins = []\n",
    "turn_betss = []  \n",
    "turn_raisess = [] \n",
    "turn_callss = []\n",
    "turn_allins = []\n",
    "river_betss = []  \n",
    "river_raisess = [] \n",
    "river_callss = []\n",
    "river_allins = []\n",
    "    \n",
    "for y in range(iter_SHOW):\n",
    "    data_n = data.split(\"\\n\\n\\n\")[y] # разбивает сплошной текст на раздачи\n",
    "# ПРЕФЛОП    \n",
    "    if data_n.count('raises'):\n",
    "        preflop_raisess.append(preflop_acti(data_n)[0])\n",
    "    else:\n",
    "        preflop_raisess.append(0)\n",
    "    if data_n.count('calls'):\n",
    "        preflop_callss.append(preflop_acti(data_n)[1])\n",
    "    else:\n",
    "        preflop_callss.append(0)\n",
    "    if data_n.count('all-in'):\n",
    "        preflop_allins.append(preflop_acti(data_n)[2])\n",
    "    else:\n",
    "        preflop_allins.append(0)\n",
    "     # ФЛОП        \n",
    "    if data_n.count('bets'):\n",
    "        flop_betss.append(flop_acti(data_n)[0])\n",
    "    else:\n",
    "        flop_betss.append(0)    \n",
    "    if data_n.count('raises'):\n",
    "        flop_raisess.append(flop_acti(data_n)[1])\n",
    "    else:\n",
    "        flop_raisess.append(0)\n",
    "    if data_n.count('calls'):\n",
    "        flop_callss.append(flop_acti(data_n)[2])\n",
    "    else:\n",
    "        flop_callss.append(0)\n",
    "    if data_n.count('all-in'):\n",
    "        flop_allins.append(flop_acti(data_n)[3])\n",
    "    else:\n",
    "        flop_allins.append(0)    \n",
    "    # ТЁРН        \n",
    "    if data_n.count('bets'):\n",
    "        turn_betss.append(turn_acti(data_n)[0])\n",
    "    else:\n",
    "        turn_betss.append(0)    \n",
    "    if data_n.count('raises'):\n",
    "        turn_raisess.append(turn_acti(data_n)[1])\n",
    "    else:\n",
    "        turn_raisess.append(0)\n",
    "    if data_n.count('calls'):\n",
    "        turn_callss.append(turn_acti(data_n)[2])\n",
    "    else:\n",
    "        turn_callss.append(0)\n",
    "    if data_n.count('all-in'):\n",
    "        turn_allins.append(turn_acti(data_n)[3])\n",
    "    else:\n",
    "        turn_allins.append(0)    \n",
    "    # РИВЕР        \n",
    "    if data_n.count('bets'):\n",
    "        river_betss.append(river_acti(data_n)[0])\n",
    "    else:\n",
    "        river_betss.append(0)    \n",
    "    if data_n.count('raises'):\n",
    "        river_raisess.append(river_acti(data_n)[1])\n",
    "    else:\n",
    "        river_raisess.append(0)\n",
    "    if data_n.count('calls'):\n",
    "        river_callss.append(river_acti(data_n)[2])\n",
    "    else:\n",
    "        river_callss.append(0)\n",
    "    if data_n.count('all-in'):\n",
    "        river_allins.append(river_acti(data_n)[3])\n",
    "    else:\n",
    "        river_allins.append(0)    \n",
    "        \n",
    "# Считаем сколко фишек\n",
    "s = re.findall('Seat (\\d).*chips', data)\n",
    "s = [int(x) for x in s]\n",
    "seats = []\n",
    "length = 1\n",
    "for i in range(len(s)-1):\n",
    "    if s[i+1] < s[i]:\n",
    "        seats.append(length)\n",
    "        length = 1\n",
    "    else:\n",
    "        length += 1\n",
    "seats.append(length)\n",
    "\n",
    "# ЗАполнЯем словарь данными\n",
    "for r, table, bain, seat, handHiro, Board ,preflop_raises, preflop_calls, preflop_allin, flop_bets, flop_raises, flop_calls, flop_allin, \\\n",
    "    turn_bets, turn_raises, turn_calls, turn_allin, river_bets, river_raises, river_calls, river_allin \\\n",
    "                in zip(result, Tables, bains, seats, HandHiros, Boards, preflop_raisess, preflop_callss, preflop_allins, flop_betss, flop_raisess, flop_callss, \n",
    "                       flop_allins, turn_betss, turn_raisess, turn_callss, turn_allins, river_betss, river_raisess, river_callss, river_allins): \n",
    "    \n",
    "    data_pd['TypeOfRoom'].append(r[0])\n",
    "    data_pd['HandId'].append(r[1])\n",
    "    data_pd['Tournament'].append(r[2])\n",
    "    # data_pd['info'].append(r[3])\n",
    "    data_pd['Level'].append(r[4])\n",
    "    data_pd['Date'].append(r[5])\n",
    "    data_pd['Hour'].append(r[6])\n",
    "    data_pd['TimeZone'].append(r[7])\n",
    "    # data_pd['TimeZoneAbb'].append(r[8])\n",
    "    data_pd['Table'].append(table) #table\n",
    "    data_pd['Players'].append(seat)\n",
    "    data_pd['bain'].append(bain)\n",
    "    data_pd['HandHiro'].append(handHiro)\n",
    "    data_pd['Board'].append(Board)\n",
    "    data_pd['preflop_raises'].append(preflop_raises)\n",
    "    #data_pd['showed_won'].append(showed_won)\n",
    "    data_pd['preflop_calls'].append(preflop_calls)\n",
    "    data_pd['preflop_allin'].append(preflop_allin)\n",
    "    data_pd['flop_bets'].append(flop_bets)\n",
    "    data_pd['flop_raises'].append(flop_raises)\n",
    "    data_pd['flop_calls'].append(flop_calls)\n",
    "    data_pd['flop_allin'].append(flop_allin)\n",
    "    data_pd['turn_bets'].append(turn_bets)\n",
    "    data_pd['turn_raises'].append(turn_raises)\n",
    "    data_pd['turn_calls'].append(turn_calls)\n",
    "    data_pd['turn_allin'].append(turn_allin)\n",
    "    data_pd['river_bets'].append(river_bets)\n",
    "    data_pd['river_raises'].append(river_raises)\n",
    "    data_pd['river_calls'].append(river_calls)\n",
    "    data_pd['river_allin'].append(river_allin)\n",
    "                                    \n",
    "\n",
    "# Создаём ДатаФрейм\n",
    "df = pd.DataFrame(data_pd)\n",
    "df.head()"
   ]
  },
  {
   "cell_type": "code",
   "execution_count": null,
   "metadata": {},
   "outputs": [],
   "source": [
    "Board_flops = []\n",
    "\n",
    "for i in range(iterr):\n",
    "    data_n = data.split(\"\\n\\n\\n\")[i] # разбивает сплошной текст на раздачи\n",
    "    \n",
    "    if data_n.count('FLOP'): # карты флопа\n",
    "        Board_flops.append(flop_acti(data_n)[0])\n",
    "    else:\n",
    "        continue\n",
    "        #Board_flops.append(0)\n",
    "        \n",
    "data_n   "
   ]
  },
  {
   "cell_type": "code",
   "execution_count": null,
   "metadata": {},
   "outputs": [],
   "source": [
    "flop_acti(data_n)[0]"
   ]
  },
  {
   "cell_type": "code",
   "execution_count": null,
   "metadata": {},
   "outputs": [],
   "source": [
    "Board_flops.append(flop_acti(data_n)[0])\n",
    "Board_flops"
   ]
  },
  {
   "cell_type": "code",
   "execution_count": null,
   "metadata": {
    "tags": []
   },
   "outputs": [],
   "source": [
    "# Открываем файл\n",
    "with open('dim10.txt', 'r') as f: #  Poker_\\SNG dimetruk 1-54133.txt\n",
    "    data = f.read()\n",
    "data"
   ]
  },
  {
   "cell_type": "code",
   "execution_count": null,
   "metadata": {},
   "outputs": [],
   "source": [
    "iterr = re.findall(\"\\n\\n\\n\", data).count('\\n\\n\\n') # задаём колличесвто итераций\n",
    "\n",
    "preflop_raises_= []\n",
    "\n",
    "for i in range(iterr):\n",
    "    data_n = data.split(\"\\n\\n\\n\")[i]\n",
    "    if data_n.count('SHOW DOWN'):\n",
    "        print(preflop_(data_n)[1])\n",
    "        preflop_raises_.append(preflop_(data_n)[1])    \n",
    "    \n",
    "    \n",
    "preflop_raises_    "
   ]
  },
  {
   "cell_type": "code",
   "execution_count": null,
   "metadata": {
    "tags": []
   },
   "outputs": [],
   "source": [
    "data_n = data.split(\"\\n\\n\\n\")[0]\n",
    "data_n.count('SHOW DOWN')"
   ]
  },
  {
   "cell_type": "code",
   "execution_count": null,
   "metadata": {
    "tags": []
   },
   "outputs": [],
   "source": [
    "def preflop_acti(self):\n",
    "    preflop_ = re.search(\"Dealt to .* \\[(.*)\\]\\\\n(.*)\\*{3} FLOP\", self, re.DOTALL)\n",
    "    handhiro = preflop_.group(1)\n",
    "    action_preflop_raises= preflop_.group(2).count('raises')\n",
    "    action_preflop_calls = preflop_.group(2).count('calls')\n",
    "    action_preflop_allin = preflop_.group(2).count('all-in')\n",
    "    return handhiro, action_preflop_raises,action_preflop_calls, action_preflop_allin\n",
    "\n",
    "preflop_acti(data_n)[0]"
   ]
  },
  {
   "cell_type": "code",
   "execution_count": null,
   "metadata": {},
   "outputs": [],
   "source": [
    "flop_ = re.search(\"FLOP \\*{3} \\[(.*)]\\\\n(.*)\\*{3} TU\", data_n, re.DOTALL)\n",
    "flop_"
   ]
  },
  {
   "cell_type": "code",
   "execution_count": null,
   "metadata": {},
   "outputs": [],
   "source": [
    "def flop_acti(self):\n",
    "    flop_ = re.search(\"FLOP \\*{3} \\[(.*)]\\\\n(.*)\\*{3}\", self, re.DOTALL)\n",
    "    hand_flop = flop_.group(1)\n",
    "    action_flop_bets = flop_.group(2).count('bets')\n",
    "    action_flop_raises= flop_.group(2).count('raises')\n",
    "    action_flop_allin = flop_.group(2).count('all-in') #count('all-in')\n",
    "    action_flop_calls = flop_.group(2).count('calls')\n",
    "    return hand_flop, action_flop_bets, action_flop_raises, action_flop_allin, action_flop_calls\n",
    "\n",
    "flop_acti(data_n)[0]"
   ]
  },
  {
   "cell_type": "code",
   "execution_count": null,
   "metadata": {},
   "outputs": [],
   "source": [
    "def turn_acti(self):\n",
    "    turn_ = re.search(\"TURN \\*{3} \\[.*\\] \\[(.*)\\](.*)\\*{3} RI\", self, re.DOTALL)\n",
    "    hand_turn = turn_.group(1)\n",
    "    action_turn_bets = turn_.group(2).count('bets')\n",
    "    action_turn_raises= turn_.group(2).count('raises')\n",
    "    action_turn_allin = turn_.group(2).count('all-in')\n",
    "    action_turn_calls = turn_.group(2).count('calls')\n",
    "    return action_turn_bets, action_turn_raises, action_turn_allin, action_turn_calls"
   ]
  },
  {
   "cell_type": "code",
   "execution_count": null,
   "metadata": {},
   "outputs": [],
   "source": [
    "def river_acti(self):\n",
    "    river_ = re.search(\"RIVER \\*{3} \\[.*\\] \\[(.*)\\](.*)\\\\n\\*{3} SHOW\", self, re.DOTALL)\n",
    "    hand_river = river_.group(1)\n",
    "    action_river_bets = river_.group(2).count('bets')\n",
    "    action_river_raises= river_.group(2).count('raises')\n",
    "    action_river_allin = river_.group(2).count('all-in')\n",
    "    action_river_calls = river_.group(2).count('calls')\n",
    "    return action_river_bets, action_river_raises, action_river_allin, action_river_calls"
   ]
  },
  {
   "cell_type": "code",
   "execution_count": null,
   "metadata": {},
   "outputs": [],
   "source": [
    "SHOW_DOWN = re.search(\"SHOW DOWN.*Seat \\d+: .+? showed \\[(.*)\\] and won\", data_n, re.DOTALL)\n",
    "SHOW_DOWN.group(1)"
   ]
  },
  {
   "cell_type": "code",
   "execution_count": null,
   "metadata": {
    "tags": []
   },
   "outputs": [],
   "source": [
    "from decimal import Decimal, DecimalException\n",
    "import sys, os\n",
    "\n",
    "with open('dim10.txt', 'r') as f: #  Poker_\\SNG dimetruk 1-54133.txt  Poker_\\SNG dimetruk 1-14437.txt\n",
    "    data4 = f.read()\n",
    "\n",
    "seats = []\n",
    "pref_calls = 0\n",
    "pref_raisess= []\n",
    "pref_allins = []\n",
    "flop_calls = []\n",
    "flop_checks = []\n",
    "\n",
    "length_calls = 0\n",
    "length_raisess = 0\n",
    "length_allins = 0\n",
    "length_f_calls = 0\n",
    "length_f_checks = 0\n",
    "\n",
    "for i in range(len(data4.split(\"\\n\\n\\n\"))): # -1 для предупреждения ошибки, выход из цикда без последнего элемента\n",
    "    try:\n",
    "        #raise NotImplementedError(\"No error\")\n",
    "        distribut = data4.split(\"\\n\\n\\n\")[i]\n",
    "        hhh = PokerStarsHandHistory(distribut)\n",
    "        hhh.parse()\n",
    "        \n",
    "        pfa = str(hhh.preflop_actions)\n",
    "        fa = str(hhh.flop.actions)\n",
    "\n",
    "        seat = len(hhh.preflop_actions)\n",
    "        seats.append(seat)\n",
    "        \n",
    "        pr_call = re.findall(\"calls\", pfa)\n",
    "        pr_rais = re.findall(\"raises\", pfa)\n",
    "        pr_allin = re.findall(\"all-in\", pfa)\n",
    "\n",
    "        f_check = re.findall(\"check\", fa)\n",
    "        f_call = re.findall(\"call\", fa)\n",
    "        f_rais = re.findall(\"raise\", fa)\n",
    "        f_allin = re.findall(\"bet\", fa)\n",
    "        #print(pr_allin)\n",
    "\n",
    "            \n",
    "        if re.findall(\"calls\", pfa):\n",
    "            pref_calls += 1\n",
    "            continue \n",
    "        \n",
    "        \n",
    "        \n",
    "    except AttributeError:\n",
    "        data4.split(\"\\n\\n\\n\")\n",
    "        \n",
    "    # except RuntimeError as ru:\n",
    "    #     print(ru)\n",
    "        \n",
    "#     except Exception as e:\n",
    "#         print(e)    \n",
    "\n",
    "\n",
    "# try:\n",
    "#     raise NotImplementedError(\"No error\")\n",
    "# except Exception as e:\n",
    "#     exc_type, exc_obj, exc_tb = sys.exc_info()\n",
    "#     fname = os.path.split(exc_tb.tb_frame.f_code.co_filename)[1]\n",
    "#     print(exc_type, fname, exc_tb.tb_lineno)\n",
    "\n",
    "pref_calls"
   ]
  },
  {
   "cell_type": "code",
   "execution_count": null,
   "metadata": {
    "tags": []
   },
   "outputs": [],
   "source": [
    "flop_checks"
   ]
  },
  {
   "cell_type": "code",
   "execution_count": null,
   "metadata": {},
   "outputs": [],
   "source": [
    "with open('tochka.txt') as f:\n",
    "    file_data = [[i for i in line.split('.')] for line in f]\n",
    "    \n",
    "file_data    "
   ]
  },
  {
   "cell_type": "code",
   "execution_count": null,
   "metadata": {},
   "outputs": [],
   "source": []
  },
  {
   "cell_type": "code",
   "execution_count": null,
   "metadata": {
    "tags": []
   },
   "outputs": [],
   "source": [
    "s = re.findall('Seat (\\d).*chips', data4)\n",
    "s = [int(x) for x in s]\n",
    "seats = []\n",
    "length = 1\n",
    "for i in range(len(s)-1):\n",
    "    if s[i+1] < s[i]:\n",
    "        seats.append(length)\n",
    "        length = 1\n",
    "    else:\n",
    "        length += 1\n",
    "seats.append(length)\n",
    "seats"
   ]
  },
  {
   "cell_type": "code",
   "execution_count": null,
   "metadata": {},
   "outputs": [],
   "source": []
  },
  {
   "cell_type": "code",
   "execution_count": null,
   "metadata": {
    "tags": []
   },
   "outputs": [],
   "source": [
    "my_string = data\n",
    "i=my_string.split(\"\\n\\n\\n\")[11]\n",
    "\n",
    "hhh = PokerStarsHandHistory(i)\n",
    "hhh.parse()\n",
    "pfa = str(hhh.preflop_actions)\n",
    "fa = str(hhh.flop.actions)\n",
    "\n",
    "pr_rais = re.findall(\"raises\", pfa)\n",
    "pr_call = re.findall(\"calls\", pfa)\n",
    "\n",
    "f_call = re.findall(\"checks\", fa)\n",
    "\n",
    "def preflop_action(p):\n",
    "    p1 = len(p)\n",
    "    action = []\n",
    "    length = 0\n",
    "    for y in range(p1):\n",
    "        if y==0:\n",
    "            length = 1\n",
    "        else:\n",
    "            length += 1  \n",
    "    action.append(length)\n",
    "    return action\n",
    "\n",
    "\n",
    "print(preflop_action(f_call))"
   ]
  },
  {
   "cell_type": "code",
   "execution_count": null,
   "metadata": {
    "tags": []
   },
   "outputs": [],
   "source": [
    "s = re.findall('Seat (\\d).*chips', data)\n",
    "s1 = [int(x) for x in s]\n",
    "seats = []\n",
    "length = 1\n",
    "for i in range(len(s1)-1):\n",
    "    if s1[i+1] < s1[i]:\n",
    "        seats.append(length)\n",
    "        length = 1\n",
    "    else:\n",
    "        length += 1        \n",
    "seats.append(length)     \n",
    "seats\n"
   ]
  },
  {
   "cell_type": "code",
   "execution_count": null,
   "metadata": {},
   "outputs": [],
   "source": [
    "s = re.findall('Seat (\\d).*chips', data)\n",
    "s = [int(x) for x in s]\n",
    "seats = []\n",
    "length = 1\n",
    "for i in range(len(s)-1):\n",
    "    if s[i+1] < s[i]:\n",
    "        seats.append(length)\n",
    "        length = 1\n",
    "    else:\n",
    "        length += 1"
   ]
  },
  {
   "cell_type": "code",
   "execution_count": null,
   "metadata": {},
   "outputs": [],
   "source": [
    "import pandas as pd\n",
    "from datagen import DataGenerator, EmptyLine\n",
    "from poker.room.pokerstars import PokerStarsHandHistory\n",
    "from functions import FindFold, GetFiles, GetShowers\n",
    "#IMPORT DATAGEN AQUI\n",
    "\n",
    "database = pd.DataFrame()\n",
    "\n",
    "files = GetFiles('hand_texts')\n",
    "\n",
    "database = []\n",
    "for hand_text in files:\n",
    "    # as a sidenote, with contexts are helpful for these:\n",
    "    with open('dim100.txt', 'r') as text:\n",
    "        b=text.read()\n",
    "\n",
    "    hands=b.split(\"\\n\\n\\n\\n\\n\")\n",
    "\n",
    "    for i in range(1,len(hands)):\n",
    "        try:\n",
    "            hh = PokerStarsHandHistory(unicode(hands[i]))\n",
    "            hh.parse()\n",
    "            fold = FindFold(hh)\n",
    "\n",
    "            if fold == 'showdown':\n",
    "                for shower in GetShowers(hh): \n",
    "                    database.append(DataGenerator(hh,shower,hand_text,i))\n",
    "                    print('Success in parsing iteration ' + str(i) + ' from file' + hand_text)\n",
    "\n",
    "        except:\n",
    "            print('PARSER ERROR ON ITERATION [[' + str(i) + ']] FROM FILE [[' + hand_text + ']]')\n",
    "            database.append(EmptyLine(hand_text,i))\n",
    "\n",
    "pd.DataFrame(database).to_csv('database2.csv')"
   ]
  },
  {
   "cell_type": "code",
   "execution_count": null,
   "metadata": {},
   "outputs": [],
   "source": []
  },
  {
   "cell_type": "code",
   "execution_count": null,
   "metadata": {
    "tags": []
   },
   "outputs": [],
   "source": [
    "np.random.seed(2)\n",
    "data = []\n",
    "for i in range(8):\n",
    "    data.append(dict(zip(np.random.choice(10, replace=False, size=5),\n",
    "                         np.random.randint(15, size=5))))\n",
    "df = pd.DataFrame(data)\n",
    "print(df)"
   ]
  },
  {
   "cell_type": "code",
   "execution_count": null,
   "metadata": {},
   "outputs": [],
   "source": [
    "len(re.findall(pattern, string_to_search))"
   ]
  },
  {
   "cell_type": "code",
   "execution_count": null,
   "metadata": {},
   "outputs": [],
   "source": [
    "\"[^\\D]*(raises)(?!(\\D FLOP \\D))[^\\D]*\"g"
   ]
  },
  {
   "cell_type": "markdown",
   "metadata": {
    "id": "q97wcPd37OcA"
   },
   "source": [
    "## Преобразуем строковые данные"
   ]
  },
  {
   "cell_type": "code",
   "execution_count": null,
   "metadata": {
    "tags": []
   },
   "outputs": [],
   "source": [
    "date = data_pd['Date']\n",
    "time = data_pd['Hour']\n",
    "\n",
    "dataf[\"Date\"] = pd.to_datetime(data_pd['Date'])\n",
    "dataf[\"Time\"] = pd.to_timedelta(data_pd['Hour'])\n",
    "\n",
    "dataf[\"DateTime\"] = dataf[\"Date\"] + dataf[\"Time\"]\n",
    "dataf[\"DateTime\"]\n",
    "\n",
    "# filter by single day\n",
    "dataf_m = dataf[dataf['DateTime'].dt.strftime('%d') == '06']\n",
    "\n",
    "dataf.Tournament = dataf.Tournament.astype('int64')\n",
    "dataf = dataf.astype({'HandId': np.int64, 'Tournament': np.int64})"
   ]
  },
  {
   "cell_type": "code",
   "execution_count": null,
   "metadata": {
    "tags": []
   },
   "outputs": [],
   "source": [
    "dataf_m"
   ]
  },
  {
   "cell_type": "code",
   "execution_count": null,
   "metadata": {},
   "outputs": [],
   "source": [
    "nov_mar_series = pd.Series(pd.date_range(\"2013-11-15\", \"2014-03-15\"))\n",
    "#create timestamp without year\n",
    "nov_mar_no_year = nov_mar_series.map(lambda x: x.strftime(\"%m-%d\"))\n",
    "nov_mar_no_year"
   ]
  },
  {
   "cell_type": "code",
   "execution_count": null,
   "metadata": {
    "tags": []
   },
   "outputs": [],
   "source": [
    "# #add a yearless timestamp to the dataframe\n",
    "# df[\"no_year\"] = df['nov_mar_series'].map(lambda x: x.strftime(\"%m-%d\"))\n",
    "# no_year_mask = df['no_year'].isin(nov_mar_no_year)\n",
    "# df[no_year_mask]"
   ]
  },
  {
   "cell_type": "markdown",
   "metadata": {},
   "source": [
    "## Фильтруем турниры по числу рук выше среднего (> mean)"
   ]
  },
  {
   "cell_type": "code",
   "execution_count": null,
   "metadata": {},
   "outputs": [],
   "source": [
    "data_filter = dataf[['Tournament', 'HandId','DateTime', 'Time', 'HandHiro', 'Board']]\n",
    "data_filter.head()"
   ]
  },
  {
   "cell_type": "code",
   "execution_count": null,
   "metadata": {
    "tags": []
   },
   "outputs": [],
   "source": [
    "# data_filter.groupby(['Tournament']).agg({'HandId': \"count\"}).reset_index()"
   ]
  },
  {
   "cell_type": "code",
   "execution_count": null,
   "metadata": {
    "tags": []
   },
   "outputs": [],
   "source": [
    "#  Фильтруйте value_counts с помощью isin  https://softhints.com/pandas-how-to-filter-results-of-value_counts/\n",
    "df = data_filter[data_filter['Tournament'].isin(data_filter['Tournament'].\n",
    "                                                 value_counts()[data_filter['Tournament'].value_counts()>100].index)]\n",
    "df"
   ]
  },
  {
   "cell_type": "code",
   "execution_count": null,
   "metadata": {
    "tags": []
   },
   "outputs": [],
   "source": [
    "#  Используйте group by и lambda для имитации фильтра для value_counts()\n",
    "#df = data_filter.groupby('Tournament').filter(lambda x: len(x) > (data_filter['Tournament'].value_counts().mean()))\n"
   ]
  },
  {
   "cell_type": "code",
   "execution_count": null,
   "metadata": {},
   "outputs": [],
   "source": [
    "df.Tournament.value_counts()"
   ]
  },
  {
   "cell_type": "code",
   "execution_count": null,
   "metadata": {},
   "outputs": [],
   "source": [
    "# Prepare Data\n",
    "df_plot = df.groupby('Tournament').size()\n",
    "\n",
    "# Make the plot with pandas\n",
    "df_plot.plot(kind='pie', subplots=True, figsize=(8, 8))\n",
    "plt.title(\"Колличество турниров\")\n",
    "plt.ylabel(\"\")\n",
    "plt.show()"
   ]
  },
  {
   "cell_type": "code",
   "execution_count": null,
   "metadata": {},
   "outputs": [],
   "source": [
    "# объеденяем руку и борд, выводим название комбинации\n",
    "\n",
    "# df['hand'] = df['HandHiro'] + \" \" + df['Board']\n",
    "# # hand = df['hand'].values[7].split()\n",
    "# # print(hand)\n",
    "\n",
    "# hand_ev = [eval7.Card(s) for s in (df['hand'].values[7].split())]\n",
    "# rang = eval7.evaluate(hand_ev)   # ранг комбинации\n",
    "# # print(rang)\n",
    "\n",
    "# eval7s = eval7.handtype(rang)  #  название комбинации\n",
    "\n",
    "# df['rang'] = eval7.evaluate(hand_ev)\n",
    "# df['eval7s'] =  eval7.handtype(rang)"
   ]
  },
  {
   "cell_type": "code",
   "execution_count": null,
   "metadata": {},
   "outputs": [],
   "source": [
    "# def new_type(row):\n",
    "#     if row.traffic_source.lower() in ('yandex', 'google'):\n",
    "#         return 'organic'\n",
    "#     elif row.traffic_source.lower() in ('paid', 'email'):\n",
    "#         if row.region.lower() == 'russia':\n",
    "#             return 'ad'\n",
    "#         else:\n",
    "#             return 'other'"
   ]
  },
  {
   "cell_type": "code",
   "execution_count": null,
   "metadata": {},
   "outputs": [],
   "source": [
    "# log['source_type'] = log.apply(new_type, axis = 1)\n",
    "# log.head(12)"
   ]
  },
  {
   "cell_type": "code",
   "execution_count": null,
   "metadata": {},
   "outputs": [],
   "source": [
    "# log.loc[log.traffic_source.isin(['yandex', 'google']), 'traffic_type'] = 'organic' "
   ]
  },
  {
   "cell_type": "code",
   "execution_count": null,
   "metadata": {
    "tags": []
   },
   "outputs": [],
   "source": [
    "df['hand_rang'] = df['HandHiro'] + \" \" + df['Board']\n",
    "df['hand_rang']\n",
    "\n",
    "print(type(df['hand_rang']), type(df['hand_rang'].values[7].split()))\n",
    "df['hand_rang'].values[0].split()"
   ]
  },
  {
   "cell_type": "code",
   "execution_count": null,
   "metadata": {
    "tags": []
   },
   "outputs": [],
   "source": [
    "# df['hand_rang'].to_list()\n",
    "# df['hand_rang'].tolist()\n",
    "# np.array(df['hand_rang'].tolist())\n",
    "# Ls = list(df['hand_rang'])\n",
    "ls = df['hand_rang'].str.split()\n",
    "ls"
   ]
  },
  {
   "cell_type": "code",
   "execution_count": null,
   "metadata": {
    "tags": []
   },
   "outputs": [],
   "source": [
    "# напишем функцию получения ранг комбинации\n",
    "\n",
    "def evaluate_(hand):\n",
    "    \"\"\"\n",
    "    На вход получает карты, на выход \n",
    "    число ранг по eval7\n",
    "    \"\"\"\n",
    "    hand_ev = [eval7.Card(s) for s in (hand)]\n",
    "    return eval7.evaluate(hand_ev),hand_ev\n",
    "\n",
    "a = ('Jh', 'Td', '8h', '8c', '7c', '3h', '6d')\n",
    "evaluate_(a)"
   ]
  },
  {
   "cell_type": "code",
   "execution_count": null,
   "metadata": {},
   "outputs": [],
   "source": [
    "# напишем функцию получения названия ранга\n",
    "\n",
    "def handtype_(rang):\n",
    "    \"\"\"\n",
    "    На вход получает ранг, на выход \n",
    "    название комбинации\n",
    "    \"\"\"\n",
    "    return eval7.handtype(rang)\n",
    "\n",
    "handtype_(17209424)"
   ]
  },
  {
   "cell_type": "code",
   "execution_count": null,
   "metadata": {
    "tags": []
   },
   "outputs": [],
   "source": [
    "# Применим функцию к столбцу hand  и запишем в новый столбец rang_namber\n",
    "\n",
    "df['rang_namber'] = df['hand_rang'].str.split().apply(evaluate_)\n",
    "df['handtypes'] = df['rang_namber'].apply(handtype_)\n",
    "df[['rang_namber', 'handtypes','HandHiro', 'Board']].head(20)\n",
    "# df['filter'] = df.loc[df.handtypes.str.contains('Two Pair', 'Trips', 'Straight', 'Full House', 'Quads', 'Straight Flush'), 'rang_namber']"
   ]
  },
  {
   "cell_type": "code",
   "execution_count": null,
   "metadata": {
    "tags": []
   },
   "outputs": [],
   "source": [
    "# df.sort_values(by=['handtypes', 'rang_namber'])"
   ]
  },
  {
   "cell_type": "code",
   "execution_count": null,
   "metadata": {
    "tags": []
   },
   "outputs": [],
   "source": [
    "# df.groupby('handtypes')['rang_namber'].value_counts()"
   ]
  },
  {
   "cell_type": "markdown",
   "metadata": {},
   "source": [
    "### Создадим сводную таблицу, что-бы проверить наличие аномалий"
   ]
  },
  {
   "cell_type": "code",
   "execution_count": null,
   "metadata": {},
   "outputs": [],
   "source": [
    "# filter by single day\n",
    "dataf_m = dataf[dataf['DateTime'].dt.strftime('%d') == '06']"
   ]
  },
  {
   "cell_type": "code",
   "execution_count": null,
   "metadata": {
    "tags": []
   },
   "outputs": [],
   "source": [
    "df[['Tournament', 'handtypes', 'rang_namber']].head()  # применим фильтер по столбцам"
   ]
  },
  {
   "cell_type": "code",
   "execution_count": null,
   "metadata": {
    "tags": []
   },
   "outputs": [],
   "source": [
    "pd.pivot_table(df, index=[\"Tournament\", \"handtypes\"])"
   ]
  },
  {
   "cell_type": "code",
   "execution_count": null,
   "metadata": {},
   "outputs": [],
   "source": [
    "# явно определив столбцы, которые нам нужны,\n",
    "pd.pivot_table(df,\n",
    "               index=[\"Tournament\", \"handtypes\"],\n",
    "               values=[\"rang_namber\"],\n",
    "               aggfunc= len)   # aggfunc=[np.mean, len])"
   ]
  },
  {
   "cell_type": "code",
   "execution_count": null,
   "metadata": {},
   "outputs": [],
   "source": [
    "df.Tournament.value_counts()"
   ]
  },
  {
   "cell_type": "code",
   "execution_count": null,
   "metadata": {},
   "outputs": [],
   "source": [
    "# df['Time'].value_counts()"
   ]
  },
  {
   "cell_type": "code",
   "execution_count": null,
   "metadata": {},
   "outputs": [],
   "source": [
    "# Prepare Data\n",
    "df_plot = df.groupby('handtypes').size()\n",
    "\n",
    "# Make the plot with pandas\n",
    "df_plot.plot(kind='area', subplots=True, figsize=(8, 8))\n",
    "plt.title(\"Колличество комбинаций\")\n",
    "plt.ylabel(\"\")\n",
    "plt.show()"
   ]
  },
  {
   "cell_type": "code",
   "execution_count": null,
   "metadata": {
    "tags": []
   },
   "outputs": [],
   "source": [
    "# df['DateTime'] = df['DateTime'][(df['DateTime'] > '2018-10-01 20:00:00') & (df['DateTime'] < '2022-10-02 00:00:00')]\n",
    "# df['DateTime']\n"
   ]
  },
  {
   "cell_type": "code",
   "execution_count": null,
   "metadata": {
    "tags": []
   },
   "outputs": [],
   "source": [
    "# отфильтруем комбинации \"старшая карта\" и \"пара\"\n",
    "df['no_par'] = df['rang_namber'][df['rang_namber'] > 50000000] #[((df['rang_namber'] > 50000000) & (df['rang_namber'] < 60000000))]\n",
    "df = df.dropna()\n",
    "df[['Time', 'no_par', 'handtypes']].head(10)\n",
    "# df['filter_Two Pair'] = df['handtypes'][df['handtypes'] == 'Two Pair']\n",
    "# df['filter_Two Pair']"
   ]
  },
  {
   "cell_type": "code",
   "execution_count": null,
   "metadata": {},
   "outputs": [],
   "source": [
    "df.isnull().sum()"
   ]
  },
  {
   "cell_type": "code",
   "execution_count": null,
   "metadata": {
    "tags": []
   },
   "outputs": [],
   "source": [
    "# преобразуем время во временной ряд"
   ]
  },
  {
   "cell_type": "code",
   "execution_count": null,
   "metadata": {
    "tags": []
   },
   "outputs": [],
   "source": [
    "\n",
    "\n",
    "idx = df['Time']\n",
    " # datetime.timedelta(seconds=24*60*60).total_seconds()\n",
    "\n",
    "# second = df['DateTime'].dt.total_seconds()\n",
    "# second\n",
    "\n",
    "# idx = pd.date_range(df['DateTime'], periods=5, freq=\"H\")\n",
    "# idx\n",
    "tim = pd.Series(range(len(idx)), index=idx)\n",
    "\n",
    "# ts.resample(\"2H\").mean()\n",
    "tim"
   ]
  },
  {
   "cell_type": "code",
   "execution_count": null,
   "metadata": {},
   "outputs": [],
   "source": [
    "# df = df.set_index(\"Time\")\n",
    "# df"
   ]
  },
  {
   "cell_type": "code",
   "execution_count": null,
   "metadata": {
    "tags": []
   },
   "outputs": [],
   "source": [
    "\n",
    "import matplotlib.pyplot as plt\n",
    " \n",
    "# Using a inbuilt style to change\n",
    "# the look and feel of the plot\n",
    "plt.style.use(\"classic\")\n",
    " \n",
    "# setting figure size to 12, 10\n",
    "plt.figure(figsize=(12, 10))\n",
    " \n",
    "# Labelling the axes and setting\n",
    "# a title\n",
    "plt.xlabel(\"Time\")\n",
    "plt.ylabel(\"Values\")\n",
    "plt.title(\"Sample Time Series Plot\")\n",
    " \n",
    "# plotting the \"A\" column alone\n",
    "plt.plot(df[\"handtypes\"])"
   ]
  },
  {
   "cell_type": "code",
   "execution_count": null,
   "metadata": {},
   "outputs": [],
   "source": [
    "df.plot(subplots=True, figsize=(12, 15))"
   ]
  },
  {
   "cell_type": "code",
   "execution_count": null,
   "metadata": {},
   "outputs": [],
   "source": [
    "# # # idx = pd.date_range('2019-01-01', periods=48, freq='H')\n",
    "# # x = pd.Series(range(len(idx)), index=idx)\n",
    "# y = tim\n",
    "# # add 'hour' and 'day' columns in the dataframe\n",
    "# d = {'x': x, 'y': y, 'hour': idx.hour, 'day': idx.day}\n",
    "# df = pd.DataFrame(data=d)\n",
    "# # use 'hour' as x axis to plot, and 'day' as marker color\n",
    "# df.plot.scatter(x='hour', y='y', c='day', colormap='rainbow')\n",
    "# plt.show()"
   ]
  },
  {
   "cell_type": "code",
   "execution_count": null,
   "metadata": {},
   "outputs": [],
   "source": [
    "data.dtypes"
   ]
  },
  {
   "cell_type": "code",
   "execution_count": null,
   "metadata": {},
   "outputs": [],
   "source": [
    "# установитьdatetimeОбъект в качестве индекса кадра данных\n",
    "data = data.set_index('DateTime')\n",
    "data.head()"
   ]
  },
  {
   "cell_type": "code",
   "execution_count": null,
   "metadata": {},
   "outputs": [],
   "source": [
    "\n",
    "# data.plot(grid=True)\n",
    "\n",
    "data['filter'].plot(kind='bar')\n",
    "\n",
    "# import matplotlib.pyplot as plt\n",
    "# from matplotlib.dates import DateFormatter\n",
    "# # Группировка за месяц\n",
    "# df_month = data.resample(\"M\").mean()\n",
    "\n",
    "# fig, ax = plt.subplots(figsize=(10, 6))\n",
    "# ax.xaxis.set_major_formatter(DateFormatter('%Y-%m'))\n",
    "# ax.bar(\n",
    "#     df_month['2018':].index, \n",
    "#     df_month.loc['2016':, \"filter\"], \n",
    "#     width=25, align='center')"
   ]
  },
  {
   "cell_type": "code",
   "execution_count": null,
   "metadata": {},
   "outputs": [],
   "source": [
    "\n",
    "data.plot(kind='scatter', \n",
    "        x='DateTime', \n",
    "        y='filter', \n",
    "        title='Связь между жёсткостью воды и средней годовой смертностью')"
   ]
  },
  {
   "cell_type": "code",
   "execution_count": null,
   "metadata": {},
   "outputs": [],
   "source": []
  }
 ],
 "metadata": {
  "colab": {
   "authorship_tag": "ABX9TyOmEyugzg/HrqC08SxzhKU3",
   "include_colab_link": true,
   "name": "analiz_poker.ipynb",
   "provenance": []
  },
  "kernelspec": {
   "display_name": "Python 3 (ipykernel)",
   "language": "python",
   "name": "python3"
  },
  "language_info": {
   "codemirror_mode": {
    "name": "ipython",
    "version": 3
   },
   "file_extension": ".py",
   "mimetype": "text/x-python",
   "name": "python",
   "nbconvert_exporter": "python",
   "pygments_lexer": "ipython3",
   "version": "3.9.7"
  },
  "nbTranslate": {
   "displayLangs": [
    "*"
   ],
   "hotkey": "alt-t",
   "langInMainMenu": true,
   "sourceLang": "en",
   "targetLang": "fr",
   "useGoogleTranslate": true
  },
  "toc": {
   "base_numbering": 1,
   "nav_menu": {},
   "number_sections": true,
   "sideBar": true,
   "skip_h1_title": false,
   "title_cell": "Table of Contents",
   "title_sidebar": "Contents",
   "toc_cell": false,
   "toc_position": {},
   "toc_section_display": true,
   "toc_window_display": false
  },
  "varInspector": {
   "cols": {
    "lenName": 16,
    "lenType": 16,
    "lenVar": 40
   },
   "kernels_config": {
    "python": {
     "delete_cmd_postfix": "",
     "delete_cmd_prefix": "del ",
     "library": "var_list.py",
     "varRefreshCmd": "print(var_dic_list())"
    },
    "r": {
     "delete_cmd_postfix": ") ",
     "delete_cmd_prefix": "rm(",
     "library": "var_list.r",
     "varRefreshCmd": "cat(var_dic_list()) "
    }
   },
   "types_to_exclude": [
    "module",
    "function",
    "builtin_function_or_method",
    "instance",
    "_Feature"
   ],
   "window_display": false
  },
  "widgets": {
   "application/vnd.jupyter.widget-state+json": {
    "state": {},
    "version_major": 2,
    "version_minor": 0
   }
  }
 },
 "nbformat": 4,
 "nbformat_minor": 4
}
