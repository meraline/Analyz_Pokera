{
 "cells": [
  {
   "cell_type": "code",
   "execution_count": 1,
   "id": "b0944f7a-850f-4817-85ea-dca058b7294b",
   "metadata": {
    "collapsed": true,
    "jupyter": {
     "outputs_hidden": true
    },
    "tags": []
   },
   "outputs": [
    {
     "name": "stdout",
     "output_type": "stream",
     "text": [
      "Requirement already satisfied: poker in c:\\users\\artio\\anaconda3\\lib\\site-packages (0.30.0)\n",
      "Requirement already satisfied: parsedatetime in c:\\users\\artio\\anaconda3\\lib\\site-packages (from poker) (2.6)\n",
      "Requirement already satisfied: attrs in c:\\users\\artio\\anaconda3\\lib\\site-packages (from poker) (21.4.0)\n",
      "Requirement already satisfied: zope.interface in c:\\users\\artio\\anaconda3\\lib\\site-packages (from poker) (5.4.0)\n",
      "Requirement already satisfied: click in c:\\users\\artio\\anaconda3\\lib\\site-packages (from poker) (8.0.4)\n",
      "Requirement already satisfied: cached-property in c:\\users\\artio\\anaconda3\\lib\\site-packages (from poker) (1.5.2)\n",
      "Requirement already satisfied: python-dateutil in c:\\users\\artio\\anaconda3\\lib\\site-packages (from poker) (2.8.2)\n",
      "Requirement already satisfied: requests in c:\\users\\artio\\anaconda3\\lib\\site-packages (from poker) (2.27.1)\n",
      "Requirement already satisfied: lxml in c:\\users\\artio\\anaconda3\\lib\\site-packages (from poker) (4.9.1)\n",
      "Requirement already satisfied: pathlib in c:\\users\\artio\\anaconda3\\lib\\site-packages (from poker) (1.0.1)\n",
      "Requirement already satisfied: configparser in c:\\users\\artio\\anaconda3\\lib\\site-packages (from poker) (5.2.0)\n",
      "Requirement already satisfied: pytz in c:\\users\\artio\\anaconda3\\lib\\site-packages (from poker) (2022.1)\n",
      "Requirement already satisfied: colorama in c:\\users\\artio\\anaconda3\\lib\\site-packages (from click->poker) (0.4.5)\n",
      "Requirement already satisfied: six>=1.5 in c:\\users\\artio\\anaconda3\\lib\\site-packages (from python-dateutil->poker) (1.16.0)\n",
      "Requirement already satisfied: charset-normalizer~=2.0.0 in c:\\users\\artio\\anaconda3\\lib\\site-packages (from requests->poker) (2.0.4)\n",
      "Requirement already satisfied: idna<4,>=2.5 in c:\\users\\artio\\anaconda3\\lib\\site-packages (from requests->poker) (3.3)\n",
      "Requirement already satisfied: certifi>=2017.4.17 in c:\\users\\artio\\anaconda3\\lib\\site-packages (from requests->poker) (2022.9.24)\n",
      "Requirement already satisfied: urllib3<1.27,>=1.21.1 in c:\\users\\artio\\anaconda3\\lib\\site-packages (from requests->poker) (1.26.11)\n",
      "Requirement already satisfied: setuptools in c:\\users\\artio\\anaconda3\\lib\\site-packages (from zope.interface->poker) (63.4.1)\n"
     ]
    }
   ],
   "source": [
    "!pip install poker"
   ]
  },
  {
   "cell_type": "code",
   "execution_count": 66,
   "id": "ae1513fc-6e48-490a-bf4c-c65e3b9565d5",
   "metadata": {},
   "outputs": [],
   "source": [
    "from poker.room.pokerstars import PokerStarsHandHistory\n",
    "from poker.hand import Hand, Combo"
   ]
  },
  {
   "cell_type": "code",
   "execution_count": 28,
   "id": "40a52aa0-e5e4-47c6-978a-4ae1e0d34410",
   "metadata": {},
   "outputs": [],
   "source": [
    "hh = PokerStarsHandHistory.from_file('dim10.txt')"
   ]
  },
  {
   "cell_type": "code",
   "execution_count": 29,
   "id": "9c410911-8014-4772-af1f-9af40c1fc658",
   "metadata": {},
   "outputs": [],
   "source": [
    "hh.parse()"
   ]
  },
  {
   "cell_type": "code",
   "execution_count": 38,
   "id": "c2ce9966-6a55-4296-966c-fdc97d2d67da",
   "metadata": {},
   "outputs": [
    {
     "data": {
      "text/plain": [
       "[_Player(name='Empty Seat 1', stack=0, seat=1, combo=None),\n",
       " _Player(name='Luke141269', stack=3608, seat=2, combo=None),\n",
       " _Player(name='Empty Seat 3', stack=0, seat=3, combo=None),\n",
       " _Player(name='dimetruk', stack=2175, seat=4, combo=Combo('7♠7♥')),\n",
       " _Player(name='Empty Seat 5', stack=0, seat=5, combo=None),\n",
       " _Player(name='Empty Seat 6', stack=0, seat=6, combo=None),\n",
       " _Player(name='Empty Seat 7', stack=0, seat=7, combo=None),\n",
       " _Player(name='Empty Seat 8', stack=0, seat=8, combo=None),\n",
       " _Player(name='gnella13', stack=7717, seat=9, combo=None)]"
      ]
     },
     "execution_count": 38,
     "metadata": {},
     "output_type": "execute_result"
    }
   ],
   "source": [
    "hh.players"
   ]
  },
  {
   "cell_type": "code",
   "execution_count": 31,
   "id": "de3a33e5-8700-4a3b-be7b-d6e0fcdf4079",
   "metadata": {},
   "outputs": [
    {
     "data": {
      "text/plain": [
       "datetime.datetime(2021, 7, 10, 5, 46, 28, tzinfo=<UTC>)"
      ]
     },
     "execution_count": 31,
     "metadata": {},
     "output_type": "execute_result"
    }
   ],
   "source": [
    "hh.date"
   ]
  },
  {
   "cell_type": "code",
   "execution_count": 32,
   "id": "535069c5-75f2-46e9-944d-9f7455952866",
   "metadata": {},
   "outputs": [
    {
     "data": {
      "text/plain": [
       "_Player(name='dimetruk', stack=2175, seat=4, combo=Combo('7♠7♥'))"
      ]
     },
     "execution_count": 32,
     "metadata": {},
     "output_type": "execute_result"
    }
   ],
   "source": [
    "hh.hero"
   ]
  },
  {
   "cell_type": "code",
   "execution_count": 33,
   "id": "66e11ff0-1c62-4ce9-a84c-d6fad2c23a58",
   "metadata": {},
   "outputs": [
    {
     "data": {
      "text/plain": [
       "(Card('5♥'), Card('2♥'), Card('K♣'), Card('K♠'))"
      ]
     },
     "execution_count": 33,
     "metadata": {},
     "output_type": "execute_result"
    }
   ],
   "source": [
    "hh.board"
   ]
  },
  {
   "cell_type": "code",
   "execution_count": 43,
   "id": "d2411a59-cffd-41f6-b6c3-78c26879c1e0",
   "metadata": {},
   "outputs": [
    {
     "data": {
      "text/plain": [
       "('dimetruk: raises 1750 to 2150 and is -',\n",
       " 'gnella13: raises 5542 to 7692 and is all-in',\n",
       " 'Luke141269: folds',\n",
       " 'Uncalled bet (5542) returned to gnella13')"
      ]
     },
     "execution_count": 43,
     "metadata": {},
     "output_type": "execute_result"
    }
   ],
   "source": [
    "hh.preflop_actions"
   ]
  },
  {
   "cell_type": "code",
   "execution_count": 67,
   "id": "1f8b53f9-4350-438e-85e0-03ce1e71d2f5",
   "metadata": {},
   "outputs": [
    {
     "data": {
      "text/plain": [
       "Combo('7♠7♥')"
      ]
     },
     "execution_count": 67,
     "metadata": {},
     "output_type": "execute_result"
    }
   ],
   "source": [
    "hh.hero.combo"
   ]
  },
  {
   "cell_type": "code",
   "execution_count": null,
   "id": "8dd1a1cd-2160-408d-84c1-02c07bf083ad",
   "metadata": {},
   "outputs": [],
   "source": []
  }
 ],
 "metadata": {
  "kernelspec": {
   "display_name": "Python 3 (ipykernel)",
   "language": "python",
   "name": "python3"
  },
  "language_info": {
   "codemirror_mode": {
    "name": "ipython",
    "version": 3
   },
   "file_extension": ".py",
   "mimetype": "text/x-python",
   "name": "python",
   "nbconvert_exporter": "python",
   "pygments_lexer": "ipython3",
   "version": "3.9.7"
  },
  "widgets": {
   "application/vnd.jupyter.widget-state+json": {
    "state": {},
    "version_major": 2,
    "version_minor": 0
   }
  }
 },
 "nbformat": 4,
 "nbformat_minor": 5
}
