{
 "cells": [
  {
   "cell_type": "markdown",
   "metadata": {
    "id": "cCLyx1NLRfLa"
   },
   "source": [
    "## Цель выявить закономерность между действиями и скрытыми картами оппонентов (комбинации)\n",
    " - \n",
    " - https://github.com/julianandrews/flopferret/blob/master/flopferret/board_texture.py"
   ]
  },
  {
   "cell_type": "code",
   "execution_count": 1,
   "metadata": {
    "ExecuteTime": {
     "end_time": "2022-01-13T22:42:04.665671Z",
     "start_time": "2022-01-13T22:41:57.698198Z"
    },
    "code_folding": [
     5,
     21
    ],
    "colab": {
     "base_uri": "https://localhost:8080/",
     "height": 206
    },
    "id": "RehS5KQCEhv4",
    "outputId": "595dd702-fa39-4d44-c72a-b5ab1b747c27",
    "tags": []
   },
   "outputs": [],
   "source": [
    "import re\n",
    "import pandas as pd\n",
    "from datetime import datetime\n",
    "import numpy as np\n",
    "\n",
    "import eval7, pprint\n",
    "from phevaluator import evaluate_cards\n",
    "from poker.room.pokerstars import PokerStarsHandHistory\n",
    "from poker.hand import Hand, Combo\n",
    "from poker.constants import Action, Position\n",
    "from poker import handhistory\n",
    "\n",
    "import matplotlib.pyplot as plt\n",
    "plt.style.use('dark_background') #стиль графиков\n",
    "\n",
    "import sentry_sdk"
   ]
  },
  {
   "cell_type": "code",
   "execution_count": 257,
   "metadata": {
    "ExecuteTime": {
     "end_time": "2022-01-13T22:42:04.665671Z",
     "start_time": "2022-01-13T22:41:57.698198Z"
    },
    "code_folding": [
     5,
     21
    ],
    "colab": {
     "base_uri": "https://localhost:8080/",
     "height": 206
    },
    "id": "RehS5KQCEhv4",
    "outputId": "595dd702-fa39-4d44-c72a-b5ab1b747c27",
    "tags": []
   },
   "outputs": [
    {
     "name": "stdout",
     "output_type": "stream",
     "text": [
      "100\n",
      "17\n",
      "CPU times: total: 62.5 ms\n",
      "Wall time: 63.5 ms\n"
     ]
    },
    {
     "data": {
      "text/html": [
       "<div>\n",
       "<style scoped>\n",
       "    .dataframe tbody tr th:only-of-type {\n",
       "        vertical-align: middle;\n",
       "    }\n",
       "\n",
       "    .dataframe tbody tr th {\n",
       "        vertical-align: top;\n",
       "    }\n",
       "\n",
       "    .dataframe thead th {\n",
       "        text-align: right;\n",
       "    }\n",
       "</style>\n",
       "<table border=\"1\" class=\"dataframe\">\n",
       "  <thead>\n",
       "    <tr style=\"text-align: right;\">\n",
       "      <th></th>\n",
       "      <th>HandId</th>\n",
       "      <th>Level</th>\n",
       "      <th>ante</th>\n",
       "      <th>BB</th>\n",
       "      <th>Players</th>\n",
       "      <th>Board</th>\n",
       "      <th>SHOW_DOWN</th>\n",
       "      <th>pflop_chip_rais</th>\n",
       "      <th>pflop_chip_calls</th>\n",
       "      <th>flop_chip_bets</th>\n",
       "      <th>...</th>\n",
       "      <th>flop_calls</th>\n",
       "      <th>flop_allin</th>\n",
       "      <th>turn_bets</th>\n",
       "      <th>turn_raises</th>\n",
       "      <th>turn_calls</th>\n",
       "      <th>turn_allin</th>\n",
       "      <th>river_bets</th>\n",
       "      <th>river_raises</th>\n",
       "      <th>river_calls</th>\n",
       "      <th>river_allin</th>\n",
       "    </tr>\n",
       "  </thead>\n",
       "  <tbody>\n",
       "    <tr>\n",
       "      <th>0</th>\n",
       "      <td>1595632309</td>\n",
       "      <td>XXXIX</td>\n",
       "      <td>35000</td>\n",
       "      <td>300000</td>\n",
       "      <td>5</td>\n",
       "      <td>Tc 9d Js 6h 4h</td>\n",
       "      <td>Qh 8h</td>\n",
       "      <td>600000</td>\n",
       "      <td>300000</td>\n",
       "      <td>450000</td>\n",
       "      <td>...</td>\n",
       "      <td>1</td>\n",
       "      <td>0</td>\n",
       "      <td>1</td>\n",
       "      <td>1</td>\n",
       "      <td>1</td>\n",
       "      <td>1</td>\n",
       "      <td>0</td>\n",
       "      <td>0</td>\n",
       "      <td>0</td>\n",
       "      <td>0</td>\n",
       "    </tr>\n",
       "    <tr>\n",
       "      <th>1</th>\n",
       "      <td>1595632588</td>\n",
       "      <td>XXXIX</td>\n",
       "      <td>35000</td>\n",
       "      <td>300000</td>\n",
       "      <td>6</td>\n",
       "      <td>5d 4d Ts Qd Kd</td>\n",
       "      <td>5s 5c</td>\n",
       "      <td>1856528</td>\n",
       "      <td>656528</td>\n",
       "      <td>0</td>\n",
       "      <td>...</td>\n",
       "      <td>0</td>\n",
       "      <td>0</td>\n",
       "      <td>0</td>\n",
       "      <td>0</td>\n",
       "      <td>0</td>\n",
       "      <td>0</td>\n",
       "      <td>0</td>\n",
       "      <td>0</td>\n",
       "      <td>0</td>\n",
       "      <td>0</td>\n",
       "    </tr>\n",
       "    <tr>\n",
       "      <th>2</th>\n",
       "      <td>1595633762</td>\n",
       "      <td>XL</td>\n",
       "      <td>40000</td>\n",
       "      <td>350000</td>\n",
       "      <td>4</td>\n",
       "      <td>Ah 9s 8d Jd As</td>\n",
       "      <td>Ac Qc</td>\n",
       "      <td>700000</td>\n",
       "      <td>350000</td>\n",
       "      <td>0</td>\n",
       "      <td>...</td>\n",
       "      <td>0</td>\n",
       "      <td>0</td>\n",
       "      <td>1</td>\n",
       "      <td>0</td>\n",
       "      <td>1</td>\n",
       "      <td>0</td>\n",
       "      <td>1</td>\n",
       "      <td>0</td>\n",
       "      <td>1</td>\n",
       "      <td>0</td>\n",
       "    </tr>\n",
       "    <tr>\n",
       "      <th>3</th>\n",
       "      <td>1595634915</td>\n",
       "      <td>XL</td>\n",
       "      <td>40000</td>\n",
       "      <td>350000</td>\n",
       "      <td>5</td>\n",
       "      <td>6d Jd 3h 5c 9h</td>\n",
       "      <td>Kd Kc</td>\n",
       "      <td>5155773</td>\n",
       "      <td>2275100</td>\n",
       "      <td>0</td>\n",
       "      <td>...</td>\n",
       "      <td>0</td>\n",
       "      <td>0</td>\n",
       "      <td>0</td>\n",
       "      <td>0</td>\n",
       "      <td>0</td>\n",
       "      <td>0</td>\n",
       "      <td>0</td>\n",
       "      <td>0</td>\n",
       "      <td>0</td>\n",
       "      <td>0</td>\n",
       "    </tr>\n",
       "    <tr>\n",
       "      <th>4</th>\n",
       "      <td>1595635092</td>\n",
       "      <td>XL</td>\n",
       "      <td>40000</td>\n",
       "      <td>350000</td>\n",
       "      <td>5</td>\n",
       "      <td>Jd 8d Ks 5h Ad</td>\n",
       "      <td>Qd Jh</td>\n",
       "      <td>1050000</td>\n",
       "      <td>1050000</td>\n",
       "      <td>932250</td>\n",
       "      <td>...</td>\n",
       "      <td>1</td>\n",
       "      <td>0</td>\n",
       "      <td>0</td>\n",
       "      <td>0</td>\n",
       "      <td>0</td>\n",
       "      <td>0</td>\n",
       "      <td>0</td>\n",
       "      <td>0</td>\n",
       "      <td>0</td>\n",
       "      <td>0</td>\n",
       "    </tr>\n",
       "    <tr>\n",
       "      <th>5</th>\n",
       "      <td>1595636464</td>\n",
       "      <td>XL</td>\n",
       "      <td>40000</td>\n",
       "      <td>350000</td>\n",
       "      <td>5</td>\n",
       "      <td>Qd As 7d 9d Jh</td>\n",
       "      <td>6d Td</td>\n",
       "      <td>1550224</td>\n",
       "      <td>1200224</td>\n",
       "      <td>0</td>\n",
       "      <td>...</td>\n",
       "      <td>0</td>\n",
       "      <td>0</td>\n",
       "      <td>0</td>\n",
       "      <td>0</td>\n",
       "      <td>0</td>\n",
       "      <td>0</td>\n",
       "      <td>0</td>\n",
       "      <td>0</td>\n",
       "      <td>0</td>\n",
       "      <td>0</td>\n",
       "    </tr>\n",
       "    <tr>\n",
       "      <th>6</th>\n",
       "      <td>1595639327</td>\n",
       "      <td>XL</td>\n",
       "      <td>40000</td>\n",
       "      <td>350000</td>\n",
       "      <td>8</td>\n",
       "      <td>Th Ts Jd 9h 8c</td>\n",
       "      <td>Jh 9d</td>\n",
       "      <td>0</td>\n",
       "      <td>525000</td>\n",
       "      <td>525000</td>\n",
       "      <td>...</td>\n",
       "      <td>1</td>\n",
       "      <td>0</td>\n",
       "      <td>0</td>\n",
       "      <td>0</td>\n",
       "      <td>0</td>\n",
       "      <td>0</td>\n",
       "      <td>0</td>\n",
       "      <td>0</td>\n",
       "      <td>0</td>\n",
       "      <td>0</td>\n",
       "    </tr>\n",
       "    <tr>\n",
       "      <th>7</th>\n",
       "      <td>1595640283</td>\n",
       "      <td>XL</td>\n",
       "      <td>40000</td>\n",
       "      <td>350000</td>\n",
       "      <td>8</td>\n",
       "      <td>5s 3c As 5c Kc</td>\n",
       "      <td>Js 8d</td>\n",
       "      <td>700000</td>\n",
       "      <td>350000</td>\n",
       "      <td>631984</td>\n",
       "      <td>...</td>\n",
       "      <td>1</td>\n",
       "      <td>0</td>\n",
       "      <td>1</td>\n",
       "      <td>0</td>\n",
       "      <td>1</td>\n",
       "      <td>0</td>\n",
       "      <td>0</td>\n",
       "      <td>0</td>\n",
       "      <td>0</td>\n",
       "      <td>0</td>\n",
       "    </tr>\n",
       "    <tr>\n",
       "      <th>8</th>\n",
       "      <td>1595648563</td>\n",
       "      <td>XLI</td>\n",
       "      <td>50000</td>\n",
       "      <td>400000</td>\n",
       "      <td>8</td>\n",
       "      <td>5h Th 4h 9c Ts</td>\n",
       "      <td>8d 8h</td>\n",
       "      <td>800000</td>\n",
       "      <td>1400000</td>\n",
       "      <td>0</td>\n",
       "      <td>...</td>\n",
       "      <td>0</td>\n",
       "      <td>0</td>\n",
       "      <td>1</td>\n",
       "      <td>0</td>\n",
       "      <td>1</td>\n",
       "      <td>0</td>\n",
       "      <td>1</td>\n",
       "      <td>1</td>\n",
       "      <td>1</td>\n",
       "      <td>0</td>\n",
       "    </tr>\n",
       "    <tr>\n",
       "      <th>9</th>\n",
       "      <td>1595653033</td>\n",
       "      <td>XLII</td>\n",
       "      <td>60000</td>\n",
       "      <td>500000</td>\n",
       "      <td>8</td>\n",
       "      <td>Jc As 7d Tc Jh</td>\n",
       "      <td>Kd Td</td>\n",
       "      <td>6505086</td>\n",
       "      <td>5505086</td>\n",
       "      <td>0</td>\n",
       "      <td>...</td>\n",
       "      <td>0</td>\n",
       "      <td>0</td>\n",
       "      <td>0</td>\n",
       "      <td>0</td>\n",
       "      <td>0</td>\n",
       "      <td>0</td>\n",
       "      <td>0</td>\n",
       "      <td>0</td>\n",
       "      <td>0</td>\n",
       "      <td>0</td>\n",
       "    </tr>\n",
       "    <tr>\n",
       "      <th>10</th>\n",
       "      <td>1595653473</td>\n",
       "      <td>XLII</td>\n",
       "      <td>60000</td>\n",
       "      <td>500000</td>\n",
       "      <td>7</td>\n",
       "      <td>2d 8h Qs 6h 9h</td>\n",
       "      <td>Ac 2c</td>\n",
       "      <td>4278056</td>\n",
       "      <td>3778056</td>\n",
       "      <td>0</td>\n",
       "      <td>...</td>\n",
       "      <td>0</td>\n",
       "      <td>0</td>\n",
       "      <td>0</td>\n",
       "      <td>0</td>\n",
       "      <td>0</td>\n",
       "      <td>0</td>\n",
       "      <td>0</td>\n",
       "      <td>0</td>\n",
       "      <td>0</td>\n",
       "      <td>0</td>\n",
       "    </tr>\n",
       "    <tr>\n",
       "      <th>11</th>\n",
       "      <td>1595654587</td>\n",
       "      <td>XLII</td>\n",
       "      <td>60000</td>\n",
       "      <td>500000</td>\n",
       "      <td>7</td>\n",
       "      <td>Ad 5h Qh 5c 3h</td>\n",
       "      <td>Tc Th</td>\n",
       "      <td>1000000</td>\n",
       "      <td>1250000</td>\n",
       "      <td>0</td>\n",
       "      <td>...</td>\n",
       "      <td>0</td>\n",
       "      <td>0</td>\n",
       "      <td>1</td>\n",
       "      <td>0</td>\n",
       "      <td>1</td>\n",
       "      <td>0</td>\n",
       "      <td>0</td>\n",
       "      <td>0</td>\n",
       "      <td>0</td>\n",
       "      <td>0</td>\n",
       "    </tr>\n",
       "    <tr>\n",
       "      <th>12</th>\n",
       "      <td>1595658384</td>\n",
       "      <td>XLII</td>\n",
       "      <td>60000</td>\n",
       "      <td>500000</td>\n",
       "      <td>7</td>\n",
       "      <td>3c 6c 8s 2h 2d</td>\n",
       "      <td>5d Kd</td>\n",
       "      <td>1000000</td>\n",
       "      <td>425556</td>\n",
       "      <td>0</td>\n",
       "      <td>...</td>\n",
       "      <td>0</td>\n",
       "      <td>0</td>\n",
       "      <td>0</td>\n",
       "      <td>0</td>\n",
       "      <td>0</td>\n",
       "      <td>0</td>\n",
       "      <td>0</td>\n",
       "      <td>0</td>\n",
       "      <td>0</td>\n",
       "      <td>0</td>\n",
       "    </tr>\n",
       "    <tr>\n",
       "      <th>13</th>\n",
       "      <td>1595660424</td>\n",
       "      <td>XLII</td>\n",
       "      <td>60000</td>\n",
       "      <td>500000</td>\n",
       "      <td>6</td>\n",
       "      <td>Qd Kh 7h 6c 8d</td>\n",
       "      <td>Qh Tc</td>\n",
       "      <td>1000000</td>\n",
       "      <td>500000</td>\n",
       "      <td>750000</td>\n",
       "      <td>...</td>\n",
       "      <td>1</td>\n",
       "      <td>1</td>\n",
       "      <td>0</td>\n",
       "      <td>0</td>\n",
       "      <td>0</td>\n",
       "      <td>0</td>\n",
       "      <td>0</td>\n",
       "      <td>0</td>\n",
       "      <td>0</td>\n",
       "      <td>0</td>\n",
       "    </tr>\n",
       "    <tr>\n",
       "      <th>14</th>\n",
       "      <td>1595664066</td>\n",
       "      <td>XLIII</td>\n",
       "      <td>75000</td>\n",
       "      <td>600000</td>\n",
       "      <td>5</td>\n",
       "      <td>6h Td 8s 2c 5d</td>\n",
       "      <td>Jd Kc</td>\n",
       "      <td>2475000</td>\n",
       "      <td>1875000</td>\n",
       "      <td>1969169</td>\n",
       "      <td>...</td>\n",
       "      <td>1</td>\n",
       "      <td>1</td>\n",
       "      <td>0</td>\n",
       "      <td>0</td>\n",
       "      <td>0</td>\n",
       "      <td>0</td>\n",
       "      <td>0</td>\n",
       "      <td>0</td>\n",
       "      <td>0</td>\n",
       "      <td>0</td>\n",
       "    </tr>\n",
       "    <tr>\n",
       "      <th>15</th>\n",
       "      <td>1595665828</td>\n",
       "      <td>XLIII</td>\n",
       "      <td>75000</td>\n",
       "      <td>600000</td>\n",
       "      <td>4</td>\n",
       "      <td>9s 9c Qc 8d 9h</td>\n",
       "      <td>Jc Jh</td>\n",
       "      <td>1200000</td>\n",
       "      <td>1800000</td>\n",
       "      <td>1386000</td>\n",
       "      <td>...</td>\n",
       "      <td>2</td>\n",
       "      <td>0</td>\n",
       "      <td>0</td>\n",
       "      <td>0</td>\n",
       "      <td>0</td>\n",
       "      <td>0</td>\n",
       "      <td>0</td>\n",
       "      <td>0</td>\n",
       "      <td>0</td>\n",
       "      <td>0</td>\n",
       "    </tr>\n",
       "    <tr>\n",
       "      <th>16</th>\n",
       "      <td>1595675579</td>\n",
       "      <td>XLIV</td>\n",
       "      <td>95000</td>\n",
       "      <td>800000</td>\n",
       "      <td>4</td>\n",
       "      <td>Kh Qh 7s 2h 5s</td>\n",
       "      <td>7c 7d</td>\n",
       "      <td>3757224</td>\n",
       "      <td>2957224</td>\n",
       "      <td>0</td>\n",
       "      <td>...</td>\n",
       "      <td>0</td>\n",
       "      <td>0</td>\n",
       "      <td>0</td>\n",
       "      <td>0</td>\n",
       "      <td>0</td>\n",
       "      <td>0</td>\n",
       "      <td>0</td>\n",
       "      <td>0</td>\n",
       "      <td>0</td>\n",
       "      <td>0</td>\n",
       "    </tr>\n",
       "  </tbody>\n",
       "</table>\n",
       "<p>17 rows × 33 columns</p>\n",
       "</div>"
      ],
      "text/plain": [
       "        HandId  Level   ante      BB  Players           Board SHOW_DOWN  \\\n",
       "0   1595632309  XXXIX  35000  300000        5  Tc 9d Js 6h 4h     Qh 8h   \n",
       "1   1595632588  XXXIX  35000  300000        6  5d 4d Ts Qd Kd     5s 5c   \n",
       "2   1595633762     XL  40000  350000        4  Ah 9s 8d Jd As     Ac Qc   \n",
       "3   1595634915     XL  40000  350000        5  6d Jd 3h 5c 9h     Kd Kc   \n",
       "4   1595635092     XL  40000  350000        5  Jd 8d Ks 5h Ad     Qd Jh   \n",
       "5   1595636464     XL  40000  350000        5  Qd As 7d 9d Jh     6d Td   \n",
       "6   1595639327     XL  40000  350000        8  Th Ts Jd 9h 8c     Jh 9d   \n",
       "7   1595640283     XL  40000  350000        8  5s 3c As 5c Kc     Js 8d   \n",
       "8   1595648563    XLI  50000  400000        8  5h Th 4h 9c Ts     8d 8h   \n",
       "9   1595653033   XLII  60000  500000        8  Jc As 7d Tc Jh     Kd Td   \n",
       "10  1595653473   XLII  60000  500000        7  2d 8h Qs 6h 9h     Ac 2c   \n",
       "11  1595654587   XLII  60000  500000        7  Ad 5h Qh 5c 3h     Tc Th   \n",
       "12  1595658384   XLII  60000  500000        7  3c 6c 8s 2h 2d     5d Kd   \n",
       "13  1595660424   XLII  60000  500000        6  Qd Kh 7h 6c 8d     Qh Tc   \n",
       "14  1595664066  XLIII  75000  600000        5  6h Td 8s 2c 5d     Jd Kc   \n",
       "15  1595665828  XLIII  75000  600000        4  9s 9c Qc 8d 9h     Jc Jh   \n",
       "16  1595675579   XLIV  95000  800000        4  Kh Qh 7s 2h 5s     7c 7d   \n",
       "\n",
       "    pflop_chip_rais  pflop_chip_calls  flop_chip_bets  ...  flop_calls  \\\n",
       "0            600000            300000          450000  ...           1   \n",
       "1           1856528            656528               0  ...           0   \n",
       "2            700000            350000               0  ...           0   \n",
       "3           5155773           2275100               0  ...           0   \n",
       "4           1050000           1050000          932250  ...           1   \n",
       "5           1550224           1200224               0  ...           0   \n",
       "6                 0            525000          525000  ...           1   \n",
       "7            700000            350000          631984  ...           1   \n",
       "8            800000           1400000               0  ...           0   \n",
       "9           6505086           5505086               0  ...           0   \n",
       "10          4278056           3778056               0  ...           0   \n",
       "11          1000000           1250000               0  ...           0   \n",
       "12          1000000            425556               0  ...           0   \n",
       "13          1000000            500000          750000  ...           1   \n",
       "14          2475000           1875000         1969169  ...           1   \n",
       "15          1200000           1800000         1386000  ...           2   \n",
       "16          3757224           2957224               0  ...           0   \n",
       "\n",
       "    flop_allin  turn_bets  turn_raises  turn_calls  turn_allin  river_bets  \\\n",
       "0            0          1            1           1           1           0   \n",
       "1            0          0            0           0           0           0   \n",
       "2            0          1            0           1           0           1   \n",
       "3            0          0            0           0           0           0   \n",
       "4            0          0            0           0           0           0   \n",
       "5            0          0            0           0           0           0   \n",
       "6            0          0            0           0           0           0   \n",
       "7            0          1            0           1           0           0   \n",
       "8            0          1            0           1           0           1   \n",
       "9            0          0            0           0           0           0   \n",
       "10           0          0            0           0           0           0   \n",
       "11           0          1            0           1           0           0   \n",
       "12           0          0            0           0           0           0   \n",
       "13           1          0            0           0           0           0   \n",
       "14           1          0            0           0           0           0   \n",
       "15           0          0            0           0           0           0   \n",
       "16           0          0            0           0           0           0   \n",
       "\n",
       "    river_raises  river_calls  river_allin  \n",
       "0              0            0            0  \n",
       "1              0            0            0  \n",
       "2              0            1            0  \n",
       "3              0            0            0  \n",
       "4              0            0            0  \n",
       "5              0            0            0  \n",
       "6              0            0            0  \n",
       "7              0            0            0  \n",
       "8              1            1            0  \n",
       "9              0            0            0  \n",
       "10             0            0            0  \n",
       "11             0            0            0  \n",
       "12             0            0            0  \n",
       "13             0            0            0  \n",
       "14             0            0            0  \n",
       "15             0            0            0  \n",
       "16             0            0            0  \n",
       "\n",
       "[17 rows x 33 columns]"
      ]
     },
     "execution_count": 257,
     "metadata": {},
     "output_type": "execute_result"
    }
   ],
   "source": [
    "%%time\n",
    "\n",
    "# Создали словарь\n",
    "data_pd = {'HandId': [], 'Level': [], 'ante':[], 'BB':[], 'Players': [], 'Board':[], 'SHOW_DOWN':[],'pflop_chip_rais':[], 'pflop_chip_calls':[], 'flop_chip_bets':[], 'flop_chip_raises':[],\n",
    "           'flop_chip_calls':[], 'turn_chip_bets':[], 'turn_chip_raises':[], 'turn_chip_calls':[], 'river_chip_bets':[], 'river_chip_raises':[], 'river_chip_calls':[],   \n",
    "            'pflop_rais':[], 'pflop_calls':[], 'pflop_allin':[], 'flop_bets':[], 'flop_raises':[], 'flop_calls':[], \n",
    "           'flop_allin':[], 'turn_bets':[], 'turn_raises':[], 'turn_calls':[], 'turn_allin':[], 'river_bets':[], 'river_raises':[], 'river_calls':[], 'river_allin':[]} \n",
    "\n",
    "\n",
    "# Открываем файл\n",
    "with open('G:\\HandHistory\\Bot_Hand100.txt', 'r',  encoding=\"utf8\") as f: #  Poker_/613k.txt   14437.txt   G:\\HandHistory\\Bot_Hand100.txt\n",
    "    data_r = f.read()\n",
    "\n",
    "iterr = re.findall(\"\\n\\n\\n\", data_r).count('\\n\\n\\n') # задаём колличесвто итераций\n",
    "print(iterr)\n",
    "\n",
    "data = \"\"\n",
    "iter_SHOW = 0\n",
    "\n",
    "for i in range(iterr+1): # фильтруем раздачи с ШД и без\n",
    "    if data_r.split(\"\\n\\n\\n\")[i].count('SHOW DOWN'):\n",
    "        data = data + data_r.split(\"\\n\\n\\n\")[i] + \"\\n\\n\\n\"\n",
    "        iter_SHOW += 1\n",
    "    else:\n",
    "        continue\n",
    "print(iter_SHOW)  \n",
    "\n",
    "# данные\n",
    "result = re.findall('(\\w+) Hand #(\\d*): Tournament #(\\d*),(.*) Level (.*) \\(.*\\/(.*)\\) - (\\d{4}/\\d+/\\d+) (\\d+\\D\\d+\\D\\d+) (\\w*)', data)\n",
    "Tables = re.findall('Table \\'.*\\' (.*)-max Seat', data)\n",
    "#bains = re.findall('(\\D\\d+\\.\\d+\\+\\D\\d+\\.\\d+)', data)\n",
    "#HandHiros = re.findall(\"Dealt to .* \\D(.. ..)\\D\", data)\n",
    "Boards = re.findall(\"Board \\[(.*)\\]\", data)\n",
    "#preflop_raises_ = re.findall(\"raises\", data) # \"raises\"g\n",
    "SHOW_DOWNs = re.findall(\"Seat \\d+: .+? showed \\[(.*)\\] and won\", data)\n",
    "#SHOW_DOWN.group(1)\n",
    "\n",
    "def preflop_acti(self):\n",
    "    preflop_ = re.search(\"HOLE CARDS \\*{3}\\\\n(.*)\\*{3} FLOP\", self, re.DOTALL)\n",
    "    x = 0\n",
    "    i = 0\n",
    "    y = 0\n",
    "    max_rais = 0 # максимальный рейз \n",
    "    sum_rais = 0 # сумма всех рейзов\n",
    "    while i != preflop_.group(1).count('raises'):\n",
    "        s = preflop_.group(1)\n",
    "        if s.find('Dealt') == 0 and i == 0:\n",
    "            y = 10\n",
    "        if i != 0:\n",
    "            y = x\n",
    "        strart = s.find('to ', y)\n",
    "        x = s.find('\\n', strart)\n",
    "        max_rais= s[strart+3:x]\n",
    "        if max_rais.find(' ') > 0:\n",
    "            max_rais = s[strart+3:x-14]\n",
    "        i += 1\n",
    "        x = x + 1\n",
    "        sum_rais += int(max_rais)\n",
    "        \n",
    "    z1 = 0\n",
    "    i1 = 0\n",
    "    x1 = 0\n",
    "    sum_call = 0\n",
    "    while i1 != preflop_.group(1).count('calls'):\n",
    "        s = preflop_.group(1)\n",
    "        strart = s.find('calls ',x1)\n",
    "        x1 = s.find('\\n', strart)\n",
    "        z1= s[strart+6:x1]\n",
    "        if z1.find(' ') > 0:\n",
    "            z1 = s[strart+6:x1-14]\n",
    "        i1 += 1\n",
    "        x1 = x1 + 1\n",
    "        sum_call += int(z1)   \n",
    "        \n",
    "    action_preflop_raises = preflop_.group(1).count('raises')    \n",
    "    action_preflop_calls = preflop_.group(1).count('calls')\n",
    "    action_preflop_allin = preflop_.group(1).count('all-in')\n",
    "    return action_preflop_raises, action_preflop_calls, action_preflop_allin, sum_rais, sum_call\n",
    "\n",
    "def flop_acti(self):\n",
    "    flop_ = re.search(\"FLOP \\*{3} \\[(.*)\\](.*)\\*{3} TU\", self, re.DOTALL)\n",
    "    #hand_flop = flop_.group(1)\n",
    "    x = 0\n",
    "    i = 0\n",
    "    max_rais = 0 # максимальный рейз \n",
    "    y = 0\n",
    "    sum_rais = 0 # сумма всех рейзов\n",
    "    while i != flop_.group(2).count('raises'):\n",
    "        s = flop_.group(2)\n",
    "        if s.find('Dealt') == 0 and i == 0:\n",
    "            y = 10\n",
    "        if i != 0:\n",
    "            y = x\n",
    "        strart = s.find('to ', y)\n",
    "        x = s.find('\\n', strart)\n",
    "        max_rais= s[strart+3:x]\n",
    "        if max_rais.find(' ') > 0:\n",
    "            max_rais = s[strart+3:x-14]\n",
    "        i += 1\n",
    "        x = x + 1\n",
    "        sum_rais += int(max_rais)\n",
    "        \n",
    "    z1 = 0\n",
    "    i1 = 0\n",
    "    x1 = 0\n",
    "    sum_call = 0\n",
    "    \n",
    "    while i1 != flop_.group(2).count('calls'):\n",
    "        s = flop_.group(2)\n",
    "        strart = s.find('calls ',x1)\n",
    "        x1 = s.find('\\n', strart)\n",
    "        z1= s[strart+6:x1]\n",
    "        if z1.find(' ') > 0:\n",
    "            z1 = s[strart+6:x1-14]\n",
    "        i1 += 1\n",
    "        x1 = x1 + 1\n",
    "        sum_call += int(z1)\n",
    "    \n",
    "    if flop_.group(2).count('bets'):\n",
    "        s = flop_.group(2)\n",
    "        start = s.find('bets ')\n",
    "        x2 = s.find('\\n', start+1)\n",
    "        z2 = s[start+5:x2]\n",
    "        if z2.find(' ') > 0:\n",
    "            z2 = s[start+5:x2-14]\n",
    "            bets = int(z2)\n",
    "        bets = int(z2)    \n",
    "    else:\n",
    "        bets = 0   \n",
    "    \n",
    "    action_flop_bets = flop_.group(2).count('bets') # колличесвто\n",
    "    action_flop_raises= flop_.group(2).count('raises')\n",
    "    action_flop_allin = flop_.group(2).count('all-in') \n",
    "    action_flop_calls = flop_.group(2).count('calls')\n",
    "    return action_flop_bets, action_flop_raises, action_flop_calls, action_flop_allin, bets, sum_call, sum_rais\n",
    "\n",
    "def turn_acti(self):\n",
    "    turn_ = re.search(\"TURN \\*{3} \\[.*\\] \\[(.*)\\](.*)\\*{3} RI\", self, re.DOTALL)\n",
    "    #hand_turn = turn_.group(1)\n",
    "    \n",
    "    x = 0\n",
    "    i = 0\n",
    "    max_rais = 0 # максимальный рейз \n",
    "    y = 0\n",
    "    sum_rais = 0 # сумма всех рейзов\n",
    "    while i != turn_.group(2).count('raises'):\n",
    "        s = turn_.group(2)\n",
    "        if s.find('Dealt') == 0 and i == 0:\n",
    "            y = 10\n",
    "        if i != 0:\n",
    "            y = x\n",
    "        strart = s.find('to ', y)\n",
    "        x = s.find('\\n', strart)\n",
    "        max_rais= s[strart+3:x]\n",
    "        if max_rais.find(' ') > 0:\n",
    "            max_rais = s[strart+3:x-14]\n",
    "        i += 1\n",
    "        x = x + 1\n",
    "        sum_rais += int(max_rais)\n",
    "        \n",
    "    z1 = 0\n",
    "    i1 = 0\n",
    "    x1 = 0\n",
    "    sum_call = 0\n",
    "    while i1 != turn_.group(2).count('calls'):\n",
    "        s = turn_.group(2)\n",
    "        strart2 = s.find('calls ',x1)\n",
    "        x1 = s.find('\\n', strart2)\n",
    "        z1= s[strart2+6:x1]\n",
    "        if z1.find(' ') > 0:\n",
    "            z1 = s[strart2+6:x1-14]\n",
    "        i1 += 1\n",
    "        x1 = x1 + 1\n",
    "        sum_call += int(z1)\n",
    "    \n",
    "    if turn_.group(2).count('bets'):\n",
    "        s = turn_.group(2)\n",
    "        start = s.find('bets ')\n",
    "        x1 = s.find('\\n', start+1)\n",
    "        z2 = s[start+5:x1]\n",
    "        if z2.find(' ') > 0:\n",
    "            z2 = s[start+5:x1-14]\n",
    "            bets = int(z2)\n",
    "        bets = int(z2)    \n",
    "    else:\n",
    "        bets = 0    \n",
    "    \n",
    "    action_turn_bets = turn_.group(2).count('bets')\n",
    "    action_turn_raises= turn_.group(2).count('raises')\n",
    "    action_turn_allin = turn_.group(2).count('all-in')\n",
    "    action_turn_calls = turn_.group(2).count('calls')\n",
    "    return action_turn_bets, action_turn_raises, action_turn_calls, action_turn_allin, bets, sum_call, sum_rais\n",
    "\n",
    "def river_acti(self):\n",
    "    river_ = re.search(\"RIVER \\*{3} \\[.*\\] \\[(.*)\\](.*)\\*{3} SHOW\", self, re.DOTALL)\n",
    "    #hand_river = river_.group(1)\n",
    "    \n",
    "    x = 0\n",
    "    i = 0\n",
    "    max_rais = 0 # максимальный рейз \n",
    "    y = 0\n",
    "    sum_rais = 0 # сумма всех рейзов\n",
    "    while i != river_.group(2).count('raises'):\n",
    "        s = river_.group(2)\n",
    "        if s.find('Dealt') == 0 and i == 0:\n",
    "            y = 10\n",
    "        if i != 0:\n",
    "            y = x\n",
    "        strart = s.find('to ', y)\n",
    "        x = s.find('\\n', strart)\n",
    "        max_rais= s[strart+3:x]\n",
    "        if max_rais.find(' ') > 0:\n",
    "            max_rais = s[strart+3:x-14]\n",
    "        i += 1\n",
    "        x = x + 1\n",
    "        sum_rais += int(max_rais)\n",
    "        \n",
    "    z1 = 0\n",
    "    i1 = 0\n",
    "    x1 = 0\n",
    "    sum_call = 0\n",
    "    while i1 != river_.group(2).count('calls'):\n",
    "        s = river_.group(2)\n",
    "        strart = s.find('calls',x1)\n",
    "        x1 = s.find('\\n', strart)\n",
    "        z1= s[strart+6:x1]\n",
    "        if z1.find(' ') > 0:\n",
    "            z1 = s[strart+6:x1-14]\n",
    "        i1 += 1\n",
    "        x1 = x1 + 1\n",
    "        sum_call += int(z1)\n",
    "    \n",
    "    if river_.group(2).count('bets'):\n",
    "        s = river_.group(2)\n",
    "        start = s.find('bets ')\n",
    "        x1 = s.find('\\n', start+1)\n",
    "        z2 = s[start+5:x1]\n",
    "        if z2.find(' ') > 0:\n",
    "            z2 = s[start+5:x1-14]\n",
    "            bets = int(z2)\n",
    "        bets = int(z2)    \n",
    "    else:\n",
    "        bets = 0\n",
    "    \n",
    "    action_river_bets = river_.group(2).count('bets')\n",
    "    action_river_raises= river_.group(2).count('raises')\n",
    "    action_river_allin = river_.group(2).count('all-in')\n",
    "    action_river_calls = river_.group(2).count('calls')\n",
    "    return action_river_bets, action_river_raises, action_river_calls, action_river_allin, bets, sum_call, sum_rais\n",
    "\n",
    "preflop_raisess = []\n",
    "preflop_callss = [] \n",
    "preflop_allins = []\n",
    "preflop_raisess_sums =[]\n",
    "preflop_calls_sums =[]\n",
    "antes = []\n",
    "\n",
    "flop_betss = []  \n",
    "flop_raisess = [] \n",
    "flop_callss = []\n",
    "flop_allins = []\n",
    "flop_chip_betss = []  \n",
    "flop_chip_callss = []\n",
    "flop_chip_raisess = [] \n",
    "\n",
    "\n",
    "turn_betss = []  \n",
    "turn_raisess = [] \n",
    "turn_callss = []\n",
    "turn_allins = []\n",
    "turn_chip_betss = []  \n",
    "turn_chip_raisess = [] \n",
    "turn_chip_callss = []\n",
    "\n",
    "river_betss = []  \n",
    "river_raisess = [] \n",
    "river_callss = []\n",
    "river_allins = []\n",
    "river_chip_betss = []  \n",
    "river_chip_raisess = [] \n",
    "river_chip_callss = []\n",
    "    \n",
    "for y in range(iter_SHOW):\n",
    "    data_n = data.split(\"\\n\\n\\n\")[y] # разбивает сплошной текст на раздачи\n",
    "    \n",
    "# ПРЕФЛОП    \n",
    "    strart = data_n.find('ante')\n",
    "    x1 = data_n.find('\\n', strart)\n",
    "    ante = data_n[strart+5:x1]\n",
    "    antes.append(ante)\n",
    "\n",
    "    if data_n.count('raises'):\n",
    "        preflop_raisess.append(preflop_acti(data_n)[0])\n",
    "    else:\n",
    "        preflop_raisess.append(0)   \n",
    "    \n",
    "    if data_n.count('calls'):\n",
    "        preflop_callss.append(preflop_acti(data_n)[1])\n",
    "    else:\n",
    "        preflop_callss.append(0)\n",
    "        \n",
    "    if data_n.count('all-in'):\n",
    "        preflop_allins.append(preflop_acti(data_n)[2])\n",
    "    else:\n",
    "        preflop_allins.append(0)\n",
    "        \n",
    "    if preflop_acti(data_n)[3] != 0:\n",
    "        preflop_raisess_sums.append(preflop_acti(data_n)[3])    \n",
    "    else:\n",
    "        preflop_raisess_sums.append(0)    \n",
    "        \n",
    "    if preflop_acti(data_n)[4] != 0:\n",
    "        preflop_calls_sums.append(preflop_acti(data_n)[4])\n",
    "    else:\n",
    "        preflop_calls_sums.append(0)      \n",
    "# ФЛОП        \n",
    "    if data_n.count('bets'):\n",
    "        flop_betss.append(flop_acti(data_n)[0])\n",
    "    else:\n",
    "        flop_betss.append(0)    \n",
    "    if data_n.count('raises'):\n",
    "        flop_raisess.append(flop_acti(data_n)[1])\n",
    "    else:\n",
    "        flop_raisess.append(0)\n",
    "    if data_n.count('calls'):\n",
    "        flop_callss.append(flop_acti(data_n)[2])\n",
    "    else:\n",
    "        flop_callss.append(0)\n",
    "    if data_n.count('all-in'):\n",
    "        flop_allins.append(flop_acti(data_n)[3])\n",
    "    else:\n",
    "        flop_allins.append(0)    \n",
    "        \n",
    "    if flop_acti(data_n)[4] != 0:\n",
    "        flop_chip_betss.append(flop_acti(data_n)[4])\n",
    "    else:\n",
    "        flop_chip_betss.append(0) \n",
    "        \n",
    "    if flop_acti(data_n)[5] != 0:\n",
    "        flop_chip_callss.append(flop_acti(data_n)[5])\n",
    "    else:\n",
    "        flop_chip_callss.append(0)    \n",
    "        \n",
    "    if flop_acti(data_n)[6] != 0:\n",
    "        flop_chip_raisess.append(flop_acti(data_n)[6])\n",
    "    else:\n",
    "        flop_chip_raisess.append(0)      \n",
    "        \n",
    "# ТЁРН        \n",
    "    if data_n.count('bets'):\n",
    "        turn_betss.append(turn_acti(data_n)[0])\n",
    "    else:\n",
    "        turn_betss.append(0)    \n",
    "    if data_n.count('raises'):\n",
    "        turn_raisess.append(turn_acti(data_n)[1])    \n",
    "    else:\n",
    "        turn_raisess.append(0)\n",
    "    if data_n.count('calls'):\n",
    "        turn_callss.append(turn_acti(data_n)[2])\n",
    "    else:\n",
    "        turn_callss.append(0)\n",
    "    if data_n.count('all-in'):\n",
    "        turn_allins.append(turn_acti(data_n)[3])\n",
    "    else:\n",
    "        turn_allins.append(0)  \n",
    "        \n",
    "    if turn_acti(data_n)[4] != 0:\n",
    "        turn_chip_betss.append(turn_acti(data_n)[4])\n",
    "    else:\n",
    "        turn_chip_betss.append(0) \n",
    "        \n",
    "    if turn_acti(data_n)[5] != 0:\n",
    "        turn_chip_callss.append(turn_acti(data_n)[5])\n",
    "    else:\n",
    "        turn_chip_callss.append(0)    \n",
    "        \n",
    "    if turn_acti(data_n)[6] != 0:\n",
    "        turn_chip_raisess.append(turn_acti(data_n)[6])\n",
    "    else:\n",
    "        turn_chip_raisess.append(0)    \n",
    "        \n",
    "# РИВЕР        \n",
    "    if data_n.count('bets'):\n",
    "        river_betss.append(river_acti(data_n)[0])\n",
    "    else:\n",
    "        river_betss.append(0)    \n",
    "    if data_n.count('raises'):\n",
    "        river_raisess.append(river_acti(data_n)[1])\n",
    "    else:\n",
    "        river_raisess.append(0)\n",
    "    if data_n.count('calls'):\n",
    "        river_callss.append(river_acti(data_n)[2])\n",
    "    else:\n",
    "        river_callss.append(0)\n",
    "    if data_n.count('all-in'):\n",
    "        river_allins.append(river_acti(data_n)[3])\n",
    "    else:\n",
    "        river_allins.append(0)   \n",
    "        \n",
    "    if river_acti(data_n)[4] != 0:\n",
    "        river_chip_betss.append(river_acti(data_n)[4])\n",
    "    else:\n",
    "        river_chip_betss.append(0) \n",
    "        \n",
    "    if river_acti(data_n)[5] != 0:\n",
    "        river_chip_callss.append(river_acti(data_n)[5])\n",
    "    else:\n",
    "        river_chip_callss.append(0)    \n",
    "        \n",
    "    if river_acti(data_n)[6] != 0:\n",
    "        river_chip_raisess.append(river_acti(data_n)[6])\n",
    "    else:\n",
    "        river_chip_raisess.append(0)\n",
    "    \n",
    "    \n",
    "# Считаем сколко фишек\n",
    "s = re.findall('Seat (\\d).*chips', data)\n",
    "s = [int(x) for x in s]\n",
    "seats = []\n",
    "length = 1\n",
    "for i in range(len(s)-1):\n",
    "    if s[i+1] < s[i]:\n",
    "        seats.append(length)\n",
    "        length = 1\n",
    "    else:\n",
    "        length += 1                     \n",
    "seats.append(length)\n",
    "\n",
    "# ЗАполнЯем словарь данными\n",
    "for r, table, seat, Board ,preflop_raises, preflop_calls, preflop_allin, flop_bets, flop_raises, flop_calls, flop_allin, \\\n",
    "    turn_bets, turn_raises, turn_calls, turn_allin, river_bets, river_raises, river_calls, river_allin, SHOW_DOWN, preflop_raisess_sum, \\\n",
    "        preflop_calls_sum, ante, flop_chip_bets, flop_chip_calls, flop_chip_raises, turn_chip_bets, turn_chip_raises, turn_chip_calls, river_chip_bets, \\\n",
    "            river_chip_raises, river_chip_calls \\\n",
    "                in zip(result, Tables, seats, Boards, preflop_raisess, preflop_callss, preflop_allins, flop_betss, flop_raisess, flop_callss, \n",
    "                       flop_allins, turn_betss, turn_raisess, turn_callss, turn_allins, river_betss, river_raisess, river_callss, river_allins, SHOW_DOWNs, \n",
    "                            preflop_raisess_sums, preflop_calls_sums, antes, flop_chip_betss, flop_chip_callss, flop_chip_raisess, turn_chip_betss, turn_chip_raisess,\n",
    "                               turn_chip_callss, river_chip_betss, river_chip_raisess, river_chip_callss): \n",
    "\n",
    "    #data_pd['TypeOfRoom'].append(r[0])\n",
    "    data_pd['HandId'].append(r[1])\n",
    "    #data_pd['Tournament'].append(r[2])\n",
    "    # data_pd['info'].append(r[3])\n",
    "    data_pd['Level'].append(r[4])\n",
    "    data_pd['BB'].append(r[5])\n",
    "    #data_pd['Date'].append(r[6])\n",
    "    #data_pd['Hour'].append(r[7])\n",
    "    #data_pd['TimeZone'].append(r[8])\n",
    "    data_pd['ante'].append(ante)\n",
    "    #data_pd['Table'].append(table) #table\n",
    "    data_pd['Players'].append(seat)\n",
    "    #data_pd['bain'].append(bain)\n",
    "    #data_pd['HandHiro'].append(handHiro)\n",
    "    data_pd['Board'].append(Board)\n",
    "    data_pd['pflop_calls'].append(preflop_calls)\n",
    "    data_pd['pflop_rais'].append(preflop_raises)\n",
    "    data_pd['pflop_allin'].append(preflop_allin)\n",
    "    data_pd['flop_bets'].append(flop_bets)\n",
    "    data_pd['flop_raises'].append(flop_raises)\n",
    "    data_pd['flop_calls'].append(flop_calls)\n",
    "    data_pd['flop_allin'].append(flop_allin)\n",
    "    data_pd['turn_bets'].append(turn_bets)\n",
    "    data_pd['turn_raises'].append(turn_raises)\n",
    "    data_pd['turn_calls'].append(turn_calls)\n",
    "    data_pd['turn_allin'].append(turn_allin)\n",
    "    data_pd['river_bets'].append(river_bets)\n",
    "    data_pd['river_raises'].append(river_raises)\n",
    "    data_pd['river_calls'].append(river_calls)\n",
    "    data_pd['river_allin'].append(river_allin)\n",
    "    data_pd['pflop_chip_rais'].append(preflop_raisess_sum)\n",
    "    data_pd['pflop_chip_calls'].append(preflop_calls_sum)\n",
    "    data_pd['flop_chip_bets'].append(flop_chip_bets)\n",
    "    data_pd['flop_chip_raises'].append(flop_chip_raises)\n",
    "    data_pd['flop_chip_calls'].append(flop_chip_calls)\n",
    "    data_pd['turn_chip_bets'].append(turn_chip_bets)\n",
    "    data_pd['turn_chip_raises'].append(turn_chip_raises)\n",
    "    data_pd['turn_chip_calls'].append(turn_chip_calls)\n",
    "    data_pd['river_chip_bets'].append(river_chip_bets)\n",
    "    data_pd['river_chip_raises'].append(river_chip_raises)\n",
    "    data_pd['river_chip_calls'].append(river_chip_calls)\n",
    "    data_pd['SHOW_DOWN'].append(SHOW_DOWN) \n",
    "                                    \n",
    "\n",
    "# Создаём ДатаФрейм\n",
    "df = pd.DataFrame(data_pd)\n",
    "#df[['HandId','flop_chip_bets', 'flop_chip_raises', 'flop_chip_calls', 'turn_chip_bets', 'turn_chip_raises', 'turn_chip_calls', 'river_chip_bets', 'river_chip_raises', 'river_chip_calls', 'pflop_rais_sum', 'pflop_calls_sum']]\n",
    "df.head(17)"
   ]
  },
  {
   "cell_type": "code",
   "execution_count": 258,
   "metadata": {},
   "outputs": [
    {
     "name": "stdout",
     "output_type": "stream",
     "text": [
      "<class 'pandas.core.frame.DataFrame'>\n",
      "RangeIndex: 17 entries, 0 to 16\n",
      "Data columns (total 33 columns):\n",
      " #   Column             Non-Null Count  Dtype \n",
      "---  ------             --------------  ----- \n",
      " 0   HandId             17 non-null     object\n",
      " 1   Level              17 non-null     object\n",
      " 2   ante               17 non-null     object\n",
      " 3   BB                 17 non-null     object\n",
      " 4   Players            17 non-null     int64 \n",
      " 5   Board              17 non-null     object\n",
      " 6   SHOW_DOWN          17 non-null     object\n",
      " 7   pflop_chip_rais    17 non-null     int64 \n",
      " 8   pflop_chip_calls   17 non-null     int64 \n",
      " 9   flop_chip_bets     17 non-null     int64 \n",
      " 10  flop_chip_raises   17 non-null     int64 \n",
      " 11  flop_chip_calls    17 non-null     int64 \n",
      " 12  turn_chip_bets     17 non-null     int64 \n",
      " 13  turn_chip_raises   17 non-null     int64 \n",
      " 14  turn_chip_calls    17 non-null     int64 \n",
      " 15  river_chip_bets    17 non-null     int64 \n",
      " 16  river_chip_raises  17 non-null     int64 \n",
      " 17  river_chip_calls   17 non-null     int64 \n",
      " 18  pflop_rais         17 non-null     int64 \n",
      " 19  pflop_calls        17 non-null     int64 \n",
      " 20  pflop_allin        17 non-null     int64 \n",
      " 21  flop_bets          17 non-null     int64 \n",
      " 22  flop_raises        17 non-null     int64 \n",
      " 23  flop_calls         17 non-null     int64 \n",
      " 24  flop_allin         17 non-null     int64 \n",
      " 25  turn_bets          17 non-null     int64 \n",
      " 26  turn_raises        17 non-null     int64 \n",
      " 27  turn_calls         17 non-null     int64 \n",
      " 28  turn_allin         17 non-null     int64 \n",
      " 29  river_bets         17 non-null     int64 \n",
      " 30  river_raises       17 non-null     int64 \n",
      " 31  river_calls        17 non-null     int64 \n",
      " 32  river_allin        17 non-null     int64 \n",
      "dtypes: int64(27), object(6)\n",
      "memory usage: 4.5+ KB\n"
     ]
    }
   ],
   "source": [
    "df.info()"
   ]
  },
  {
   "cell_type": "code",
   "execution_count": 212,
   "metadata": {
    "tags": []
   },
   "outputs": [
    {
     "name": "stdout",
     "output_type": "stream",
     "text": [
      "0\n",
      "1\n"
     ]
    },
    {
     "data": {
      "text/plain": [
       "\"PokerStars Hand #228379704705: Tournament #3231914115, $27.40+$2.60 USD Hold'em No Limit - Level V (60/120) - 2021/07/18 15:28:25 MSK [2021/07/18 8:28:25 ET]\\nTable '3231914115 1' 9-max Seat #1 is the button\\nSeat 1: gangztastyla (2916 in chips)\\nSeat 5: dimetruk (10584 in chips)\\ngangztastyla: posts the ante 15\\ndimetruk: posts the ante 15\\ngangztastyla: posts small blind 60\\ndimetruk: posts big blind 120\\n*** HOLE CARDS ***\\nDealt to dimetruk [Ad 2h]\\ngangztastyla: calls 60\\ndimetruk: raises 240 to 360\\ngangztastyla: calls 240\\n*** FLOP *** [Ah 7c 3d]\\ndimetruk: bets 10209 and is all-in\\ngangztastyla: calls 2541 and is all-in\\nUncalled bet (7668) returned to dimetruk\\n*** TURN *** [Ah 7c 3d] [7h]\\n*** RIVER *** [Ah 7c 3d 7h] [9c]\\n*** SHOW DOWN ***\\ndimetruk: shows [Ad 2h] (two pair, Aces and Sevens)\\ngangztastyla: shows [5s 7s] (three of a kind, Sevens)\\ngangztastyla collected 5832 from pot\\n*** SUMMARY ***\\nTotal pot 5832 | Rake 0\\nBoard [Ah 7c 3d 7h 9c]\\nSeat 1: gangztastyla (button) (small blind) showed [5s 7s] and won (5832) with three of a kind, Sevens\\nSeat 5: dimetruk (big blind) showed [Ad 2h] and lost with two pair, Aces and Sevens\\n\\n\\n\\n\\n\""
      ]
     },
     "execution_count": 212,
     "metadata": {},
     "output_type": "execute_result"
    }
   ],
   "source": [
    "# Открываем файл\n",
    "with open('nohiro.txt', 'r',  encoding=\"utf8\") as f: #  Poker_/613k.txt   14437.txt\n",
    "    data_r = f.read()\n",
    "\n",
    "iterr = re.findall(\"\\n\\n\\n\", data_r).count('\\n\\n\\n') # задаём колличесвто итераций\n",
    "print(iterr)\n",
    "\n",
    "data2 = \"\"\n",
    "iter_SHOW = 0\n",
    "\n",
    "for i in range(iterr+1): # фильтруем раздачи с ШД и без\n",
    "    if data_r.split(\"\\n\\n\\n\")[i].count('SHOW DOWN'):\n",
    "        data2 = data2 + data_r.split(\"\\n\\n\\n\")[i] + \"\\n\\n\\n\"\n",
    "        iter_SHOW += 1\n",
    "        \n",
    "    else:\n",
    "        continue\n",
    "print(iter_SHOW)  \n",
    "data2"
   ]
  },
  {
   "cell_type": "code",
   "execution_count": 213,
   "metadata": {},
   "outputs": [
    {
     "data": {
      "text/plain": [
       "'15'"
      ]
     },
     "execution_count": 213,
     "metadata": {},
     "output_type": "execute_result"
    }
   ],
   "source": [
    "strart = data2.find('ante')\n",
    "x1 = data2.find('\\n', strart)\n",
    "ante = data2[strart+5:x1]\n",
    "ante"
   ]
  },
  {
   "cell_type": "code",
   "execution_count": 214,
   "metadata": {},
   "outputs": [
    {
     "data": {
      "text/plain": [
       "'\\ndimetruk: bets 10209 and is all-in\\ngangztastyla: calls 2541 and is all-in\\nUncalled bet (7668) returned to dimetruk\\n'"
      ]
     },
     "execution_count": 214,
     "metadata": {},
     "output_type": "execute_result"
    }
   ],
   "source": [
    "preflop_ = re.search(\"HOLE CARDS \\*{3}\\\\n(.*)\\*{3} FLOP\", data2, re.DOTALL)\n",
    "\n",
    "flop_ = re.search(\"FLOP \\*{3} \\[(.*)\\](.*)\\*{3} TU\", data2, re.DOTALL)\n",
    "turn_ = re.search(\"TURN \\*{3} \\[.*\\] \\[(.*)\\](.*)\\*{3} RI\", data2, re.DOTALL)\n",
    "river_ = re.search(\"RIVER \\*{3} \\[.*\\] \\[(.*)\\](.*)\\*{3} SHOW\", data2, re.DOTALL)\n",
    "flop_.group(2)"
   ]
  },
  {
   "cell_type": "code",
   "execution_count": 219,
   "metadata": {},
   "outputs": [
    {
     "data": {
      "text/plain": [
       "'10209'"
      ]
     },
     "execution_count": 219,
     "metadata": {},
     "output_type": "execute_result"
    }
   ],
   "source": [
    "s = flop_.group(2)\n",
    "start = s.find('bets ')\n",
    "x1 = s.find('\\n', start+1)\n",
    "bets = s[start+5:x1]\n",
    "if bets.find(' ') > 0:\n",
    "    bets = s[start+5:x1-14]\n",
    "bets"
   ]
  },
  {
   "cell_type": "code",
   "execution_count": 201,
   "metadata": {},
   "outputs": [
    {
     "data": {
      "text/plain": [
       "'\\ndimetruk: bets 938\\ngnella13: calls 938\\n'"
      ]
     },
     "execution_count": 201,
     "metadata": {},
     "output_type": "execute_result"
    }
   ],
   "source": [
    "river_.group(2)"
   ]
  },
  {
   "cell_type": "code",
   "execution_count": 202,
   "metadata": {},
   "outputs": [
    {
     "name": "stdout",
     "output_type": "stream",
     "text": [
      "30\n",
      "39\n"
     ]
    },
    {
     "data": {
      "text/plain": [
       "938"
      ]
     },
     "execution_count": 202,
     "metadata": {},
     "output_type": "execute_result"
    }
   ],
   "source": [
    "def sum_call(self):\n",
    "    z1 = 0\n",
    "    i1 = 0\n",
    "    x1 = 0\n",
    "    sum_call = 0\n",
    "    while i1 != self.group(2).count('calls'):\n",
    "        s = self.group(2)\n",
    "        start = s.find('calls',x1)\n",
    "        print(start)\n",
    "        x1 = s.find('\\n', start)\n",
    "        print(x1)\n",
    "        z1= s[start+6:x1]\n",
    "        #print(z1)\n",
    "        if z1.find(' ') > 0:\n",
    "            z1 = s[start+6:x1-14]\n",
    "        i1 += 1\n",
    "        x1 = x1 + 1\n",
    "        sum_call += int(z1) \n",
    "    return sum_call \n",
    "\n",
    "sum_call(river_)"
   ]
  },
  {
   "cell_type": "code",
   "execution_count": 57,
   "metadata": {
    "tags": []
   },
   "outputs": [
    {
     "name": "stdout",
     "output_type": "stream",
     "text": [
      "2133\n"
     ]
    }
   ],
   "source": [
    "z1 = 0\n",
    "i1 = 0\n",
    "x1 = 0\n",
    "sum_call = 0\n",
    "while i1 != preflop_.group(1).count('calls'):\n",
    "    s = preflop_.group(1)\n",
    "    strart = s.find('calls ',x1)\n",
    "    x1 = s.find('\\n', strart)\n",
    "    z1= s[strart+6:x1]\n",
    "    i1 += 1\n",
    "    x1 = x1 + 1\n",
    "    sum_call += int(z1) \n",
    "\n",
    "print(sum_call)"
   ]
  },
  {
   "cell_type": "code",
   "execution_count": 125,
   "metadata": {},
   "outputs": [
    {
     "data": {
      "text/plain": [
       "14.285714285714286"
      ]
     },
     "execution_count": 125,
     "metadata": {},
     "output_type": "execute_result"
    }
   ],
   "source": [
    "1000/70"
   ]
  },
  {
   "cell_type": "code",
   "execution_count": 92,
   "metadata": {},
   "outputs": [
    {
     "data": {
      "text/plain": [
       "1604"
      ]
     },
     "execution_count": 92,
     "metadata": {},
     "output_type": "execute_result"
    }
   ],
   "source": [
    "def sum_rais(self):\n",
    "    z = 0\n",
    "    y = 0\n",
    "    i = 0\n",
    "    sum_rais = 0\n",
    "    while i != self.group(2).count('raises'):\n",
    "        s = self.group(2)\n",
    "        if s.find('Dealt') == 0 and i == 0:\n",
    "            y = 10\n",
    "        if i != 0:\n",
    "            y = x\n",
    "        strart = s.find('to ', y)\n",
    "        x = s.find('\\n', strart)\n",
    "        z= s[strart+3:x]\n",
    "        if z.find(' ') > 0:\n",
    "            z = s[strart+3:x-14]\n",
    "        i += 1\n",
    "        x = x + 1\n",
    "        sum_rais += int(z)\n",
    "    return sum_rais    \n",
    "        \n",
    "sum_rais(flop_)\n"
   ]
  },
  {
   "cell_type": "code",
   "execution_count": null,
   "metadata": {},
   "outputs": [],
   "source": []
  },
  {
   "cell_type": "code",
   "execution_count": null,
   "metadata": {},
   "outputs": [],
   "source": []
  },
  {
   "cell_type": "code",
   "execution_count": null,
   "metadata": {},
   "outputs": [],
   "source": []
  },
  {
   "cell_type": "markdown",
   "metadata": {
    "id": "q97wcPd37OcA"
   },
   "source": [
    "## Преобразуем данные"
   ]
  },
  {
   "cell_type": "code",
   "execution_count": null,
   "metadata": {
    "tags": []
   },
   "outputs": [],
   "source": [
    "date = data_pd['Date']\n",
    "time = data_pd['Hour']\n",
    "\n",
    "dataf[\"Date\"] = pd.to_datetime(data_pd['Date'])\n",
    "dataf[\"Time\"] = pd.to_timedelta(data_pd['Hour'])\n",
    "\n",
    "dataf[\"DateTime\"] = dataf[\"Date\"] + dataf[\"Time\"]\n",
    "dataf[\"DateTime\"]\n",
    "\n",
    "# filter by single day\n",
    "dataf_m = dataf[dataf['DateTime'].dt.strftime('%d') == '06']\n",
    "\n",
    "dataf.Tournament = dataf.Tournament.astype('int64')\n",
    "dataf = dataf.astype({'HandId': np.int64, 'Tournament': np.int64})"
   ]
  },
  {
   "cell_type": "code",
   "execution_count": null,
   "metadata": {
    "tags": []
   },
   "outputs": [],
   "source": [
    "dataf_m"
   ]
  },
  {
   "cell_type": "code",
   "execution_count": null,
   "metadata": {},
   "outputs": [],
   "source": [
    "nov_mar_series = pd.Series(pd.date_range(\"2013-11-15\", \"2014-03-15\"))\n",
    "#create timestamp without year\n",
    "nov_mar_no_year = nov_mar_series.map(lambda x: x.strftime(\"%m-%d\"))\n",
    "nov_mar_no_year"
   ]
  },
  {
   "cell_type": "code",
   "execution_count": null,
   "metadata": {
    "tags": []
   },
   "outputs": [],
   "source": [
    "# #add a yearless timestamp to the dataframe\n",
    "# df[\"no_year\"] = df['nov_mar_series'].map(lambda x: x.strftime(\"%m-%d\"))\n",
    "# no_year_mask = df['no_year'].isin(nov_mar_no_year)\n",
    "# df[no_year_mask]"
   ]
  },
  {
   "cell_type": "markdown",
   "metadata": {},
   "source": [
    "## Фильтруем турниры по числу рук выше среднего (> mean)"
   ]
  },
  {
   "cell_type": "code",
   "execution_count": null,
   "metadata": {},
   "outputs": [],
   "source": [
    "data_filter = dataf[['Tournament', 'HandId','DateTime', 'Time', 'HandHiro', 'Board']]\n",
    "data_filter.head()"
   ]
  },
  {
   "cell_type": "code",
   "execution_count": null,
   "metadata": {
    "tags": []
   },
   "outputs": [],
   "source": [
    "# data_filter.groupby(['Tournament']).agg({'HandId': \"count\"}).reset_index()"
   ]
  },
  {
   "cell_type": "code",
   "execution_count": null,
   "metadata": {
    "tags": []
   },
   "outputs": [],
   "source": [
    "#  Фильтруйте value_counts с помощью isin  https://softhints.com/pandas-how-to-filter-results-of-value_counts/\n",
    "df = data_filter[data_filter['Tournament'].isin(data_filter['Tournament'].\n",
    "                                                 value_counts()[data_filter['Tournament'].value_counts()>100].index)]\n",
    "df"
   ]
  },
  {
   "cell_type": "code",
   "execution_count": null,
   "metadata": {
    "tags": []
   },
   "outputs": [],
   "source": [
    "#  Используйте group by и lambda для имитации фильтра для value_counts()\n",
    "#df = data_filter.groupby('Tournament').filter(lambda x: len(x) > (data_filter['Tournament'].value_counts().mean()))\n"
   ]
  },
  {
   "cell_type": "code",
   "execution_count": null,
   "metadata": {},
   "outputs": [],
   "source": [
    "df.Tournament.value_counts()"
   ]
  },
  {
   "cell_type": "code",
   "execution_count": null,
   "metadata": {},
   "outputs": [],
   "source": [
    "# Prepare Data\n",
    "df_plot = df.groupby('Tournament').size()\n",
    "\n",
    "# Make the plot with pandas\n",
    "df_plot.plot(kind='pie', subplots=True, figsize=(8, 8))\n",
    "plt.title(\"Колличество турниров\")\n",
    "plt.ylabel(\"\")\n",
    "plt.show()"
   ]
  },
  {
   "cell_type": "code",
   "execution_count": null,
   "metadata": {},
   "outputs": [],
   "source": [
    "# объеденяем руку и борд, выводим название комбинации\n",
    "\n",
    "# df['hand'] = df['HandHiro'] + \" \" + df['Board']\n",
    "# # hand = df['hand'].values[7].split()\n",
    "# # print(hand)\n",
    "\n",
    "# hand_ev = [eval7.Card(s) for s in (df['hand'].values[7].split())]\n",
    "# rang = eval7.evaluate(hand_ev)   # ранг комбинации\n",
    "# # print(rang)\n",
    "\n",
    "# eval7s = eval7.handtype(rang)  #  название комбинации\n",
    "\n",
    "# df['rang'] = eval7.evaluate(hand_ev)\n",
    "# df['eval7s'] =  eval7.handtype(rang)"
   ]
  },
  {
   "cell_type": "code",
   "execution_count": null,
   "metadata": {},
   "outputs": [],
   "source": [
    "# def new_type(row):\n",
    "#     if row.traffic_source.lower() in ('yandex', 'google'):\n",
    "#         return 'organic'\n",
    "#     elif row.traffic_source.lower() in ('paid', 'email'):\n",
    "#         if row.region.lower() == 'russia':\n",
    "#             return 'ad'\n",
    "#         else:\n",
    "#             return 'other'"
   ]
  },
  {
   "cell_type": "code",
   "execution_count": null,
   "metadata": {},
   "outputs": [],
   "source": [
    "# log['source_type'] = log.apply(new_type, axis = 1)\n",
    "# log.head(12)"
   ]
  },
  {
   "cell_type": "code",
   "execution_count": null,
   "metadata": {},
   "outputs": [],
   "source": [
    "# log.loc[log.traffic_source.isin(['yandex', 'google']), 'traffic_type'] = 'organic' "
   ]
  },
  {
   "cell_type": "code",
   "execution_count": null,
   "metadata": {
    "tags": []
   },
   "outputs": [],
   "source": [
    "df['hand_rang'] = df['HandHiro'] + \" \" + df['Board']\n",
    "df['hand_rang']\n",
    "\n",
    "print(type(df['hand_rang']), type(df['hand_rang'].values[7].split()))\n",
    "df['hand_rang'].values[0].split()"
   ]
  },
  {
   "cell_type": "code",
   "execution_count": null,
   "metadata": {
    "tags": []
   },
   "outputs": [],
   "source": [
    "# df['hand_rang'].to_list()\n",
    "# df['hand_rang'].tolist()\n",
    "# np.array(df['hand_rang'].tolist())\n",
    "# Ls = list(df['hand_rang'])\n",
    "ls = df['hand_rang'].str.split()\n",
    "ls"
   ]
  },
  {
   "cell_type": "code",
   "execution_count": null,
   "metadata": {
    "tags": []
   },
   "outputs": [],
   "source": [
    "# напишем функцию получения ранг комбинации\n",
    "\n",
    "def evaluate_(hand):\n",
    "    \"\"\"\n",
    "    На вход получает карты, на выход \n",
    "    число ранг по eval7\n",
    "    \"\"\"\n",
    "    hand_ev = [eval7.Card(s) for s in (hand)]\n",
    "    return eval7.evaluate(hand_ev),hand_ev\n",
    "\n",
    "a = ('Jh', 'Td', '8h', '8c', '7c', '3h', '6d')\n",
    "evaluate_(a)"
   ]
  },
  {
   "cell_type": "code",
   "execution_count": null,
   "metadata": {},
   "outputs": [],
   "source": [
    "# напишем функцию получения названия ранга\n",
    "\n",
    "def handtype_(rang):\n",
    "    \"\"\"\n",
    "    На вход получает ранг, на выход \n",
    "    название комбинации\n",
    "    \"\"\"\n",
    "    return eval7.handtype(rang)\n",
    "\n",
    "handtype_(17209424)"
   ]
  },
  {
   "cell_type": "code",
   "execution_count": null,
   "metadata": {
    "tags": []
   },
   "outputs": [],
   "source": [
    "# Применим функцию к столбцу hand  и запишем в новый столбец rang_namber\n",
    "\n",
    "df['rang_namber'] = df['hand_rang'].str.split().apply(evaluate_)\n",
    "df['handtypes'] = df['rang_namber'].apply(handtype_)\n",
    "df[['rang_namber', 'handtypes','HandHiro', 'Board']].head(20)\n",
    "# df['filter'] = df.loc[df.handtypes.str.contains('Two Pair', 'Trips', 'Straight', 'Full House', 'Quads', 'Straight Flush'), 'rang_namber']"
   ]
  },
  {
   "cell_type": "code",
   "execution_count": null,
   "metadata": {
    "tags": []
   },
   "outputs": [],
   "source": [
    "# df.sort_values(by=['handtypes', 'rang_namber'])"
   ]
  },
  {
   "cell_type": "code",
   "execution_count": null,
   "metadata": {
    "tags": []
   },
   "outputs": [],
   "source": [
    "# df.groupby('handtypes')['rang_namber'].value_counts()"
   ]
  },
  {
   "cell_type": "markdown",
   "metadata": {},
   "source": [
    "### Создадим сводную таблицу, что-бы проверить наличие аномалий"
   ]
  },
  {
   "cell_type": "code",
   "execution_count": null,
   "metadata": {},
   "outputs": [],
   "source": [
    "# filter by single day\n",
    "dataf_m = dataf[dataf['DateTime'].dt.strftime('%d') == '06']"
   ]
  },
  {
   "cell_type": "code",
   "execution_count": null,
   "metadata": {
    "tags": []
   },
   "outputs": [],
   "source": [
    "df[['Tournament', 'handtypes', 'rang_namber']].head()  # применим фильтер по столбцам"
   ]
  },
  {
   "cell_type": "code",
   "execution_count": null,
   "metadata": {
    "tags": []
   },
   "outputs": [],
   "source": [
    "pd.pivot_table(df, index=[\"Tournament\", \"handtypes\"])"
   ]
  },
  {
   "cell_type": "code",
   "execution_count": null,
   "metadata": {},
   "outputs": [],
   "source": [
    "# явно определив столбцы, которые нам нужны,\n",
    "pd.pivot_table(df,\n",
    "               index=[\"Tournament\", \"handtypes\"],\n",
    "               values=[\"rang_namber\"],\n",
    "               aggfunc= len)   # aggfunc=[np.mean, len])"
   ]
  },
  {
   "cell_type": "code",
   "execution_count": null,
   "metadata": {},
   "outputs": [],
   "source": [
    "df.Tournament.value_counts()"
   ]
  },
  {
   "cell_type": "code",
   "execution_count": null,
   "metadata": {},
   "outputs": [],
   "source": [
    "# df['Time'].value_counts()"
   ]
  },
  {
   "cell_type": "code",
   "execution_count": null,
   "metadata": {},
   "outputs": [],
   "source": [
    "# Prepare Data\n",
    "df_plot = df.groupby('handtypes').size()\n",
    "\n",
    "# Make the plot with pandas\n",
    "df_plot.plot(kind='area', subplots=True, figsize=(8, 8))\n",
    "plt.title(\"Колличество комбинаций\")\n",
    "plt.ylabel(\"\")\n",
    "plt.show()"
   ]
  },
  {
   "cell_type": "code",
   "execution_count": null,
   "metadata": {
    "tags": []
   },
   "outputs": [],
   "source": [
    "# df['DateTime'] = df['DateTime'][(df['DateTime'] > '2018-10-01 20:00:00') & (df['DateTime'] < '2022-10-02 00:00:00')]\n",
    "# df['DateTime']\n"
   ]
  },
  {
   "cell_type": "code",
   "execution_count": null,
   "metadata": {
    "tags": []
   },
   "outputs": [],
   "source": [
    "# отфильтруем комбинации \"старшая карта\" и \"пара\"\n",
    "df['no_par'] = df['rang_namber'][df['rang_namber'] > 50000000] #[((df['rang_namber'] > 50000000) & (df['rang_namber'] < 60000000))]\n",
    "df = df.dropna()\n",
    "df[['Time', 'no_par', 'handtypes']].head(10)\n",
    "# df['filter_Two Pair'] = df['handtypes'][df['handtypes'] == 'Two Pair']\n",
    "# df['filter_Two Pair']"
   ]
  },
  {
   "cell_type": "code",
   "execution_count": null,
   "metadata": {},
   "outputs": [],
   "source": [
    "df.isnull().sum()"
   ]
  },
  {
   "cell_type": "code",
   "execution_count": null,
   "metadata": {
    "tags": []
   },
   "outputs": [],
   "source": [
    "# преобразуем время во временной ряд"
   ]
  },
  {
   "cell_type": "code",
   "execution_count": null,
   "metadata": {
    "tags": []
   },
   "outputs": [],
   "source": [
    "\n",
    "\n",
    "idx = df['Time']\n",
    " # datetime.timedelta(seconds=24*60*60).total_seconds()\n",
    "\n",
    "# second = df['DateTime'].dt.total_seconds()\n",
    "# second\n",
    "\n",
    "# idx = pd.date_range(df['DateTime'], periods=5, freq=\"H\")\n",
    "# idx\n",
    "tim = pd.Series(range(len(idx)), index=idx)\n",
    "\n",
    "# ts.resample(\"2H\").mean()\n",
    "tim"
   ]
  },
  {
   "cell_type": "code",
   "execution_count": null,
   "metadata": {},
   "outputs": [],
   "source": [
    "# df = df.set_index(\"Time\")\n",
    "# df"
   ]
  },
  {
   "cell_type": "code",
   "execution_count": null,
   "metadata": {
    "tags": []
   },
   "outputs": [],
   "source": [
    "\n",
    "import matplotlib.pyplot as plt\n",
    " \n",
    "# Using a inbuilt style to change\n",
    "# the look and feel of the plot\n",
    "plt.style.use(\"classic\")\n",
    " \n",
    "# setting figure size to 12, 10\n",
    "plt.figure(figsize=(12, 10))\n",
    " \n",
    "# Labelling the axes and setting\n",
    "# a title\n",
    "plt.xlabel(\"Time\")\n",
    "plt.ylabel(\"Values\")\n",
    "plt.title(\"Sample Time Series Plot\")\n",
    " \n",
    "# plotting the \"A\" column alone\n",
    "plt.plot(df[\"handtypes\"])"
   ]
  },
  {
   "cell_type": "code",
   "execution_count": null,
   "metadata": {},
   "outputs": [],
   "source": [
    "df.plot(subplots=True, figsize=(12, 15))"
   ]
  },
  {
   "cell_type": "code",
   "execution_count": null,
   "metadata": {},
   "outputs": [],
   "source": [
    "# # # idx = pd.date_range('2019-01-01', periods=48, freq='H')\n",
    "# # x = pd.Series(range(len(idx)), index=idx)\n",
    "# y = tim\n",
    "# # add 'hour' and 'day' columns in the dataframe\n",
    "# d = {'x': x, 'y': y, 'hour': idx.hour, 'day': idx.day}\n",
    "# df = pd.DataFrame(data=d)\n",
    "# # use 'hour' as x axis to plot, and 'day' as marker color\n",
    "# df.plot.scatter(x='hour', y='y', c='day', colormap='rainbow')\n",
    "# plt.show()"
   ]
  },
  {
   "cell_type": "code",
   "execution_count": null,
   "metadata": {},
   "outputs": [],
   "source": [
    "data.dtypes"
   ]
  },
  {
   "cell_type": "code",
   "execution_count": null,
   "metadata": {},
   "outputs": [],
   "source": [
    "# установитьdatetimeОбъект в качестве индекса кадра данных\n",
    "data = data.set_index('DateTime')\n",
    "data.head()"
   ]
  },
  {
   "cell_type": "code",
   "execution_count": null,
   "metadata": {},
   "outputs": [],
   "source": [
    "\n",
    "# data.plot(grid=True)\n",
    "\n",
    "data['filter'].plot(kind='bar')\n",
    "\n",
    "# import matplotlib.pyplot as plt\n",
    "# from matplotlib.dates import DateFormatter\n",
    "# # Группировка за месяц\n",
    "# df_month = data.resample(\"M\").mean()\n",
    "\n",
    "# fig, ax = plt.subplots(figsize=(10, 6))\n",
    "# ax.xaxis.set_major_formatter(DateFormatter('%Y-%m'))\n",
    "# ax.bar(\n",
    "#     df_month['2018':].index, \n",
    "#     df_month.loc['2016':, \"filter\"], \n",
    "#     width=25, align='center')"
   ]
  },
  {
   "cell_type": "code",
   "execution_count": null,
   "metadata": {},
   "outputs": [],
   "source": [
    "\n",
    "data.plot(kind='scatter', \n",
    "        x='DateTime', \n",
    "        y='filter', \n",
    "        title='Связь между жёсткостью воды и средней годовой смертностью')"
   ]
  },
  {
   "cell_type": "code",
   "execution_count": null,
   "metadata": {},
   "outputs": [],
   "source": []
  }
 ],
 "metadata": {
  "colab": {
   "authorship_tag": "ABX9TyOmEyugzg/HrqC08SxzhKU3",
   "include_colab_link": true,
   "name": "analiz_poker.ipynb",
   "provenance": []
  },
  "kernelspec": {
   "display_name": "Python 3 (ipykernel)",
   "language": "python",
   "name": "python3"
  },
  "language_info": {
   "codemirror_mode": {
    "name": "ipython",
    "version": 3
   },
   "file_extension": ".py",
   "mimetype": "text/x-python",
   "name": "python",
   "nbconvert_exporter": "python",
   "pygments_lexer": "ipython3",
   "version": "3.9.7"
  },
  "nbTranslate": {
   "displayLangs": [
    "*"
   ],
   "hotkey": "alt-t",
   "langInMainMenu": true,
   "sourceLang": "en",
   "targetLang": "fr",
   "useGoogleTranslate": true
  },
  "toc": {
   "base_numbering": 1,
   "nav_menu": {},
   "number_sections": true,
   "sideBar": true,
   "skip_h1_title": false,
   "title_cell": "Table of Contents",
   "title_sidebar": "Contents",
   "toc_cell": false,
   "toc_position": {},
   "toc_section_display": true,
   "toc_window_display": false
  },
  "varInspector": {
   "cols": {
    "lenName": 16,
    "lenType": 16,
    "lenVar": 40
   },
   "kernels_config": {
    "python": {
     "delete_cmd_postfix": "",
     "delete_cmd_prefix": "del ",
     "library": "var_list.py",
     "varRefreshCmd": "print(var_dic_list())"
    },
    "r": {
     "delete_cmd_postfix": ") ",
     "delete_cmd_prefix": "rm(",
     "library": "var_list.r",
     "varRefreshCmd": "cat(var_dic_list()) "
    }
   },
   "types_to_exclude": [
    "module",
    "function",
    "builtin_function_or_method",
    "instance",
    "_Feature"
   ],
   "window_display": false
  },
  "widgets": {
   "application/vnd.jupyter.widget-state+json": {
    "state": {},
    "version_major": 2,
    "version_minor": 0
   }
  }
 },
 "nbformat": 4,
 "nbformat_minor": 4
}
