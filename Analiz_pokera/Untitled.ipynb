{
 "cells": [
  {
   "cell_type": "code",
   "execution_count": null,
   "id": "f4b55bbf-8d80-47b6-9a65-9233506408ac",
   "metadata": {},
   "outputs": [],
   "source": [
    "e = 2+2\n",
    "t =e /0"
   ]
  },
  {
   "cell_type": "code",
   "execution_count": null,
   "id": "12cbad8d-866b-4c65-9f2e-7ebbbe2467cf",
   "metadata": {},
   "outputs": [],
   "source": []
  }
 ],
 "metadata": {
  "kernelspec": {
   "display_name": "Python 3 (ipykernel)",
   "language": "python",
   "name": "python3"
  },
  "language_info": {
   "codemirror_mode": {
    "name": "ipython",
    "version": 3
   },
   "file_extension": ".py",
   "mimetype": "text/x-python",
   "name": "python",
   "nbconvert_exporter": "python",
   "pygments_lexer": "ipython3",
   "version": "3.9.7"
  },
  "widgets": {
   "application/vnd.jupyter.widget-state+json": {
    "state": {},
    "version_major": 2,
    "version_minor": 0
   }
  }
 },
 "nbformat": 4,
 "nbformat_minor": 5
}
