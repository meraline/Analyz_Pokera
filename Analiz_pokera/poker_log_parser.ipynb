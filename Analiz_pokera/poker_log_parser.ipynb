{
 "cells": [
  {
   "cell_type": "code",
   "execution_count": 1,
   "id": "ebb5b222-2a4f-4559-9521-cf390cf5e6cb",
   "metadata": {},
   "outputs": [
    {
     "name": "stdout",
     "output_type": "stream",
     "text": [
      "Collecting poker-log-parser\n",
      "  Downloading poker_log_parser-0.1.3-cp39-none-win_amd64.whl (286 kB)\n",
      "     -------------------------------------- 286.2/286.2 kB 1.2 MB/s eta 0:00:00\n",
      "Installing collected packages: poker-log-parser\n",
      "Successfully installed poker-log-parser-0.1.3\n"
     ]
    }
   ],
   "source": [
    "!pip install poker-log-parser"
   ]
  },
  {
   "cell_type": "code",
   "execution_count": 4,
   "id": "2042b203-5c4f-4a2c-8a77-34e99fed020f",
   "metadata": {},
   "outputs": [
    {
     "ename": "PanicException",
     "evalue": "called `Option::unwrap()` on a `None` value",
     "output_type": "error",
     "traceback": [
      "\u001b[1;31m---------------------------------------------------------------------------\u001b[0m",
      "\u001b[1;31mPanicException\u001b[0m                            Traceback (most recent call last)",
      "Input \u001b[1;32mIn [4]\u001b[0m, in \u001b[0;36m<cell line: 3>\u001b[1;34m()\u001b[0m\n\u001b[0;32m      1\u001b[0m \u001b[38;5;28;01mimport\u001b[39;00m \u001b[38;5;21;01mpoker_log_parser\u001b[39;00m \u001b[38;5;28;01mas\u001b[39;00m \u001b[38;5;21;01mpklp\u001b[39;00m\n\u001b[1;32m----> 3\u001b[0m hands \u001b[38;5;241m=\u001b[39m \u001b[43mpklp\u001b[49m\u001b[38;5;241;43m.\u001b[39;49m\u001b[43mparse_path\u001b[49m\u001b[43m(\u001b[49m\u001b[38;5;124;43m\"\u001b[39;49m\u001b[38;5;124;43mlog1.txt\u001b[39;49m\u001b[38;5;124;43m\"\u001b[39;49m\u001b[43m)\u001b[49m \u001b[38;5;66;03m# must be a string\u001b[39;00m\n\u001b[0;32m      5\u001b[0m \u001b[38;5;28mprint\u001b[39m(\u001b[38;5;28mstr\u001b[39m(hands))\n",
      "\u001b[1;31mPanicException\u001b[0m: called `Option::unwrap()` on a `None` value"
     ]
    }
   ],
   "source": [
    "import poker_log_parser as pklp\n",
    "\n",
    "hands = pklp.parse_path(\"log1.txt\") # must be a string\n",
    "\n",
    "print(str(hands))"
   ]
  },
  {
   "cell_type": "code",
   "execution_count": 5,
   "id": "9a247245-1f58-4d0c-89b6-a9d96ca5e949",
   "metadata": {},
   "outputs": [
    {
     "name": "stdout",
     "output_type": "stream",
     "text": [
      "Help on package poker_log_parser:\n",
      "\n",
      "NAME\n",
      "    poker_log_parser - A blazingly fast parser for poker hand histories\n",
      "\n",
      "PACKAGE CONTENTS\n",
      "    poker_log_parser\n",
      "\n",
      "CLASSES\n",
      "    builtins.object\n",
      "        HandView\n",
      "    \n",
      "    class HandView(builtins.object)\n",
      "     |  Methods defined here:\n",
      "     |  \n",
      "     |  __len__(self, /)\n",
      "     |      Return len(self).\n",
      "     |  \n",
      "     |  __repr__(self, /)\n",
      "     |      Return repr(self).\n",
      "     |  \n",
      "     |  __str__(self, /)\n",
      "     |      Return str(self).\n",
      "     |  \n",
      "     |  to_json(...)\n",
      "     |  \n",
      "     |  to_json_ohh(...)\n",
      "     |  \n",
      "     |  ----------------------------------------------------------------------\n",
      "     |  Static methods defined here:\n",
      "     |  \n",
      "     |  __new__(*args, **kwargs) from builtins.type\n",
      "     |      Create and return a new object.  See help(type) for accurate signature.\n",
      "\n",
      "FUNCTIONS\n",
      "    parse_path(...)\n",
      "    \n",
      "    parse_paths(...)\n",
      "    \n",
      "    parse_str(...)\n",
      "    \n",
      "    parse_strs(...)\n",
      "    \n",
      "    to_json(...)\n",
      "    \n",
      "    to_json_ohh(...)\n",
      "\n",
      "DATA\n",
      "    __all__ = ['parse_str', 'parse_strs', 'parse_path', 'parse_paths', 'to...\n",
      "\n",
      "FILE\n",
      "    c:\\users\\artio\\anaconda3\\lib\\site-packages\\poker_log_parser\\__init__.py\n",
      "\n",
      "\n"
     ]
    }
   ],
   "source": [
    "help(pklp)\n"
   ]
  },
  {
   "cell_type": "code",
   "execution_count": null,
   "id": "8f60bd0b-0366-4517-bbd7-e9177d52e3f8",
   "metadata": {},
   "outputs": [],
   "source": []
  }
 ],
 "metadata": {
  "kernelspec": {
   "display_name": "Python 3 (ipykernel)",
   "language": "python",
   "name": "python3"
  },
  "language_info": {
   "codemirror_mode": {
    "name": "ipython",
    "version": 3
   },
   "file_extension": ".py",
   "mimetype": "text/x-python",
   "name": "python",
   "nbconvert_exporter": "python",
   "pygments_lexer": "ipython3",
   "version": "3.9.7"
  },
  "widgets": {
   "application/vnd.jupyter.widget-state+json": {
    "state": {},
    "version_major": 2,
    "version_minor": 0
   }
  }
 },
 "nbformat": 4,
 "nbformat_minor": 5
}
