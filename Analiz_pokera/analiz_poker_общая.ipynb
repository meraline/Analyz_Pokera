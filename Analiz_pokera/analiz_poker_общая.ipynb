{
 "cells": [
  {
   "cell_type": "markdown",
   "metadata": {
    "id": "cCLyx1NLRfLa"
   },
   "source": [
    "## Цель иследования\n",
    " - выявить частоту (периоды) повторяемости наблюдаемой характеристики 'rang_namber'\n",
    " - создать модель для ML позволяющую предиктить периоды на новых данных \n",
    " - предположить факторы влияющие на чатсоту повторяемости\n",
    " - https://github.com/julianandrews/flopferret/blob/master/flopferret/board_texture.py"
   ]
  },
  {
   "cell_type": "code",
   "execution_count": 151,
   "metadata": {},
   "outputs": [
    {
     "name": "stdout",
     "output_type": "stream",
     "text": [
      "Requirement already satisfied: cached_property in c:\\users\\artio\\anaconda3\\lib\\site-packages (1.5.2)\n"
     ]
    }
   ],
   "source": [
    "!pip install cached_property"
   ]
  },
  {
   "cell_type": "code",
   "execution_count": 2,
   "metadata": {
    "ExecuteTime": {
     "end_time": "2022-01-13T22:42:04.665671Z",
     "start_time": "2022-01-13T22:41:57.698198Z"
    },
    "code_folding": [
     5,
     21
    ],
    "colab": {
     "base_uri": "https://localhost:8080/",
     "height": 206
    },
    "id": "RehS5KQCEhv4",
    "outputId": "595dd702-fa39-4d44-c72a-b5ab1b747c27",
    "tags": []
   },
   "outputs": [],
   "source": [
    "import re\n",
    "import pandas as pd\n",
    "from datetime import datetime\n",
    "import eval7, pprint\n",
    "from poker.room.pokerstars import PokerStarsHandHistory\n",
    "from poker.hand import Hand, Combo\n",
    "import numpy as np\n",
    "from phevaluator import evaluate_cards\n",
    "import matplotlib.pyplot as plt\n",
    "plt.style.use('dark_background') #стиль графиков"
   ]
  },
  {
   "cell_type": "code",
   "execution_count": 153,
   "metadata": {
    "ExecuteTime": {
     "end_time": "2022-01-13T22:42:04.665671Z",
     "start_time": "2022-01-13T22:41:57.698198Z"
    },
    "code_folding": [
     5,
     21
    ],
    "colab": {
     "base_uri": "https://localhost:8080/",
     "height": 206
    },
    "id": "RehS5KQCEhv4",
    "outputId": "595dd702-fa39-4d44-c72a-b5ab1b747c27",
    "tags": []
   },
   "outputs": [
    {
     "data": {
      "text/html": [
       "<div>\n",
       "<style scoped>\n",
       "    .dataframe tbody tr th:only-of-type {\n",
       "        vertical-align: middle;\n",
       "    }\n",
       "\n",
       "    .dataframe tbody tr th {\n",
       "        vertical-align: top;\n",
       "    }\n",
       "\n",
       "    .dataframe thead th {\n",
       "        text-align: right;\n",
       "    }\n",
       "</style>\n",
       "<table border=\"1\" class=\"dataframe\">\n",
       "  <thead>\n",
       "    <tr style=\"text-align: right;\">\n",
       "      <th></th>\n",
       "      <th>TypeOfRoom</th>\n",
       "      <th>HandId</th>\n",
       "      <th>Tournament</th>\n",
       "      <th>Level</th>\n",
       "      <th>Date</th>\n",
       "      <th>Hour</th>\n",
       "      <th>TimeZoneAbb</th>\n",
       "      <th>Table</th>\n",
       "      <th>NoOfPlayers</th>\n",
       "      <th>bain</th>\n",
       "      <th>HandHiro</th>\n",
       "      <th>Board</th>\n",
       "    </tr>\n",
       "  </thead>\n",
       "  <tbody>\n",
       "    <tr>\n",
       "      <th>0</th>\n",
       "      <td>PokerStars</td>\n",
       "      <td>189303406555</td>\n",
       "      <td>2369603774</td>\n",
       "      <td>IV (40/80)</td>\n",
       "      <td>2018/07/30</td>\n",
       "      <td>0:01:30</td>\n",
       "      <td>MSK</td>\n",
       "      <td>9-max</td>\n",
       "      <td>6</td>\n",
       "      <td>$13.70+$1.30</td>\n",
       "      <td>Qh 6h</td>\n",
       "      <td>8h 7d 2h 8c 4s</td>\n",
       "    </tr>\n",
       "    <tr>\n",
       "      <th>1</th>\n",
       "      <td>PokerStars</td>\n",
       "      <td>189303615886</td>\n",
       "      <td>2369603774</td>\n",
       "      <td>V (60/120)</td>\n",
       "      <td>2018/07/30</td>\n",
       "      <td>0:05:40</td>\n",
       "      <td>MSK</td>\n",
       "      <td>9-max</td>\n",
       "      <td>6</td>\n",
       "      <td>$13.70+$1.30</td>\n",
       "      <td>Qc Td</td>\n",
       "      <td>Qh 5h Js Kd</td>\n",
       "    </tr>\n",
       "    <tr>\n",
       "      <th>2</th>\n",
       "      <td>PokerStars</td>\n",
       "      <td>189303670340</td>\n",
       "      <td>2369603774</td>\n",
       "      <td>V (60/120)</td>\n",
       "      <td>2018/07/30</td>\n",
       "      <td>0:06:42</td>\n",
       "      <td>MSK</td>\n",
       "      <td>9-max</td>\n",
       "      <td>6</td>\n",
       "      <td>$13.70+$1.30</td>\n",
       "      <td>Ac 7d</td>\n",
       "      <td>2d Ad Ah Js 6s</td>\n",
       "    </tr>\n",
       "    <tr>\n",
       "      <th>3</th>\n",
       "      <td>PokerStars</td>\n",
       "      <td>189303726585</td>\n",
       "      <td>2369603774</td>\n",
       "      <td>V (60/120)</td>\n",
       "      <td>2018/07/30</td>\n",
       "      <td>0:07:47</td>\n",
       "      <td>MSK</td>\n",
       "      <td>9-max</td>\n",
       "      <td>6</td>\n",
       "      <td>$13.70+$1.30</td>\n",
       "      <td>Tc Qc</td>\n",
       "      <td>Td 5h 2c 5d Kd</td>\n",
       "    </tr>\n",
       "    <tr>\n",
       "      <th>4</th>\n",
       "      <td>PokerStars</td>\n",
       "      <td>189303781865</td>\n",
       "      <td>2369603774</td>\n",
       "      <td>V (60/120)</td>\n",
       "      <td>2018/07/30</td>\n",
       "      <td>0:08:51</td>\n",
       "      <td>MSK</td>\n",
       "      <td>9-max</td>\n",
       "      <td>6</td>\n",
       "      <td>$13.70+$1.30</td>\n",
       "      <td>Qs 5d</td>\n",
       "      <td>9s 7h Jh 8h 9d</td>\n",
       "    </tr>\n",
       "  </tbody>\n",
       "</table>\n",
       "</div>"
      ],
      "text/plain": [
       "   TypeOfRoom        HandId  Tournament       Level        Date     Hour  \\\n",
       "0  PokerStars  189303406555  2369603774  IV (40/80)  2018/07/30  0:01:30   \n",
       "1  PokerStars  189303615886  2369603774  V (60/120)  2018/07/30  0:05:40   \n",
       "2  PokerStars  189303670340  2369603774  V (60/120)  2018/07/30  0:06:42   \n",
       "3  PokerStars  189303726585  2369603774  V (60/120)  2018/07/30  0:07:47   \n",
       "4  PokerStars  189303781865  2369603774  V (60/120)  2018/07/30  0:08:51   \n",
       "\n",
       "  TimeZoneAbb  Table  NoOfPlayers          bain HandHiro           Board  \n",
       "0         MSK  9-max            6  $13.70+$1.30    Qh 6h  8h 7d 2h 8c 4s  \n",
       "1         MSK  9-max            6  $13.70+$1.30    Qc Td     Qh 5h Js Kd  \n",
       "2         MSK  9-max            6  $13.70+$1.30    Ac 7d  2d Ad Ah Js 6s  \n",
       "3         MSK  9-max            6  $13.70+$1.30    Tc Qc  Td 5h 2c 5d Kd  \n",
       "4         MSK  9-max            6  $13.70+$1.30    Qs 5d  9s 7h Jh 8h 9d  "
      ]
     },
     "execution_count": 153,
     "metadata": {},
     "output_type": "execute_result"
    }
   ],
   "source": [
    "# Создали словарь\n",
    "data_pd = {'TypeOfRoom': [], 'HandId': [], 'Tournament': [], 'Level': [], 'Date': [], 'Hour': [],\n",
    "           'TimeZoneAbb': [], 'Table': [], 'NoOfPlayers': [], 'bain': [], 'HandHiro': [], 'Board': []}\n",
    "\n",
    "# Открываем файл\n",
    "with open('Poker_\\SNG dimetruk 1-54133.txt', 'r') as f: # dim1000.txt\n",
    "    data = f.read()\n",
    "    \n",
    "# Ищем нужные данные\n",
    "result = re.findall('(\\w+) Hand #(\\d*): Tournament #(\\d*),(.*) Level (.*) - (\\d{4}/\\d+/\\d+) (\\d+\\D\\d+\\D\\d+) (\\w*)', data)\n",
    "Tables = re.findall('Table \\'.*\\' (.*) Seat .*\\n', data)\n",
    "bains = re.findall('(\\D\\d+\\.\\d+\\+\\D\\d+\\.\\d+)', data)\n",
    "HandHiros = re.findall(\"Dealt to dimetruk \\D(.. ..)\\D\", data)\n",
    "Boards = re.findall(\"Board \\[(.*)\\]\", data)\n",
    "\n",
    "\n",
    "# Считаем сколко фишек\n",
    "s = re.findall('Seat (\\d).*chips', data)\n",
    "s = [int(x) for x in s]\n",
    "seats = []\n",
    "length = 1\n",
    "for i in range(len(s)-1):\n",
    "    if s[i+1] < s[i]:\n",
    "        seats.append(length)\n",
    "        length = 1\n",
    "    else:\n",
    "        length += 1\n",
    "seats.append(length)\n",
    "\n",
    "\n",
    "# ЗАполнЯем словарь данными\n",
    "for r, table, bain, seat, handHiro, board in zip(result, Tables, bains, seats, HandHiros, Boards):\n",
    "    data_pd['TypeOfRoom'].append(r[0])\n",
    "    data_pd['HandId'].append(r[1])\n",
    "    data_pd['Tournament'].append(r[2])\n",
    "    # data_pd['info'].append(r[3])\n",
    "    data_pd['Level'].append(r[4])\n",
    "    data_pd['Date'].append(r[5])\n",
    "    data_pd['Hour'].append(r[6])\n",
    "    data_pd['TimeZoneAbb'].append(r[7])\n",
    "    data_pd['Table'].append(table) #table\n",
    "    data_pd['NoOfPlayers'].append(seat)\n",
    "    data_pd['bain'].append(bain)\n",
    "    data_pd['HandHiro'].append(handHiro)\n",
    "    data_pd['Board'].append(board)\n",
    "\n",
    "# Создаём ДатаФрейм\n",
    "dataf = pd.DataFrame(data_pd)\n",
    "dataf.head()"
   ]
  },
  {
   "cell_type": "markdown",
   "metadata": {
    "id": "q97wcPd37OcA"
   },
   "source": [
    "## Преобразуем строковые данные"
   ]
  },
  {
   "cell_type": "code",
   "execution_count": 154,
   "metadata": {
    "tags": []
   },
   "outputs": [],
   "source": [
    "date = data_pd['Date']\n",
    "time = data_pd['Hour']\n",
    "\n",
    "dataf[\"Date\"] = pd.to_datetime(data_pd['Date'])\n",
    "dataf[\"Time\"] = pd.to_timedelta(data_pd['Hour'])\n",
    "\n",
    "dataf[\"DateTime\"] = dataf[\"Date\"] + dataf[\"Time\"]\n",
    "dataf[\"DateTime\"]\n",
    "\n",
    "# filter by single day\n",
    "dataf_m = dataf[dataf['DateTime'].dt.strftime('%d') == '06']\n",
    "\n",
    "dataf.Tournament = dataf.Tournament.astype('int64')\n",
    "dataf = dataf.astype({'HandId': np.int64, 'Tournament': np.int64})"
   ]
  },
  {
   "cell_type": "code",
   "execution_count": 155,
   "metadata": {
    "tags": []
   },
   "outputs": [
    {
     "data": {
      "text/html": [
       "<div>\n",
       "<style scoped>\n",
       "    .dataframe tbody tr th:only-of-type {\n",
       "        vertical-align: middle;\n",
       "    }\n",
       "\n",
       "    .dataframe tbody tr th {\n",
       "        vertical-align: top;\n",
       "    }\n",
       "\n",
       "    .dataframe thead th {\n",
       "        text-align: right;\n",
       "    }\n",
       "</style>\n",
       "<table border=\"1\" class=\"dataframe\">\n",
       "  <thead>\n",
       "    <tr style=\"text-align: right;\">\n",
       "      <th></th>\n",
       "      <th>TypeOfRoom</th>\n",
       "      <th>HandId</th>\n",
       "      <th>Tournament</th>\n",
       "      <th>Level</th>\n",
       "      <th>Date</th>\n",
       "      <th>Hour</th>\n",
       "      <th>TimeZoneAbb</th>\n",
       "      <th>Table</th>\n",
       "      <th>NoOfPlayers</th>\n",
       "      <th>bain</th>\n",
       "      <th>HandHiro</th>\n",
       "      <th>Board</th>\n",
       "      <th>Time</th>\n",
       "      <th>DateTime</th>\n",
       "    </tr>\n",
       "  </thead>\n",
       "  <tbody>\n",
       "    <tr>\n",
       "      <th>10639</th>\n",
       "      <td>PokerStars</td>\n",
       "      <td>190718126222</td>\n",
       "      <td>2399916882</td>\n",
       "      <td>I (10/20)</td>\n",
       "      <td>2018-09-06</td>\n",
       "      <td>8:27:00</td>\n",
       "      <td>MSK</td>\n",
       "      <td>6-max</td>\n",
       "      <td>6</td>\n",
       "      <td>$3.13+$0.37</td>\n",
       "      <td>Ts 5h</td>\n",
       "      <td>7h 8h Ad</td>\n",
       "      <td>0 days 08:27:00</td>\n",
       "      <td>2018-09-06 08:27:00</td>\n",
       "    </tr>\n",
       "    <tr>\n",
       "      <th>10640</th>\n",
       "      <td>PokerStars</td>\n",
       "      <td>190718137542</td>\n",
       "      <td>2399916882</td>\n",
       "      <td>I (10/20)</td>\n",
       "      <td>2018-09-06</td>\n",
       "      <td>8:27:55</td>\n",
       "      <td>MSK</td>\n",
       "      <td>6-max</td>\n",
       "      <td>6</td>\n",
       "      <td>$3.13+$0.37</td>\n",
       "      <td>Th 6c</td>\n",
       "      <td>7d Qd 6s</td>\n",
       "      <td>0 days 08:27:55</td>\n",
       "      <td>2018-09-06 08:27:55</td>\n",
       "    </tr>\n",
       "    <tr>\n",
       "      <th>10641</th>\n",
       "      <td>PokerStars</td>\n",
       "      <td>190718144654</td>\n",
       "      <td>2399916882</td>\n",
       "      <td>I (10/20)</td>\n",
       "      <td>2018-09-06</td>\n",
       "      <td>8:28:29</td>\n",
       "      <td>MSK</td>\n",
       "      <td>6-max</td>\n",
       "      <td>6</td>\n",
       "      <td>$3.13+$0.37</td>\n",
       "      <td>Ah 9d</td>\n",
       "      <td>3c 8s 5c 5s Qd</td>\n",
       "      <td>0 days 08:28:29</td>\n",
       "      <td>2018-09-06 08:28:29</td>\n",
       "    </tr>\n",
       "    <tr>\n",
       "      <th>10642</th>\n",
       "      <td>PokerStars</td>\n",
       "      <td>190718159213</td>\n",
       "      <td>2399916882</td>\n",
       "      <td>I (10/20)</td>\n",
       "      <td>2018-09-06</td>\n",
       "      <td>8:29:39</td>\n",
       "      <td>MSK</td>\n",
       "      <td>6-max</td>\n",
       "      <td>6</td>\n",
       "      <td>$3.13+$0.37</td>\n",
       "      <td>Td 2h</td>\n",
       "      <td>9s 7d 7h Qc Th</td>\n",
       "      <td>0 days 08:29:39</td>\n",
       "      <td>2018-09-06 08:29:39</td>\n",
       "    </tr>\n",
       "    <tr>\n",
       "      <th>10643</th>\n",
       "      <td>PokerStars</td>\n",
       "      <td>190718178532</td>\n",
       "      <td>2399916882</td>\n",
       "      <td>I (10/20)</td>\n",
       "      <td>2018-09-06</td>\n",
       "      <td>8:31:13</td>\n",
       "      <td>MSK</td>\n",
       "      <td>6-max</td>\n",
       "      <td>6</td>\n",
       "      <td>$3.13+$0.37</td>\n",
       "      <td>4s Qh</td>\n",
       "      <td>3s Kc 5s 5c Jh</td>\n",
       "      <td>0 days 08:31:13</td>\n",
       "      <td>2018-09-06 08:31:13</td>\n",
       "    </tr>\n",
       "    <tr>\n",
       "      <th>...</th>\n",
       "      <td>...</td>\n",
       "      <td>...</td>\n",
       "      <td>...</td>\n",
       "      <td>...</td>\n",
       "      <td>...</td>\n",
       "      <td>...</td>\n",
       "      <td>...</td>\n",
       "      <td>...</td>\n",
       "      <td>...</td>\n",
       "      <td>...</td>\n",
       "      <td>...</td>\n",
       "      <td>...</td>\n",
       "      <td>...</td>\n",
       "      <td>...</td>\n",
       "    </tr>\n",
       "    <tr>\n",
       "      <th>34168</th>\n",
       "      <td>PokerStars</td>\n",
       "      <td>191869580938</td>\n",
       "      <td>2424715320</td>\n",
       "      <td>IV (40/80)</td>\n",
       "      <td>2018-10-06</td>\n",
       "      <td>17:57:06</td>\n",
       "      <td>MSK</td>\n",
       "      <td>9-max</td>\n",
       "      <td>6</td>\n",
       "      <td>$6.37+$0.63</td>\n",
       "      <td>Js Td</td>\n",
       "      <td>6h Jh 4h Ts 9d</td>\n",
       "      <td>0 days 17:57:06</td>\n",
       "      <td>2018-10-06 17:57:06</td>\n",
       "    </tr>\n",
       "    <tr>\n",
       "      <th>34169</th>\n",
       "      <td>PokerStars</td>\n",
       "      <td>191869592342</td>\n",
       "      <td>2424715320</td>\n",
       "      <td>IV (40/80)</td>\n",
       "      <td>2018-10-06</td>\n",
       "      <td>17:57:31</td>\n",
       "      <td>MSK</td>\n",
       "      <td>9-max</td>\n",
       "      <td>6</td>\n",
       "      <td>$6.37+$0.63</td>\n",
       "      <td>7h 6d</td>\n",
       "      <td>Jd Ts 8h 2c 8c</td>\n",
       "      <td>0 days 17:57:31</td>\n",
       "      <td>2018-10-06 17:57:31</td>\n",
       "    </tr>\n",
       "    <tr>\n",
       "      <th>34170</th>\n",
       "      <td>PokerStars</td>\n",
       "      <td>191869625613</td>\n",
       "      <td>2424715320</td>\n",
       "      <td>IV (40/80)</td>\n",
       "      <td>2018-10-06</td>\n",
       "      <td>17:58:44</td>\n",
       "      <td>MSK</td>\n",
       "      <td>9-max</td>\n",
       "      <td>6</td>\n",
       "      <td>$6.37+$0.63</td>\n",
       "      <td>Jh Tc</td>\n",
       "      <td>6d 5s 3h Qd As</td>\n",
       "      <td>0 days 17:58:44</td>\n",
       "      <td>2018-10-06 17:58:44</td>\n",
       "    </tr>\n",
       "    <tr>\n",
       "      <th>34171</th>\n",
       "      <td>PokerStars</td>\n",
       "      <td>191869640756</td>\n",
       "      <td>2424715320</td>\n",
       "      <td>IV (40/80)</td>\n",
       "      <td>2018-10-06</td>\n",
       "      <td>17:59:16</td>\n",
       "      <td>MSK</td>\n",
       "      <td>9-max</td>\n",
       "      <td>6</td>\n",
       "      <td>$6.37+$0.63</td>\n",
       "      <td>Kh 7c</td>\n",
       "      <td>6d 6h Kc 7d 2c</td>\n",
       "      <td>0 days 17:59:16</td>\n",
       "      <td>2018-10-06 17:59:16</td>\n",
       "    </tr>\n",
       "    <tr>\n",
       "      <th>34172</th>\n",
       "      <td>PokerStars</td>\n",
       "      <td>191869663814</td>\n",
       "      <td>2424715320</td>\n",
       "      <td>IV (40/80)</td>\n",
       "      <td>2018-10-06</td>\n",
       "      <td>18:00:06</td>\n",
       "      <td>MSK</td>\n",
       "      <td>9-max</td>\n",
       "      <td>6</td>\n",
       "      <td>$6.37+$0.63</td>\n",
       "      <td>Ac Td</td>\n",
       "      <td>3c 3s Jh 9s 3h</td>\n",
       "      <td>0 days 18:00:06</td>\n",
       "      <td>2018-10-06 18:00:06</td>\n",
       "    </tr>\n",
       "  </tbody>\n",
       "</table>\n",
       "<p>1577 rows × 14 columns</p>\n",
       "</div>"
      ],
      "text/plain": [
       "       TypeOfRoom        HandId  Tournament       Level       Date      Hour  \\\n",
       "10639  PokerStars  190718126222  2399916882   I (10/20) 2018-09-06   8:27:00   \n",
       "10640  PokerStars  190718137542  2399916882   I (10/20) 2018-09-06   8:27:55   \n",
       "10641  PokerStars  190718144654  2399916882   I (10/20) 2018-09-06   8:28:29   \n",
       "10642  PokerStars  190718159213  2399916882   I (10/20) 2018-09-06   8:29:39   \n",
       "10643  PokerStars  190718178532  2399916882   I (10/20) 2018-09-06   8:31:13   \n",
       "...           ...           ...         ...         ...        ...       ...   \n",
       "34168  PokerStars  191869580938  2424715320  IV (40/80) 2018-10-06  17:57:06   \n",
       "34169  PokerStars  191869592342  2424715320  IV (40/80) 2018-10-06  17:57:31   \n",
       "34170  PokerStars  191869625613  2424715320  IV (40/80) 2018-10-06  17:58:44   \n",
       "34171  PokerStars  191869640756  2424715320  IV (40/80) 2018-10-06  17:59:16   \n",
       "34172  PokerStars  191869663814  2424715320  IV (40/80) 2018-10-06  18:00:06   \n",
       "\n",
       "      TimeZoneAbb  Table  NoOfPlayers         bain HandHiro           Board  \\\n",
       "10639         MSK  6-max            6  $3.13+$0.37    Ts 5h        7h 8h Ad   \n",
       "10640         MSK  6-max            6  $3.13+$0.37    Th 6c        7d Qd 6s   \n",
       "10641         MSK  6-max            6  $3.13+$0.37    Ah 9d  3c 8s 5c 5s Qd   \n",
       "10642         MSK  6-max            6  $3.13+$0.37    Td 2h  9s 7d 7h Qc Th   \n",
       "10643         MSK  6-max            6  $3.13+$0.37    4s Qh  3s Kc 5s 5c Jh   \n",
       "...           ...    ...          ...          ...      ...             ...   \n",
       "34168         MSK  9-max            6  $6.37+$0.63    Js Td  6h Jh 4h Ts 9d   \n",
       "34169         MSK  9-max            6  $6.37+$0.63    7h 6d  Jd Ts 8h 2c 8c   \n",
       "34170         MSK  9-max            6  $6.37+$0.63    Jh Tc  6d 5s 3h Qd As   \n",
       "34171         MSK  9-max            6  $6.37+$0.63    Kh 7c  6d 6h Kc 7d 2c   \n",
       "34172         MSK  9-max            6  $6.37+$0.63    Ac Td  3c 3s Jh 9s 3h   \n",
       "\n",
       "                 Time            DateTime  \n",
       "10639 0 days 08:27:00 2018-09-06 08:27:00  \n",
       "10640 0 days 08:27:55 2018-09-06 08:27:55  \n",
       "10641 0 days 08:28:29 2018-09-06 08:28:29  \n",
       "10642 0 days 08:29:39 2018-09-06 08:29:39  \n",
       "10643 0 days 08:31:13 2018-09-06 08:31:13  \n",
       "...               ...                 ...  \n",
       "34168 0 days 17:57:06 2018-10-06 17:57:06  \n",
       "34169 0 days 17:57:31 2018-10-06 17:57:31  \n",
       "34170 0 days 17:58:44 2018-10-06 17:58:44  \n",
       "34171 0 days 17:59:16 2018-10-06 17:59:16  \n",
       "34172 0 days 18:00:06 2018-10-06 18:00:06  \n",
       "\n",
       "[1577 rows x 14 columns]"
      ]
     },
     "execution_count": 155,
     "metadata": {},
     "output_type": "execute_result"
    }
   ],
   "source": [
    "dataf_m"
   ]
  },
  {
   "cell_type": "code",
   "execution_count": 156,
   "metadata": {},
   "outputs": [
    {
     "data": {
      "text/plain": [
       "0      11-15\n",
       "1      11-16\n",
       "2      11-17\n",
       "3      11-18\n",
       "4      11-19\n",
       "       ...  \n",
       "116    03-11\n",
       "117    03-12\n",
       "118    03-13\n",
       "119    03-14\n",
       "120    03-15\n",
       "Length: 121, dtype: object"
      ]
     },
     "execution_count": 156,
     "metadata": {},
     "output_type": "execute_result"
    }
   ],
   "source": [
    "nov_mar_series = pd.Series(pd.date_range(\"2013-11-15\", \"2014-03-15\"))\n",
    "#create timestamp without year\n",
    "nov_mar_no_year = nov_mar_series.map(lambda x: x.strftime(\"%m-%d\"))\n",
    "nov_mar_no_year"
   ]
  },
  {
   "cell_type": "code",
   "execution_count": 157,
   "metadata": {
    "tags": []
   },
   "outputs": [],
   "source": [
    "# #add a yearless timestamp to the dataframe\n",
    "# df[\"no_year\"] = df['nov_mar_series'].map(lambda x: x.strftime(\"%m-%d\"))\n",
    "# no_year_mask = df['no_year'].isin(nov_mar_no_year)\n",
    "# df[no_year_mask]"
   ]
  },
  {
   "cell_type": "markdown",
   "metadata": {},
   "source": [
    "## Фильтруем турниры по числу рук выше среднего (> mean)"
   ]
  },
  {
   "cell_type": "code",
   "execution_count": 158,
   "metadata": {},
   "outputs": [
    {
     "data": {
      "text/html": [
       "<div>\n",
       "<style scoped>\n",
       "    .dataframe tbody tr th:only-of-type {\n",
       "        vertical-align: middle;\n",
       "    }\n",
       "\n",
       "    .dataframe tbody tr th {\n",
       "        vertical-align: top;\n",
       "    }\n",
       "\n",
       "    .dataframe thead th {\n",
       "        text-align: right;\n",
       "    }\n",
       "</style>\n",
       "<table border=\"1\" class=\"dataframe\">\n",
       "  <thead>\n",
       "    <tr style=\"text-align: right;\">\n",
       "      <th></th>\n",
       "      <th>Tournament</th>\n",
       "      <th>HandId</th>\n",
       "      <th>DateTime</th>\n",
       "      <th>Time</th>\n",
       "      <th>HandHiro</th>\n",
       "      <th>Board</th>\n",
       "    </tr>\n",
       "  </thead>\n",
       "  <tbody>\n",
       "    <tr>\n",
       "      <th>0</th>\n",
       "      <td>2369603774</td>\n",
       "      <td>189303406555</td>\n",
       "      <td>2018-07-30 00:01:30</td>\n",
       "      <td>0 days 00:01:30</td>\n",
       "      <td>Qh 6h</td>\n",
       "      <td>8h 7d 2h 8c 4s</td>\n",
       "    </tr>\n",
       "    <tr>\n",
       "      <th>1</th>\n",
       "      <td>2369603774</td>\n",
       "      <td>189303615886</td>\n",
       "      <td>2018-07-30 00:05:40</td>\n",
       "      <td>0 days 00:05:40</td>\n",
       "      <td>Qc Td</td>\n",
       "      <td>Qh 5h Js Kd</td>\n",
       "    </tr>\n",
       "    <tr>\n",
       "      <th>2</th>\n",
       "      <td>2369603774</td>\n",
       "      <td>189303670340</td>\n",
       "      <td>2018-07-30 00:06:42</td>\n",
       "      <td>0 days 00:06:42</td>\n",
       "      <td>Ac 7d</td>\n",
       "      <td>2d Ad Ah Js 6s</td>\n",
       "    </tr>\n",
       "    <tr>\n",
       "      <th>3</th>\n",
       "      <td>2369603774</td>\n",
       "      <td>189303726585</td>\n",
       "      <td>2018-07-30 00:07:47</td>\n",
       "      <td>0 days 00:07:47</td>\n",
       "      <td>Tc Qc</td>\n",
       "      <td>Td 5h 2c 5d Kd</td>\n",
       "    </tr>\n",
       "    <tr>\n",
       "      <th>4</th>\n",
       "      <td>2369603774</td>\n",
       "      <td>189303781865</td>\n",
       "      <td>2018-07-30 00:08:51</td>\n",
       "      <td>0 days 00:08:51</td>\n",
       "      <td>Qs 5d</td>\n",
       "      <td>9s 7h Jh 8h 9d</td>\n",
       "    </tr>\n",
       "  </tbody>\n",
       "</table>\n",
       "</div>"
      ],
      "text/plain": [
       "   Tournament        HandId            DateTime            Time HandHiro  \\\n",
       "0  2369603774  189303406555 2018-07-30 00:01:30 0 days 00:01:30    Qh 6h   \n",
       "1  2369603774  189303615886 2018-07-30 00:05:40 0 days 00:05:40    Qc Td   \n",
       "2  2369603774  189303670340 2018-07-30 00:06:42 0 days 00:06:42    Ac 7d   \n",
       "3  2369603774  189303726585 2018-07-30 00:07:47 0 days 00:07:47    Tc Qc   \n",
       "4  2369603774  189303781865 2018-07-30 00:08:51 0 days 00:08:51    Qs 5d   \n",
       "\n",
       "            Board  \n",
       "0  8h 7d 2h 8c 4s  \n",
       "1     Qh 5h Js Kd  \n",
       "2  2d Ad Ah Js 6s  \n",
       "3  Td 5h 2c 5d Kd  \n",
       "4  9s 7h Jh 8h 9d  "
      ]
     },
     "execution_count": 158,
     "metadata": {},
     "output_type": "execute_result"
    }
   ],
   "source": [
    "data_filter = dataf[['Tournament', 'HandId','DateTime', 'Time', 'HandHiro', 'Board']]\n",
    "data_filter.head()"
   ]
  },
  {
   "cell_type": "code",
   "execution_count": 159,
   "metadata": {
    "tags": []
   },
   "outputs": [],
   "source": [
    "# data_filter.groupby(['Tournament']).agg({'HandId': \"count\"}).reset_index()"
   ]
  },
  {
   "cell_type": "code",
   "execution_count": 160,
   "metadata": {
    "tags": []
   },
   "outputs": [
    {
     "data": {
      "text/html": [
       "<div>\n",
       "<style scoped>\n",
       "    .dataframe tbody tr th:only-of-type {\n",
       "        vertical-align: middle;\n",
       "    }\n",
       "\n",
       "    .dataframe tbody tr th {\n",
       "        vertical-align: top;\n",
       "    }\n",
       "\n",
       "    .dataframe thead th {\n",
       "        text-align: right;\n",
       "    }\n",
       "</style>\n",
       "<table border=\"1\" class=\"dataframe\">\n",
       "  <thead>\n",
       "    <tr style=\"text-align: right;\">\n",
       "      <th></th>\n",
       "      <th>Tournament</th>\n",
       "      <th>HandId</th>\n",
       "      <th>DateTime</th>\n",
       "      <th>Time</th>\n",
       "      <th>HandHiro</th>\n",
       "      <th>Board</th>\n",
       "    </tr>\n",
       "  </thead>\n",
       "  <tbody>\n",
       "    <tr>\n",
       "      <th>593</th>\n",
       "      <td>2376756155</td>\n",
       "      <td>189630702725</td>\n",
       "      <td>2018-08-07 22:22:20</td>\n",
       "      <td>0 days 22:22:20</td>\n",
       "      <td>4h 8c</td>\n",
       "      <td>7s 6h 7d 7h Qh</td>\n",
       "    </tr>\n",
       "    <tr>\n",
       "      <th>594</th>\n",
       "      <td>2376756155</td>\n",
       "      <td>189630765334</td>\n",
       "      <td>2018-08-07 22:23:52</td>\n",
       "      <td>0 days 22:23:52</td>\n",
       "      <td>Ac Td</td>\n",
       "      <td>Jh 7c 4s</td>\n",
       "    </tr>\n",
       "    <tr>\n",
       "      <th>595</th>\n",
       "      <td>2376756155</td>\n",
       "      <td>189630831791</td>\n",
       "      <td>2018-08-07 22:25:31</td>\n",
       "      <td>0 days 22:25:31</td>\n",
       "      <td>6s 9s</td>\n",
       "      <td>8d 8s 9d 7s 2h</td>\n",
       "    </tr>\n",
       "    <tr>\n",
       "      <th>596</th>\n",
       "      <td>2376756155</td>\n",
       "      <td>189630879488</td>\n",
       "      <td>2018-08-07 22:26:42</td>\n",
       "      <td>0 days 22:26:42</td>\n",
       "      <td>Ks 3s</td>\n",
       "      <td>2h Jh Jc</td>\n",
       "    </tr>\n",
       "    <tr>\n",
       "      <th>597</th>\n",
       "      <td>2376756155</td>\n",
       "      <td>189630930089</td>\n",
       "      <td>2018-08-07 22:27:56</td>\n",
       "      <td>0 days 22:27:56</td>\n",
       "      <td>2d Jc</td>\n",
       "      <td>Td Qs Ac 7h 7c</td>\n",
       "    </tr>\n",
       "    <tr>\n",
       "      <th>...</th>\n",
       "      <td>...</td>\n",
       "      <td>...</td>\n",
       "      <td>...</td>\n",
       "      <td>...</td>\n",
       "      <td>...</td>\n",
       "      <td>...</td>\n",
       "    </tr>\n",
       "    <tr>\n",
       "      <th>52793</th>\n",
       "      <td>2443486128</td>\n",
       "      <td>192754299389</td>\n",
       "      <td>2018-10-30 14:10:47</td>\n",
       "      <td>0 days 14:10:47</td>\n",
       "      <td>Th 7s</td>\n",
       "      <td>2d 8c As</td>\n",
       "    </tr>\n",
       "    <tr>\n",
       "      <th>52794</th>\n",
       "      <td>2443486128</td>\n",
       "      <td>192754313910</td>\n",
       "      <td>2018-10-30 14:11:30</td>\n",
       "      <td>0 days 14:11:30</td>\n",
       "      <td>8c 2c</td>\n",
       "      <td>8d 8s Kc Td</td>\n",
       "    </tr>\n",
       "    <tr>\n",
       "      <th>52795</th>\n",
       "      <td>2443486128</td>\n",
       "      <td>192754323670</td>\n",
       "      <td>2018-10-30 14:11:59</td>\n",
       "      <td>0 days 14:11:59</td>\n",
       "      <td>Js 6s</td>\n",
       "      <td>5h 9c 4h</td>\n",
       "    </tr>\n",
       "    <tr>\n",
       "      <th>52796</th>\n",
       "      <td>2443486128</td>\n",
       "      <td>192754327821</td>\n",
       "      <td>2018-10-30 14:12:12</td>\n",
       "      <td>0 days 14:12:12</td>\n",
       "      <td>2s Qs</td>\n",
       "      <td>Ts 4c 9h</td>\n",
       "    </tr>\n",
       "    <tr>\n",
       "      <th>52797</th>\n",
       "      <td>2443486128</td>\n",
       "      <td>192754331418</td>\n",
       "      <td>2018-10-30 14:12:22</td>\n",
       "      <td>0 days 14:12:22</td>\n",
       "      <td>Th Kc</td>\n",
       "      <td>6c Qc 3d Js 5s</td>\n",
       "    </tr>\n",
       "  </tbody>\n",
       "</table>\n",
       "<p>1546 rows × 6 columns</p>\n",
       "</div>"
      ],
      "text/plain": [
       "       Tournament        HandId            DateTime            Time HandHiro  \\\n",
       "593    2376756155  189630702725 2018-08-07 22:22:20 0 days 22:22:20    4h 8c   \n",
       "594    2376756155  189630765334 2018-08-07 22:23:52 0 days 22:23:52    Ac Td   \n",
       "595    2376756155  189630831791 2018-08-07 22:25:31 0 days 22:25:31    6s 9s   \n",
       "596    2376756155  189630879488 2018-08-07 22:26:42 0 days 22:26:42    Ks 3s   \n",
       "597    2376756155  189630930089 2018-08-07 22:27:56 0 days 22:27:56    2d Jc   \n",
       "...           ...           ...                 ...             ...      ...   \n",
       "52793  2443486128  192754299389 2018-10-30 14:10:47 0 days 14:10:47    Th 7s   \n",
       "52794  2443486128  192754313910 2018-10-30 14:11:30 0 days 14:11:30    8c 2c   \n",
       "52795  2443486128  192754323670 2018-10-30 14:11:59 0 days 14:11:59    Js 6s   \n",
       "52796  2443486128  192754327821 2018-10-30 14:12:12 0 days 14:12:12    2s Qs   \n",
       "52797  2443486128  192754331418 2018-10-30 14:12:22 0 days 14:12:22    Th Kc   \n",
       "\n",
       "                Board  \n",
       "593    7s 6h 7d 7h Qh  \n",
       "594          Jh 7c 4s  \n",
       "595    8d 8s 9d 7s 2h  \n",
       "596          2h Jh Jc  \n",
       "597    Td Qs Ac 7h 7c  \n",
       "...               ...  \n",
       "52793        2d 8c As  \n",
       "52794     8d 8s Kc Td  \n",
       "52795        5h 9c 4h  \n",
       "52796        Ts 4c 9h  \n",
       "52797  6c Qc 3d Js 5s  \n",
       "\n",
       "[1546 rows x 6 columns]"
      ]
     },
     "execution_count": 160,
     "metadata": {},
     "output_type": "execute_result"
    }
   ],
   "source": [
    "#  Фильтруйте value_counts с помощью isin  https://softhints.com/pandas-how-to-filter-results-of-value_counts/\n",
    "df = data_filter[data_filter['Tournament'].isin(data_filter['Tournament'].\n",
    "                                                 value_counts()[data_filter['Tournament'].value_counts()>100].index)]\n",
    "df"
   ]
  },
  {
   "cell_type": "code",
   "execution_count": 161,
   "metadata": {
    "tags": []
   },
   "outputs": [],
   "source": [
    "#  Используйте group by и lambda для имитации фильтра для value_counts()\n",
    "#df = data_filter.groupby('Tournament').filter(lambda x: len(x) > (data_filter['Tournament'].value_counts().mean()))\n"
   ]
  },
  {
   "cell_type": "code",
   "execution_count": 162,
   "metadata": {},
   "outputs": [
    {
     "data": {
      "text/plain": [
       "2428056269    141\n",
       "2428490625    123\n",
       "2441088093    121\n",
       "2437236305    116\n",
       "2421274457    111\n",
       "2424624408    109\n",
       "2376756155    106\n",
       "2406092557    106\n",
       "2395127346    104\n",
       "2415654063    103\n",
       "2401643232    102\n",
       "2443486128    102\n",
       "2400001613    101\n",
       "2438757352    101\n",
       "Name: Tournament, dtype: int64"
      ]
     },
     "execution_count": 162,
     "metadata": {},
     "output_type": "execute_result"
    }
   ],
   "source": [
    "df.Tournament.value_counts()"
   ]
  },
  {
   "cell_type": "code",
   "execution_count": 118,
   "metadata": {},
   "outputs": [
    {
     "data": {
      "image/png": "[encoded data removed]",
      "text/plain": [
       "<Figure size 640x640 with 1 Axes>"
      ]
     },
     "metadata": {},
     "output_type": "display_data"
    }
   ],
   "source": [
    "# Prepare Data\n",
    "df_plot = df.groupby('Tournament').size()\n",
    "\n",
    "# Make the plot with pandas\n",
    "df_plot.plot(kind='pie', subplots=True, figsize=(8, 8))\n",
    "plt.title(\"Колличество турниров\")\n",
    "plt.ylabel(\"\")\n",
    "plt.show()"
   ]
  },
  {
   "cell_type": "code",
   "execution_count": 119,
   "metadata": {},
   "outputs": [],
   "source": [
    "# объеденяем руку и борд, выводим название комбинации\n",
    "\n",
    "# df['hand'] = df['HandHiro'] + \" \" + df['Board']\n",
    "# # hand = df['hand'].values[7].split()\n",
    "# # print(hand)\n",
    "\n",
    "# hand_ev = [eval7.Card(s) for s in (df['hand'].values[7].split())]\n",
    "# rang = eval7.evaluate(hand_ev)   # ранг комбинации\n",
    "# # print(rang)\n",
    "\n",
    "# eval7s = eval7.handtype(rang)  #  название комбинации\n",
    "\n",
    "# df['rang'] = eval7.evaluate(hand_ev)\n",
    "# df['eval7s'] =  eval7.handtype(rang)"
   ]
  },
  {
   "cell_type": "code",
   "execution_count": 120,
   "metadata": {},
   "outputs": [],
   "source": [
    "# def new_type(row):\n",
    "#     if row.traffic_source.lower() in ('yandex', 'google'):\n",
    "#         return 'organic'\n",
    "#     elif row.traffic_source.lower() in ('paid', 'email'):\n",
    "#         if row.region.lower() == 'russia':\n",
    "#             return 'ad'\n",
    "#         else:\n",
    "#             return 'other'"
   ]
  },
  {
   "cell_type": "code",
   "execution_count": 121,
   "metadata": {},
   "outputs": [],
   "source": [
    "# log['source_type'] = log.apply(new_type, axis = 1)\n",
    "# log.head(12)"
   ]
  },
  {
   "cell_type": "code",
   "execution_count": 122,
   "metadata": {},
   "outputs": [],
   "source": [
    "# log.loc[log.traffic_source.isin(['yandex', 'google']), 'traffic_type'] = 'organic' "
   ]
  },
  {
   "cell_type": "code",
   "execution_count": 123,
   "metadata": {
    "tags": []
   },
   "outputs": [
    {
     "name": "stdout",
     "output_type": "stream",
     "text": [
      "<class 'pandas.core.series.Series'> <class 'list'>\n"
     ]
    },
    {
     "name": "stderr",
     "output_type": "stream",
     "text": [
      "C:\\Users\\artio\\AppData\\Local\\Temp\\ipykernel_33228\\2709538268.py:1: SettingWithCopyWarning: \n",
      "A value is trying to be set on a copy of a slice from a DataFrame.\n",
      "Try using .loc[row_indexer,col_indexer] = value instead\n",
      "\n",
      "See the caveats in the documentation: https://pandas.pydata.org/pandas-docs/stable/user_guide/indexing.html#returning-a-view-versus-a-copy\n",
      "  df['hand_rang'] = df['HandHiro'] + \" \" + df['Board']\n"
     ]
    },
    {
     "data": {
      "text/plain": [
       "['4h', '8c', '7s', '6h', '7d', '7h', 'Qh']"
      ]
     },
     "execution_count": 123,
     "metadata": {},
     "output_type": "execute_result"
    }
   ],
   "source": [
    "df['hand_rang'] = df['HandHiro'] + \" \" + df['Board']\n",
    "df['hand_rang']\n",
    "\n",
    "print(type(df['hand_rang']), type(df['hand_rang'].values[7].split()))\n",
    "df['hand_rang'].values[0].split()"
   ]
  },
  {
   "cell_type": "code",
   "execution_count": 124,
   "metadata": {
    "tags": []
   },
   "outputs": [
    {
     "data": {
      "text/plain": [
       "593      [4h, 8c, 7s, 6h, 7d, 7h, Qh]\n",
       "594              [Ac, Td, Jh, 7c, 4s]\n",
       "595      [6s, 9s, 8d, 8s, 9d, 7s, 2h]\n",
       "596              [Ks, 3s, 2h, Jh, Jc]\n",
       "597      [2d, Jc, Td, Qs, Ac, 7h, 7c]\n",
       "                     ...             \n",
       "52793            [Th, 7s, 2d, 8c, As]\n",
       "52794        [8c, 2c, 8d, 8s, Kc, Td]\n",
       "52795            [Js, 6s, 5h, 9c, 4h]\n",
       "52796            [2s, Qs, Ts, 4c, 9h]\n",
       "52797    [Th, Kc, 6c, Qc, 3d, Js, 5s]\n",
       "Name: hand_rang, Length: 1546, dtype: object"
      ]
     },
     "execution_count": 124,
     "metadata": {},
     "output_type": "execute_result"
    }
   ],
   "source": [
    "# df['hand_rang'].to_list()\n",
    "# df['hand_rang'].tolist()\n",
    "# np.array(df['hand_rang'].tolist())\n",
    "# Ls = list(df['hand_rang'])\n",
    "ls = df['hand_rang'].str.split()\n",
    "ls"
   ]
  },
  {
   "cell_type": "code",
   "execution_count": 3,
   "metadata": {
    "tags": []
   },
   "outputs": [
    {
     "data": {
      "text/plain": [
       "(17209424,\n",
       " [Card(\"Jh\"),\n",
       "  Card(\"Td\"),\n",
       "  Card(\"8h\"),\n",
       "  Card(\"8c\"),\n",
       "  Card(\"7c\"),\n",
       "  Card(\"3h\"),\n",
       "  Card(\"6d\")])"
      ]
     },
     "execution_count": 3,
     "metadata": {},
     "output_type": "execute_result"
    }
   ],
   "source": [
    "# напишем функцию получения ранг комбинации\n",
    "\n",
    "def evaluate_(hand):\n",
    "    \"\"\"\n",
    "    На вход получает карты, на выход \n",
    "    число ранг по eval7\n",
    "    \"\"\"\n",
    "    hand_ev = [eval7.Card(s) for s in (hand)]\n",
    "    return eval7.evaluate(hand_ev),hand_ev\n",
    "\n",
    "a = ('Jh', 'Td', '8h', '8c', '7c', '3h', '6d')\n",
    "evaluate_(a)"
   ]
  },
  {
   "cell_type": "code",
   "execution_count": 126,
   "metadata": {},
   "outputs": [
    {
     "data": {
      "text/plain": [
       "'Pair'"
      ]
     },
     "execution_count": 126,
     "metadata": {},
     "output_type": "execute_result"
    }
   ],
   "source": [
    "# напишем функцию получения названия ранга\n",
    "\n",
    "def handtype_(rang):\n",
    "    \"\"\"\n",
    "    На вход получает ранг, на выход \n",
    "    название комбинации\n",
    "    \"\"\"\n",
    "    return eval7.handtype(rang)\n",
    "\n",
    "handtype_(17209424)"
   ]
  },
  {
   "cell_type": "code",
   "execution_count": 127,
   "metadata": {
    "tags": []
   },
   "outputs": [
    {
     "name": "stderr",
     "output_type": "stream",
     "text": [
      "C:\\Users\\artio\\AppData\\Local\\Temp\\ipykernel_33228\\679876584.py:3: SettingWithCopyWarning: \n",
      "A value is trying to be set on a copy of a slice from a DataFrame.\n",
      "Try using .loc[row_indexer,col_indexer] = value instead\n",
      "\n",
      "See the caveats in the documentation: https://pandas.pydata.org/pandas-docs/stable/user_guide/indexing.html#returning-a-view-versus-a-copy\n",
      "  df['rang_namber'] = df['hand_rang'].str.split().apply(evaluate_)\n",
      "C:\\Users\\artio\\AppData\\Local\\Temp\\ipykernel_33228\\679876584.py:4: SettingWithCopyWarning: \n",
      "A value is trying to be set on a copy of a slice from a DataFrame.\n",
      "Try using .loc[row_indexer,col_indexer] = value instead\n",
      "\n",
      "See the caveats in the documentation: https://pandas.pydata.org/pandas-docs/stable/user_guide/indexing.html#returning-a-view-versus-a-copy\n",
      "  df['handtypes'] = df['rang_namber'].apply(handtype_)\n"
     ]
    },
    {
     "data": {
      "text/html": [
       "<div>\n",
       "<style scoped>\n",
       "    .dataframe tbody tr th:only-of-type {\n",
       "        vertical-align: middle;\n",
       "    }\n",
       "\n",
       "    .dataframe tbody tr th {\n",
       "        vertical-align: top;\n",
       "    }\n",
       "\n",
       "    .dataframe thead th {\n",
       "        text-align: right;\n",
       "    }\n",
       "</style>\n",
       "<table border=\"1\" class=\"dataframe\">\n",
       "  <thead>\n",
       "    <tr style=\"text-align: right;\">\n",
       "      <th></th>\n",
       "      <th>rang_namber</th>\n",
       "      <th>handtypes</th>\n",
       "      <th>HandHiro</th>\n",
       "      <th>Board</th>\n",
       "    </tr>\n",
       "  </thead>\n",
       "  <tbody>\n",
       "    <tr>\n",
       "      <th>593</th>\n",
       "      <td>50701824</td>\n",
       "      <td>Trips</td>\n",
       "      <td>4h 8c</td>\n",
       "      <td>7s 6h 7d 7h Qh</td>\n",
       "    </tr>\n",
       "    <tr>\n",
       "      <th>594</th>\n",
       "      <td>825426</td>\n",
       "      <td>High Card</td>\n",
       "      <td>Ac Td</td>\n",
       "      <td>Jh 7c 4s</td>\n",
       "    </tr>\n",
       "    <tr>\n",
       "      <th>595</th>\n",
       "      <td>34039040</td>\n",
       "      <td>Two Pair</td>\n",
       "      <td>6s 9s</td>\n",
       "      <td>8d 8s 9d 7s 2h</td>\n",
       "    </tr>\n",
       "    <tr>\n",
       "      <th>596</th>\n",
       "      <td>17412352</td>\n",
       "      <td>Pair</td>\n",
       "      <td>Ks 3s</td>\n",
       "      <td>2h Jh Jc</td>\n",
       "    </tr>\n",
       "    <tr>\n",
       "      <th>597</th>\n",
       "      <td>17156752</td>\n",
       "      <td>Pair</td>\n",
       "      <td>2d Jc</td>\n",
       "      <td>Td Qs Ac 7h 7c</td>\n",
       "    </tr>\n",
       "    <tr>\n",
       "      <th>598</th>\n",
       "      <td>16828784</td>\n",
       "      <td>Pair</td>\n",
       "      <td>Js 2s</td>\n",
       "      <td>9h 8s 2d Ac 5c</td>\n",
       "    </tr>\n",
       "    <tr>\n",
       "      <th>599</th>\n",
       "      <td>16894048</td>\n",
       "      <td>Pair</td>\n",
       "      <td>3c 6d</td>\n",
       "      <td>Th 8c 3s Ah 5c</td>\n",
       "    </tr>\n",
       "    <tr>\n",
       "      <th>600</th>\n",
       "      <td>101462016</td>\n",
       "      <td>Full House</td>\n",
       "      <td>5c Ah</td>\n",
       "      <td>Qd 8h As Ad 5s</td>\n",
       "    </tr>\n",
       "    <tr>\n",
       "      <th>601</th>\n",
       "      <td>67895296</td>\n",
       "      <td>Straight</td>\n",
       "      <td>Th Jd</td>\n",
       "      <td>2d Ac Kd Qd 2h</td>\n",
       "    </tr>\n",
       "    <tr>\n",
       "      <th>602</th>\n",
       "      <td>17348432</td>\n",
       "      <td>Pair</td>\n",
       "      <td>Kc 5s</td>\n",
       "      <td>7c Ts 4s Tc 9s</td>\n",
       "    </tr>\n",
       "    <tr>\n",
       "      <th>603</th>\n",
       "      <td>17085984</td>\n",
       "      <td>Pair</td>\n",
       "      <td>8c 4s</td>\n",
       "      <td>6d 6c Ks</td>\n",
       "    </tr>\n",
       "    <tr>\n",
       "      <th>604</th>\n",
       "      <td>17287776</td>\n",
       "      <td>Pair</td>\n",
       "      <td>9s 9d</td>\n",
       "      <td>8c Qs Ad 7d 4d</td>\n",
       "    </tr>\n",
       "    <tr>\n",
       "      <th>605</th>\n",
       "      <td>689952</td>\n",
       "      <td>High Card</td>\n",
       "      <td>Qd Tc</td>\n",
       "      <td>9c 4h 2d</td>\n",
       "    </tr>\n",
       "    <tr>\n",
       "      <th>606</th>\n",
       "      <td>833910</td>\n",
       "      <td>High Card</td>\n",
       "      <td>9s 7d</td>\n",
       "      <td>Kc Jc 8c 6c Ad</td>\n",
       "    </tr>\n",
       "    <tr>\n",
       "      <th>607</th>\n",
       "      <td>34028032</td>\n",
       "      <td>Two Pair</td>\n",
       "      <td>5h 5d</td>\n",
       "      <td>9h 3h Qc 9c 8s</td>\n",
       "    </tr>\n",
       "    <tr>\n",
       "      <th>608</th>\n",
       "      <td>17417792</td>\n",
       "      <td>Pair</td>\n",
       "      <td>Js Jd</td>\n",
       "      <td>8h 3d 2c 6h Ah</td>\n",
       "    </tr>\n",
       "    <tr>\n",
       "      <th>609</th>\n",
       "      <td>34237440</td>\n",
       "      <td>Two Pair</td>\n",
       "      <td>4h Kd</td>\n",
       "      <td>8d Ac Qd 8s Qs</td>\n",
       "    </tr>\n",
       "    <tr>\n",
       "      <th>610</th>\n",
       "      <td>33958144</td>\n",
       "      <td>Two Pair</td>\n",
       "      <td>8h 4c</td>\n",
       "      <td>4d 8s 6d Td Jd</td>\n",
       "    </tr>\n",
       "    <tr>\n",
       "      <th>611</th>\n",
       "      <td>829505</td>\n",
       "      <td>High Card</td>\n",
       "      <td>Ad Tc</td>\n",
       "      <td>6h 3s Qd</td>\n",
       "    </tr>\n",
       "    <tr>\n",
       "      <th>612</th>\n",
       "      <td>17150464</td>\n",
       "      <td>Pair</td>\n",
       "      <td>2c 7h</td>\n",
       "      <td>4d Ks 7c</td>\n",
       "    </tr>\n",
       "  </tbody>\n",
       "</table>\n",
       "</div>"
      ],
      "text/plain": [
       "     rang_namber   handtypes HandHiro           Board\n",
       "593     50701824       Trips    4h 8c  7s 6h 7d 7h Qh\n",
       "594       825426   High Card    Ac Td        Jh 7c 4s\n",
       "595     34039040    Two Pair    6s 9s  8d 8s 9d 7s 2h\n",
       "596     17412352        Pair    Ks 3s        2h Jh Jc\n",
       "597     17156752        Pair    2d Jc  Td Qs Ac 7h 7c\n",
       "598     16828784        Pair    Js 2s  9h 8s 2d Ac 5c\n",
       "599     16894048        Pair    3c 6d  Th 8c 3s Ah 5c\n",
       "600    101462016  Full House    5c Ah  Qd 8h As Ad 5s\n",
       "601     67895296    Straight    Th Jd  2d Ac Kd Qd 2h\n",
       "602     17348432        Pair    Kc 5s  7c Ts 4s Tc 9s\n",
       "603     17085984        Pair    8c 4s        6d 6c Ks\n",
       "604     17287776        Pair    9s 9d  8c Qs Ad 7d 4d\n",
       "605       689952   High Card    Qd Tc        9c 4h 2d\n",
       "606       833910   High Card    9s 7d  Kc Jc 8c 6c Ad\n",
       "607     34028032    Two Pair    5h 5d  9h 3h Qc 9c 8s\n",
       "608     17417792        Pair    Js Jd  8h 3d 2c 6h Ah\n",
       "609     34237440    Two Pair    4h Kd  8d Ac Qd 8s Qs\n",
       "610     33958144    Two Pair    8h 4c  4d 8s 6d Td Jd\n",
       "611       829505   High Card    Ad Tc        6h 3s Qd\n",
       "612     17150464        Pair    2c 7h        4d Ks 7c"
      ]
     },
     "execution_count": 127,
     "metadata": {},
     "output_type": "execute_result"
    }
   ],
   "source": [
    "# Применим функцию к столбцу hand  и запишем в новый столбец rang_namber\n",
    "\n",
    "df['rang_namber'] = df['hand_rang'].str.split().apply(evaluate_)\n",
    "df['handtypes'] = df['rang_namber'].apply(handtype_)\n",
    "df[['rang_namber', 'handtypes','HandHiro', 'Board']].head(20)\n",
    "# df['filter'] = df.loc[df.handtypes.str.contains('Two Pair', 'Trips', 'Straight', 'Full House', 'Quads', 'Straight Flush'), 'rang_namber']"
   ]
  },
  {
   "cell_type": "code",
   "execution_count": 128,
   "metadata": {
    "tags": []
   },
   "outputs": [],
   "source": [
    "# df.sort_values(by=['handtypes', 'rang_namber'])"
   ]
  },
  {
   "cell_type": "code",
   "execution_count": 129,
   "metadata": {
    "tags": []
   },
   "outputs": [],
   "source": [
    "# df.groupby('handtypes')['rang_namber'].value_counts()"
   ]
  },
  {
   "cell_type": "markdown",
   "metadata": {},
   "source": [
    "### Создадим сводную таблицу, что-бы проверить наличие аномалий"
   ]
  },
  {
   "cell_type": "code",
   "execution_count": 130,
   "metadata": {},
   "outputs": [],
   "source": [
    "# filter by single day\n",
    "dataf_m = dataf[dataf['DateTime'].dt.strftime('%d') == '06']"
   ]
  },
  {
   "cell_type": "code",
   "execution_count": 131,
   "metadata": {
    "tags": []
   },
   "outputs": [
    {
     "data": {
      "text/html": [
       "<div>\n",
       "<style scoped>\n",
       "    .dataframe tbody tr th:only-of-type {\n",
       "        vertical-align: middle;\n",
       "    }\n",
       "\n",
       "    .dataframe tbody tr th {\n",
       "        vertical-align: top;\n",
       "    }\n",
       "\n",
       "    .dataframe thead th {\n",
       "        text-align: right;\n",
       "    }\n",
       "</style>\n",
       "<table border=\"1\" class=\"dataframe\">\n",
       "  <thead>\n",
       "    <tr style=\"text-align: right;\">\n",
       "      <th></th>\n",
       "      <th>Tournament</th>\n",
       "      <th>handtypes</th>\n",
       "      <th>rang_namber</th>\n",
       "    </tr>\n",
       "  </thead>\n",
       "  <tbody>\n",
       "    <tr>\n",
       "      <th>593</th>\n",
       "      <td>2376756155</td>\n",
       "      <td>Trips</td>\n",
       "      <td>50701824</td>\n",
       "    </tr>\n",
       "    <tr>\n",
       "      <th>594</th>\n",
       "      <td>2376756155</td>\n",
       "      <td>High Card</td>\n",
       "      <td>825426</td>\n",
       "    </tr>\n",
       "    <tr>\n",
       "      <th>595</th>\n",
       "      <td>2376756155</td>\n",
       "      <td>Two Pair</td>\n",
       "      <td>34039040</td>\n",
       "    </tr>\n",
       "    <tr>\n",
       "      <th>596</th>\n",
       "      <td>2376756155</td>\n",
       "      <td>Pair</td>\n",
       "      <td>17412352</td>\n",
       "    </tr>\n",
       "    <tr>\n",
       "      <th>597</th>\n",
       "      <td>2376756155</td>\n",
       "      <td>Pair</td>\n",
       "      <td>17156752</td>\n",
       "    </tr>\n",
       "  </tbody>\n",
       "</table>\n",
       "</div>"
      ],
      "text/plain": [
       "     Tournament  handtypes  rang_namber\n",
       "593  2376756155      Trips     50701824\n",
       "594  2376756155  High Card       825426\n",
       "595  2376756155   Two Pair     34039040\n",
       "596  2376756155       Pair     17412352\n",
       "597  2376756155       Pair     17156752"
      ]
     },
     "execution_count": 131,
     "metadata": {},
     "output_type": "execute_result"
    }
   ],
   "source": [
    "df[['Tournament', 'handtypes', 'rang_namber']].head()  # применим фильтер по столбцам"
   ]
  },
  {
   "cell_type": "code",
   "execution_count": 132,
   "metadata": {
    "tags": []
   },
   "outputs": [
    {
     "data": {
      "text/html": [
       "<div>\n",
       "<style scoped>\n",
       "    .dataframe tbody tr th:only-of-type {\n",
       "        vertical-align: middle;\n",
       "    }\n",
       "\n",
       "    .dataframe tbody tr th {\n",
       "        vertical-align: top;\n",
       "    }\n",
       "\n",
       "    .dataframe thead th {\n",
       "        text-align: right;\n",
       "    }\n",
       "</style>\n",
       "<table border=\"1\" class=\"dataframe\">\n",
       "  <thead>\n",
       "    <tr style=\"text-align: right;\">\n",
       "      <th></th>\n",
       "      <th></th>\n",
       "      <th>HandId</th>\n",
       "      <th>rang_namber</th>\n",
       "    </tr>\n",
       "    <tr>\n",
       "      <th>Tournament</th>\n",
       "      <th>handtypes</th>\n",
       "      <th></th>\n",
       "      <th></th>\n",
       "    </tr>\n",
       "  </thead>\n",
       "  <tbody>\n",
       "    <tr>\n",
       "      <th rowspan=\"5\" valign=\"top\">2376756155</th>\n",
       "      <th>Flush</th>\n",
       "      <td>1.896335e+11</td>\n",
       "      <td>8.465007e+07</td>\n",
       "    </tr>\n",
       "    <tr>\n",
       "      <th>Full House</th>\n",
       "      <td>1.896327e+11</td>\n",
       "      <td>1.011073e+08</td>\n",
       "    </tr>\n",
       "    <tr>\n",
       "      <th>High Card</th>\n",
       "      <td>1.896327e+11</td>\n",
       "      <td>7.829009e+05</td>\n",
       "    </tr>\n",
       "    <tr>\n",
       "      <th>Pair</th>\n",
       "      <td>1.896327e+11</td>\n",
       "      <td>1.722032e+07</td>\n",
       "    </tr>\n",
       "    <tr>\n",
       "      <th>Straight</th>\n",
       "      <td>1.896329e+11</td>\n",
       "      <td>6.763315e+07</td>\n",
       "    </tr>\n",
       "    <tr>\n",
       "      <th>...</th>\n",
       "      <th>...</th>\n",
       "      <td>...</td>\n",
       "      <td>...</td>\n",
       "    </tr>\n",
       "    <tr>\n",
       "      <th rowspan=\"5\" valign=\"top\">2443486128</th>\n",
       "      <th>High Card</th>\n",
       "      <td>1.927539e+11</td>\n",
       "      <td>7.533628e+05</td>\n",
       "    </tr>\n",
       "    <tr>\n",
       "      <th>Pair</th>\n",
       "      <td>1.927538e+11</td>\n",
       "      <td>1.717030e+07</td>\n",
       "    </tr>\n",
       "    <tr>\n",
       "      <th>Straight</th>\n",
       "      <td>1.927541e+11</td>\n",
       "      <td>6.761677e+07</td>\n",
       "    </tr>\n",
       "    <tr>\n",
       "      <th>Trips</th>\n",
       "      <td>1.927543e+11</td>\n",
       "      <td>5.077197e+07</td>\n",
       "    </tr>\n",
       "    <tr>\n",
       "      <th>Two Pair</th>\n",
       "      <td>1.927539e+11</td>\n",
       "      <td>3.411114e+07</td>\n",
       "    </tr>\n",
       "  </tbody>\n",
       "</table>\n",
       "<p>97 rows × 2 columns</p>\n",
       "</div>"
      ],
      "text/plain": [
       "                             HandId   rang_namber\n",
       "Tournament handtypes                             \n",
       "2376756155 Flush       1.896335e+11  8.465007e+07\n",
       "           Full House  1.896327e+11  1.011073e+08\n",
       "           High Card   1.896327e+11  7.829009e+05\n",
       "           Pair        1.896327e+11  1.722032e+07\n",
       "           Straight    1.896329e+11  6.763315e+07\n",
       "...                             ...           ...\n",
       "2443486128 High Card   1.927539e+11  7.533628e+05\n",
       "           Pair        1.927538e+11  1.717030e+07\n",
       "           Straight    1.927541e+11  6.761677e+07\n",
       "           Trips       1.927543e+11  5.077197e+07\n",
       "           Two Pair    1.927539e+11  3.411114e+07\n",
       "\n",
       "[97 rows x 2 columns]"
      ]
     },
     "execution_count": 132,
     "metadata": {},
     "output_type": "execute_result"
    }
   ],
   "source": [
    "pd.pivot_table(df, index=[\"Tournament\", \"handtypes\"])"
   ]
  },
  {
   "cell_type": "code",
   "execution_count": 133,
   "metadata": {},
   "outputs": [
    {
     "data": {
      "text/html": [
       "<div>\n",
       "<style scoped>\n",
       "    .dataframe tbody tr th:only-of-type {\n",
       "        vertical-align: middle;\n",
       "    }\n",
       "\n",
       "    .dataframe tbody tr th {\n",
       "        vertical-align: top;\n",
       "    }\n",
       "\n",
       "    .dataframe thead th {\n",
       "        text-align: right;\n",
       "    }\n",
       "</style>\n",
       "<table border=\"1\" class=\"dataframe\">\n",
       "  <thead>\n",
       "    <tr style=\"text-align: right;\">\n",
       "      <th></th>\n",
       "      <th></th>\n",
       "      <th>rang_namber</th>\n",
       "    </tr>\n",
       "    <tr>\n",
       "      <th>Tournament</th>\n",
       "      <th>handtypes</th>\n",
       "      <th></th>\n",
       "    </tr>\n",
       "  </thead>\n",
       "  <tbody>\n",
       "    <tr>\n",
       "      <th rowspan=\"5\" valign=\"top\">2376756155</th>\n",
       "      <th>Flush</th>\n",
       "      <td>1</td>\n",
       "    </tr>\n",
       "    <tr>\n",
       "      <th>Full House</th>\n",
       "      <td>5</td>\n",
       "    </tr>\n",
       "    <tr>\n",
       "      <th>High Card</th>\n",
       "      <td>22</td>\n",
       "    </tr>\n",
       "    <tr>\n",
       "      <th>Pair</th>\n",
       "      <td>54</td>\n",
       "    </tr>\n",
       "    <tr>\n",
       "      <th>Straight</th>\n",
       "      <td>6</td>\n",
       "    </tr>\n",
       "    <tr>\n",
       "      <th>...</th>\n",
       "      <th>...</th>\n",
       "      <td>...</td>\n",
       "    </tr>\n",
       "    <tr>\n",
       "      <th rowspan=\"5\" valign=\"top\">2443486128</th>\n",
       "      <th>High Card</th>\n",
       "      <td>34</td>\n",
       "    </tr>\n",
       "    <tr>\n",
       "      <th>Pair</th>\n",
       "      <td>42</td>\n",
       "    </tr>\n",
       "    <tr>\n",
       "      <th>Straight</th>\n",
       "      <td>4</td>\n",
       "    </tr>\n",
       "    <tr>\n",
       "      <th>Trips</th>\n",
       "      <td>1</td>\n",
       "    </tr>\n",
       "    <tr>\n",
       "      <th>Two Pair</th>\n",
       "      <td>17</td>\n",
       "    </tr>\n",
       "  </tbody>\n",
       "</table>\n",
       "<p>97 rows × 1 columns</p>\n",
       "</div>"
      ],
      "text/plain": [
       "                       rang_namber\n",
       "Tournament handtypes              \n",
       "2376756155 Flush                 1\n",
       "           Full House            5\n",
       "           High Card            22\n",
       "           Pair                 54\n",
       "           Straight              6\n",
       "...                            ...\n",
       "2443486128 High Card            34\n",
       "           Pair                 42\n",
       "           Straight              4\n",
       "           Trips                 1\n",
       "           Two Pair             17\n",
       "\n",
       "[97 rows x 1 columns]"
      ]
     },
     "execution_count": 133,
     "metadata": {},
     "output_type": "execute_result"
    }
   ],
   "source": [
    "# явно определив столбцы, которые нам нужны,\n",
    "pd.pivot_table(df,\n",
    "               index=[\"Tournament\", \"handtypes\"],\n",
    "               values=[\"rang_namber\"],\n",
    "               aggfunc= len)   # aggfunc=[np.mean, len])"
   ]
  },
  {
   "cell_type": "code",
   "execution_count": 134,
   "metadata": {},
   "outputs": [
    {
     "data": {
      "text/plain": [
       "2428056269    141\n",
       "2428490625    123\n",
       "2441088093    121\n",
       "2437236305    116\n",
       "2421274457    111\n",
       "2424624408    109\n",
       "2376756155    106\n",
       "2406092557    106\n",
       "2395127346    104\n",
       "2415654063    103\n",
       "2401643232    102\n",
       "2443486128    102\n",
       "2400001613    101\n",
       "2438757352    101\n",
       "Name: Tournament, dtype: int64"
      ]
     },
     "execution_count": 134,
     "metadata": {},
     "output_type": "execute_result"
    }
   ],
   "source": [
    "df.Tournament.value_counts()"
   ]
  },
  {
   "cell_type": "code",
   "execution_count": 135,
   "metadata": {},
   "outputs": [],
   "source": [
    "# df['Time'].value_counts()"
   ]
  },
  {
   "cell_type": "code",
   "execution_count": 136,
   "metadata": {},
   "outputs": [
    {
     "data": {
      "image/png": "[encoded data removed]",
      "text/plain": [
       "<Figure size 640x640 with 1 Axes>"
      ]
     },
     "metadata": {},
     "output_type": "display_data"
    }
   ],
   "source": [
    "# Prepare Data\n",
    "df_plot = df.groupby('handtypes').size()\n",
    "\n",
    "# Make the plot with pandas\n",
    "df_plot.plot(kind='area', subplots=True, figsize=(8, 8))\n",
    "plt.title(\"Колличество комбинаций\")\n",
    "plt.ylabel(\"\")\n",
    "plt.show()"
   ]
  },
  {
   "cell_type": "code",
   "execution_count": 137,
   "metadata": {
    "tags": []
   },
   "outputs": [],
   "source": [
    "# df['DateTime'] = df['DateTime'][(df['DateTime'] > '2018-10-01 20:00:00') & (df['DateTime'] < '2022-10-02 00:00:00')]\n",
    "# df['DateTime']\n"
   ]
  },
  {
   "cell_type": "code",
   "execution_count": 138,
   "metadata": {
    "tags": []
   },
   "outputs": [
    {
     "name": "stderr",
     "output_type": "stream",
     "text": [
      "C:\\Users\\artio\\AppData\\Local\\Temp\\ipykernel_33228\\446220528.py:2: SettingWithCopyWarning: \n",
      "A value is trying to be set on a copy of a slice from a DataFrame.\n",
      "Try using .loc[row_indexer,col_indexer] = value instead\n",
      "\n",
      "See the caveats in the documentation: https://pandas.pydata.org/pandas-docs/stable/user_guide/indexing.html#returning-a-view-versus-a-copy\n",
      "  df['no_par'] = df['rang_namber'][df['rang_namber'] > 50000000] #[((df['rang_namber'] > 50000000) & (df['rang_namber'] < 60000000))]\n"
     ]
    },
    {
     "data": {
      "text/html": [
       "<div>\n",
       "<style scoped>\n",
       "    .dataframe tbody tr th:only-of-type {\n",
       "        vertical-align: middle;\n",
       "    }\n",
       "\n",
       "    .dataframe tbody tr th {\n",
       "        vertical-align: top;\n",
       "    }\n",
       "\n",
       "    .dataframe thead th {\n",
       "        text-align: right;\n",
       "    }\n",
       "</style>\n",
       "<table border=\"1\" class=\"dataframe\">\n",
       "  <thead>\n",
       "    <tr style=\"text-align: right;\">\n",
       "      <th></th>\n",
       "      <th>Time</th>\n",
       "      <th>no_par</th>\n",
       "      <th>handtypes</th>\n",
       "    </tr>\n",
       "  </thead>\n",
       "  <tbody>\n",
       "    <tr>\n",
       "      <th>593</th>\n",
       "      <td>0 days 22:22:20</td>\n",
       "      <td>50701824.0</td>\n",
       "      <td>Trips</td>\n",
       "    </tr>\n",
       "    <tr>\n",
       "      <th>600</th>\n",
       "      <td>0 days 22:30:28</td>\n",
       "      <td>101462016.0</td>\n",
       "      <td>Full House</td>\n",
       "    </tr>\n",
       "    <tr>\n",
       "      <th>601</th>\n",
       "      <td>0 days 22:31:51</td>\n",
       "      <td>67895296.0</td>\n",
       "      <td>Straight</td>\n",
       "    </tr>\n",
       "    <tr>\n",
       "      <th>619</th>\n",
       "      <td>0 days 22:50:10</td>\n",
       "      <td>101130240.0</td>\n",
       "      <td>Full House</td>\n",
       "    </tr>\n",
       "    <tr>\n",
       "      <th>633</th>\n",
       "      <td>0 days 23:09:42</td>\n",
       "      <td>50492672.0</td>\n",
       "      <td>Trips</td>\n",
       "    </tr>\n",
       "    <tr>\n",
       "      <th>639</th>\n",
       "      <td>0 days 23:13:22</td>\n",
       "      <td>67502080.0</td>\n",
       "      <td>Straight</td>\n",
       "    </tr>\n",
       "    <tr>\n",
       "      <th>642</th>\n",
       "      <td>0 days 23:15:44</td>\n",
       "      <td>50973184.0</td>\n",
       "      <td>Trips</td>\n",
       "    </tr>\n",
       "    <tr>\n",
       "      <th>650</th>\n",
       "      <td>0 days 23:19:35</td>\n",
       "      <td>101122048.0</td>\n",
       "      <td>Full House</td>\n",
       "    </tr>\n",
       "    <tr>\n",
       "      <th>651</th>\n",
       "      <td>0 days 23:19:54</td>\n",
       "      <td>67567616.0</td>\n",
       "      <td>Straight</td>\n",
       "    </tr>\n",
       "    <tr>\n",
       "      <th>657</th>\n",
       "      <td>0 days 23:22:59</td>\n",
       "      <td>50775296.0</td>\n",
       "      <td>Trips</td>\n",
       "    </tr>\n",
       "  </tbody>\n",
       "</table>\n",
       "</div>"
      ],
      "text/plain": [
       "               Time       no_par   handtypes\n",
       "593 0 days 22:22:20   50701824.0       Trips\n",
       "600 0 days 22:30:28  101462016.0  Full House\n",
       "601 0 days 22:31:51   67895296.0    Straight\n",
       "619 0 days 22:50:10  101130240.0  Full House\n",
       "633 0 days 23:09:42   50492672.0       Trips\n",
       "639 0 days 23:13:22   67502080.0    Straight\n",
       "642 0 days 23:15:44   50973184.0       Trips\n",
       "650 0 days 23:19:35  101122048.0  Full House\n",
       "651 0 days 23:19:54   67567616.0    Straight\n",
       "657 0 days 23:22:59   50775296.0       Trips"
      ]
     },
     "execution_count": 138,
     "metadata": {},
     "output_type": "execute_result"
    }
   ],
   "source": [
    "# отфильтруем комбинации \"старшая карта\" и \"пара\"\n",
    "df['no_par'] = df['rang_namber'][df['rang_namber'] > 50000000] #[((df['rang_namber'] > 50000000) & (df['rang_namber'] < 60000000))]\n",
    "df = df.dropna()\n",
    "df[['Time', 'no_par', 'handtypes']].head(10)\n",
    "# df['filter_Two Pair'] = df['handtypes'][df['handtypes'] == 'Two Pair']\n",
    "# df['filter_Two Pair']"
   ]
  },
  {
   "cell_type": "code",
   "execution_count": 139,
   "metadata": {},
   "outputs": [
    {
     "data": {
      "text/plain": [
       "Tournament     0\n",
       "HandId         0\n",
       "DateTime       0\n",
       "Time           0\n",
       "HandHiro       0\n",
       "Board          0\n",
       "hand_rang      0\n",
       "rang_namber    0\n",
       "handtypes      0\n",
       "no_par         0\n",
       "dtype: int64"
      ]
     },
     "execution_count": 139,
     "metadata": {},
     "output_type": "execute_result"
    }
   ],
   "source": [
    "df.isnull().sum()"
   ]
  },
  {
   "cell_type": "code",
   "execution_count": 140,
   "metadata": {
    "tags": []
   },
   "outputs": [],
   "source": [
    "# преобразуем время во временной ряд"
   ]
  },
  {
   "cell_type": "code",
   "execution_count": 141,
   "metadata": {
    "tags": []
   },
   "outputs": [
    {
     "data": {
      "text/plain": [
       "Time\n",
       "0 days 22:22:20      0\n",
       "0 days 22:30:28      1\n",
       "0 days 22:31:51      2\n",
       "0 days 22:50:10      3\n",
       "0 days 23:09:42      4\n",
       "                  ... \n",
       "0 days 13:58:07    167\n",
       "0 days 13:59:43    168\n",
       "0 days 14:00:44    169\n",
       "0 days 14:06:44    170\n",
       "0 days 14:11:30    171\n",
       "Length: 172, dtype: int64"
      ]
     },
     "execution_count": 141,
     "metadata": {},
     "output_type": "execute_result"
    }
   ],
   "source": [
    "\n",
    "\n",
    "idx = df['Time']\n",
    " # datetime.timedelta(seconds=24*60*60).total_seconds()\n",
    "\n",
    "# second = df['DateTime'].dt.total_seconds()\n",
    "# second\n",
    "\n",
    "# idx = pd.date_range(df['DateTime'], periods=5, freq=\"H\")\n",
    "# idx\n",
    "tim = pd.Series(range(len(idx)), index=idx)\n",
    "\n",
    "# ts.resample(\"2H\").mean()\n",
    "tim"
   ]
  },
  {
   "cell_type": "code",
   "execution_count": 142,
   "metadata": {},
   "outputs": [],
   "source": [
    "# df = df.set_index(\"Time\")\n",
    "# df"
   ]
  },
  {
   "cell_type": "code",
   "execution_count": 143,
   "metadata": {
    "tags": []
   },
   "outputs": [
    {
     "data": {
      "text/plain": [
       "[<matplotlib.lines.Line2D at 0x276bdf48c70>]"
      ]
     },
     "execution_count": 143,
     "metadata": {},
     "output_type": "execute_result"
    },
    {
     "data": {
      "image/png": "[encoded data removed]",
      "text/plain": [
       "<Figure size 960x800 with 1 Axes>"
      ]
     },
     "metadata": {},
     "output_type": "display_data"
    }
   ],
   "source": [
    "\n",
    "import matplotlib.pyplot as plt\n",
    " \n",
    "# Using a inbuilt style to change\n",
    "# the look and feel of the plot\n",
    "plt.style.use(\"classic\")\n",
    " \n",
    "# setting figure size to 12, 10\n",
    "plt.figure(figsize=(12, 10))\n",
    " \n",
    "# Labelling the axes and setting\n",
    "# a title\n",
    "plt.xlabel(\"Time\")\n",
    "plt.ylabel(\"Values\")\n",
    "plt.title(\"Sample Time Series Plot\")\n",
    " \n",
    "# plotting the \"A\" column alone\n",
    "plt.plot(df[\"handtypes\"])"
   ]
  },
  {
   "cell_type": "code",
   "execution_count": 144,
   "metadata": {},
   "outputs": [
    {
     "data": {
      "text/plain": [
       "array([<AxesSubplot:>, <AxesSubplot:>, <AxesSubplot:>, <AxesSubplot:>,\n",
       "       <AxesSubplot:>, <AxesSubplot:>], dtype=object)"
      ]
     },
     "execution_count": 144,
     "metadata": {},
     "output_type": "execute_result"
    },
    {
     "data": {
      "image/png": "[encoded data removed]",
      "text/plain": [
       "<Figure size 960x1200 with 6 Axes>"
      ]
     },
     "metadata": {},
     "output_type": "display_data"
    }
   ],
   "source": [
    "df.plot(subplots=True, figsize=(12, 15))"
   ]
  },
  {
   "cell_type": "code",
   "execution_count": 145,
   "metadata": {},
   "outputs": [],
   "source": [
    "# # # idx = pd.date_range('2019-01-01', periods=48, freq='H')\n",
    "# # x = pd.Series(range(len(idx)), index=idx)\n",
    "# y = tim\n",
    "# # add 'hour' and 'day' columns in the dataframe\n",
    "# d = {'x': x, 'y': y, 'hour': idx.hour, 'day': idx.day}\n",
    "# df = pd.DataFrame(data=d)\n",
    "# # use 'hour' as x axis to plot, and 'day' as marker color\n",
    "# df.plot.scatter(x='hour', y='y', c='day', colormap='rainbow')\n",
    "# plt.show()"
   ]
  },
  {
   "cell_type": "code",
   "execution_count": 146,
   "metadata": {},
   "outputs": [
    {
     "ename": "AttributeError",
     "evalue": "'str' object has no attribute 'dtypes'",
     "output_type": "error",
     "traceback": [
      "\u001b[1;31m---------------------------------------------------------------------------\u001b[0m",
      "\u001b[1;31mAttributeError\u001b[0m                            Traceback (most recent call last)",
      "Input \u001b[1;32mIn [146]\u001b[0m, in \u001b[0;36m<cell line: 1>\u001b[1;34m()\u001b[0m\n\u001b[1;32m----> 1\u001b[0m \u001b[43mdata\u001b[49m\u001b[38;5;241;43m.\u001b[39;49m\u001b[43mdtypes\u001b[49m\n",
      "\u001b[1;31mAttributeError\u001b[0m: 'str' object has no attribute 'dtypes'"
     ]
    }
   ],
   "source": [
    "data.dtypes"
   ]
  },
  {
   "cell_type": "code",
   "execution_count": null,
   "metadata": {},
   "outputs": [],
   "source": [
    "# установитьdatetimeОбъект в качестве индекса кадра данных\n",
    "data = data.set_index('DateTime')\n",
    "data.head()"
   ]
  },
  {
   "cell_type": "code",
   "execution_count": null,
   "metadata": {},
   "outputs": [],
   "source": [
    "\n",
    "# data.plot(grid=True)\n",
    "\n",
    "data['filter'].plot(kind='bar')\n",
    "\n",
    "# import matplotlib.pyplot as plt\n",
    "# from matplotlib.dates import DateFormatter\n",
    "# # Группировка за месяц\n",
    "# df_month = data.resample(\"M\").mean()\n",
    "\n",
    "# fig, ax = plt.subplots(figsize=(10, 6))\n",
    "# ax.xaxis.set_major_formatter(DateFormatter('%Y-%m'))\n",
    "# ax.bar(\n",
    "#     df_month['2018':].index, \n",
    "#     df_month.loc['2016':, \"filter\"], \n",
    "#     width=25, align='center')"
   ]
  },
  {
   "cell_type": "code",
   "execution_count": null,
   "metadata": {},
   "outputs": [],
   "source": [
    "\n",
    "data.plot(kind='scatter', \n",
    "        x='DateTime', \n",
    "        y='filter', \n",
    "        title='Связь между жёсткостью воды и средней годовой смертностью')"
   ]
  },
  {
   "cell_type": "code",
   "execution_count": null,
   "metadata": {},
   "outputs": [],
   "source": []
  }
 ],
 "metadata": {
  "colab": {
   "authorship_tag": "ABX9TyOmEyugzg/HrqC08SxzhKU3",
   "include_colab_link": true,
   "name": "analiz_poker.ipynb",
   "provenance": []
  },
  "kernelspec": {
   "display_name": "Python 3 (ipykernel)",
   "language": "python",
   "name": "python3"
  },
  "language_info": {
   "codemirror_mode": {
    "name": "ipython",
    "version": 3
   },
   "file_extension": ".py",
   "mimetype": "text/x-python",
   "name": "python",
   "nbconvert_exporter": "python",
   "pygments_lexer": "ipython3",
   "version": "3.9.7"
  },
  "nbTranslate": {
   "displayLangs": [
    "*"
   ],
   "hotkey": "alt-t",
   "langInMainMenu": true,
   "sourceLang": "en",
   "targetLang": "fr",
   "useGoogleTranslate": true
  },
  "toc": {
   "base_numbering": 1,
   "nav_menu": {},
   "number_sections": true,
   "sideBar": true,
   "skip_h1_title": false,
   "title_cell": "Table of Contents",
   "title_sidebar": "Contents",
   "toc_cell": false,
   "toc_position": {},
   "toc_section_display": true,
   "toc_window_display": false
  },
  "varInspector": {
   "cols": {
    "lenName": 16,
    "lenType": 16,
    "lenVar": 40
   },
   "kernels_config": {
    "python": {
     "delete_cmd_postfix": "",
     "delete_cmd_prefix": "del ",
     "library": "var_list.py",
     "varRefreshCmd": "print(var_dic_list())"
    },
    "r": {
     "delete_cmd_postfix": ") ",
     "delete_cmd_prefix": "rm(",
     "library": "var_list.r",
     "varRefreshCmd": "cat(var_dic_list()) "
    }
   },
   "types_to_exclude": [
    "module",
    "function",
    "builtin_function_or_method",
    "instance",
    "_Feature"
   ],
   "window_display": false
  },
  "widgets": {
   "application/vnd.jupyter.widget-state+json": {
    "state": {},
    "version_major": 2,
    "version_minor": 0
   }
  }
 },
 "nbformat": 4,
 "nbformat_minor": 4
}
