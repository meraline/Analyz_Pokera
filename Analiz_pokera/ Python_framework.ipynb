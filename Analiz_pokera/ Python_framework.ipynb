{
 "cells": [
  {
   "cell_type": "code",
   "execution_count": 1,
   "id": "b0944f7a-850f-4817-85ea-dca058b7294b",
   "metadata": {
    "collapsed": true,
    "jupyter": {
     "outputs_hidden": true
    },
    "tags": []
   },
   "outputs": [
    {
     "name": "stdout",
     "output_type": "stream",
     "text": [
      "Requirement already satisfied: poker in c:\\users\\artio\\anaconda3\\lib\\site-packages (0.30.0)\n",
      "Requirement already satisfied: parsedatetime in c:\\users\\artio\\anaconda3\\lib\\site-packages (from poker) (2.6)\n",
      "Requirement already satisfied: attrs in c:\\users\\artio\\anaconda3\\lib\\site-packages (from poker) (21.4.0)\n",
      "Requirement already satisfied: zope.interface in c:\\users\\artio\\anaconda3\\lib\\site-packages (from poker) (5.4.0)\n",
      "Requirement already satisfied: click in c:\\users\\artio\\anaconda3\\lib\\site-packages (from poker) (8.0.4)\n",
      "Requirement already satisfied: cached-property in c:\\users\\artio\\anaconda3\\lib\\site-packages (from poker) (1.5.2)\n",
      "Requirement already satisfied: python-dateutil in c:\\users\\artio\\anaconda3\\lib\\site-packages (from poker) (2.8.2)\n",
      "Requirement already satisfied: requests in c:\\users\\artio\\anaconda3\\lib\\site-packages (from poker) (2.27.1)\n",
      "Requirement already satisfied: lxml in c:\\users\\artio\\anaconda3\\lib\\site-packages (from poker) (4.9.1)\n",
      "Requirement already satisfied: pathlib in c:\\users\\artio\\anaconda3\\lib\\site-packages (from poker) (1.0.1)\n",
      "Requirement already satisfied: configparser in c:\\users\\artio\\anaconda3\\lib\\site-packages (from poker) (5.2.0)\n",
      "Requirement already satisfied: pytz in c:\\users\\artio\\anaconda3\\lib\\site-packages (from poker) (2022.1)\n",
      "Requirement already satisfied: colorama in c:\\users\\artio\\anaconda3\\lib\\site-packages (from click->poker) (0.4.5)\n",
      "Requirement already satisfied: six>=1.5 in c:\\users\\artio\\anaconda3\\lib\\site-packages (from python-dateutil->poker) (1.16.0)\n",
      "Requirement already satisfied: charset-normalizer~=2.0.0 in c:\\users\\artio\\anaconda3\\lib\\site-packages (from requests->poker) (2.0.4)\n",
      "Requirement already satisfied: idna<4,>=2.5 in c:\\users\\artio\\anaconda3\\lib\\site-packages (from requests->poker) (3.3)\n",
      "Requirement already satisfied: certifi>=2017.4.17 in c:\\users\\artio\\anaconda3\\lib\\site-packages (from requests->poker) (2022.9.24)\n",
      "Requirement already satisfied: urllib3<1.27,>=1.21.1 in c:\\users\\artio\\anaconda3\\lib\\site-packages (from requests->poker) (1.26.11)\n",
      "Requirement already satisfied: setuptools in c:\\users\\artio\\anaconda3\\lib\\site-packages (from zope.interface->poker) (63.4.1)\n"
     ]
    }
   ],
   "source": [
    "!pip install poker"
   ]
  },
  {
   "cell_type": "code",
   "execution_count": 1,
   "id": "ae1513fc-6e48-490a-bf4c-c65e3b9565d5",
   "metadata": {},
   "outputs": [],
   "source": [
    "import eval7, pprint\n",
    "from poker.room.pokerstars import PokerStarsHandHistory\n",
    "from poker.hand import Hand, Combo\n",
    "import poker"
   ]
  },
  {
   "cell_type": "code",
   "execution_count": 2,
   "id": "40a52aa0-e5e4-47c6-978a-4ae1e0d34410",
   "metadata": {},
   "outputs": [],
   "source": [
    "hh = PokerStarsHandHistory.from_file('dim3.txt')"
   ]
  },
  {
   "cell_type": "code",
   "execution_count": 3,
   "id": "9c410911-8014-4772-af1f-9af40c1fc658",
   "metadata": {},
   "outputs": [],
   "source": [
    "hh.parse()"
   ]
  },
  {
   "cell_type": "code",
   "execution_count": 4,
   "id": "d56beb36-dcef-4000-9b9c-75711ec5e63f",
   "metadata": {},
   "outputs": [],
   "source": [
    "hh.parse_header()"
   ]
  },
  {
   "cell_type": "code",
   "execution_count": 5,
   "id": "5b8c738a-227b-4fc6-855f-3529d750065b",
   "metadata": {},
   "outputs": [
    {
     "data": {
      "text/plain": [
       "800"
      ]
     },
     "execution_count": 5,
     "metadata": {},
     "output_type": "execute_result"
    }
   ],
   "source": [
    "hh.total_pot"
   ]
  },
  {
   "cell_type": "code",
   "execution_count": 6,
   "id": "c2ce9966-6a55-4296-966c-fdc97d2d67da",
   "metadata": {},
   "outputs": [
    {
     "data": {
      "text/plain": [
       "[_Player(name='gangztastyla', stack=1995, seat=1, combo=None),\n",
       " _Player(name='jaguardoodlez', stack=1318, seat=2, combo=None),\n",
       " _Player(name='Mailo2001', stack=1658, seat=3, combo=None),\n",
       " _Player(name='Nealio79', stack=1294, seat=4, combo=None),\n",
       " _Player(name='dimetruk', stack=1668, seat=5, combo=Combo('A♦Q♦')),\n",
       " _Player(name='macky009', stack=1221, seat=6, combo=None),\n",
       " _Player(name='WinSomeLose0', stack=1691, seat=7, combo=None),\n",
       " _Player(name='JayTom1', stack=1361, seat=8, combo=None),\n",
       " _Player(name='JGustavoBR', stack=1294, seat=9, combo=None)]"
      ]
     },
     "execution_count": 6,
     "metadata": {},
     "output_type": "execute_result"
    }
   ],
   "source": [
    "hh.players"
   ]
  },
  {
   "cell_type": "code",
   "execution_count": 7,
   "id": "de3a33e5-8700-4a3b-be7b-d6e0fcdf4079",
   "metadata": {},
   "outputs": [
    {
     "data": {
      "text/plain": [
       "datetime.datetime(2021, 7, 18, 11, 54, 10, tzinfo=<UTC>)"
      ]
     },
     "execution_count": 7,
     "metadata": {},
     "output_type": "execute_result"
    }
   ],
   "source": [
    "hh.date"
   ]
  },
  {
   "cell_type": "code",
   "execution_count": 8,
   "id": "535069c5-75f2-46e9-944d-9f7455952866",
   "metadata": {},
   "outputs": [
    {
     "data": {
      "text/plain": [
       "_Player(name='dimetruk', stack=1668, seat=5, combo=Combo('A♦Q♦'))"
      ]
     },
     "execution_count": 8,
     "metadata": {},
     "output_type": "execute_result"
    }
   ],
   "source": [
    "hh.hero"
   ]
  },
  {
   "cell_type": "code",
   "execution_count": 9,
   "id": "66e11ff0-1c62-4ce9-a84c-d6fad2c23a58",
   "metadata": {},
   "outputs": [
    {
     "data": {
      "text/plain": [
       "(Card('5♦'), Card('7♥'), Card('A♠'), Card('K♠'))"
      ]
     },
     "execution_count": 9,
     "metadata": {},
     "output_type": "execute_result"
    }
   ],
   "source": [
    "hh.board"
   ]
  },
  {
   "cell_type": "code",
   "execution_count": 10,
   "id": "94ff3306-765f-4816-818d-9ec9f43a1eb2",
   "metadata": {},
   "outputs": [
    {
     "name": "stdout",
     "output_type": "stream",
     "text": [
      "(Card('5♦'), Card('7♥'), Card('A♠'), Card('K♠'))\n"
     ]
    }
   ],
   "source": [
    "pprint.pprint(hh.board)"
   ]
  },
  {
   "cell_type": "code",
   "execution_count": 19,
   "id": "d2411a59-cffd-41f6-b6c3-78c26879c1e0",
   "metadata": {},
   "outputs": [
    {
     "data": {
      "text/plain": [
       "('WinSomeLose0: folds',\n",
       " 'JayTom1: folds',\n",
       " 'JGustavoBR: folds',\n",
       " 'gangztastyla: folds',\n",
       " 'jaguardoodlez: raises 30 to 60',\n",
       " 'Mailo2001: folds',\n",
       " 'Nealio79: folds',\n",
       " 'dimetruk: raises 90 to 150',\n",
       " 'macky009: folds',\n",
       " 'jaguardoodlez: calls 90')"
      ]
     },
     "execution_count": 19,
     "metadata": {},
     "output_type": "execute_result"
    }
   ],
   "source": [
    "hh.preflop_actions"
   ]
  },
  {
   "cell_type": "code",
   "execution_count": 25,
   "id": "dc3570b6-befb-423c-89d9-c67dbc077e50",
   "metadata": {},
   "outputs": [
    {
     "data": {
      "text/plain": [
       "5"
      ]
     },
     "execution_count": 25,
     "metadata": {},
     "output_type": "execute_result"
    }
   ],
   "source": [
    "len(hh.flop.actions)"
   ]
  },
  {
   "cell_type": "code",
   "execution_count": 163,
   "id": "1f8b53f9-4350-438e-85e0-03ce1e71d2f5",
   "metadata": {},
   "outputs": [
    {
     "data": {
      "text/plain": [
       "[_Player(name='Empty Seat 1', stack=0, seat=1, combo=None),\n",
       " _Player(name='Luke141269', stack=3608, seat=2, combo=None),\n",
       " _Player(name='Empty Seat 3', stack=0, seat=3, combo=None),\n",
       " _Player(name='dimetruk', stack=2175, seat=4, combo=Combo('7♠7♥')),\n",
       " _Player(name='Empty Seat 5', stack=0, seat=5, combo=None),\n",
       " _Player(name='Empty Seat 6', stack=0, seat=6, combo=None),\n",
       " _Player(name='Empty Seat 7', stack=0, seat=7, combo=None),\n",
       " _Player(name='Empty Seat 8', stack=0, seat=8, combo=None),\n",
       " _Player(name='gnella13', stack=7717, seat=9, combo=None)]"
      ]
     },
     "execution_count": 163,
     "metadata": {},
     "output_type": "execute_result"
    }
   ],
   "source": [
    "hh.players"
   ]
  },
  {
   "cell_type": "code",
   "execution_count": 12,
   "id": "8dd1a1cd-2160-408d-84c1-02c07bf083ad",
   "metadata": {
    "collapsed": true,
    "jupyter": {
     "outputs_hidden": true
    },
    "tags": []
   },
   "outputs": [
    {
     "name": "stdout",
     "output_type": "stream",
     "text": [
      "Help on class PokerStarsHandHistory in module poker.room.pokerstars:\n",
      "\n",
      "class PokerStarsHandHistory(poker.handhistory._SplittableHandHistoryMixin, poker.handhistory._BaseHandHistory)\n",
      " |  PokerStarsHandHistory(hand_text)\n",
      " |  \n",
      " |  Parses PokerStars Tournament hands.\n",
      " |  \n",
      " |  Method resolution order:\n",
      " |      PokerStarsHandHistory\n",
      " |      poker.handhistory._SplittableHandHistoryMixin\n",
      " |      poker.handhistory._BaseHandHistory\n",
      " |      builtins.object\n",
      " |  \n",
      " |  Methods defined here:\n",
      " |  \n",
      " |  __provides__ = directlyProvides(PokerStarsHandHistory)\n",
      " |  parse(self)\n",
      " |      Parses the body of the hand history, but first parse header if not yet parsed.\n",
      " |  \n",
      " |  parse_header(self)\n",
      " |  \n",
      " |  ----------------------------------------------------------------------\n",
      " |  Data and other attributes defined here:\n",
      " |  \n",
      " |  __implemented__ = classImplements(PokerStarsHandHistory, IHandHistory)\n",
      " |  \n",
      " |  ----------------------------------------------------------------------\n",
      " |  Methods inherited from poker.handhistory._SplittableHandHistoryMixin:\n",
      " |  \n",
      " |  __providedBy__ = directlyProvides(PokerStarsHandHistory)\n",
      " |  ----------------------------------------------------------------------\n",
      " |  Data descriptors inherited from poker.handhistory._SplittableHandHistoryMixin:\n",
      " |  \n",
      " |  __dict__\n",
      " |      dictionary for instance variables (if defined)\n",
      " |  \n",
      " |  __weakref__\n",
      " |      list of weak references to the object (if defined)\n",
      " |  \n",
      " |  ----------------------------------------------------------------------\n",
      " |  Methods inherited from poker.handhistory._BaseHandHistory:\n",
      " |  \n",
      " |  __init__(self, hand_text)\n",
      " |      Save raw hand history.\n",
      " |  \n",
      " |  __str__(self)\n",
      " |      Return str(self).\n",
      " |  \n",
      " |  ----------------------------------------------------------------------\n",
      " |  Class methods inherited from poker.handhistory._BaseHandHistory:\n",
      " |  \n",
      " |  from_file(filename) from builtins.type\n",
      " |  \n",
      " |  ----------------------------------------------------------------------\n",
      " |  Readonly properties inherited from poker.handhistory._BaseHandHistory:\n",
      " |  \n",
      " |  board\n",
      " |      Calculates board from flop, turn and river.\n",
      "\n"
     ]
    }
   ],
   "source": [
    "help(PokerStarsHandHistory)"
   ]
  },
  {
   "cell_type": "code",
   "execution_count": 27,
   "id": "9b39a61f-ac48-4b61-94ba-e684b4d52e28",
   "metadata": {},
   "outputs": [
    {
     "ename": "AttributeError",
     "evalue": "'PokerStarsHandHistory' object has no attribute 'seat'",
     "output_type": "error",
     "traceback": [
      "\u001b[1;31m---------------------------------------------------------------------------\u001b[0m",
      "\u001b[1;31mAttributeError\u001b[0m                            Traceback (most recent call last)",
      "Input \u001b[1;32mIn [27]\u001b[0m, in \u001b[0;36m<cell line: 1>\u001b[1;34m()\u001b[0m\n\u001b[1;32m----> 1\u001b[0m \u001b[43mhh\u001b[49m\u001b[38;5;241;43m.\u001b[39;49m\u001b[43mseat\u001b[49m\n",
      "\u001b[1;31mAttributeError\u001b[0m: 'PokerStarsHandHistory' object has no attribute 'seat'"
     ]
    }
   ],
   "source": [
    "hh.seat"
   ]
  },
  {
   "cell_type": "code",
   "execution_count": 179,
   "id": "6fa7c260-dee9-403a-82fb-b430e14877a6",
   "metadata": {},
   "outputs": [
    {
     "name": "stdout",
     "output_type": "stream",
     "text": [
      "AA  AKs AQs AJs ATs A9s A8s A7s A6s A5s A4s A3s A2s \n",
      "AKo KK  KQs KJs KTs                                 \n",
      "AQo KQo QQ  QJs                                     \n",
      "AJo KJo QJo JJ                                      \n",
      "ATo KTo         TT                                  \n",
      "A9o                 99                              \n",
      "A8o                     88                          \n",
      "A7o                         77                  72s \n",
      "A6o                             66              62s \n",
      "A5o                                 55          52s \n",
      "A4o                                     44      42s \n",
      "A3o                                         33  32s \n",
      "A2o                         72o 62o 52o 42o 32o 22  \n"
     ]
    }
   ],
   "source": [
    "print(po.Range('22+ A2+ KT+ QJ+ 32 42 52 62 72').to_ascii())\n"
   ]
  },
  {
   "cell_type": "code",
   "execution_count": null,
   "id": "12b91d35-0904-4a7e-bb84-2376537a5d1c",
   "metadata": {},
   "outputs": [],
   "source": []
  }
 ],
 "metadata": {
  "kernelspec": {
   "display_name": "Python 3 (ipykernel)",
   "language": "python",
   "name": "python3"
  },
  "language_info": {
   "codemirror_mode": {
    "name": "ipython",
    "version": 3
   },
   "file_extension": ".py",
   "mimetype": "text/x-python",
   "name": "python",
   "nbconvert_exporter": "python",
   "pygments_lexer": "ipython3",
   "version": "3.9.7"
  },
  "widgets": {
   "application/vnd.jupyter.widget-state+json": {
    "state": {},
    "version_major": 2,
    "version_minor": 0
   }
  }
 },
 "nbformat": 4,
 "nbformat_minor": 5
}
