{
 "cells": [
  {
   "cell_type": "code",
   "execution_count": 1,
   "id": "e08627ca-ac62-441e-8bf6-180f5d55b6c4",
   "metadata": {},
   "outputs": [],
   "source": [
    "import re\n",
    "import pandas as pd\n",
    "from datetime import datetime\n",
    "import eval7, pprint\n",
    "from poker.room.pokerstars import PokerStarsHandHistory\n",
    "from poker.hand import Hand, Combo\n",
    "import numpy as np\n",
    "from phevaluator import evaluate_cards"
   ]
  },
  {
   "cell_type": "code",
   "execution_count": null,
   "id": "c7ffbba6-0ead-443b-bc69-e0ae676659c9",
   "metadata": {},
   "outputs": [],
   "source": [
    "idx = pd.date_range(\"2018-01-01\", periods=5, freq=\"H\")\n",
    "\n",
    "ts = pd.Series(range(len(idx)), index=idx)\n",
    "\n",
    "ts\n",
    "Out[11]: \n",
    "2018-01-01 00:00:00    0\n",
    "2018-01-01 01:00:00    1\n",
    "2018-01-01 02:00:00    2\n",
    "2018-01-01 03:00:00    3\n",
    "2018-01-01 04:00:00    4\n",
    "Freq: H, dtype: int64\n",
    "\n",
    "ts.resample(\"2H\").mean()\n",
    "Out[12]: \n",
    "2018-01-01 00:00:00    0.5\n",
    "2018-01-01 02:00:00    2.5\n",
    "2018-01-01 04:00:00    4.0\n",
    "Freq: 2H, dtype: float64"
   ]
  }
 ],
 "metadata": {
  "kernelspec": {
   "display_name": "Python 3 (ipykernel)",
   "language": "python",
   "name": "python3"
  },
  "language_info": {
   "codemirror_mode": {
    "name": "ipython",
    "version": 3
   },
   "file_extension": ".py",
   "mimetype": "text/x-python",
   "name": "python",
   "nbconvert_exporter": "python",
   "pygments_lexer": "ipython3",
   "version": "3.9.7"
  },
  "widgets": {
   "application/vnd.jupyter.widget-state+json": {
    "state": {},
    "version_major": 2,
    "version_minor": 0
   }
  }
 },
 "nbformat": 4,
 "nbformat_minor": 5
}
