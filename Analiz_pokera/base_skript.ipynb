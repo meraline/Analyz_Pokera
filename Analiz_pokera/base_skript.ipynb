{
 "cells": [
  {
   "cell_type": "code",
   "execution_count": null,
   "id": "f7013904-0803-451d-be02-063f63fcacaa",
   "metadata": {},
   "outputs": [],
   "source": [
    "import re\n",
    "import pandas as pd\n",
    "\n",
    "data_pd = {'TypeOfRoom': [], 'HandId': [], 'TypeOfGame': [], 'SB': [], 'BB': [], 'Date': [], 'Hour': [], 'TimeZoneAbb': [], 'NoOfPlayers': [], 'Rake': []}\n",
    "with open('file.txt', 'r') as f:\n",
    "    data = f.read()\n",
    "result = re.findall('(\\w+) Hand #(\\d+): (.*) \\(.(\\d+\\.\\d+)\\/.(\\d+\\.\\d+).*(\\d\\d\\d\\d\\/\\d\\d\\/\\d\\d).*(\\d+:\\d+:\\d+) (\\w+)', data)\n",
    "rakes = re.findall('Rake \\$(.*)', data)\n",
    "\n",
    "s = re.findall('Seat (\\d).*chips', data)\n",
    "s = [int(x) for x in s]\n",
    "seats = []\n",
    "length = 1\n",
    "for i in range(len(s)-1):\n",
    "    if s[i+1] < s[i]:\n",
    "        seats.append(length)\n",
    "        length = 1\n",
    "    else:\n",
    "        length += 1\n",
    "seats.append(length)\n",
    "\n",
    "for r, rake, seat in zip(result, rakes, seats):\n",
    "    data_pd['TypeOfRoom'].append(r[0])\n",
    "    data_pd['HandId'].append(r[1])\n",
    "    data_pd['TypeOfGame'].append(r[2])\n",
    "    data_pd['SB'].append(r[3])\n",
    "    data_pd['BB'].append(r[4])\n",
    "    data_pd['Date'].append(r[5])\n",
    "    data_pd['Hour'].append(r[6])\n",
    "    data_pd['TimeZoneAbb'].append(r[7])\n",
    "    data_pd['NoOfPlayers'].append(seat)\n",
    "    data_pd['Rake'].append(rake)\n",
    "\n",
    "df = pd.DataFrame(data_pd)"
   ]
  }
 ],
 "metadata": {
  "kernelspec": {
   "display_name": "Python 3 (ipykernel)",
   "language": "python",
   "name": "python3"
  },
  "language_info": {
   "codemirror_mode": {
    "name": "ipython",
    "version": 3
   },
   "file_extension": ".py",
   "mimetype": "text/x-python",
   "name": "python",
   "nbconvert_exporter": "python",
   "pygments_lexer": "ipython3",
   "version": "3.9.7"
  },
  "widgets": {
   "application/vnd.jupyter.widget-state+json": {
    "state": {},
    "version_major": 2,
    "version_minor": 0
   }
  }
 },
 "nbformat": 4,
 "nbformat_minor": 5
}
