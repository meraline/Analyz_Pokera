{
 "cells": [
  {
   "cell_type": "markdown",
   "metadata": {
    "id": "cCLyx1NLRfLa"
   },
   "source": [
    "## Цель выявить закономерность между действиями и скрытыми картами оппонентов, предсказать силу комбинации\n",
    "### На основе рекомендатеотных систем выявить типы оппонентов (колличесвто и их свойства - характерные действия относящие их к тому или иному типу\\группе)\n",
    "### На основе дерева решений и\\или типа оппонентов предсказать силу комбинации\n",
    "### Какие линии приносят больше фишек (в соотношении с ББ, обезразмеренный показатель), точнее при ШД каке линии самые частые (тут собьраны выигранные раздачи) \n",
    "### Какие флопы чаще выигрыввают\n",
    "### По турнирно (фильтра ШД + раздачи с Хиро на ривере) в равных колл. раздачь, замерить колличесвто попаданий в готовые комбо по группам, посмотреть закономерности\n",
    " - Преобраование данных в числовой тип\n",
    " - Добавление новых признаков (размер банка, размер ставки в четвертях <=1/3,<=1/2,<=2/3,<=3/4,<=1,>1, процент активности\\агрессии из признаков активности\\агрессии)\n",
    " - https://github.com/julianandrews/flopferret/blob/master/flopferret/board_texture.py"
   ]
  },
  {
   "cell_type": "code",
   "execution_count": 1,
   "metadata": {
    "ExecuteTime": {
     "end_time": "2022-01-13T22:42:04.665671Z",
     "start_time": "2022-01-13T22:41:57.698198Z"
    },
    "code_folding": [
     5,
     21
    ],
    "colab": {
     "base_uri": "https://localhost:8080/",
     "height": 206
    },
    "id": "RehS5KQCEhv4",
    "outputId": "595dd702-fa39-4d44-c72a-b5ab1b747c27",
    "tags": []
   },
   "outputs": [],
   "source": [
    "import re\n",
    "import pandas as pd\n",
    "from datetime import datetime\n",
    "import numpy as np\n",
    "\n",
    "import eval7, pprint\n",
    "from phevaluator import evaluate_cards\n",
    "from poker.room.pokerstars import PokerStarsHandHistory\n",
    "from poker.hand import Hand, Combo\n",
    "from poker.constants import Action, Position\n",
    "from poker import handhistory\n",
    "\n",
    "import matplotlib.pyplot as plt\n",
    "plt.style.use('dark_background') #стиль графиков\n",
    "\n",
    "import sqlite3\n",
    "\n",
    "import sentry_sdk"
   ]
  },
  {
   "cell_type": "code",
   "execution_count": 62,
   "metadata": {
    "ExecuteTime": {
     "end_time": "2022-01-13T22:42:04.665671Z",
     "start_time": "2022-01-13T22:41:57.698198Z"
    },
    "code_folding": [
     5,
     21
    ],
    "colab": {
     "base_uri": "https://localhost:8080/",
     "height": 206
    },
    "id": "RehS5KQCEhv4",
    "outputId": "595dd702-fa39-4d44-c72a-b5ab1b747c27",
    "tags": []
   },
   "outputs": [],
   "source": [
    "%%time\n",
    "\n",
    "# Создали словарь\n",
    "data_pd = {'Tournament':[], 'HandId': [], 'Level': [], 'ante':[], 'BB':[], 'Players': [], 'Board':[], 'SHOW_DOWN':[],'pflop_chip_rais':[], 'pflop_chip_calls':[], 'flop_chip_bets':[], 'flop_chip_raises':[],\n",
    "           'flop_chip_calls':[], 'turn_chip_bets':[], 'turn_chip_raises':[], 'turn_chip_calls':[], 'river_chip_bets':[], 'river_chip_raises':[], 'river_chip_calls':[],   \n",
    "            'pflop_rais':[], 'pflop_calls':[], 'pflop_allin':[], 'flop_bets':[], 'flop_raises':[], 'flop_calls':[], \n",
    "           'flop_allin':[], 'turn_bets':[], 'turn_raises':[], 'turn_calls':[], 'turn_allin':[], 'river_bets':[], 'river_raises':[], 'river_calls':[], 'river_allin':[]} \n",
    "\n",
    "\n",
    "# запрос из базы\n",
    "conn = sqlite3.connect(r'C:\\Users\\artio\\Documents\\Holdem Manager 3\\Databases\\Bot_Praktik_2023.hmdb')\n",
    "cur = conn.cursor() # создаём курсор для получения не всей базы а чтения по строчно\n",
    "\n",
    "data_r = ''\n",
    "for i, line in enumerate(cur.execute('select * from handhistories;')): #  limit 100\n",
    "    data_r = data_r + line[3]\n",
    "    if i > 50000:\n",
    "        break\n",
    "\n",
    "iterr = re.findall(\"PokerStars\", data_r).count('PokerStars') # задаём колличесвто итераций\n",
    "print(iterr)\n",
    "\n",
    "data = \"\"\n",
    "iter_SHOW = 0\n",
    "\n",
    "for i in range(iterr+1): # фильтруем раздачи с ШД и без\n",
    "    if data_r.split(\"PokerStars\")[i].count('SHOW DOWN'):\n",
    "        data = data + data_r.split(\"PokerStars\")[i] + \"\\n\\n\\n\"\n",
    "        iter_SHOW += 1\n",
    "    else:\n",
    "        continue\n",
    "print(iter_SHOW) \n",
    "\n",
    "# данные\n",
    "result = re.findall(\" Hand #(\\d*): Tournament #(\\d*), .(\\d*)\\+.(\\d*) USD Hold'em No Limit - Level (\\D*) \\(\\d*\\/(\\d*)\\) - (\\d{4}/\\d+/\\d+) (\\d+\\D\\d+\\D\\d+) (\\w*)\", data) \n",
    "# (\\w+) Hand #(\\d*): Tournament #(\\d*),(.*) Level (.*) \\(.*\\/(.*)\\) - (\\d{4}/\\d+/\\d+) (\\d+\\D\\d+\\D\\d+) (\\w*)\n",
    "#Tables = re.findall('Table \\'.*\\' (.*)-max Seat', data)\n",
    "#bains = re.findall('(\\D\\d+\\.\\d+\\+\\D\\d+\\.\\d+)', data)\n",
    "#HandHiros = re.findall(\"Dealt to .* \\D(.. ..)\\D\", data)\n",
    "Boards = re.findall(\"Board \\[(.. .. .. .. ..)\\]\", data)\n",
    "#preflop_raises_ = re.findall(\"raises\", data) # \"raises\"g\n",
    "SHOW_DOWNs = re.findall(\"showed \\[(.. ..)\\] and won\", data)\n",
    "#SHOW_DOWN.group(1)\n",
    "\n",
    "# -------------------------  ПРЕФЛОП  ------------------------------\n",
    "\n",
    "def preflop_acti(self):\n",
    "    preflop_ = self\n",
    "    action_preflop_raises = preflop_.group(1).count('raises')    \n",
    "    action_preflop_calls = preflop_.group(1).count('calls')\n",
    "    action_preflop_allin = preflop_.group(1).count('all-in')\n",
    "    return action_preflop_raises, action_preflop_calls, action_preflop_allin\n",
    "\n",
    "def street_raise_sum(self):\n",
    "    street_ = self.group(1)    \n",
    "    matches = re.findall(r'(?<=raises) (\\d*) to (\\d*)',street_)  \n",
    "    n = 0\n",
    "    sum_rais = []\n",
    "    for i in enumerate(matches):\n",
    "        rais = int(matches[n][1])\n",
    "        sum_rais.append(rais)\n",
    "        n += 1\n",
    "    return sum(sum_rais)\n",
    "\n",
    "def street_calls_sum(self):\n",
    "    street_ = self.group(0)    \n",
    "    matches = re.findall(r'(?<=calls) (\\d*)',street_)  \n",
    "    n = 0\n",
    "    sum_calls = []\n",
    "    for i in enumerate(matches):\n",
    "        calls = int(matches[n])\n",
    "        sum_calls.append(calls)\n",
    "        n += 1\n",
    "    return sum(sum_calls)\n",
    "\n",
    "# -------------------------  ФЛОП  ------------------------------\n",
    "\n",
    "def flop_acti(self):\n",
    "    flop_ = self\n",
    "    action_flop_bets = flop_.group(1).count('bets') # колличесвто\n",
    "    action_flop_raises= flop_.group(1).count('raises')\n",
    "    action_flop_calls = flop_.group(1).count('calls')\n",
    "    action_flop_allin = flop_.group(1).count('all-in') \n",
    "    return action_flop_bets, action_flop_raises, action_flop_calls, action_flop_allin\n",
    "\n",
    "def street_bets(self):\n",
    "    street_ = self.group(1)\n",
    "    matches = re.findall(r'(?<=bets) (\\d*)',street_)\n",
    "    if matches:\n",
    "        return int(matches[0])\n",
    "    else:\n",
    "        return 0\n",
    "\n",
    "# -------------------------  ТЁРН  ------------------------------\n",
    "\n",
    "def turn_acti(self):\n",
    "    turn_ = self\n",
    "    action_turn_bets = turn_.group(1).count('bets')\n",
    "    action_turn_raises= turn_.group(1).count('raises')\n",
    "    action_turn_allin = turn_.group(1).count('all-in')\n",
    "    action_turn_calls = turn_.group(1).count('calls')\n",
    "    return action_turn_bets, action_turn_raises, action_turn_calls, action_turn_allin\n",
    "\n",
    "# -------------------------  РИВЕР  ------------------------------\n",
    "\n",
    "def river_acti(self):\n",
    "    river_ = self\n",
    "    action_river_bets = river_.group(1).count('bets')\n",
    "    action_river_raises= river_.group(1).count('raises')\n",
    "    action_river_allin = river_.group(1).count('all-in')\n",
    "    action_river_calls = river_.group(1).count('calls')\n",
    "    return action_river_bets, action_river_raises, action_river_calls, action_river_allin\n",
    "\n",
    "#----ПРЕФЛОП------\n",
    "preflop_raisess = []\n",
    "preflop_callss = [] \n",
    "preflop_allins = []\n",
    "preflop_raisess_sums =[]\n",
    "preflop_calls_sums =[]\n",
    "antes = []\n",
    "\n",
    "#----ФЛОП------\n",
    "flop_betss = []  \n",
    "flop_raisess = [] \n",
    "flop_callss = []\n",
    "flop_allins = []\n",
    "flop_chip_betss = []  \n",
    "flop_chip_callss = []\n",
    "flop_chip_raisess = [] \n",
    "\n",
    "#------ТЁРН--------\n",
    "turn_betss = []  \n",
    "turn_raisess = [] \n",
    "turn_callss = []\n",
    "turn_allins = []\n",
    "turn_chip_betss = []  \n",
    "turn_chip_raisess = [] \n",
    "turn_chip_callss = []\n",
    "\n",
    "#-------РИВЕР---------\n",
    "river_betss = []  \n",
    "river_raisess = [] \n",
    "river_callss = []\n",
    "river_allins = []\n",
    "river_chip_betss = []  \n",
    "river_chip_raisess = [] \n",
    "river_chip_callss = []\n",
    "\n",
    "\n",
    "for y in range(iter_SHOW):\n",
    "    data_n = data.split(\"\\r\\n\\n\\n\\n\")[y] # разбивает сплошной текст на раздачи\n",
    "    # print(repr(data_n))\n",
    "# -------------------------  ПРЕФЛОП  ------------------------\n",
    "\n",
    "    ante = re.findall('ante (\\d*)', data_n)[:1]\n",
    "    antes.append(ante[0][0:])\n",
    "\n",
    "    preflop_ = re.search(\"HOLE CARDS \\*{3}(.*)\\*{3} FLOP\", data_n, re.DOTALL)\n",
    "    preflop_raisess.append(preflop_acti(preflop_)[0])\n",
    "    preflop_callss.append(preflop_acti(preflop_)[1])\n",
    "    preflop_allins.append(preflop_acti(preflop_)[2])\n",
    "    preflop_raisess_sums.append(street_raise_sum(preflop_))\n",
    "    preflop_calls_sums.append(street_calls_sum(preflop_))\n",
    "    \n",
    "# ------------------------- ФЛОП  ------------------------\n",
    "\n",
    "    flop_ = re.search(\"FLOP \\*{3} \\[.*\\](.*)\\*{3} TU\", data_n, re.DOTALL)\n",
    "    flop_betss.append(flop_acti(flop_)[0])\n",
    "    flop_raisess.append(flop_acti(flop_)[1])\n",
    "    flop_callss.append(flop_acti(flop_)[2])\n",
    "    flop_allins.append(flop_acti(flop_)[3])    \n",
    "    flop_chip_betss.append(street_bets(flop_)) \n",
    "    flop_chip_callss.append(street_calls_sum(flop_))\n",
    "    flop_chip_raisess.append(street_raise_sum(flop_))\n",
    "\n",
    "# -------------------------  ТЁРН   ------------------------\n",
    "\n",
    "    turn_ = re.search(\"TURN \\*{3} \\[.*\\] \\[.*\\](.*)\\*{3} RI\", data_n, re.DOTALL)\n",
    "    turn_betss.append(turn_acti(turn_)[0])\n",
    "    turn_raisess.append(turn_acti(turn_)[1])\n",
    "    turn_callss.append(turn_acti(turn_)[2])\n",
    "    turn_allins.append(turn_acti(turn_)[3])\n",
    "    turn_chip_betss.append(street_bets(turn_))\n",
    "    turn_chip_callss.append(street_calls_sum(turn_))\n",
    "    turn_chip_raisess.append(street_raise_sum(turn_))\n",
    "\n",
    "# -------------------------  РИВЕР  ------------------------\n",
    "\n",
    "    river_ = re.search(\"RIVER \\*{3} \\[.*\\] \\[.*\\](.*)\\*{3} SHOW\", data_n, re.DOTALL)\n",
    "    river_betss.append(turn_acti(river_)[0])\n",
    "    river_raisess.append(turn_acti(river_)[1])\n",
    "    river_callss.append(turn_acti(river_)[2])\n",
    "    river_allins.append(turn_acti(river_)[3])\n",
    "    river_chip_betss.append(street_bets(river_))\n",
    "    river_chip_callss.append(street_calls_sum(river_))\n",
    "    river_chip_raisess.append(street_raise_sum(river_))    \n",
    "\n",
    "    \n",
    "# Считаем сколко фишек\n",
    "s = re.findall('Seat (\\d).*chips', data)\n",
    "s = [int(x) for x in s]\n",
    "seats = []\n",
    "length = 1\n",
    "for i in range(len(s)-1):\n",
    "    if s[i+1] < s[i]:\n",
    "        seats.append(length)\n",
    "        length = 1\n",
    "    else:\n",
    "        length += 1                     \n",
    "seats.append(length)\n",
    "\n",
    "# ЗАполнЯем словарь данными\n",
    "for r, seat, Board ,preflop_raises, preflop_calls, preflop_allin, flop_bets, flop_raises, flop_calls, flop_allin, \\\n",
    "    turn_bets, turn_raises, turn_calls, turn_allin, river_bets, river_raises, river_calls, river_allin, SHOW_DOWN, preflop_raisess_sum, \\\n",
    "        preflop_calls_sum, ante, flop_chip_bets, flop_chip_calls, flop_chip_raises, turn_chip_bets, turn_chip_raises, turn_chip_calls, river_chip_bets, \\\n",
    "            river_chip_raises, river_chip_calls \\\n",
    "                in zip(result, seats, Boards, preflop_raisess, preflop_callss, preflop_allins, flop_betss, flop_raisess, flop_callss, \n",
    "                       flop_allins, turn_betss, turn_raisess, turn_callss, turn_allins, river_betss, river_raisess, river_callss, river_allins, SHOW_DOWNs, \n",
    "                            preflop_raisess_sums, preflop_calls_sums, antes, flop_chip_betss, flop_chip_callss, flop_chip_raisess, turn_chip_betss, turn_chip_raisess,\n",
    "                               turn_chip_callss, river_chip_betss, river_chip_raisess, river_chip_callss): \n",
    "\n",
    "    #data_pd['TypeOfRoom'].append(r[0])\n",
    "    data_pd['HandId'].append(r[0])\n",
    "    data_pd['Tournament'].append(r[1])\n",
    "    # data_pd['info'].append(r[3])\n",
    "    data_pd['Level'].append(r[4])\n",
    "    data_pd['BB'].append(r[5])\n",
    "    #data_pd['Date'].append(r[6])\n",
    "    #data_pd['Hour'].append(r[7])\n",
    "    #data_pd['TimeZone'].append(r[8])\n",
    "    data_pd['ante'].append(ante)\n",
    "    #data_pd['Table'].append(table) #table\n",
    "    data_pd['Players'].append(seat)\n",
    "    #data_pd['bain'].append(bain)\n",
    "    #data_pd['HandHiro'].append(handHiro)\n",
    "    data_pd['Board'].append(Board)\n",
    "    data_pd['pflop_calls'].append(preflop_calls)\n",
    "    data_pd['pflop_rais'].append(preflop_raises)\n",
    "    data_pd['pflop_allin'].append(preflop_allin)\n",
    "    data_pd['flop_bets'].append(flop_bets)\n",
    "    data_pd['flop_raises'].append(flop_raises)\n",
    "    data_pd['flop_calls'].append(flop_calls)\n",
    "    data_pd['flop_allin'].append(flop_allin)\n",
    "    data_pd['turn_bets'].append(turn_bets)\n",
    "    data_pd['turn_raises'].append(turn_raises)\n",
    "    data_pd['turn_calls'].append(turn_calls)\n",
    "    data_pd['turn_allin'].append(turn_allin)\n",
    "    data_pd['river_bets'].append(river_bets)\n",
    "    data_pd['river_raises'].append(river_raises)\n",
    "    data_pd['river_calls'].append(river_calls)\n",
    "    data_pd['river_allin'].append(river_allin)\n",
    "    data_pd['pflop_chip_rais'].append(preflop_raisess_sum)\n",
    "    data_pd['pflop_chip_calls'].append(preflop_calls_sum)\n",
    "    data_pd['flop_chip_bets'].append(flop_chip_bets)\n",
    "    data_pd['flop_chip_raises'].append(flop_chip_raises)\n",
    "    data_pd['flop_chip_calls'].append(flop_chip_calls)\n",
    "    data_pd['turn_chip_bets'].append(turn_chip_bets)\n",
    "    data_pd['turn_chip_raises'].append(turn_chip_raises)\n",
    "    data_pd['turn_chip_calls'].append(turn_chip_calls)\n",
    "    data_pd['river_chip_bets'].append(river_chip_bets)\n",
    "    data_pd['river_chip_raises'].append(river_chip_raises)\n",
    "    data_pd['river_chip_calls'].append(river_chip_calls)\n",
    "    data_pd['SHOW_DOWN'].append(SHOW_DOWN) \n",
    "                                    \n",
    "\n",
    "# Создаём ДатаФрейм\n",
    "df = pd.DataFrame(data_pd)"
   ]
  },
  {
   "cell_type": "code",
   "execution_count": 65,
   "metadata": {
    "ExecuteTime": {
     "end_time": "2022-01-13T22:42:04.665671Z",
     "start_time": "2022-01-13T22:41:57.698198Z"
    },
    "code_folding": [
     5,
     21
    ],
    "colab": {
     "base_uri": "https://localhost:8080/",
     "height": 206
    },
    "id": "RehS5KQCEhv4",
    "outputId": "595dd702-fa39-4d44-c72a-b5ab1b747c27",
    "tags": []
   },
   "outputs": [
    {
     "data": {
      "text/html": [
       "<div>\n",
       "<style scoped>\n",
       "    .dataframe tbody tr th:only-of-type {\n",
       "        vertical-align: middle;\n",
       "    }\n",
       "\n",
       "    .dataframe tbody tr th {\n",
       "        vertical-align: top;\n",
       "    }\n",
       "\n",
       "    .dataframe thead th {\n",
       "        text-align: right;\n",
       "    }\n",
       "</style>\n",
       "<table border=\"1\" class=\"dataframe\">\n",
       "  <thead>\n",
       "    <tr style=\"text-align: right;\">\n",
       "      <th></th>\n",
       "      <th>Tournament</th>\n",
       "      <th>HandId</th>\n",
       "      <th>Level</th>\n",
       "      <th>ante</th>\n",
       "      <th>BB</th>\n",
       "      <th>Players</th>\n",
       "      <th>Board</th>\n",
       "      <th>SHOW_DOWN</th>\n",
       "      <th>pflop_chip_rais</th>\n",
       "      <th>pflop_chip_calls</th>\n",
       "      <th>...</th>\n",
       "      <th>flop_calls</th>\n",
       "      <th>flop_allin</th>\n",
       "      <th>turn_bets</th>\n",
       "      <th>turn_raises</th>\n",
       "      <th>turn_calls</th>\n",
       "      <th>turn_allin</th>\n",
       "      <th>river_bets</th>\n",
       "      <th>river_raises</th>\n",
       "      <th>river_calls</th>\n",
       "      <th>river_allin</th>\n",
       "    </tr>\n",
       "  </thead>\n",
       "  <tbody>\n",
       "    <tr>\n",
       "      <th>0</th>\n",
       "      <td>3837356897</td>\n",
       "      <td>1546300121</td>\n",
       "      <td>I</td>\n",
       "      <td>250</td>\n",
       "      <td>2000</td>\n",
       "      <td>7</td>\n",
       "      <td>Ks 9s Ts As 3s</td>\n",
       "      <td>Jd 4h</td>\n",
       "      <td>0</td>\n",
       "      <td>2000</td>\n",
       "      <td>...</td>\n",
       "      <td>0</td>\n",
       "      <td>0</td>\n",
       "      <td>0</td>\n",
       "      <td>0</td>\n",
       "      <td>0</td>\n",
       "      <td>0</td>\n",
       "      <td>0</td>\n",
       "      <td>0</td>\n",
       "      <td>0</td>\n",
       "      <td>0</td>\n",
       "    </tr>\n",
       "    <tr>\n",
       "      <th>1</th>\n",
       "      <td>3837356897</td>\n",
       "      <td>1546300638</td>\n",
       "      <td>I</td>\n",
       "      <td>250</td>\n",
       "      <td>2000</td>\n",
       "      <td>7</td>\n",
       "      <td>7c Kh 5s 6h 3s</td>\n",
       "      <td>4d Ac</td>\n",
       "      <td>13125</td>\n",
       "      <td>12125</td>\n",
       "      <td>...</td>\n",
       "      <td>1</td>\n",
       "      <td>0</td>\n",
       "      <td>1</td>\n",
       "      <td>0</td>\n",
       "      <td>1</td>\n",
       "      <td>0</td>\n",
       "      <td>0</td>\n",
       "      <td>0</td>\n",
       "      <td>0</td>\n",
       "      <td>0</td>\n",
       "    </tr>\n",
       "    <tr>\n",
       "      <th>2</th>\n",
       "      <td>3837356897</td>\n",
       "      <td>1546301654</td>\n",
       "      <td>I</td>\n",
       "      <td>250</td>\n",
       "      <td>2000</td>\n",
       "      <td>7</td>\n",
       "      <td>7d 6h 8h Qs Qh</td>\n",
       "      <td>Ks 8h</td>\n",
       "      <td>327543</td>\n",
       "      <td>181332</td>\n",
       "      <td>...</td>\n",
       "      <td>0</td>\n",
       "      <td>0</td>\n",
       "      <td>0</td>\n",
       "      <td>0</td>\n",
       "      <td>0</td>\n",
       "      <td>0</td>\n",
       "      <td>0</td>\n",
       "      <td>0</td>\n",
       "      <td>0</td>\n",
       "      <td>0</td>\n",
       "    </tr>\n",
       "    <tr>\n",
       "      <th>3</th>\n",
       "      <td>3837356897</td>\n",
       "      <td>1546303904</td>\n",
       "      <td>I</td>\n",
       "      <td>250</td>\n",
       "      <td>2000</td>\n",
       "      <td>7</td>\n",
       "      <td>Ac 7h 8h 6s Kd</td>\n",
       "      <td>2h Ah</td>\n",
       "      <td>97373</td>\n",
       "      <td>89373</td>\n",
       "      <td>...</td>\n",
       "      <td>0</td>\n",
       "      <td>0</td>\n",
       "      <td>0</td>\n",
       "      <td>0</td>\n",
       "      <td>0</td>\n",
       "      <td>0</td>\n",
       "      <td>0</td>\n",
       "      <td>0</td>\n",
       "      <td>0</td>\n",
       "      <td>0</td>\n",
       "    </tr>\n",
       "    <tr>\n",
       "      <th>4</th>\n",
       "      <td>3837356897</td>\n",
       "      <td>1546304725</td>\n",
       "      <td>I</td>\n",
       "      <td>250</td>\n",
       "      <td>2000</td>\n",
       "      <td>7</td>\n",
       "      <td>5s As 6s 3c 9d</td>\n",
       "      <td>6d As</td>\n",
       "      <td>8750</td>\n",
       "      <td>14500</td>\n",
       "      <td>...</td>\n",
       "      <td>2</td>\n",
       "      <td>0</td>\n",
       "      <td>1</td>\n",
       "      <td>0</td>\n",
       "      <td>2</td>\n",
       "      <td>0</td>\n",
       "      <td>1</td>\n",
       "      <td>0</td>\n",
       "      <td>1</td>\n",
       "      <td>2</td>\n",
       "    </tr>\n",
       "  </tbody>\n",
       "</table>\n",
       "<p>5 rows × 34 columns</p>\n",
       "</div>"
      ],
      "text/plain": [
       "   Tournament      HandId Level ante    BB  Players           Board SHOW_DOWN  \\\n",
       "0  3837356897  1546300121     I  250  2000        7  Ks 9s Ts As 3s     Jd 4h   \n",
       "1  3837356897  1546300638     I  250  2000        7  7c Kh 5s 6h 3s     4d Ac   \n",
       "2  3837356897  1546301654     I  250  2000        7  7d 6h 8h Qs Qh     Ks 8h   \n",
       "3  3837356897  1546303904     I  250  2000        7  Ac 7h 8h 6s Kd     2h Ah   \n",
       "4  3837356897  1546304725     I  250  2000        7  5s As 6s 3c 9d     6d As   \n",
       "\n",
       "   pflop_chip_rais  pflop_chip_calls  ...  flop_calls  flop_allin  turn_bets  \\\n",
       "0                0              2000  ...           0           0          0   \n",
       "1            13125             12125  ...           1           0          1   \n",
       "2           327543            181332  ...           0           0          0   \n",
       "3            97373             89373  ...           0           0          0   \n",
       "4             8750             14500  ...           2           0          1   \n",
       "\n",
       "   turn_raises  turn_calls  turn_allin  river_bets  river_raises  river_calls  \\\n",
       "0            0           0           0           0             0            0   \n",
       "1            0           1           0           0             0            0   \n",
       "2            0           0           0           0             0            0   \n",
       "3            0           0           0           0             0            0   \n",
       "4            0           2           0           1             0            1   \n",
       "\n",
       "   river_allin  \n",
       "0            0  \n",
       "1            0  \n",
       "2            0  \n",
       "3            0  \n",
       "4            2  \n",
       "\n",
       "[5 rows x 34 columns]"
      ]
     },
     "execution_count": 65,
     "metadata": {},
     "output_type": "execute_result"
    }
   ],
   "source": [
    "df.head()"
   ]
  },
  {
   "cell_type": "code",
   "execution_count": 63,
   "metadata": {},
   "outputs": [],
   "source": [
    "# Сохранение датафрейма\n",
    "df.to_csv('file_16486.csv', header=True, index=True)"
   ]
  },
  {
   "cell_type": "code",
   "execution_count": 64,
   "metadata": {
    "tags": []
   },
   "outputs": [
    {
     "name": "stdout",
     "output_type": "stream",
     "text": [
      "<class 'pandas.core.frame.DataFrame'>\n",
      "RangeIndex: 15237 entries, 0 to 15236\n",
      "Data columns (total 34 columns):\n",
      " #   Column             Non-Null Count  Dtype \n",
      "---  ------             --------------  ----- \n",
      " 0   Tournament         15237 non-null  object\n",
      " 1   HandId             15237 non-null  object\n",
      " 2   Level              15237 non-null  object\n",
      " 3   ante               15237 non-null  object\n",
      " 4   BB                 15237 non-null  object\n",
      " 5   Players            15237 non-null  int64 \n",
      " 6   Board              15237 non-null  object\n",
      " 7   SHOW_DOWN          15237 non-null  object\n",
      " 8   pflop_chip_rais    15237 non-null  int64 \n",
      " 9   pflop_chip_calls   15237 non-null  int64 \n",
      " 10  flop_chip_bets     15237 non-null  int64 \n",
      " 11  flop_chip_raises   15237 non-null  int64 \n",
      " 12  flop_chip_calls    15237 non-null  int64 \n",
      " 13  turn_chip_bets     15237 non-null  int64 \n",
      " 14  turn_chip_raises   15237 non-null  int64 \n",
      " 15  turn_chip_calls    15237 non-null  int64 \n",
      " 16  river_chip_bets    15237 non-null  int64 \n",
      " 17  river_chip_raises  15237 non-null  int64 \n",
      " 18  river_chip_calls   15237 non-null  int64 \n",
      " 19  pflop_rais         15237 non-null  int64 \n",
      " 20  pflop_calls        15237 non-null  int64 \n",
      " 21  pflop_allin        15237 non-null  int64 \n",
      " 22  flop_bets          15237 non-null  int64 \n",
      " 23  flop_raises        15237 non-null  int64 \n",
      " 24  flop_calls         15237 non-null  int64 \n",
      " 25  flop_allin         15237 non-null  int64 \n",
      " 26  turn_bets          15237 non-null  int64 \n",
      " 27  turn_raises        15237 non-null  int64 \n",
      " 28  turn_calls         15237 non-null  int64 \n",
      " 29  turn_allin         15237 non-null  int64 \n",
      " 30  river_bets         15237 non-null  int64 \n",
      " 31  river_raises       15237 non-null  int64 \n",
      " 32  river_calls        15237 non-null  int64 \n",
      " 33  river_allin        15237 non-null  int64 \n",
      "dtypes: int64(27), object(7)\n",
      "memory usage: 4.0+ MB\n"
     ]
    }
   ],
   "source": [
    "df.info()"
   ]
  },
  {
   "cell_type": "markdown",
   "metadata": {},
   "source": [
    "### Размер ставок от банка\n"
   ]
  },
  {
   "cell_type": "code",
   "execution_count": null,
   "metadata": {
    "tags": []
   },
   "outputs": [],
   "source": [
    "list(df.columns.values)"
   ]
  },
  {
   "cell_type": "code",
   "execution_count": null,
   "metadata": {},
   "outputs": [],
   "source": [
    "df[['ante','BB',\n",
    "    'pflop_chip_rais',\n",
    "     'pflop_chip_calls',\n",
    "     'flop_chip_bets',\n",
    "     'flop_chip_raises',\n",
    "     'flop_chip_calls',\n",
    "     'turn_chip_bets',\n",
    "     'turn_chip_raises',\n",
    "     'turn_chip_calls',\n",
    "     'river_chip_bets',\n",
    "     'river_chip_raises',\n",
    "     'river_chip_calls']].head()"
   ]
  },
  {
   "cell_type": "code",
   "execution_count": null,
   "metadata": {},
   "outputs": [],
   "source": [
    "df['Flop_group'] = df.Flop.map(flop_flush)\n",
    "df['Flop_group']\n",
    "\n"
   ]
  },
  {
   "cell_type": "markdown",
   "metadata": {},
   "source": [
    "### Структура флопа"
   ]
  },
  {
   "cell_type": "code",
   "execution_count": null,
   "metadata": {
    "tags": []
   },
   "outputs": [],
   "source": [
    "# выделяем флоп в одельный столбец\n",
    "df['Flop'] = df['Board'].str.extract(r'(.{8})', expand=False)\n",
    "df['Flop']"
   ]
  },
  {
   "cell_type": "code",
   "execution_count": null,
   "metadata": {},
   "outputs": [],
   "source": [
    "# %load flop_classification.py\n",
    "from range import Range\n",
    "import numpy as np\n",
    "\n",
    "deck = ['A', 'K', 'Q', 'J', 'T', '9', '8', '7', '6', '5', '4', '3', '2']\n",
    "deck2 = ['2', '3', '4', '5', '6', '7', '8', '9', 'T', 'J', 'Q', 'K', 'A']\n",
    "suit = ['c', 'd', 'h', 's']\n",
    "\n",
    "A = ['A']\n",
    "HIGH = ['T', 'J', 'Q', 'K']\n",
    "MED = ['6', '7', '8', '9']\n",
    "LOW = ['2', '3', '4', '5']\n",
    "group = [[A, 'A'], [HIGH, \"H\"], [MED, \"M\"], [LOW, \"L\"]]\n",
    "\n",
    "paired = [\"TRIPS\", \"PAIRED\", \"UNPAIRED\"]  # Paired types\n",
    "flush = [\"RAINBOW\", \"TWO-TONE\", \"MONOTONE\"]  # Flushes Type\n",
    "STR = [\"OESD\", \"GUTSHOT\", \"STRAIGHT\", \"NONE\"]  # Straights Type\n",
    "\n",
    "\n",
    "class Flop:\n",
    "    # create list of flop, card in flop, and suit in flop\n",
    "    flop = None\n",
    "    flop_card = None\n",
    "    flop_suit = None\n",
    "    group = None\n",
    "    paired = None\n",
    "    flush = None\n",
    "    strit = None\n",
    "\n",
    "    # init flop with input flop\n",
    "    def __init__(self, text):\n",
    "        self.flop = []\n",
    "        self.flop_card = [0, 0, 0, 0, 0, 0, 0, 0, 0, 0, 0, 0, 0]\n",
    "        self.flop_suit = [0, 0, 0, 0]\n",
    "        self.set_flop(text)\n",
    "        self.card_and_suit_count()\n",
    "        self.set_group()\n",
    "        self.set_fullhouse()\n",
    "        self.set_flush()\n",
    "        self.set_strit()\n",
    "\n",
    "    # set flop\n",
    "    def set_flop(cls, text):\n",
    "        if ' ' in text:\n",
    "            temp = text.split(' ')\n",
    "        else:\n",
    "            temp = [text[0:2], text[2:4], text[4:6]]\n",
    "        cls.flop = temp.copy()\n",
    "\n",
    "    # count card and suit\n",
    "    def card_and_suit_count(cls):\n",
    "        for card in cls.flop:\n",
    "            temp_card = card[0]\n",
    "            temp_suit = card[1]\n",
    "            cls.flop_card[deck.index(temp_card)] += 1\n",
    "            cls.flop_suit[suit.index(temp_suit)] += 1\n",
    "\n",
    "    # set cls.group ex. AHM AMM MML\n",
    "    def set_group(cls):\n",
    "        cards = cls.flop\n",
    "        group_cards = \"\"\n",
    "        for card in cards:\n",
    "            for group_type in group:\n",
    "                if card[0] in group_type[0]:\n",
    "                    group_cards += group_type[1]\n",
    "                    continue\n",
    "        cls.group = group_cards\n",
    "\n",
    "    # set cls.paired ex. PAIRED UNPAIRED TRIPS\n",
    "    def set_fullhouse(cls):\n",
    "        if 3 in cls.flop_card:  # TRIPS\n",
    "            cls.paired = paired[0]\n",
    "        elif 2 in cls.flop_card:  # PAIRED\n",
    "            cls.paired = paired[1]\n",
    "        else:  # UNPAIRED\n",
    "            cls.paired = paired[2]\n",
    "\n",
    "    # set cls.flush ex. MONOTONE TWO-TONE RAINBOW\n",
    "    def set_flush(cls):\n",
    "        if 3 in cls.flop_suit:  # MONOTONE\n",
    "            cls.flush = flush[2]\n",
    "        elif 2 in cls.flop_suit:  # TWO-TONE\n",
    "            cls.flush = flush[1]\n",
    "        else:  # RAINBOW\n",
    "            cls.flush = flush[0]\n",
    "\n",
    "    # выводит двухсторонку, гатшот и стрит\n",
    "    def set_strit(cls):\n",
    "        index = []\n",
    "        for n in cls.flop:\n",
    "            for i in deck2:\n",
    "                i = str(deck2.index(n[:1])).zfill(2)\n",
    "            index.append(i)\n",
    "        index.sort()\n",
    "        index_int = [int(x) for x in index]\n",
    "        if (index_int[0] == 0 and index_int[1] == 1 and index_int[2] == 12) or \\\n",
    "                (index_int[0] == 10 and index_int[1] == 11 and index_int[2] == 12):\n",
    "            cls.strit = STR[2]\n",
    "        elif (index_int[2] - index_int[1]) == 1 and \\\n",
    "                (index_int[1] - index_int[0]) == 1:\n",
    "            cls.strit = STR[0]\n",
    "        elif ((index_int[2] - index_int[1]) == 2 and \\\n",
    "              (index_int[1] - index_int[0]) == 1) or \\\n",
    "                ((index_int[2] - index_int[1]) == 1 and \\\n",
    "                 (index_int[1] - index_int[0]) == 2) or \\\n",
    "                (index_int[0] == 0 and index_int[1] == 2 and index_int[2] == 12) or \\\n",
    "                (index_int[0] == 1 and index_int[1] == 2 and index_int[2] == 12):\n",
    "            cls.strit = STR[1]\n",
    "        else:\n",
    "            cls.strit = STR[3]\n",
    "\n",
    "            # return flop card only (no suit)\n",
    "\n",
    "    def get_flop_card(cls):\n",
    "        return cls.flop[0][0] + cls.flop[1][0] + cls.flop[2][0]\n",
    "\n",
    "    # print Flop ex. AcTc5d\n",
    "    def __str__(self):\n",
    "        return self.flop[0] + self.flop[1] + self.flop[2]\n",
    "\n",
    "\n",
    "if __name__ == '__main__':\n",
    "    t = Flop('3c 2c 4c')\n",
    "    print(t)\n",
    "    print(t.group)\n",
    "    print(t.paired)\n",
    "    print(t.flush)\n",
    "    print(t.strit)\n"
   ]
  },
  {
   "cell_type": "code",
   "execution_count": null,
   "metadata": {
    "tags": []
   },
   "outputs": [],
   "source": [
    "\n",
    "for i in df['Flop']:\n",
    "    print(flop_class(i))\n"
   ]
  },
  {
   "cell_type": "code",
   "execution_count": null,
   "metadata": {
    "tags": []
   },
   "outputs": [],
   "source": [
    "df['Flop_group'] = df.Flop.map(flop_flush)\n",
    "df['Flop_group']\n",
    "\n",
    "# df['Flop_group'] = df['Flop'].apply(flop_flush)\n",
    "# df['Flop_group']"
   ]
  },
  {
   "cell_type": "markdown",
   "metadata": {
    "id": "q97wcPd37OcA"
   },
   "source": [
    "## Преобразуем данные"
   ]
  },
  {
   "cell_type": "code",
   "execution_count": null,
   "metadata": {
    "tags": []
   },
   "outputs": [],
   "source": [
    "# cудаление столбца\n",
    "\n",
    "df.pop('Flop_gro')"
   ]
  },
  {
   "cell_type": "code",
   "execution_count": null,
   "metadata": {
    "tags": []
   },
   "outputs": [],
   "source": [
    "df"
   ]
  },
  {
   "cell_type": "code",
   "execution_count": null,
   "metadata": {
    "tags": []
   },
   "outputs": [],
   "source": [
    "date = data_pd['Date']\n",
    "time = data_pd['Hour']\n",
    "\n",
    "dataf[\"Date\"] = pd.to_datetime(data_pd['Date'])\n",
    "dataf[\"Time\"] = pd.to_timedelta(data_pd['Hour'])\n",
    "\n",
    "dataf[\"DateTime\"] = dataf[\"Date\"] + dataf[\"Time\"]\n",
    "dataf[\"DateTime\"]\n",
    "\n",
    "# filter by single day\n",
    "dataf_m = dataf[dataf['DateTime'].dt.strftime('%d') == '06']\n",
    "\n",
    "dataf.Tournament = dataf.Tournament.astype('int64')\n",
    "dataf = dataf.astype({'HandId': np.int64, 'Tournament': np.int64})"
   ]
  },
  {
   "cell_type": "code",
   "execution_count": null,
   "metadata": {
    "tags": []
   },
   "outputs": [],
   "source": [
    "dataf_m"
   ]
  },
  {
   "cell_type": "code",
   "execution_count": null,
   "metadata": {},
   "outputs": [],
   "source": [
    "nov_mar_series = pd.Series(pd.date_range(\"2013-11-15\", \"2014-03-15\"))\n",
    "#create timestamp without year\n",
    "nov_mar_no_year = nov_mar_series.map(lambda x: x.strftime(\"%m-%d\"))\n",
    "nov_mar_no_year"
   ]
  },
  {
   "cell_type": "code",
   "execution_count": null,
   "metadata": {
    "tags": []
   },
   "outputs": [],
   "source": [
    "# #add a yearless timestamp to the dataframe\n",
    "# df[\"no_year\"] = df['nov_mar_series'].map(lambda x: x.strftime(\"%m-%d\"))\n",
    "# no_year_mask = df['no_year'].isin(nov_mar_no_year)\n",
    "# df[no_year_mask]"
   ]
  },
  {
   "cell_type": "markdown",
   "metadata": {},
   "source": [
    "## Фильтруем турниры по числу рук выше среднего (> mean)"
   ]
  },
  {
   "cell_type": "code",
   "execution_count": null,
   "metadata": {},
   "outputs": [],
   "source": [
    "data_filter = dataf[['Tournament', 'HandId','DateTime', 'Time', 'HandHiro', 'Board']]\n",
    "data_filter.head()"
   ]
  },
  {
   "cell_type": "code",
   "execution_count": null,
   "metadata": {
    "tags": []
   },
   "outputs": [],
   "source": [
    "# data_filter.groupby(['Tournament']).agg({'HandId': \"count\"}).reset_index()"
   ]
  },
  {
   "cell_type": "code",
   "execution_count": null,
   "metadata": {
    "tags": []
   },
   "outputs": [],
   "source": [
    "#  Фильтруйте value_counts с помощью isin  https://softhints.com/pandas-how-to-filter-results-of-value_counts/\n",
    "df = data_filter[data_filter['Tournament'].isin(data_filter['Tournament'].\n",
    "                                                 value_counts()[data_filter['Tournament'].value_counts()>100].index)]\n",
    "df"
   ]
  },
  {
   "cell_type": "code",
   "execution_count": null,
   "metadata": {
    "tags": []
   },
   "outputs": [],
   "source": [
    "#  Используйте group by и lambda для имитации фильтра для value_counts()\n",
    "#df = data_filter.groupby('Tournament').filter(lambda x: len(x) > (data_filter['Tournament'].value_counts().mean()))\n"
   ]
  },
  {
   "cell_type": "code",
   "execution_count": null,
   "metadata": {},
   "outputs": [],
   "source": [
    "df.Tournament.value_counts()"
   ]
  },
  {
   "cell_type": "code",
   "execution_count": null,
   "metadata": {},
   "outputs": [],
   "source": [
    "# Prepare Data\n",
    "df_plot = df.groupby('Tournament').size()\n",
    "\n",
    "# Make the plot with pandas\n",
    "df_plot.plot(kind='pie', subplots=True, figsize=(8, 8))\n",
    "plt.title(\"Колличество турниров\")\n",
    "plt.ylabel(\"\")\n",
    "plt.show()"
   ]
  },
  {
   "cell_type": "code",
   "execution_count": null,
   "metadata": {},
   "outputs": [],
   "source": [
    "# объеденяем руку и борд, выводим название комбинации\n",
    "\n",
    "# df['hand'] = df['HandHiro'] + \" \" + df['Board']\n",
    "# # hand = df['hand'].values[7].split()\n",
    "# # print(hand)\n",
    "\n",
    "# hand_ev = [eval7.Card(s) for s in (df['hand'].values[7].split())]\n",
    "# rang = eval7.evaluate(hand_ev)   # ранг комбинации\n",
    "# # print(rang)\n",
    "\n",
    "# eval7s = eval7.handtype(rang)  #  название комбинации\n",
    "\n",
    "# df['rang'] = eval7.evaluate(hand_ev)\n",
    "# df['eval7s'] =  eval7.handtype(rang)"
   ]
  },
  {
   "cell_type": "code",
   "execution_count": null,
   "metadata": {},
   "outputs": [],
   "source": [
    "# def new_type(row):\n",
    "#     if row.traffic_source.lower() in ('yandex', 'google'):\n",
    "#         return 'organic'\n",
    "#     elif row.traffic_source.lower() in ('paid', 'email'):\n",
    "#         if row.region.lower() == 'russia':\n",
    "#             return 'ad'\n",
    "#         else:\n",
    "#             return 'other'"
   ]
  },
  {
   "cell_type": "code",
   "execution_count": null,
   "metadata": {},
   "outputs": [],
   "source": [
    "# log['source_type'] = log.apply(new_type, axis = 1)\n",
    "# log.head(12)"
   ]
  },
  {
   "cell_type": "code",
   "execution_count": null,
   "metadata": {},
   "outputs": [],
   "source": [
    "# log.loc[log.traffic_source.isin(['yandex', 'google']), 'traffic_type'] = 'organic' "
   ]
  },
  {
   "cell_type": "code",
   "execution_count": null,
   "metadata": {
    "tags": []
   },
   "outputs": [],
   "source": [
    "df['hand_rang'] = df['HandHiro'] + \" \" + df['Board']\n",
    "df['hand_rang']\n",
    "\n",
    "print(type(df['hand_rang']), type(df['hand_rang'].values[7].split()))\n",
    "df['hand_rang'].values[0].split()"
   ]
  },
  {
   "cell_type": "code",
   "execution_count": null,
   "metadata": {
    "tags": []
   },
   "outputs": [],
   "source": [
    "# df['hand_rang'].to_list()\n",
    "# df['hand_rang'].tolist()\n",
    "# np.array(df['hand_rang'].tolist())\n",
    "# Ls = list(df['hand_rang'])\n",
    "ls = df['hand_rang'].str.split()\n",
    "ls"
   ]
  },
  {
   "cell_type": "code",
   "execution_count": null,
   "metadata": {
    "tags": []
   },
   "outputs": [],
   "source": [
    "# напишем функцию получения ранг комбинации\n",
    "\n",
    "def evaluate_(hand):\n",
    "    \"\"\"\n",
    "    На вход получает карты, на выход \n",
    "    число ранг по eval7\n",
    "    \"\"\"\n",
    "    hand_ev = [eval7.Card(s) for s in (hand)]\n",
    "    return eval7.evaluate(hand_ev),hand_ev\n",
    "\n",
    "a = ('Jh', 'Td', '8h', '8c', '7c', '3h', '6d')\n",
    "evaluate_(a)"
   ]
  },
  {
   "cell_type": "code",
   "execution_count": null,
   "metadata": {},
   "outputs": [],
   "source": [
    "# напишем функцию получения названия ранга\n",
    "\n",
    "def handtype_(rang):\n",
    "    \"\"\"\n",
    "    На вход получает ранг, на выход \n",
    "    название комбинации\n",
    "    \"\"\"\n",
    "    return eval7.handtype(rang)\n",
    "\n",
    "handtype_(17209424)"
   ]
  },
  {
   "cell_type": "code",
   "execution_count": null,
   "metadata": {
    "tags": []
   },
   "outputs": [],
   "source": [
    "# Применим функцию к столбцу hand  и запишем в новый столбец rang_namber\n",
    "\n",
    "df['rang_namber'] = df['hand_rang'].str.split().apply(evaluate_)\n",
    "df['handtypes'] = df['rang_namber'].apply(handtype_)\n",
    "df[['rang_namber', 'handtypes','HandHiro', 'Board']].head(20)\n",
    "# df['filter'] = df.loc[df.handtypes.str.contains('Two Pair', 'Trips', 'Straight', 'Full House', 'Quads', 'Straight Flush'), 'rang_namber']"
   ]
  },
  {
   "cell_type": "code",
   "execution_count": null,
   "metadata": {
    "tags": []
   },
   "outputs": [],
   "source": [
    "# df.sort_values(by=['handtypes', 'rang_namber'])"
   ]
  },
  {
   "cell_type": "code",
   "execution_count": null,
   "metadata": {
    "tags": []
   },
   "outputs": [],
   "source": [
    "# df.groupby('handtypes')['rang_namber'].value_counts()"
   ]
  },
  {
   "cell_type": "markdown",
   "metadata": {},
   "source": [
    "### Создадим сводную таблицу, что-бы проверить наличие аномалий"
   ]
  },
  {
   "cell_type": "code",
   "execution_count": null,
   "metadata": {},
   "outputs": [],
   "source": [
    "# filter by single day\n",
    "dataf_m = dataf[dataf['DateTime'].dt.strftime('%d') == '06']"
   ]
  },
  {
   "cell_type": "code",
   "execution_count": null,
   "metadata": {
    "tags": []
   },
   "outputs": [],
   "source": [
    "df[['Tournament', 'handtypes', 'rang_namber']].head()  # применим фильтер по столбцам"
   ]
  },
  {
   "cell_type": "code",
   "execution_count": null,
   "metadata": {
    "tags": []
   },
   "outputs": [],
   "source": [
    "pd.pivot_table(df, index=[\"Tournament\", \"handtypes\"])"
   ]
  },
  {
   "cell_type": "code",
   "execution_count": null,
   "metadata": {},
   "outputs": [],
   "source": [
    "# явно определив столбцы, которые нам нужны,\n",
    "pd.pivot_table(df,\n",
    "               index=[\"Tournament\", \"handtypes\"],\n",
    "               values=[\"rang_namber\"],\n",
    "               aggfunc= len)   # aggfunc=[np.mean, len])"
   ]
  },
  {
   "cell_type": "code",
   "execution_count": null,
   "metadata": {},
   "outputs": [],
   "source": [
    "df.Tournament.value_counts()"
   ]
  },
  {
   "cell_type": "code",
   "execution_count": null,
   "metadata": {},
   "outputs": [],
   "source": [
    "# df['Time'].value_counts()"
   ]
  },
  {
   "cell_type": "code",
   "execution_count": null,
   "metadata": {},
   "outputs": [],
   "source": [
    "# Prepare Data\n",
    "df_plot = df.groupby('handtypes').size()\n",
    "\n",
    "# Make the plot with pandas\n",
    "df_plot.plot(kind='area', subplots=True, figsize=(8, 8))\n",
    "plt.title(\"Колличество комбинаций\")\n",
    "plt.ylabel(\"\")\n",
    "plt.show()"
   ]
  },
  {
   "cell_type": "code",
   "execution_count": null,
   "metadata": {
    "tags": []
   },
   "outputs": [],
   "source": [
    "# df['DateTime'] = df['DateTime'][(df['DateTime'] > '2018-10-01 20:00:00') & (df['DateTime'] < '2022-10-02 00:00:00')]\n",
    "# df['DateTime']\n"
   ]
  },
  {
   "cell_type": "code",
   "execution_count": null,
   "metadata": {
    "tags": []
   },
   "outputs": [],
   "source": [
    "# отфильтруем комбинации \"старшая карта\" и \"пара\"\n",
    "df['no_par'] = df['rang_namber'][df['rang_namber'] > 50000000] #[((df['rang_namber'] > 50000000) & (df['rang_namber'] < 60000000))]\n",
    "df = df.dropna()\n",
    "df[['Time', 'no_par', 'handtypes']].head(10)\n",
    "# df['filter_Two Pair'] = df['handtypes'][df['handtypes'] == 'Two Pair']\n",
    "# df['filter_Two Pair']"
   ]
  },
  {
   "cell_type": "code",
   "execution_count": null,
   "metadata": {},
   "outputs": [],
   "source": [
    "df.isnull().sum()"
   ]
  },
  {
   "cell_type": "code",
   "execution_count": null,
   "metadata": {
    "tags": []
   },
   "outputs": [],
   "source": [
    "# преобразуем время во временной ряд"
   ]
  },
  {
   "cell_type": "code",
   "execution_count": null,
   "metadata": {
    "tags": []
   },
   "outputs": [],
   "source": [
    "\n",
    "\n",
    "idx = df['Time']\n",
    " # datetime.timedelta(seconds=24*60*60).total_seconds()\n",
    "\n",
    "# second = df['DateTime'].dt.total_seconds()\n",
    "# second\n",
    "\n",
    "# idx = pd.date_range(df['DateTime'], periods=5, freq=\"H\")\n",
    "# idx\n",
    "tim = pd.Series(range(len(idx)), index=idx)\n",
    "\n",
    "# ts.resample(\"2H\").mean()\n",
    "tim"
   ]
  },
  {
   "cell_type": "code",
   "execution_count": null,
   "metadata": {},
   "outputs": [],
   "source": [
    "# df = df.set_index(\"Time\")\n",
    "# df"
   ]
  },
  {
   "cell_type": "code",
   "execution_count": null,
   "metadata": {
    "tags": []
   },
   "outputs": [],
   "source": [
    "\n",
    "import matplotlib.pyplot as plt\n",
    " \n",
    "# Using a inbuilt style to change\n",
    "# the look and feel of the plot\n",
    "plt.style.use(\"classic\")\n",
    " \n",
    "# setting figure size to 12, 10\n",
    "plt.figure(figsize=(12, 10))\n",
    " \n",
    "# Labelling the axes and setting\n",
    "# a title\n",
    "plt.xlabel(\"Time\")\n",
    "plt.ylabel(\"Values\")\n",
    "plt.title(\"Sample Time Series Plot\")\n",
    " \n",
    "# plotting the \"A\" column alone\n",
    "plt.plot(df[\"handtypes\"])"
   ]
  },
  {
   "cell_type": "code",
   "execution_count": null,
   "metadata": {},
   "outputs": [],
   "source": [
    "df.plot(subplots=True, figsize=(12, 15))"
   ]
  },
  {
   "cell_type": "code",
   "execution_count": null,
   "metadata": {},
   "outputs": [],
   "source": [
    "# # # idx = pd.date_range('2019-01-01', periods=48, freq='H')\n",
    "# # x = pd.Series(range(len(idx)), index=idx)\n",
    "# y = tim\n",
    "# # add 'hour' and 'day' columns in the dataframe\n",
    "# d = {'x': x, 'y': y, 'hour': idx.hour, 'day': idx.day}\n",
    "# df = pd.DataFrame(data=d)\n",
    "# # use 'hour' as x axis to plot, and 'day' as marker color\n",
    "# df.plot.scatter(x='hour', y='y', c='day', colormap='rainbow')\n",
    "# plt.show()"
   ]
  },
  {
   "cell_type": "code",
   "execution_count": null,
   "metadata": {},
   "outputs": [],
   "source": [
    "data.dtypes"
   ]
  },
  {
   "cell_type": "code",
   "execution_count": null,
   "metadata": {},
   "outputs": [],
   "source": [
    "# установитьdatetimeОбъект в качестве индекса кадра данных\n",
    "data = data.set_index('DateTime')\n",
    "data.head()"
   ]
  },
  {
   "cell_type": "code",
   "execution_count": null,
   "metadata": {},
   "outputs": [],
   "source": [
    "\n",
    "# data.plot(grid=True)\n",
    "\n",
    "data['filter'].plot(kind='bar')\n",
    "\n",
    "# import matplotlib.pyplot as plt\n",
    "# from matplotlib.dates import DateFormatter\n",
    "# # Группировка за месяц\n",
    "# df_month = data.resample(\"M\").mean()\n",
    "\n",
    "# fig, ax = plt.subplots(figsize=(10, 6))\n",
    "# ax.xaxis.set_major_formatter(DateFormatter('%Y-%m'))\n",
    "# ax.bar(\n",
    "#     df_month['2018':].index, \n",
    "#     df_month.loc['2016':, \"filter\"], \n",
    "#     width=25, align='center')"
   ]
  },
  {
   "cell_type": "code",
   "execution_count": null,
   "metadata": {},
   "outputs": [],
   "source": [
    "\n",
    "data.plot(kind='scatter', \n",
    "        x='DateTime', \n",
    "        y='filter', \n",
    "        title='Связь между жёсткостью воды и средней годовой смертностью')"
   ]
  },
  {
   "cell_type": "code",
   "execution_count": null,
   "metadata": {},
   "outputs": [],
   "source": []
  }
 ],
 "metadata": {
  "colab": {
   "authorship_tag": "ABX9TyOmEyugzg/HrqC08SxzhKU3",
   "include_colab_link": true,
   "name": "analiz_poker.ipynb",
   "provenance": []
  },
  "kernelspec": {
   "display_name": "Python 3 (ipykernel)",
   "language": "python",
   "name": "python3"
  },
  "language_info": {
   "codemirror_mode": {
    "name": "ipython",
    "version": 3
   },
   "file_extension": ".py",
   "mimetype": "text/x-python",
   "name": "python",
   "nbconvert_exporter": "python",
   "pygments_lexer": "ipython3",
   "version": "3.9.7"
  },
  "nbTranslate": {
   "displayLangs": [
    "*"
   ],
   "hotkey": "alt-t",
   "langInMainMenu": true,
   "sourceLang": "en",
   "targetLang": "fr",
   "useGoogleTranslate": true
  },
  "toc": {
   "base_numbering": 1,
   "nav_menu": {},
   "number_sections": true,
   "sideBar": true,
   "skip_h1_title": false,
   "title_cell": "Table of Contents",
   "title_sidebar": "Contents",
   "toc_cell": false,
   "toc_position": {},
   "toc_section_display": true,
   "toc_window_display": false
  },
  "varInspector": {
   "cols": {
    "lenName": 16,
    "lenType": 16,
    "lenVar": 40
   },
   "kernels_config": {
    "python": {
     "delete_cmd_postfix": "",
     "delete_cmd_prefix": "del ",
     "library": "var_list.py",
     "varRefreshCmd": "print(var_dic_list())"
    },
    "r": {
     "delete_cmd_postfix": ") ",
     "delete_cmd_prefix": "rm(",
     "library": "var_list.r",
     "varRefreshCmd": "cat(var_dic_list()) "
    }
   },
   "types_to_exclude": [
    "module",
    "function",
    "builtin_function_or_method",
    "instance",
    "_Feature"
   ],
   "window_display": false
  },
  "widgets": {
   "application/vnd.jupyter.widget-state+json": {
    "state": {},
    "version_major": 2,
    "version_minor": 0
   }
  }
 },
 "nbformat": 4,
 "nbformat_minor": 4
}
